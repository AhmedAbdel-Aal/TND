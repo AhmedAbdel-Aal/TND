{
 "cells": [
  {
   "cell_type": "code",
   "execution_count": 2,
   "metadata": {},
   "outputs": [],
   "source": [
    "import pandas as pd\n",
    "from utils import load_json, save_json   "
   ]
  },
  {
   "cell_type": "code",
   "execution_count": 29,
   "metadata": {},
   "outputs": [],
   "source": [
    "# key case = 1\n",
    "# not key case = 0\n",
    "\n",
    "# load all files in result and create a dataframe with the following columns \n",
    "# id, result.classification, ground_truth\n",
    "# save the dataframe as csv\n",
    "\n",
    "import pandas as pd\n",
    "import os\n",
    "\n",
    "def return_binary_classification(result):\n",
    "    if result == 'KEY CASE':\n",
    "        return 1\n",
    "    else:\n",
    "        return 0\n",
    "\n",
    "def transalte_importance_score(importance):\n",
    "    if importance == '1':\n",
    "        return 1\n",
    "    else:\n",
    "        return 0\n",
    "\n",
    "results_dir = './results/'\n",
    "results = os.listdir(results_dir)\n",
    "\n",
    "data = []\n",
    "for result in results:\n",
    "    result_data = load_json(os.path.join(results_dir, result))\n",
    "    data.append({\n",
    "        #'id': result_data['id'],\n",
    "        'classification': return_binary_classification(result_data['result']['classification']),\n",
    "        'ground_truth': transalte_importance_score(result_data['importance']),\n",
    "        'importance': result_data['importance'],\n",
    "        'case_id': result[9:]\n",
    "    })\n",
    "\n",
    "df = pd.DataFrame(data)"
   ]
  },
  {
   "cell_type": "code",
   "execution_count": 30,
   "metadata": {},
   "outputs": [
    {
     "data": {
      "text/html": [
       "<div>\n",
       "<style scoped>\n",
       "    .dataframe tbody tr th:only-of-type {\n",
       "        vertical-align: middle;\n",
       "    }\n",
       "\n",
       "    .dataframe tbody tr th {\n",
       "        vertical-align: top;\n",
       "    }\n",
       "\n",
       "    .dataframe thead th {\n",
       "        text-align: right;\n",
       "    }\n",
       "</style>\n",
       "<table border=\"1\" class=\"dataframe\">\n",
       "  <thead>\n",
       "    <tr style=\"text-align: right;\">\n",
       "      <th></th>\n",
       "      <th>classification</th>\n",
       "      <th>ground_truth</th>\n",
       "      <th>importance</th>\n",
       "      <th>case_id</th>\n",
       "    </tr>\n",
       "  </thead>\n",
       "  <tbody>\n",
       "    <tr>\n",
       "      <th>0</th>\n",
       "      <td>0</td>\n",
       "      <td>1</td>\n",
       "      <td>1</td>\n",
       "      <td>001-197098.json</td>\n",
       "    </tr>\n",
       "    <tr>\n",
       "      <th>1</th>\n",
       "      <td>1</td>\n",
       "      <td>0</td>\n",
       "      <td>3</td>\n",
       "      <td>001-218302.json</td>\n",
       "    </tr>\n",
       "    <tr>\n",
       "      <th>2</th>\n",
       "      <td>1</td>\n",
       "      <td>0</td>\n",
       "      <td>2</td>\n",
       "      <td>001-122893.json</td>\n",
       "    </tr>\n",
       "    <tr>\n",
       "      <th>3</th>\n",
       "      <td>0</td>\n",
       "      <td>0</td>\n",
       "      <td>3</td>\n",
       "      <td>001-217624.json</td>\n",
       "    </tr>\n",
       "    <tr>\n",
       "      <th>4</th>\n",
       "      <td>1</td>\n",
       "      <td>1</td>\n",
       "      <td>1</td>\n",
       "      <td>001-184525.json</td>\n",
       "    </tr>\n",
       "    <tr>\n",
       "      <th>...</th>\n",
       "      <td>...</td>\n",
       "      <td>...</td>\n",
       "      <td>...</td>\n",
       "      <td>...</td>\n",
       "    </tr>\n",
       "    <tr>\n",
       "      <th>495</th>\n",
       "      <td>0</td>\n",
       "      <td>0</td>\n",
       "      <td>3</td>\n",
       "      <td>001-221369.json</td>\n",
       "    </tr>\n",
       "    <tr>\n",
       "      <th>496</th>\n",
       "      <td>0</td>\n",
       "      <td>0</td>\n",
       "      <td>2</td>\n",
       "      <td>001-118738.json</td>\n",
       "    </tr>\n",
       "    <tr>\n",
       "      <th>497</th>\n",
       "      <td>0</td>\n",
       "      <td>0</td>\n",
       "      <td>4</td>\n",
       "      <td>001-228675.json</td>\n",
       "    </tr>\n",
       "    <tr>\n",
       "      <th>498</th>\n",
       "      <td>1</td>\n",
       "      <td>1</td>\n",
       "      <td>1</td>\n",
       "      <td>001-207360.json</td>\n",
       "    </tr>\n",
       "    <tr>\n",
       "      <th>499</th>\n",
       "      <td>1</td>\n",
       "      <td>1</td>\n",
       "      <td>1</td>\n",
       "      <td>001-202532.json</td>\n",
       "    </tr>\n",
       "  </tbody>\n",
       "</table>\n",
       "<p>500 rows × 4 columns</p>\n",
       "</div>"
      ],
      "text/plain": [
       "     classification  ground_truth importance          case_id\n",
       "0                 0             1          1  001-197098.json\n",
       "1                 1             0          3  001-218302.json\n",
       "2                 1             0          2  001-122893.json\n",
       "3                 0             0          3  001-217624.json\n",
       "4                 1             1          1  001-184525.json\n",
       "..              ...           ...        ...              ...\n",
       "495               0             0          3  001-221369.json\n",
       "496               0             0          2  001-118738.json\n",
       "497               0             0          4  001-228675.json\n",
       "498               1             1          1  001-207360.json\n",
       "499               1             1          1  001-202532.json\n",
       "\n",
       "[500 rows x 4 columns]"
      ]
     },
     "execution_count": 30,
     "metadata": {},
     "output_type": "execute_result"
    }
   ],
   "source": [
    "df"
   ]
  },
  {
   "cell_type": "code",
   "execution_count": 17,
   "metadata": {},
   "outputs": [
    {
     "data": {
      "text/html": [
       "<div>\n",
       "<style scoped>\n",
       "    .dataframe tbody tr th:only-of-type {\n",
       "        vertical-align: middle;\n",
       "    }\n",
       "\n",
       "    .dataframe tbody tr th {\n",
       "        vertical-align: top;\n",
       "    }\n",
       "\n",
       "    .dataframe thead th {\n",
       "        text-align: right;\n",
       "    }\n",
       "</style>\n",
       "<table border=\"1\" class=\"dataframe\">\n",
       "  <thead>\n",
       "    <tr style=\"text-align: right;\">\n",
       "      <th></th>\n",
       "      <th>classification</th>\n",
       "      <th>ground_truth</th>\n",
       "      <th>importance</th>\n",
       "      <th>id</th>\n",
       "    </tr>\n",
       "  </thead>\n",
       "  <tbody>\n",
       "    <tr>\n",
       "      <th>0</th>\n",
       "      <td>0</td>\n",
       "      <td>1</td>\n",
       "      <td>1</td>\n",
       "      <td>001-197098.json</td>\n",
       "    </tr>\n",
       "    <tr>\n",
       "      <th>1</th>\n",
       "      <td>1</td>\n",
       "      <td>0</td>\n",
       "      <td>3</td>\n",
       "      <td>001-218302.json</td>\n",
       "    </tr>\n",
       "    <tr>\n",
       "      <th>2</th>\n",
       "      <td>1</td>\n",
       "      <td>0</td>\n",
       "      <td>2</td>\n",
       "      <td>001-122893.json</td>\n",
       "    </tr>\n",
       "    <tr>\n",
       "      <th>7</th>\n",
       "      <td>1</td>\n",
       "      <td>0</td>\n",
       "      <td>2</td>\n",
       "      <td>001-146044.json</td>\n",
       "    </tr>\n",
       "    <tr>\n",
       "      <th>9</th>\n",
       "      <td>1</td>\n",
       "      <td>0</td>\n",
       "      <td>2</td>\n",
       "      <td>001-119055.json</td>\n",
       "    </tr>\n",
       "    <tr>\n",
       "      <th>...</th>\n",
       "      <td>...</td>\n",
       "      <td>...</td>\n",
       "      <td>...</td>\n",
       "      <td>...</td>\n",
       "    </tr>\n",
       "    <tr>\n",
       "      <th>482</th>\n",
       "      <td>1</td>\n",
       "      <td>0</td>\n",
       "      <td>2</td>\n",
       "      <td>001-201761.json</td>\n",
       "    </tr>\n",
       "    <tr>\n",
       "      <th>485</th>\n",
       "      <td>1</td>\n",
       "      <td>0</td>\n",
       "      <td>3</td>\n",
       "      <td>001-220885.json</td>\n",
       "    </tr>\n",
       "    <tr>\n",
       "      <th>487</th>\n",
       "      <td>1</td>\n",
       "      <td>0</td>\n",
       "      <td>2</td>\n",
       "      <td>001-105624.json</td>\n",
       "    </tr>\n",
       "    <tr>\n",
       "      <th>492</th>\n",
       "      <td>1</td>\n",
       "      <td>0</td>\n",
       "      <td>3</td>\n",
       "      <td>001-219642.json</td>\n",
       "    </tr>\n",
       "    <tr>\n",
       "      <th>494</th>\n",
       "      <td>1</td>\n",
       "      <td>0</td>\n",
       "      <td>3</td>\n",
       "      <td>001-218116.json</td>\n",
       "    </tr>\n",
       "  </tbody>\n",
       "</table>\n",
       "<p>201 rows × 4 columns</p>\n",
       "</div>"
      ],
      "text/plain": [
       "     classification  ground_truth importance               id\n",
       "0                 0             1          1  001-197098.json\n",
       "1                 1             0          3  001-218302.json\n",
       "2                 1             0          2  001-122893.json\n",
       "7                 1             0          2  001-146044.json\n",
       "9                 1             0          2  001-119055.json\n",
       "..              ...           ...        ...              ...\n",
       "482               1             0          2  001-201761.json\n",
       "485               1             0          3  001-220885.json\n",
       "487               1             0          2  001-105624.json\n",
       "492               1             0          3  001-219642.json\n",
       "494               1             0          3  001-218116.json\n",
       "\n",
       "[201 rows x 4 columns]"
      ]
     },
     "execution_count": 17,
     "metadata": {},
     "output_type": "execute_result"
    }
   ],
   "source": [
    "errors = df[df['classification'] != df['ground_truth']]\n",
    "errors  "
   ]
  },
  {
   "cell_type": "code",
   "execution_count": 28,
   "metadata": {},
   "outputs": [
    {
     "data": {
      "text/plain": [
       "(38, 79, 54, 30)"
      ]
     },
     "execution_count": 28,
     "metadata": {},
     "output_type": "execute_result"
    }
   ],
   "source": [
    "e1 = errors[errors['importance'] == '1']['id'].to_list()\n",
    "e2 = errors[errors['importance'] == '2']['id'].to_list()\n",
    "e3 = errors[errors['importance'] == '3']['id'].to_list()\n",
    "e4 = errors[errors['importance'] == '4']['id'].to_list()\n",
    "\n",
    "len(e1), len(e2), len(e3), len(e4)"
   ]
  },
  {
   "cell_type": "code",
   "execution_count": 25,
   "metadata": {},
   "outputs": [
    {
     "data": {
      "text/plain": [
       "[]"
      ]
     },
     "execution_count": 25,
     "metadata": {},
     "output_type": "execute_result"
    }
   ],
   "source": [
    "list(set(e1) & set(e2) & set(e3) & set(e4))"
   ]
  },
  {
   "cell_type": "code",
   "execution_count": 32,
   "metadata": {},
   "outputs": [],
   "source": [
    "# Create error type column\n",
    "df['error_type'] = 'correct'\n",
    "df.loc[(df['classification'] == 1) & (df['ground_truth'] == 0), 'error_type'] = 'false_positive'\n",
    "df.loc[(df['classification'] == 0) & (df['ground_truth'] == 1), 'error_type'] = 'false_negative'\n",
    "\n",
    "# Analyze errors by importance level\n",
    "error_by_importance = df[df['error_type'] != 'correct'].groupby(['importance', 'error_type']).size().unstack()\n",
    "\n",
    "# Calculate error rates by importance level\n",
    "total_by_importance = df.groupby('importance').size()\n",
    "error_rates = error_by_importance.div(total_by_importance, axis=0) * 100"
   ]
  },
  {
   "cell_type": "code",
   "execution_count": 33,
   "metadata": {},
   "outputs": [
    {
     "data": {
      "text/plain": [
       "importance\n",
       "1    125\n",
       "2    125\n",
       "3    125\n",
       "4    125\n",
       "dtype: int64"
      ]
     },
     "execution_count": 33,
     "metadata": {},
     "output_type": "execute_result"
    }
   ],
   "source": [
    "total_by_importance"
   ]
  },
  {
   "cell_type": "code",
   "execution_count": 34,
   "metadata": {},
   "outputs": [
    {
     "data": {
      "text/html": [
       "<div>\n",
       "<style scoped>\n",
       "    .dataframe tbody tr th:only-of-type {\n",
       "        vertical-align: middle;\n",
       "    }\n",
       "\n",
       "    .dataframe tbody tr th {\n",
       "        vertical-align: top;\n",
       "    }\n",
       "\n",
       "    .dataframe thead th {\n",
       "        text-align: right;\n",
       "    }\n",
       "</style>\n",
       "<table border=\"1\" class=\"dataframe\">\n",
       "  <thead>\n",
       "    <tr style=\"text-align: right;\">\n",
       "      <th>error_type</th>\n",
       "      <th>false_negative</th>\n",
       "      <th>false_positive</th>\n",
       "    </tr>\n",
       "    <tr>\n",
       "      <th>importance</th>\n",
       "      <th></th>\n",
       "      <th></th>\n",
       "    </tr>\n",
       "  </thead>\n",
       "  <tbody>\n",
       "    <tr>\n",
       "      <th>1</th>\n",
       "      <td>30.4</td>\n",
       "      <td>NaN</td>\n",
       "    </tr>\n",
       "    <tr>\n",
       "      <th>2</th>\n",
       "      <td>NaN</td>\n",
       "      <td>63.2</td>\n",
       "    </tr>\n",
       "    <tr>\n",
       "      <th>3</th>\n",
       "      <td>NaN</td>\n",
       "      <td>43.2</td>\n",
       "    </tr>\n",
       "    <tr>\n",
       "      <th>4</th>\n",
       "      <td>NaN</td>\n",
       "      <td>24.0</td>\n",
       "    </tr>\n",
       "  </tbody>\n",
       "</table>\n",
       "</div>"
      ],
      "text/plain": [
       "error_type  false_negative  false_positive\n",
       "importance                                \n",
       "1                     30.4             NaN\n",
       "2                      NaN            63.2\n",
       "3                      NaN            43.2\n",
       "4                      NaN            24.0"
      ]
     },
     "execution_count": 34,
     "metadata": {},
     "output_type": "execute_result"
    }
   ],
   "source": [
    "error_rates"
   ]
  },
  {
   "cell_type": "code",
   "execution_count": 35,
   "metadata": {},
   "outputs": [
    {
     "ename": "ValueError",
     "evalue": "Can only compare identically-labeled Series objects",
     "output_type": "error",
     "traceback": [
      "\u001b[0;31m---------------------------------------------------------------------------\u001b[0m",
      "\u001b[0;31mValueError\u001b[0m                                Traceback (most recent call last)",
      "\u001b[1;32m/Users/ahmed/Desktop/msc-24/TND/key_case_binary_classification/pre_cutoff_analysis/simple_prompt/error_analysis_openai.ipynb Cell 10\u001b[0m line \u001b[0;36m4\n\u001b[1;32m      <a href='vscode-notebook-cell:/Users/ahmed/Desktop/msc-24/TND/key_case_binary_classification/pre_cutoff_analysis/simple_prompt/error_analysis_openai.ipynb#X12sZmlsZQ%3D%3D?line=0'>1</a>\u001b[0m \u001b[39m# Find most commonly misclassified cases\u001b[39;00m\n\u001b[1;32m      <a href='vscode-notebook-cell:/Users/ahmed/Desktop/msc-24/TND/key_case_binary_classification/pre_cutoff_analysis/simple_prompt/error_analysis_openai.ipynb#X12sZmlsZQ%3D%3D?line=1'>2</a>\u001b[0m error_cases \u001b[39m=\u001b[39m df[df[\u001b[39m'\u001b[39m\u001b[39mclassification\u001b[39m\u001b[39m'\u001b[39m] \u001b[39m!=\u001b[39m df[\u001b[39m'\u001b[39m\u001b[39mground_truth\u001b[39m\u001b[39m'\u001b[39m]]\n\u001b[1;32m      <a href='vscode-notebook-cell:/Users/ahmed/Desktop/msc-24/TND/key_case_binary_classification/pre_cutoff_analysis/simple_prompt/error_analysis_openai.ipynb#X12sZmlsZQ%3D%3D?line=2'>3</a>\u001b[0m error_summary \u001b[39m=\u001b[39m {\n\u001b[0;32m----> <a href='vscode-notebook-cell:/Users/ahmed/Desktop/msc-24/TND/key_case_binary_classification/pre_cutoff_analysis/simple_prompt/error_analysis_openai.ipynb#X12sZmlsZQ%3D%3D?line=3'>4</a>\u001b[0m     \u001b[39m'\u001b[39m\u001b[39mfalse_positives\u001b[39m\u001b[39m'\u001b[39m: error_cases[error_cases[\u001b[39m'\u001b[39;49m\u001b[39mclassification\u001b[39;49m\u001b[39m'\u001b[39;49m] \u001b[39m>\u001b[39;49m df[\u001b[39m'\u001b[39;49m\u001b[39mground_truth\u001b[39;49m\u001b[39m'\u001b[39;49m]][\u001b[39m'\u001b[39m\u001b[39mcase_id\u001b[39m\u001b[39m'\u001b[39m]\u001b[39m.\u001b[39mtolist(),\n\u001b[1;32m      <a href='vscode-notebook-cell:/Users/ahmed/Desktop/msc-24/TND/key_case_binary_classification/pre_cutoff_analysis/simple_prompt/error_analysis_openai.ipynb#X12sZmlsZQ%3D%3D?line=4'>5</a>\u001b[0m     \u001b[39m'\u001b[39m\u001b[39mfalse_negatives\u001b[39m\u001b[39m'\u001b[39m: error_cases[error_cases[\u001b[39m'\u001b[39m\u001b[39mclassification\u001b[39m\u001b[39m'\u001b[39m] \u001b[39m<\u001b[39m df[\u001b[39m'\u001b[39m\u001b[39mground_truth\u001b[39m\u001b[39m'\u001b[39m]][\u001b[39m'\u001b[39m\u001b[39mcase_id\u001b[39m\u001b[39m'\u001b[39m]\u001b[39m.\u001b[39mtolist()\n\u001b[1;32m      <a href='vscode-notebook-cell:/Users/ahmed/Desktop/msc-24/TND/key_case_binary_classification/pre_cutoff_analysis/simple_prompt/error_analysis_openai.ipynb#X12sZmlsZQ%3D%3D?line=5'>6</a>\u001b[0m }\n\u001b[1;32m      <a href='vscode-notebook-cell:/Users/ahmed/Desktop/msc-24/TND/key_case_binary_classification/pre_cutoff_analysis/simple_prompt/error_analysis_openai.ipynb#X12sZmlsZQ%3D%3D?line=6'>7</a>\u001b[0m error_summary\n",
      "File \u001b[0;32m~/hackatum24/lib/python3.11/site-packages/pandas/core/ops/common.py:76\u001b[0m, in \u001b[0;36m_unpack_zerodim_and_defer.<locals>.new_method\u001b[0;34m(self, other)\u001b[0m\n\u001b[1;32m     72\u001b[0m             \u001b[39mreturn\u001b[39;00m \u001b[39mNotImplemented\u001b[39m\n\u001b[1;32m     74\u001b[0m other \u001b[39m=\u001b[39m item_from_zerodim(other)\n\u001b[0;32m---> 76\u001b[0m \u001b[39mreturn\u001b[39;00m method(\u001b[39mself\u001b[39;49m, other)\n",
      "File \u001b[0;32m~/hackatum24/lib/python3.11/site-packages/pandas/core/arraylike.py:56\u001b[0m, in \u001b[0;36mOpsMixin.__gt__\u001b[0;34m(self, other)\u001b[0m\n\u001b[1;32m     54\u001b[0m \u001b[39m@unpack_zerodim_and_defer\u001b[39m(\u001b[39m\"\u001b[39m\u001b[39m__gt__\u001b[39m\u001b[39m\"\u001b[39m)\n\u001b[1;32m     55\u001b[0m \u001b[39mdef\u001b[39;00m \u001b[39m__gt__\u001b[39m(\u001b[39mself\u001b[39m, other):\n\u001b[0;32m---> 56\u001b[0m     \u001b[39mreturn\u001b[39;00m \u001b[39mself\u001b[39;49m\u001b[39m.\u001b[39;49m_cmp_method(other, operator\u001b[39m.\u001b[39;49mgt)\n",
      "File \u001b[0;32m~/hackatum24/lib/python3.11/site-packages/pandas/core/series.py:6114\u001b[0m, in \u001b[0;36mSeries._cmp_method\u001b[0;34m(self, other, op)\u001b[0m\n\u001b[1;32m   6111\u001b[0m res_name \u001b[39m=\u001b[39m ops\u001b[39m.\u001b[39mget_op_result_name(\u001b[39mself\u001b[39m, other)\n\u001b[1;32m   6113\u001b[0m \u001b[39mif\u001b[39;00m \u001b[39misinstance\u001b[39m(other, Series) \u001b[39mand\u001b[39;00m \u001b[39mnot\u001b[39;00m \u001b[39mself\u001b[39m\u001b[39m.\u001b[39m_indexed_same(other):\n\u001b[0;32m-> 6114\u001b[0m     \u001b[39mraise\u001b[39;00m \u001b[39mValueError\u001b[39;00m(\u001b[39m\"\u001b[39m\u001b[39mCan only compare identically-labeled Series objects\u001b[39m\u001b[39m\"\u001b[39m)\n\u001b[1;32m   6116\u001b[0m lvalues \u001b[39m=\u001b[39m \u001b[39mself\u001b[39m\u001b[39m.\u001b[39m_values\n\u001b[1;32m   6117\u001b[0m rvalues \u001b[39m=\u001b[39m extract_array(other, extract_numpy\u001b[39m=\u001b[39m\u001b[39mTrue\u001b[39;00m, extract_range\u001b[39m=\u001b[39m\u001b[39mTrue\u001b[39;00m)\n",
      "\u001b[0;31mValueError\u001b[0m: Can only compare identically-labeled Series objects"
     ]
    }
   ],
   "source": [
    "# Find most commonly misclassified cases\n",
    "error_cases = df[df['classification'] != df['ground_truth']]\n",
    "error_summary = {\n",
    "    'false_positives': error_cases[error_cases['classification'] > df['ground_truth']]['case_id'].tolist(),\n",
    "    'false_negatives': error_cases[error_cases['classification'] < df['ground_truth']]['case_id'].tolist()\n",
    "}\n",
    "error_summary"
   ]
  },
  {
   "cell_type": "code",
   "execution_count": null,
   "metadata": {},
   "outputs": [],
   "source": []
  }
 ],
 "metadata": {
  "kernelspec": {
   "display_name": "hackatum24",
   "language": "python",
   "name": "python3"
  },
  "language_info": {
   "codemirror_mode": {
    "name": "ipython",
    "version": 3
   },
   "file_extension": ".py",
   "mimetype": "text/x-python",
   "name": "python",
   "nbconvert_exporter": "python",
   "pygments_lexer": "ipython3",
   "version": "3.11.3"
  },
  "orig_nbformat": 4
 },
 "nbformat": 4,
 "nbformat_minor": 2
}
