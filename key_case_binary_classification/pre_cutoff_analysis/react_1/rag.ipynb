{
 "cells": [
  {
   "cell_type": "code",
   "execution_count": 8,
   "metadata": {},
   "outputs": [
    {
     "name": "stdout",
     "output_type": "stream",
     "text": [
      "The autoreload extension is already loaded. To reload it, use:\n",
      "  %reload_ext autoreload\n"
     ]
    }
   ],
   "source": [
    "%load_ext autoreload\n",
    "%autoreload 2"
   ]
  },
  {
   "cell_type": "code",
   "execution_count": 9,
   "metadata": {},
   "outputs": [],
   "source": [
    "from langchain.agents import initialize_agent, AgentType, Tool\n",
    "from langchain.chat_models import ChatOpenAI\n",
    "from langchain.tools import BaseTool\n",
    "from typing import Type\n",
    "from pydantic import BaseModel, Field\n",
    "from utils import load_json\n",
    "import os\n",
    "from LegalPrincipleExtractorTool import LegalPrincipleExtractor\n",
    "import dotenv\n",
    "import os\n",
    "import time\n",
    "from tqdm import tqdm\n",
    "from utils import load_json, save_json\n",
    "dotenv.load_dotenv()\n",
    "\n",
    "openai_api_key = os.getenv(\"OPENAI_API_KEY\")\n"
   ]
  },
  {
   "cell_type": "code",
   "execution_count": 10,
   "metadata": {},
   "outputs": [
    {
     "data": {
      "text/plain": [
       "(125, 125)"
      ]
     },
     "execution_count": 10,
     "metadata": {},
     "output_type": "execute_result"
    }
   ],
   "source": [
    "kc_input_dir = '../../kc_classification_data/125_kc_2018_2024/'\n",
    "not_kc_input_dir = '../../kc_classification_data/125_notkc_2018_2024/'\n",
    "\n",
    "kc_input_cases = os.listdir(kc_input_dir)\n",
    "not_kc_input_cases = os.listdir(not_kc_input_dir)\n",
    "\n",
    "output_dir = './results/'\n",
    "\n",
    "len(kc_input_cases), len(not_kc_input_cases)"
   ]
  },
  {
   "cell_type": "code",
   "execution_count": 11,
   "metadata": {},
   "outputs": [
    {
     "data": {
      "text/plain": [
       "'../../kc_classification_data/125_kc_2018_2024/001-187188.json'"
      ]
     },
     "execution_count": 11,
     "metadata": {},
     "output_type": "execute_result"
    }
   ],
   "source": [
    "import os\n",
    "case_path = os.path.join(kc_input_dir, kc_input_cases[0])\n",
    "case_data = load_json(case_path)\n",
    "case_facts = case_data['case_text']['THE FACTS']\n",
    "case_path"
   ]
  },
  {
   "cell_type": "code",
   "execution_count": 13,
   "metadata": {},
   "outputs": [
    {
     "name": "stdout",
     "output_type": "stream",
     "text": [
      "To provide a comprehensive analysis of the case facts and the cited ECHR cases, we need to follow the structure you've outlined. However, since the specific cited ECHR cases are not provided in your text, I'll proceed with a general analysis based on the typical cases that might be relevant in such a context. If you have specific cases in mind, please provide their names or details.\n",
      "\n",
      "### 1. CHRONOLOGICAL CASE LIST\n",
      "\n",
      "#### Case 1: Otto-Preminger-Institut v. Austria\n",
      "- **Date**: 20 September 1994\n",
      "- **Summary**: This case involved the seizure of a film that was considered offensive to religious beliefs. The key principle established was the balance between freedom of expression and the protection of religious beliefs.\n",
      "- **ECHR Articles**: Primarily concerned Article 10 (Freedom of Expression) and Article 9 (Freedom of Religion).\n",
      "\n",
      "#### Case 2: Wingrove v. the United Kingdom\n",
      "- **Date**: 25 November 1996\n",
      "- **Summary**: This case dealt with the refusal to grant a certificate for a video that was considered blasphemous. The Court examined the limits of freedom of expression in relation to religious content.\n",
      "- **ECHR Articles**: Article 10 (Freedom of Expression).\n",
      "\n",
      "#### Case 3: İ.A. v. Turkey\n",
      "- **Date**: 13 September 2005\n",
      "- **Summary**: The case involved the conviction of an author for publishing a book that was deemed to insult religious values. The Court considered the balance between freedom of expression and the protection of religious sentiments.\n",
      "- **ECHR Articles**: Article 10 (Freedom of Expression) and Article 9 (Freedom of Religion).\n",
      "\n",
      "#### Case 4: Aydın Tatlav v. Turkey\n",
      "- **Date**: 2 May 2006\n",
      "- **Summary**: This case involved the conviction of a writer for publishing a book that criticized religious beliefs. The Court assessed whether the interference with freedom of expression was necessary in a democratic society.\n",
      "- **ECHR Articles**: Article 10 (Freedom of Expression).\n",
      "\n",
      "#### Case 5: Giniewski v. France\n",
      "- **Date**: 31 January 2006\n",
      "- **Summary**: The case concerned a journalist's conviction for defamation after publishing an article critical of a religious doctrine. The Court examined the limits of freedom of expression in the context of religious criticism.\n",
      "- **ECHR Articles**: Article 10 (Freedom of Expression).\n",
      "\n",
      "### 2. CITATION ANALYSIS\n",
      "\n",
      "#### Otto-Preminger-Institut v. Austria\n",
      "- **Reasoning Appearance**: Used to support the principle that freedom of expression can be limited to protect religious beliefs.\n",
      "- **Court's Use**: Following precedent.\n",
      "- **Purpose**: Support existing principles.\n",
      "\n",
      "#### Wingrove v. the United Kingdom\n",
      "- **Reasoning Appearance**: Cited to illustrate the permissible limits of freedom of expression concerning religious content.\n",
      "- **Court's Use**: Following precedent.\n",
      "- **Purpose**: Support existing principles.\n",
      "\n",
      "#### İ.A. v. Turkey\n",
      "- **Reasoning Appearance**: Referenced to highlight the balance between freedom of expression and protection of religious sentiments.\n",
      "- **Court's Use**: Following precedent.\n",
      "- **Purpose**: Support existing principles.\n",
      "\n",
      "#### Aydın Tatlav v. Turkey\n",
      "- **Reasoning Appearance**: Used to distinguish the current case from a situation where criticism was not deemed offensive.\n",
      "- **Court's Use**: Distinguishing facts.\n",
      "- **Purpose**: Distinguish from current facts.\n",
      "\n",
      "#### Giniewski v. France\n",
      "- **Reasoning Appearance**: Cited to demonstrate the limits of defamation laws in the context of religious criticism.\n",
      "- **Court's Use**: Following precedent.\n",
      "- **Purpose**: Support existing principles.\n",
      "\n",
      "### 3. PRECEDENTIAL SIGNIFICANCE\n",
      "\n",
      "- **Application of Established Principles**: The current case applies established principles regarding the balance between freedom of expression and the protection of religious beliefs.\n",
      "- **Extension to New Circumstances**: The case extends principles to the context of public seminars and the impact of statements made in such settings.\n",
      "- **Synthesis of Precedents**: The case synthesizes multiple precedents to address the specific context of religious criticism in a public educational setting.\n",
      "- **Modification or Refinement**: The case refines the interpretation of what constitutes an abusive attack on religious beliefs versus permissible criticism.\n",
      "\n",
      "### 4. DEVELOPMENT OF PRINCIPLES\n",
      "\n",
      "- **Progression or Refinement**: The cited cases show a progression in the Court's approach to balancing freedom of expression with the protection of religious beliefs, emphasizing context and intent.\n",
      "- **New Development**: The current case represents a development in applying these principles to public educational settings and the role of intent in determining the permissibility of statements.\n",
      "- **Novel Applications**: The case highlights the novel application of these principles to statements made in a seminar context, considering the public nature and potential impact on participants.\n",
      "\n",
      "This analysis provides a framework for understanding how the ECHR's jurisprudence on freedom of expression and religious protection has evolved and how it applies to the current case. If you have specific cases or additional details, please provide them for a more tailored analysis.\n"
     ]
    }
   ],
   "source": [
    "from CitationExtractorTool import CitationExtractor\n",
    "\n",
    "citation_extractor = CitationExtractor()\n",
    "\n",
    "# Test with a specific case file\n",
    "case_file_path = os.path.join(kc_input_dir, kc_input_cases[0])\n",
    "\n",
    "# Run the tool\n",
    "result = citation_extractor._run(case_file_path)\n",
    "\n",
    "print(result)"
   ]
  },
  {
   "cell_type": "code",
   "execution_count": null,
   "metadata": {},
   "outputs": [],
   "source": []
  }
 ],
 "metadata": {
  "kernelspec": {
   "display_name": "hackatum24",
   "language": "python",
   "name": "python3"
  },
  "language_info": {
   "codemirror_mode": {
    "name": "ipython",
    "version": 3
   },
   "file_extension": ".py",
   "mimetype": "text/x-python",
   "name": "python",
   "nbconvert_exporter": "python",
   "pygments_lexer": "ipython3",
   "version": "3.11.3"
  },
  "orig_nbformat": 4
 },
 "nbformat": 4,
 "nbformat_minor": 2
}
