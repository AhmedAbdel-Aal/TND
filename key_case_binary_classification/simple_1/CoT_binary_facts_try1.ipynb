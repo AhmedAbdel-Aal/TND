{
 "cells": [
  {
   "cell_type": "code",
   "execution_count": 1,
   "metadata": {},
   "outputs": [],
   "source": [
    "from langchain.prompts import PromptTemplate\n",
    "from langchain.chains import LLMChain\n",
    "from langchain.chat_models import ChatOpenAI\n",
    "from typing import Dict\n",
    "\n",
    "class LegalCaseClassifier:\n",
    "    def __init__(self, model_name: str = \"gpt-4o\", temperature: float = 0):\n",
    "        self.llm = ChatOpenAI(model_name=model_name, temperature=temperature)\n",
    "        \n",
    "        # Step 1: Detailed Legal Analysis Prompt\n",
    "        self.legal_analysis_prompt = PromptTemplate(\n",
    "            input_variables=[\"case_facts\"],\n",
    "            template=\"\"\"Analyze the following case facts through these specific steps:\n",
    "\n",
    "Case Facts:\n",
    "{case_facts}\n",
    "\n",
    "Conduct a systematic analysis:\n",
    "\n",
    "1. General Legal Norms and Principles:\n",
    "   - Identify the core legal principles and doctrines relevant to the case.\n",
    "   - Highlight any established legal precedents.\n",
    "\n",
    "2. Circumstances and Requirements:\n",
    "   - Match the specific facts of the case to the legal criteria or thresholds required for application.\n",
    "   - Note any conditions, exceptions, or thresholds explicitly mentioned.\n",
    "\n",
    "3. Scope and Application:\n",
    "   - Assess the case’s substantive or procedural impact.\n",
    "   - Identify whether the jurisdictional aspects (material, temporal) play a critical role.\n",
    "   - Pinpoint key qualifiers such as \"sometimes,\" \"exceptionally,\" or \"in the present case.\"\n",
    "\n",
    "4. Impact and Precedent:\n",
    "   - Determine whether the case introduces novel interpretations or applications of law.\n",
    "   - Evaluate how the case contributes to, clarifies, or modifies existing case law.\n",
    "\n",
    "5. Implications:\n",
    "   - Consider the case's broader implications beyond the immediate dispute.\n",
    "   - Highlight factors that indicate a significant contribution to legal development.\n",
    "\n",
    "Output the analysis in a step-by-step manner.\n",
    "\n",
    "Analysis:\n",
    "\"\"\"\n",
    "        )\n",
    "        \n",
    "        # Step 2: Classification Prompt with Clear Distinction\n",
    "        self.classification_prompt = PromptTemplate(\n",
    "            input_variables=[\"analysis\"],\n",
    "            template=\"\"\"Based on the analysis, classify this case into one of these clearly defined categories:\n",
    "\n",
    "KEY CASE:\n",
    "- Makes a significant contribution to the development, clarification, or modification of case law.\n",
    "- Establishes new legal principles or substantially modifies existing ones.\n",
    "- Has broad implications beyond the immediate case.\n",
    "\n",
    "NOT KEY CASE:\n",
    "- Applies existing case law without significant contributions to legal development.\n",
    "- Demonstrates limited implications beyond the immediate dispute.\n",
    "\n",
    "Analysis provided:\n",
    "{analysis}\n",
    "\n",
    "Steps for Classification:\n",
    "1. Assess whether the case significantly develops, clarifies, or modifies case law.\n",
    "2. Determine if it establishes new legal principles or substantially modifies existing ones.\n",
    "3. Evaluate the implications of the case (beyond the immediate context).\n",
    "\n",
    "Provide your reasoning step by step and conclude with one of the following exact classifications:\n",
    "\n",
    "CLASSIFICATION: KEY CASE\n",
    "CLASSIFICATION: NOT KEY CASE\n",
    "\"\"\"\n",
    "        )\n",
    "        \n",
    "        # Create the chains\n",
    "        self.legal_analysis_chain = LLMChain(llm=self.llm, prompt=self.legal_analysis_prompt)\n",
    "        self.classification_chain = LLMChain(llm=self.llm, prompt=self.classification_prompt)\n",
    "    \n",
    "    def classify_case(self, case_facts: str) -> Dict[str, any]:\n",
    "        \"\"\"\n",
    "        Classify a legal case based on its significance to case law development.\n",
    "        \n",
    "        Args:\n",
    "            case_facts: The facts section of the legal case\n",
    "            \n",
    "        Returns:\n",
    "            Dictionary containing classification result and detailed analysis\n",
    "        \"\"\"\n",
    "        # Step 1: Generate legal analysis\n",
    "        legal_analysis = self.legal_analysis_chain.run(case_facts)\n",
    "        \n",
    "        # Step 2: Make classification based on analysis\n",
    "        classification_result = self.classification_chain.run(legal_analysis)\n",
    "        \n",
    "        # Extract final classification\n",
    "        if \"CLASSIFICATION: KEY CASE\" in classification_result:\n",
    "            classification = \"KEY CASE\"\n",
    "        elif \"CLASSIFICATION: NOT KEY CASE\" in classification_result:\n",
    "            classification = \"NOT KEY CASE\"\n",
    "        else:\n",
    "            classification = \"NOT KEY CASE\"\n",
    "        \n",
    "        return {\n",
    "            \"classification\": classification,\n",
    "            \"legal_analysis\": legal_analysis,\n",
    "            \"classification_reasoning\": classification_result\n",
    "        }\n"
   ]
  },
  {
   "cell_type": "code",
   "execution_count": 2,
   "metadata": {},
   "outputs": [],
   "source": [
    "import dotenv\n",
    "import os\n",
    "import time\n",
    "from tqdm import tqdm\n",
    "from utils import load_json, save_json\n",
    "dotenv.load_dotenv()\n",
    "\n",
    "openai_key = os.getenv(\"OPENAI_API_KEY\")"
   ]
  },
  {
   "cell_type": "code",
   "execution_count": 3,
   "metadata": {},
   "outputs": [
    {
     "data": {
      "text/plain": [
       "(125, 125)"
      ]
     },
     "execution_count": 3,
     "metadata": {},
     "output_type": "execute_result"
    }
   ],
   "source": [
    "kc_input_dir = '../../kc_classification_data/125_kc_2018_2024/'\n",
    "not_kc_input_dir = '../../kc_classification_data/125_notkc_2018_2024/'\n",
    "\n",
    "kc_input_cases = os.listdir(kc_input_dir)\n",
    "not_kc_input_cases = os.listdir(not_kc_input_dir)\n",
    "\n",
    "output_dir = './results/'\n",
    "\n",
    "len(kc_input_cases), len(not_kc_input_cases)"
   ]
  },
  {
   "cell_type": "code",
   "execution_count": 4,
   "metadata": {},
   "outputs": [],
   "source": [
    "# diabsle deprecation warning\n",
    "import warnings\n",
    "warnings.filterwarnings(\"ignore\", category=DeprecationWarning)"
   ]
  },
  {
   "cell_type": "code",
   "execution_count": 12,
   "metadata": {},
   "outputs": [],
   "source": [
    "already_processed_files = os.listdir(output_dir)\n",
    "\n",
    "# remove the prefix kc_ and not_kc_\n",
    "already_processed_files = [f.replace('kc_', '') for f in already_processed_files]\n",
    "already_processed_files = [f.replace('not', '') for f in already_processed_files]"
   ]
  },
  {
   "cell_type": "code",
   "execution_count": 13,
   "metadata": {},
   "outputs": [
    {
     "data": {
      "text/plain": [
       "250"
      ]
     },
     "execution_count": 13,
     "metadata": {},
     "output_type": "execute_result"
    }
   ],
   "source": [
    "len(already_processed_files)"
   ]
  },
  {
   "cell_type": "code",
   "execution_count": 43,
   "metadata": {},
   "outputs": [
    {
     "name": "stderr",
     "output_type": "stream",
     "text": [
      "100%|██████████| 125/125 [03:59<00:00,  1.91s/it]\n"
     ]
    }
   ],
   "source": [
    "for case in tqdm(kc_input_cases):\n",
    "    if case in already_processed_files:\n",
    "        continue\n",
    "    case_path = os.path.join(kc_input_dir, case)\n",
    "    case_data = load_json(case_path)\n",
    "    case_facts = case_data['case_text']['THE FACTS']\n",
    "\n",
    "    if len(case_facts) > 30600:\n",
    "        case_facts = case_facts[:30600]\n",
    "\n",
    "    classifier = LegalCaseClassifier()\n",
    "    result = classifier.classify_case(case_facts)\n",
    "\n",
    "    output_result = {}\n",
    "    output_result['result'] = result\n",
    "    output_result['id'] = case\n",
    "    output_result['ground_truth'] = 'KEY CASE'\n",
    "    output_result['one-liner'] = case_data['one-liner']\n",
    "    save_json(f'./results/kc_{case}', output_result)\n",
    "    time.sleep(10)"
   ]
  },
  {
   "cell_type": "code",
   "execution_count": 21,
   "metadata": {},
   "outputs": [
    {
     "name": "stderr",
     "output_type": "stream",
     "text": [
      "  0%|          | 0/125 [00:00<?, ?it/s]"
     ]
    },
    {
     "name": "stdout",
     "output_type": "stream",
     "text": [
      "I.  THE CIRCUMSTANCES OF THE CASE\n",
      "6.  The applicant was born in 1971 and lives in Vienna.\n",
      "7.  From January 2008 she held several seminars entitled “Basic Information on Islam” (Grundlagen des Islams) at the right-wing Freedom Party Education Institute (Bildungsinstitut der Freiheitlichen Partei Österreichs). The seminars were not only open to members of the Freedom Party or invited guests, but were also publicly advertised on its website. In addition, the head of the Freedom Party, H.-C.S., had distributed a leaflet specifically aimed at young voters, advertising them as “top seminars” in the framework of a “free education package”. The applicant had not been involved in the selection of participants.\n",
      "8.  Two of the seminars were held on 15 October and 12 November 2009 respectively, with around thirty participants at each. One of the participants was an undercover journalist working for a weekly journal, N.\n",
      "9.  At the journal’s request, a preliminary investigation was instituted against the applicant, and on 11 February 2010 she was questioned by the police concerning certain statements she had made during the seminars which had been directed against the doctrines of Islam.\n",
      "10.  On 12 August 2010 the Vienna public prosecutor’s office (Staatsanwaltschaft Wien – “the public prosecutor”) brought charges against the applicant, pursuant to Article 283 of the Criminal Code, for inciting to hatred (Verhetzung). Hearings were held on 23 November 2010 and on 18 January and 15 February 2011.\n",
      "11.  At the hearing on 18 January 2011 the Vienna Regional Criminal Court (Landesgericht für Strafsachen Wien  “the Regional Court”) informed the applicant that the court might adopt a different legal classification in the matter from the one contained in the charge. The hearing was therefore postponed to give her time to properly prepare a defence.\n",
      "12.  At the end of the hearing on 15 February 2011 the Regional Court acquitted the applicant in relation to several of the statements originally included in the indictment under Article 283 of the Criminal Code. This was partly because the public prosecutor had withdrawn the indictment concerning certain statements and partly because it could not be established that the applicant had made some of the other statements exactly – or at least approximately – as they were worded in the indictment. She was however convicted of disparaging religious doctrines (Herabwürdigung religiöser Lehren), pursuant to Article 188 of the Criminal Code, concerning the three remaining statements. She was ordered to pay the costs of the proceedings and a day‑fine of 4 euros (EUR) for a period of 120 days (amounting to EUR 480 in total), which would result in sixty days’ imprisonment in the event of default. The court considered the applicant’s repeated infringements to be an aggravating factor and the fact that she did not have a previous criminal record to be a mitigating factor. The court found her guilty of publicly disparaging an object of veneration of a domestic church or religious society – namely Muhammad, the Prophet of Islam – in a manner capable of arousing justified indignation (geeignet, berechtigtes Ärgernis zu erregen).\n",
      "13.  The statements which the court found incriminating were the following:\n",
      "English translation:\n",
      "“I./ 1. One of the biggest problems we are facing today is that Muhammad is seen as the ideal man, the perfect human, the perfect Muslim. That means that the highest commandment for a male Muslim is to imitate Muhammad, to live his life. This does not happen according to our social standards and laws. Because he was a warlord, he had many women, to put it like this, and liked to do it with children. And according to our standards he was not a perfect human. We have huge problems with that today, that Muslims get into conflict with democracy and our value system ...\n",
      "2. The most important of all Hadith collections recognised by all legal schools: The most important is the Sahih Al-Bukhari. If a Hadith was quoted after Bukhari, one can be sure that all Muslims would recognise it. And, unfortunately, in Al-Bukhari the thing with Aisha and child sex is written...\n",
      "II./ I remember my sister, I have said this several times already, when [S.W.] made her famous statement in Graz, my sister called me and asked: “For God’s sake. Did you tell [S.W.] that?” To which I answered: “No, it wasn’t me, but you can look it up, it’s not really a secret.” And her: “You can’t say it like that!” And me: “A 56-year-old and a six-year-old? What do you call that? Give me an example? What do we call it, if it is not paedophilia?” Her: “Well, one has to paraphrase it, say it in a more diplomatic way.” My sister is symptomatic. We have heard that so many times. “Those were different times” – it wasn’t okay back then, and it’s not okay today. Full stop. And it is still happening today. One can never approve of something like that. They all create their own reality, because the truth is so cruel ...”\n",
      "German original:\n",
      "“I./1. Eines der großen Probleme, die wir heute haben, ist dass Mohammed als der ideale Mann, der perfekte Mensch, der perfekte Muslim gesehen wird. Das heißt, das oberste Gebot für einen männlichen Moslem ist es, Mohammed nachzumachen, sein Leben zu leben. Das läuft nicht nach unseren sozialen Standards und Gesetzen ab. Weil er war ein Kriegsherr, hatte einen relativ großen Frauenverschleiß, um das jetzt einmal so auszudrücken, hatte nun mal gerne mit Kindern ein bisschen was. Und er war nach unseren Begriffen kein perfekter Mensch. Damit haben wir heute riesige Probleme, weil Muslime mit der Demokratie und unserem Wertesystem in Konflikt geraten...\n",
      "2. Die wichtigsten von allen Rechtsschulen anerkannten Hadith-Sammlungen: Die allerwichtigste ist die Sahih Al-Bukhari. Wenn eine Hadith nach Bukhari zitiert wurde, dann können Sie sicher sein, dass es alle Muslime anerkennen. Und in der Al-Bukhari ist auch blöderweise das geschrieben mit der Aisha und dem Kindersex...\n",
      "II./ Ich erinnere mich an meine Schwester, das hab ich schon ein paar Mal erzählt, als [S.W.] in Graz ihren berühmten Sager gemacht hat, ruft mich meine Schwester an und sagt: \"Um Gottes willen. Hast du ihr das gesagt?\" Worauf ich gesagt habe: \"Nein, ich war’s nicht, aber es ist nachzulesen, es ist nicht wirklich ein Geheimnis. \" Und sie: \"Das kann man doch so nicht sagen.\" Und ich : \"Ein 56-Jähriger und eine 6-Jährige ? Wie nennst du das? Gib mir ein Beispiel? Wie nennen wir das, wenn’s nicht Pädophilie ist?\" Sie: \"Na ja, das muss man ein bisschen umschreiben, diplomatischer sagen.\" Meine Schwester ist symptomatisch. Das haben wir schon so oft gehört. \"Das waren doch andere Zeiten\" – das war damals nicht o.k., und es ist heute nicht o.k. Punkt. Und es passiert heute auch noch. So was ist nie gutzuheißen. Sie legen sich alle eine Wirklichkeit zurecht, weil die Wahrheit so grausam ist...“\n",
      "14.  The Regional Court found that the above statements essentially conveyed the message that Muhammad had had paedophilic tendencies. It stated that the applicant was referring to a marriage which Muhammad had concluded with Aisha, a six-year-old, and consummated when she had been nine. The court found that by making those statements the applicant had suggested that Muhammad was not a worthy subject of worship. However, it also found that it could not be established that the applicant had intended to decry all Muslims. She was not suggesting that all Muslims were paedophiles, but was criticising the unreflecting imitation of a role model. According to the court, the common definition of paedophilia was a primary sexual interest in children who had not yet reached puberty. Because paedophilia was behaviour which was ostracised by society and outlawed, it was evident that the applicant’s statements were capable of causing indignation. The court concluded that the applicant had intended to wrongfully accuse Muhammad of having paedophilic tendencies. Even though criticising child marriages was justifiable, she had accused a subject of religious worship of having a primary sexual interest in children’s bodies, which she had deduced from his marriage with a child, disregarding the point that the marriage had continued until the Prophet’s death, when Aisha had already turned eighteen and had therefore passed the age of puberty. In addition, the court found that because of the public nature of the seminars, which had not been limited to members of the Freedom Party, it was conceivable that at least some of the participants might have been disturbed by the statements.\n",
      "15.  The Regional Court further stated that anyone who wished to exercise their rights under Article 10 of the Convention was subject to duties and responsibilities, such as refraining from making statements which hurt others without reason and therefore did not contribute to a debate of public interest. A balancing exercise between the rights under Article 9 on the one hand and those under Article 10 on the other needed to be carried out. The court considered that the applicant’s statements were not statements of fact, but derogatory value judgments which exceeded the permissible limits. It held that the applicant had not intended to approach the topic in an objective manner, but had directly aimed to degrade Muhammad. The court stated that child marriages were not the same as paedophilia, and were not only a phenomenon of Islam but also used to be widespread among the European ruling dynasties. Furthermore, the court reasoned that freedom of religion as protected by Article 9 of the Convention was one of the foundations of a democratic society. Those who invoked their freedom of religion could not expect to be exempt from criticism, and even had to accept the negation of their beliefs. However, the manner in which religious views were attacked could engage the State’s responsibility in order to guarantee the peaceful exercise of the rights under Article 9. Presenting objects of religious worship in a provocative way capable of hurting the feelings of the followers of that religion could be conceived as a malicious violation of the spirit of tolerance, which was one of the bases of a democratic society. The court concluded that the interference with the applicant’s freedom of expression in the form of a criminal conviction had been justified as it had been based in law and had been necessary in a democratic society, namely in order to protect religious peace in Austria.\n",
      "16.  The applicant appealed, arguing that the impugned statements were statements of fact, not value judgments. She referred to several of the documents which she had submitted as evidence which, in her view, clearly confirmed that when Muhammad had been fifty-six years old, he had had sexual intercourse with the nine-year-old Aisha. She stated that it was no more than reasonable to present those facts in the light of the values of today’s society. It had not been her intention to disparage Muhammad. She had merely criticised the notion that an adult had had sexual intercourse with a nine-year-old child and raised the question whether this amounted to paedophilia. If one were to follow the arguments of the Regional Court, it would mean that someone who had married a child and managed to maintain the marriage until the child had come of age could not be described as a paedophile. She further contended that she had not used the term “paedophile” in the strict scientific sense, but in the way it was used in everyday language, referring to men who had sex with minors. She stated that she had never said that Muhammad had been a paedophile because he had married a child, but because he had had sexual intercourse with one. In any event, her statements were covered by her rights under Article 10 of the Convention, which included the right to impart opinions and ideas that offended, shocked or disturbed.\n",
      "17.  On 20 December 2011 the Vienna Court of Appeal (Oberlandesgericht Wien – hereinafter “the Court of Appeal”) dismissed the applicant’s appeal, confirming in essence the legal and factual findings of the lower court. The Regional Court had based its findings on the facts as submitted by the applicant, namely that Muhammad had married Aisha when she had been six years old and consummated the marriage when she had been nine. It had rightly made a distinction between child marriages and paedophilia. It had not based its findings on an unpredictable definition of the term “paedophilia” but on a common definition which was comparable to that used by the World Health Organisation. As regards the alleged violation of Article 10 of the Convention, the Court of Appeal, referring to the Court’s case-law (İ.A. v. Turkey, no. 42571/98, ECHR 2005‑VIII, and Aydın Tatlav v. Turkey, no. 50692/99, 2 May 2006), found that it had to examine whether the comments at issue were merely provocative or had been intended as an abusive attack on the Prophet of Islam. It concluded that the latter was the case as Muslims would find the applicant’s statements – “he liked to do it with children”, “the thing with Aisha and child sex” and “a 56-year-old and a six-year-old? What do you call that? Give me an example? What do we call it, if it is not paedophilia?” – wrong and offensive, even if Muhammad had married a six-year-old and had had intercourse with her when she had been nine.\n",
      "18.  The Court of Appeal stated that the reason for the applicant’s conviction had not been that the events had purportedly taken place more than a thousand years ago and similar conduct would no longer be tolerable under today’s criminal law and contemporary moral and value concepts, but because the applicant had accused Muhammad of paedophilia by using the plural form “children”, “child sex”, “what do we call it, if it is not paedophilia?” without providing evidence that his primary sexual interest in Aisha had been her not yet having reached puberty. Moreover, there were no reliable sources for that allegation, as no documentary evidence existed to suggest that his other wives or concubines had been similarly young. On the contrary, his first wife had been fifteen years older than him, as could be seen from the documents submitted by the applicant herself. Even if the applicant had had the right to criticise others’ attempts to imitate Muhammad, her statements showed her intention to unnecessarily disparage and deride Muslims. Harsh criticism of churches or religious societies (Religionsgesellschaften) and religious traditions and practices was lawful. However, the permissible limits were exceeded where criticism ended and insults or mockery of a religious belief or person of worship (Beschimpfung oder Verspottung einer Religion oder von ihr verehrten Personen) began. The interference with the applicant’s freedoms under Article 10 of the Convention had therefore been justified. As to the applicant’s argument that those who had participated in the seminar knew of her critical approach and could not be offended, the Court of Appeal found that the public seminar had been offered for free to young voters by the Austrian Freedom Party Education Institute, and at least one participant had been offended, as her complaints had led to the applicant being charged.\n",
      "19.  On 16 April 2012 the applicant lodged a request for a renewal of the proceedings (Antrag auf Erneuerung des Strafverfahrens) with the Supreme Court (Oberster Gerichtshof), pursuant to Article 363a of the Code of Criminal Procedure (Strafprozessordnung), and relying on Article 6 § 1, Article 7 § 1 and Article 10 of the Convention.\n",
      "20.  On 6 June 2012 the applicant lodged her application with the Court.\n",
      "21.  On 11 December 2013 the Supreme Court dismissed the request for a renewal of the proceedings. As regards the alleged violation of Article 10, it found that the applicant’s conviction under Article 188 of the Criminal Code constituted an interference with the right to freedom of expression, which had however been justified under Article 10 § 2 of the Convention. Referring to the Court’s case-law (Otto-Preminger-Institut v. Austria, 20 September 1994, Series A no. 295‑A; İ.A., cited above; Wingrove v. the United Kingdom, 25 November 1996, Reports of Judgments and Decisions 1996‑V; Aydın Tatlav, cited above; and Giniewski v. France, no. 64016/00, ECHR 2006‑I), it held that the aim of the interference had been to protect religious peace and the religious feelings of others and was therefore legitimate. The Court had stated many times that in the context of religion member States had a duty to suppress certain forms of conduct or expression that were gratuitously offensive to others and profane. In cases where the impugned statements not only offended or shocked, or expressed a “provocative” opinion, but had also been considered an abusive attack on a religious group – for example an abusive attack on the Prophet of Islam, as in the applicant’s case – a criminal conviction might be necessary to protect the freedom of religion of others. Where a conviction was based on Article 188 of the Criminal Code, the principles developed under Article 9 and 10 of the Convention had to be considered when examining whether a statement was capable of “arousing justified indignation”. A statement could not be considered as arousing indignation if it was compatible with Articles 9 and 10 of the Convention. The courts therefore had to examine the meaning of the impugned statement, as well as the context in which it had been made and whether the statement was based on fact or was a value judgment. Only by considering all of those points could the question of the ability to arouse justified indignation be examined.\n",
      "22.  Applying the above considerations to the applicant’s case, the Supreme Court held that she had not aimed to contribute to a serious debate about Islam or the phenomenon of child marriage, but merely to defame Muhammad by accusing him of a specific sexual preference, based on the assumption that he had had sexual intercourse with a prepubescent child, in order to show that he was not a worthy subject of worship. The court, whilst not misjudging the importance of the debate about sexual contact between adults and children, found that the applicant had not contributed to a debate of general interest because she had made her allegation primarily in order to defame Muhammad. On the basis of the Regional Court’s findings that the applicant’s statements qualified as value judgments, the Supreme Court held that they had not been a contribution to a serious debate. The case had to be distinguished from the case of Aydın Tatlav (cited above), in which a scientific book, published in its fifth edition, had contained a passage of harsh criticism of religion, which had not been offensive. In the present case the criminal conviction constituted a measure necessary in a democratic society within the meaning of Article 10 of the Convention. Moreover, the measure taken by the Criminal Court had also been proportionate, as the applicant had only been ordered to pay a fine of EUR 480. The Supreme Court therefore dismissed the applicant’s request for a renewal of the proceedings.\n",
      "23.  The Supreme Court’s judgment was served on the applicant’s counsel on 8 January 2014.\n",
      "II.  RELEVANT DOMESTIC LAW\n",
      "24.  Article 188 of the Criminal Code is part of section 8 of the Criminal Code, which, inter alia, lists criminally punishable offences against religious peace (Strafbare Handlungen gegen den religiösen Frieden). It reads as follows:\n",
      "Article 188 - Disparagement of religious doctrines\n",
      "“Whoever, in circumstances where his or her behaviour is likely to arouse justified indignation, publicly disparages or insults a person who, or an object which, is an object of veneration of a church or religious community established within the country, or a dogma, a lawful custom or a lawful institution of such a church or religious community, shall be liable to up to six months’ imprisonment or a day-fine for a period of up to 360 days.”\n",
      "25.  Article 283 of the Criminal Code, as in force at the relevant time, read as follows:\n",
      "Article 283 – Incitement to hatred\n",
      "“1. Whoever, in a manner capable of endangering public order ... publicly incites to commit a hostile act against a church or religious community established within the country or against a group defined by its belonging to such a church or religious community, a race, a nation, a tribe or a State, shall be liable to up to two years’ imprisonment.\n",
      "2. Similarly, whoever publicly incites against a group defined in paragraph 1 or tries to insult or disparage it in a manner violating human dignity shall equally be held liable.”\n",
      "III.  INTERNATIONAL MATERIAL\n",
      "26.  Article 20 § 2 of the 1966 United Nations International Covenant on Civil and Political Rights provides:\n",
      "“Any advocacy of national, racial or religious hatred that constitutes incitement to discrimination, hostility or violence shall be prohibited by law.”\n",
      "27.  The Council of Europe Parliamentary Assembly stated in its Recommendation 1805 (2007) on “Blasphemy, religious insults and hate speech against persons on grounds of their religion”:\n",
      "“4. With regard to blasphemy, religious insults and hate speech against persons on the grounds of their religion, the state is responsible for determining what should count as criminal offences within the limits imposed by the case law of the European Court of Human Rights. In this connection, the Assembly considers that blasphemy, as an insult to a religion, should not be deemed a criminal offence. A distinction should be made between matters relating to moral conscience and those relating to what is lawful, matters which belong to the public domain, and those which belong to the private sphere. Even though today prosecutions in this respect are rare in member states, they are legion in other countries of the world.\n",
      "...\n",
      "14. The Assembly notes that member states have the obligation under Article 9 of the Convention to protect freedom of religion including the freedom to manifest one’s religion. This requires that member states protect such manifestations against disturbances by others. However, these rights may sometimes be subject to certain justified limitations. The challenge facing the authorities is how to strike a fair balance between the interests of individuals as members of a religious community in ensuring respect for their right to manifest their religion or their right to education, and the general public interest or the rights and interests of others.\n",
      "15. The Assembly considers that, as far as it is necessary in a democratic society in accordance with Article 10, paragraph 2, of the Convention, national law should only penalise expressions about religious matters which intentionally and severely disturb public order and call for public violence. ...”\n",
      "28.  The European Commission for Democracy through Law (“the Venice Commission”) stated in its “Report on the relationship between Freedom of Expression and Freedom of Religion: the issue of regulation and prosecution of Blasphemy, Religious Insult and Incitement to Religious Hatred” (CDL-AD(2008)026, §§ 89-92):\n",
      "“As concerns the question of whether or not there is a need for specific supplementary legislation in the area of blasphemy, religious insult and incitement to religious hatred, the Commission finds:\n",
      "a) That incitement to hatred, including religious hatred, should be the object of criminal sanctions as is the case in almost all European States ...\n",
      "b) That it is neither necessary nor desirable to create an offence of religious insult (that is, insult to religious feelings) simpliciter, without the element of incitement to hatred as an essential component.\n",
      "c) That the offence of blasphemy should be abolished (which is already the case in most European States) and should not be reintroduced. ...\n",
      "As concerns the question of to what extent criminal legislation is adequate and/or effective for the purpose of bringing about the appropriate balance between the right to freedom of expression and the right to respect for one’s beliefs, the Commission reiterates that, in its view, criminal sanctions are only appropriate in respect of incitement to hatred (unless public order offences are appropriate).\n",
      "Notwithstanding the difficulties with enforcement of criminal legislation in this area, there is a high symbolic value in the pan-European introduction of criminal sanctions against incitement to hatred. It gives strong signals to all parts of society and to all societies that an effective democracy cannot bear behaviours and acts which undermine its core values: pluralism, tolerance, respect for human rights and non‑discrimination. It is essential however that the application of legislation against incitement to hatred be done in a non-discriminatory manner.\n",
      "In the Commission’s view, instead, criminal sanctions are inappropriate in respect of insult to religious feelings and, even more so, in respect of blasphemy.”\n",
      "29.  The United Nations Human Rights Council stated in its Resolution 16/18 combating intolerance, negative stereotyping and stigmatization of, and discrimination, incitement to violence and violence against, persons based on religion or belief, adopted on 24 March 2011:\n",
      "“2. [the Human Rights Council] expresses its concern that incidents of religious intolerance, discrimination and related violence, as well as of negative stereotyping of individuals on the basis of religion or belief, continue to rise around the world, and condemns, in this context, any advocacy of religious hatred against individuals that constitutes incitement to discrimination, hostility or violence, and urges States to take effective measures, as set forth in the present resolution, consistent with their obligations under international human rights law, to address and combat such incidents;\n",
      "...\n",
      "5. Notes the speech given by Secretary-General of the Organization of the Islamic Conference at the fifteenth session of the Human Rights Council, and draws on his call on States to take the following actions to foster a domestic environment of religious tolerance, peace and respect, by:\n",
      "...\n",
      "(e) Speaking out against intolerance, including advocacy of religious hatred that constitutes incitement to discrimination, hostility or violence;\n",
      "(f) Adopting measures to criminalize incitement to imminent violence based on religion or belief;\n",
      "(g) Understanding the need to combat denigration and negative religious stereotyping of persons, as well as incitement to religious hatred, by strategizing and harmonizing actions at the local, national, regional and international levels through, inter alia, education and awareness-building;\n",
      "(h) Recognizing that the open, constructive and respectful debate of ideas, as well as interfaith and intercultural dialogue at the local, national and international levels, can play a positive role in combating religious hatred, incitement and violence; ...”\n",
      "30.  The UN Human Rights Committee adopted at its 102nd session (11‑29 July 2011) the General Comment No. 34 on freedom of opinion and freedom of expression:\n",
      "“3. Freedom of expression is a necessary condition for the realization of the principles of transparency and accountability that are, in turn, essential for the promotion and protection of human rights.\n",
      "...\n",
      "47. Defamation laws must be crafted with care to ensure that they comply with paragraph 3, and that they do not serve, in practice, to stifle freedom of expression. All such laws, in particular penal defamation laws, should include such defences as the defence of truth and they should not be applied with regard to those forms of expression that are not, of their nature, subject to verification. At least with regard to comments about public figures, consideration should be given to avoiding penalizing or otherwise rendering unlawful untrue statements that have been published in error but without malice. In any event, a public interest in the subject matter of the criticism should be recognized as a defence. Care should be taken by States parties to avoid excessively punitive measures and penalties. Where relevant, States parties should place reasonable limits on the requirement for a defendant to reimburse the expenses of the successful party. States parties should consider the decriminalization of defamation and, in any case, the application of the criminal law should only be countenanced in the most serious of cases and imprisonment is never an appropriate penalty. It is impermissible for a State party to indict a person for criminal defamation but then not to proceed to trial expeditiously – such a practice has a chilling effect that may unduly restrict the exercise of freedom of expression of the person concerned and others.\n",
      "48. Prohibitions of displays of lack of respect for a religion or other belief system, including blasphemy laws, are incompatible with the Covenant, except in the specific circumstances envisaged in article 20, paragraph 2, of the Covenant. [...] Thus, for instance, it would be impermissible for any such laws to discriminate in favour of or against one or certain religions or belief systems, or their adherents over another, or religious believers over non-believers. Nor would it be permissible for such prohibitions to be used to prevent or punish criticism of religious leaders or commentary on religious doctrine and tenets of faith.\n",
      "49. Laws that penalize the expression of opinions about historical facts are incompatible with the obligations that the Covenant imposes on States parties in relation to the respect for freedom of opinion and expression. The Covenant does not permit general prohibition of expressions of an erroneous opinion or an incorrect interpretation of past events. Restrictions on the right of freedom of opinion should never be imposed and, with regard to freedom of expression, they should not go beyond what is permitted in paragraph 3 or required under article 20. ...”\n",
      "31.  The European Parliament, in its resolution of 27 February 2014 on the situation of fundamental rights in the European Union (2012) (2013/2078(INI)), held that:\n",
      "“The European Parliament, ...\n",
      "35. Recalls that national laws that criminalise blasphemy restrict freedom of expression concerning religious or other beliefs, that they are often applied to persecute, mistreat, or intimidate persons belonging to religious or other minorities, and that they can have a serious inhibiting effect on freedom of expression and on freedom of religion or belief; recommends that the Member States decriminalise such offences, ...”\n"
     ]
    },
    {
     "name": "stderr",
     "output_type": "stream",
     "text": [
      "\n"
     ]
    }
   ],
   "source": [
    "for case in tqdm(kc_input_cases):\n",
    "    case_path = os.path.join(kc_input_dir, case)\n",
    "    case_data = load_json(case_path)\n",
    "    case_facts = case_data['case_text']['THE FACTS']\n",
    "    print(case_facts)\n",
    "    break\n"
   ]
  },
  {
   "cell_type": "code",
   "execution_count": 7,
   "metadata": {},
   "outputs": [
    {
     "name": "stderr",
     "output_type": "stream",
     "text": [
      "  0%|          | 0/125 [00:00<?, ?it/s]"
     ]
    },
    {
     "name": "stderr",
     "output_type": "stream",
     "text": [
      " 37%|███▋      | 46/125 [57:36<1:38:56, 75.15s/it]\n"
     ]
    },
    {
     "ename": "KeyboardInterrupt",
     "evalue": "",
     "output_type": "error",
     "traceback": [
      "\u001b[0;31m---------------------------------------------------------------------------\u001b[0m",
      "\u001b[0;31mKeyboardInterrupt\u001b[0m                         Traceback (most recent call last)",
      "\u001b[1;32m/Users/ahmed/Desktop/msc-24/TND/key_case_binary_classification/simple_1/CoT_binary_facts_try1.ipynb Cell 8\u001b[0m line \u001b[0;36m1\n\u001b[1;32m     <a href='vscode-notebook-cell:/Users/ahmed/Desktop/msc-24/TND/key_case_binary_classification/simple_1/CoT_binary_facts_try1.ipynb#X10sZmlsZQ%3D%3D?line=11'>12</a>\u001b[0m     case_facts \u001b[39m=\u001b[39m case_facts[:\u001b[39m30600\u001b[39m]\n\u001b[1;32m     <a href='vscode-notebook-cell:/Users/ahmed/Desktop/msc-24/TND/key_case_binary_classification/simple_1/CoT_binary_facts_try1.ipynb#X10sZmlsZQ%3D%3D?line=13'>14</a>\u001b[0m classifier \u001b[39m=\u001b[39m LegalCaseClassifier()\n\u001b[0;32m---> <a href='vscode-notebook-cell:/Users/ahmed/Desktop/msc-24/TND/key_case_binary_classification/simple_1/CoT_binary_facts_try1.ipynb#X10sZmlsZQ%3D%3D?line=14'>15</a>\u001b[0m result \u001b[39m=\u001b[39m classifier\u001b[39m.\u001b[39;49mclassify_case(case_facts)\n\u001b[1;32m     <a href='vscode-notebook-cell:/Users/ahmed/Desktop/msc-24/TND/key_case_binary_classification/simple_1/CoT_binary_facts_try1.ipynb#X10sZmlsZQ%3D%3D?line=16'>17</a>\u001b[0m output_result \u001b[39m=\u001b[39m {}\n\u001b[1;32m     <a href='vscode-notebook-cell:/Users/ahmed/Desktop/msc-24/TND/key_case_binary_classification/simple_1/CoT_binary_facts_try1.ipynb#X10sZmlsZQ%3D%3D?line=17'>18</a>\u001b[0m output_result[\u001b[39m'\u001b[39m\u001b[39mresult\u001b[39m\u001b[39m'\u001b[39m] \u001b[39m=\u001b[39m result\n",
      "\u001b[1;32m/Users/ahmed/Desktop/msc-24/TND/key_case_binary_classification/simple_1/CoT_binary_facts_try1.ipynb Cell 8\u001b[0m line \u001b[0;36m9\n\u001b[1;32m     <a href='vscode-notebook-cell:/Users/ahmed/Desktop/msc-24/TND/key_case_binary_classification/simple_1/CoT_binary_facts_try1.ipynb#X10sZmlsZQ%3D%3D?line=80'>81</a>\u001b[0m \u001b[39m\u001b[39m\u001b[39m\"\"\"\u001b[39;00m\n\u001b[1;32m     <a href='vscode-notebook-cell:/Users/ahmed/Desktop/msc-24/TND/key_case_binary_classification/simple_1/CoT_binary_facts_try1.ipynb#X10sZmlsZQ%3D%3D?line=81'>82</a>\u001b[0m \u001b[39mClassify a legal case based on its significance to case law development.\u001b[39;00m\n\u001b[1;32m     <a href='vscode-notebook-cell:/Users/ahmed/Desktop/msc-24/TND/key_case_binary_classification/simple_1/CoT_binary_facts_try1.ipynb#X10sZmlsZQ%3D%3D?line=82'>83</a>\u001b[0m \u001b[39m\u001b[39;00m\n\u001b[0;32m   (...)\u001b[0m\n\u001b[1;32m     <a href='vscode-notebook-cell:/Users/ahmed/Desktop/msc-24/TND/key_case_binary_classification/simple_1/CoT_binary_facts_try1.ipynb#X10sZmlsZQ%3D%3D?line=87'>88</a>\u001b[0m \u001b[39m    Dictionary containing classification result and detailed analysis\u001b[39;00m\n\u001b[1;32m     <a href='vscode-notebook-cell:/Users/ahmed/Desktop/msc-24/TND/key_case_binary_classification/simple_1/CoT_binary_facts_try1.ipynb#X10sZmlsZQ%3D%3D?line=88'>89</a>\u001b[0m \u001b[39m\"\"\"\u001b[39;00m\n\u001b[1;32m     <a href='vscode-notebook-cell:/Users/ahmed/Desktop/msc-24/TND/key_case_binary_classification/simple_1/CoT_binary_facts_try1.ipynb#X10sZmlsZQ%3D%3D?line=89'>90</a>\u001b[0m \u001b[39m# Step 1: Generate legal analysis\u001b[39;00m\n\u001b[0;32m---> <a href='vscode-notebook-cell:/Users/ahmed/Desktop/msc-24/TND/key_case_binary_classification/simple_1/CoT_binary_facts_try1.ipynb#X10sZmlsZQ%3D%3D?line=90'>91</a>\u001b[0m legal_analysis \u001b[39m=\u001b[39m \u001b[39mself\u001b[39;49m\u001b[39m.\u001b[39;49mlegal_analysis_chain\u001b[39m.\u001b[39;49mrun(case_facts)\n\u001b[1;32m     <a href='vscode-notebook-cell:/Users/ahmed/Desktop/msc-24/TND/key_case_binary_classification/simple_1/CoT_binary_facts_try1.ipynb#X10sZmlsZQ%3D%3D?line=92'>93</a>\u001b[0m \u001b[39m# Step 2: Make classification based on analysis\u001b[39;00m\n\u001b[1;32m     <a href='vscode-notebook-cell:/Users/ahmed/Desktop/msc-24/TND/key_case_binary_classification/simple_1/CoT_binary_facts_try1.ipynb#X10sZmlsZQ%3D%3D?line=93'>94</a>\u001b[0m classification_result \u001b[39m=\u001b[39m \u001b[39mself\u001b[39m\u001b[39m.\u001b[39mclassification_chain\u001b[39m.\u001b[39mrun(legal_analysis)\n",
      "File \u001b[0;32m~/hackatum24/lib/python3.11/site-packages/langchain_core/_api/deprecation.py:182\u001b[0m, in \u001b[0;36mdeprecated.<locals>.deprecate.<locals>.warning_emitting_wrapper\u001b[0;34m(*args, **kwargs)\u001b[0m\n\u001b[1;32m    180\u001b[0m     warned \u001b[39m=\u001b[39m \u001b[39mTrue\u001b[39;00m\n\u001b[1;32m    181\u001b[0m     emit_warning()\n\u001b[0;32m--> 182\u001b[0m \u001b[39mreturn\u001b[39;00m wrapped(\u001b[39m*\u001b[39;49margs, \u001b[39m*\u001b[39;49m\u001b[39m*\u001b[39;49mkwargs)\n",
      "File \u001b[0;32m~/hackatum24/lib/python3.11/site-packages/langchain/chains/base.py:606\u001b[0m, in \u001b[0;36mChain.run\u001b[0;34m(self, callbacks, tags, metadata, *args, **kwargs)\u001b[0m\n\u001b[1;32m    604\u001b[0m     \u001b[39mif\u001b[39;00m \u001b[39mlen\u001b[39m(args) \u001b[39m!=\u001b[39m \u001b[39m1\u001b[39m:\n\u001b[1;32m    605\u001b[0m         \u001b[39mraise\u001b[39;00m \u001b[39mValueError\u001b[39;00m(\u001b[39m\"\u001b[39m\u001b[39m`run` supports only one positional argument.\u001b[39m\u001b[39m\"\u001b[39m)\n\u001b[0;32m--> 606\u001b[0m     \u001b[39mreturn\u001b[39;00m \u001b[39mself\u001b[39;49m(args[\u001b[39m0\u001b[39;49m], callbacks\u001b[39m=\u001b[39;49mcallbacks, tags\u001b[39m=\u001b[39;49mtags, metadata\u001b[39m=\u001b[39;49mmetadata)[\n\u001b[1;32m    607\u001b[0m         _output_key\n\u001b[1;32m    608\u001b[0m     ]\n\u001b[1;32m    610\u001b[0m \u001b[39mif\u001b[39;00m kwargs \u001b[39mand\u001b[39;00m \u001b[39mnot\u001b[39;00m args:\n\u001b[1;32m    611\u001b[0m     \u001b[39mreturn\u001b[39;00m \u001b[39mself\u001b[39m(kwargs, callbacks\u001b[39m=\u001b[39mcallbacks, tags\u001b[39m=\u001b[39mtags, metadata\u001b[39m=\u001b[39mmetadata)[\n\u001b[1;32m    612\u001b[0m         _output_key\n\u001b[1;32m    613\u001b[0m     ]\n",
      "File \u001b[0;32m~/hackatum24/lib/python3.11/site-packages/langchain_core/_api/deprecation.py:182\u001b[0m, in \u001b[0;36mdeprecated.<locals>.deprecate.<locals>.warning_emitting_wrapper\u001b[0;34m(*args, **kwargs)\u001b[0m\n\u001b[1;32m    180\u001b[0m     warned \u001b[39m=\u001b[39m \u001b[39mTrue\u001b[39;00m\n\u001b[1;32m    181\u001b[0m     emit_warning()\n\u001b[0;32m--> 182\u001b[0m \u001b[39mreturn\u001b[39;00m wrapped(\u001b[39m*\u001b[39;49margs, \u001b[39m*\u001b[39;49m\u001b[39m*\u001b[39;49mkwargs)\n",
      "File \u001b[0;32m~/hackatum24/lib/python3.11/site-packages/langchain/chains/base.py:389\u001b[0m, in \u001b[0;36mChain.__call__\u001b[0;34m(self, inputs, return_only_outputs, callbacks, tags, metadata, run_name, include_run_info)\u001b[0m\n\u001b[1;32m    357\u001b[0m \u001b[39m\u001b[39m\u001b[39m\"\"\"Execute the chain.\u001b[39;00m\n\u001b[1;32m    358\u001b[0m \n\u001b[1;32m    359\u001b[0m \u001b[39mArgs:\u001b[39;00m\n\u001b[0;32m   (...)\u001b[0m\n\u001b[1;32m    380\u001b[0m \u001b[39m        `Chain.output_keys`.\u001b[39;00m\n\u001b[1;32m    381\u001b[0m \u001b[39m\"\"\"\u001b[39;00m\n\u001b[1;32m    382\u001b[0m config \u001b[39m=\u001b[39m {\n\u001b[1;32m    383\u001b[0m     \u001b[39m\"\u001b[39m\u001b[39mcallbacks\u001b[39m\u001b[39m\"\u001b[39m: callbacks,\n\u001b[1;32m    384\u001b[0m     \u001b[39m\"\u001b[39m\u001b[39mtags\u001b[39m\u001b[39m\"\u001b[39m: tags,\n\u001b[1;32m    385\u001b[0m     \u001b[39m\"\u001b[39m\u001b[39mmetadata\u001b[39m\u001b[39m\"\u001b[39m: metadata,\n\u001b[1;32m    386\u001b[0m     \u001b[39m\"\u001b[39m\u001b[39mrun_name\u001b[39m\u001b[39m\"\u001b[39m: run_name,\n\u001b[1;32m    387\u001b[0m }\n\u001b[0;32m--> 389\u001b[0m \u001b[39mreturn\u001b[39;00m \u001b[39mself\u001b[39;49m\u001b[39m.\u001b[39;49minvoke(\n\u001b[1;32m    390\u001b[0m     inputs,\n\u001b[1;32m    391\u001b[0m     cast(RunnableConfig, {k: v \u001b[39mfor\u001b[39;49;00m k, v \u001b[39min\u001b[39;49;00m config\u001b[39m.\u001b[39;49mitems() \u001b[39mif\u001b[39;49;00m v \u001b[39mis\u001b[39;49;00m \u001b[39mnot\u001b[39;49;00m \u001b[39mNone\u001b[39;49;00m}),\n\u001b[1;32m    392\u001b[0m     return_only_outputs\u001b[39m=\u001b[39;49mreturn_only_outputs,\n\u001b[1;32m    393\u001b[0m     include_run_info\u001b[39m=\u001b[39;49minclude_run_info,\n\u001b[1;32m    394\u001b[0m )\n",
      "File \u001b[0;32m~/hackatum24/lib/python3.11/site-packages/langchain/chains/base.py:170\u001b[0m, in \u001b[0;36mChain.invoke\u001b[0;34m(self, input, config, **kwargs)\u001b[0m\n\u001b[1;32m    168\u001b[0m \u001b[39mexcept\u001b[39;00m \u001b[39mBaseException\u001b[39;00m \u001b[39mas\u001b[39;00m e:\n\u001b[1;32m    169\u001b[0m     run_manager\u001b[39m.\u001b[39mon_chain_error(e)\n\u001b[0;32m--> 170\u001b[0m     \u001b[39mraise\u001b[39;00m e\n\u001b[1;32m    171\u001b[0m run_manager\u001b[39m.\u001b[39mon_chain_end(outputs)\n\u001b[1;32m    173\u001b[0m \u001b[39mif\u001b[39;00m include_run_info:\n",
      "File \u001b[0;32m~/hackatum24/lib/python3.11/site-packages/langchain/chains/base.py:160\u001b[0m, in \u001b[0;36mChain.invoke\u001b[0;34m(self, input, config, **kwargs)\u001b[0m\n\u001b[1;32m    157\u001b[0m \u001b[39mtry\u001b[39;00m:\n\u001b[1;32m    158\u001b[0m     \u001b[39mself\u001b[39m\u001b[39m.\u001b[39m_validate_inputs(inputs)\n\u001b[1;32m    159\u001b[0m     outputs \u001b[39m=\u001b[39m (\n\u001b[0;32m--> 160\u001b[0m         \u001b[39mself\u001b[39;49m\u001b[39m.\u001b[39;49m_call(inputs, run_manager\u001b[39m=\u001b[39;49mrun_manager)\n\u001b[1;32m    161\u001b[0m         \u001b[39mif\u001b[39;00m new_arg_supported\n\u001b[1;32m    162\u001b[0m         \u001b[39melse\u001b[39;00m \u001b[39mself\u001b[39m\u001b[39m.\u001b[39m_call(inputs)\n\u001b[1;32m    163\u001b[0m     )\n\u001b[1;32m    165\u001b[0m     final_outputs: Dict[\u001b[39mstr\u001b[39m, Any] \u001b[39m=\u001b[39m \u001b[39mself\u001b[39m\u001b[39m.\u001b[39mprep_outputs(\n\u001b[1;32m    166\u001b[0m         inputs, outputs, return_only_outputs\n\u001b[1;32m    167\u001b[0m     )\n\u001b[1;32m    168\u001b[0m \u001b[39mexcept\u001b[39;00m \u001b[39mBaseException\u001b[39;00m \u001b[39mas\u001b[39;00m e:\n",
      "File \u001b[0;32m~/hackatum24/lib/python3.11/site-packages/langchain/chains/llm.py:126\u001b[0m, in \u001b[0;36mLLMChain._call\u001b[0;34m(self, inputs, run_manager)\u001b[0m\n\u001b[1;32m    121\u001b[0m \u001b[39mdef\u001b[39;00m \u001b[39m_call\u001b[39m(\n\u001b[1;32m    122\u001b[0m     \u001b[39mself\u001b[39m,\n\u001b[1;32m    123\u001b[0m     inputs: Dict[\u001b[39mstr\u001b[39m, Any],\n\u001b[1;32m    124\u001b[0m     run_manager: Optional[CallbackManagerForChainRun] \u001b[39m=\u001b[39m \u001b[39mNone\u001b[39;00m,\n\u001b[1;32m    125\u001b[0m ) \u001b[39m-\u001b[39m\u001b[39m>\u001b[39m Dict[\u001b[39mstr\u001b[39m, \u001b[39mstr\u001b[39m]:\n\u001b[0;32m--> 126\u001b[0m     response \u001b[39m=\u001b[39m \u001b[39mself\u001b[39;49m\u001b[39m.\u001b[39;49mgenerate([inputs], run_manager\u001b[39m=\u001b[39;49mrun_manager)\n\u001b[1;32m    127\u001b[0m     \u001b[39mreturn\u001b[39;00m \u001b[39mself\u001b[39m\u001b[39m.\u001b[39mcreate_outputs(response)[\u001b[39m0\u001b[39m]\n",
      "File \u001b[0;32m~/hackatum24/lib/python3.11/site-packages/langchain/chains/llm.py:138\u001b[0m, in \u001b[0;36mLLMChain.generate\u001b[0;34m(self, input_list, run_manager)\u001b[0m\n\u001b[1;32m    136\u001b[0m callbacks \u001b[39m=\u001b[39m run_manager\u001b[39m.\u001b[39mget_child() \u001b[39mif\u001b[39;00m run_manager \u001b[39melse\u001b[39;00m \u001b[39mNone\u001b[39;00m\n\u001b[1;32m    137\u001b[0m \u001b[39mif\u001b[39;00m \u001b[39misinstance\u001b[39m(\u001b[39mself\u001b[39m\u001b[39m.\u001b[39mllm, BaseLanguageModel):\n\u001b[0;32m--> 138\u001b[0m     \u001b[39mreturn\u001b[39;00m \u001b[39mself\u001b[39;49m\u001b[39m.\u001b[39;49mllm\u001b[39m.\u001b[39;49mgenerate_prompt(\n\u001b[1;32m    139\u001b[0m         prompts,\n\u001b[1;32m    140\u001b[0m         stop,\n\u001b[1;32m    141\u001b[0m         callbacks\u001b[39m=\u001b[39;49mcallbacks,\n\u001b[1;32m    142\u001b[0m         \u001b[39m*\u001b[39;49m\u001b[39m*\u001b[39;49m\u001b[39mself\u001b[39;49m\u001b[39m.\u001b[39;49mllm_kwargs,\n\u001b[1;32m    143\u001b[0m     )\n\u001b[1;32m    144\u001b[0m \u001b[39melse\u001b[39;00m:\n\u001b[1;32m    145\u001b[0m     results \u001b[39m=\u001b[39m \u001b[39mself\u001b[39m\u001b[39m.\u001b[39mllm\u001b[39m.\u001b[39mbind(stop\u001b[39m=\u001b[39mstop, \u001b[39m*\u001b[39m\u001b[39m*\u001b[39m\u001b[39mself\u001b[39m\u001b[39m.\u001b[39mllm_kwargs)\u001b[39m.\u001b[39mbatch(\n\u001b[1;32m    146\u001b[0m         cast(List, prompts), {\u001b[39m\"\u001b[39m\u001b[39mcallbacks\u001b[39m\u001b[39m\"\u001b[39m: callbacks}\n\u001b[1;32m    147\u001b[0m     )\n",
      "File \u001b[0;32m~/hackatum24/lib/python3.11/site-packages/langchain_core/language_models/chat_models.py:786\u001b[0m, in \u001b[0;36mBaseChatModel.generate_prompt\u001b[0;34m(self, prompts, stop, callbacks, **kwargs)\u001b[0m\n\u001b[1;32m    778\u001b[0m \u001b[39mdef\u001b[39;00m \u001b[39mgenerate_prompt\u001b[39m(\n\u001b[1;32m    779\u001b[0m     \u001b[39mself\u001b[39m,\n\u001b[1;32m    780\u001b[0m     prompts: \u001b[39mlist\u001b[39m[PromptValue],\n\u001b[0;32m   (...)\u001b[0m\n\u001b[1;32m    783\u001b[0m     \u001b[39m*\u001b[39m\u001b[39m*\u001b[39mkwargs: Any,\n\u001b[1;32m    784\u001b[0m ) \u001b[39m-\u001b[39m\u001b[39m>\u001b[39m LLMResult:\n\u001b[1;32m    785\u001b[0m     prompt_messages \u001b[39m=\u001b[39m [p\u001b[39m.\u001b[39mto_messages() \u001b[39mfor\u001b[39;00m p \u001b[39min\u001b[39;00m prompts]\n\u001b[0;32m--> 786\u001b[0m     \u001b[39mreturn\u001b[39;00m \u001b[39mself\u001b[39;49m\u001b[39m.\u001b[39;49mgenerate(prompt_messages, stop\u001b[39m=\u001b[39;49mstop, callbacks\u001b[39m=\u001b[39;49mcallbacks, \u001b[39m*\u001b[39;49m\u001b[39m*\u001b[39;49mkwargs)\n",
      "File \u001b[0;32m~/hackatum24/lib/python3.11/site-packages/langchain_core/language_models/chat_models.py:643\u001b[0m, in \u001b[0;36mBaseChatModel.generate\u001b[0;34m(self, messages, stop, callbacks, tags, metadata, run_name, run_id, **kwargs)\u001b[0m\n\u001b[1;32m    641\u001b[0m         \u001b[39mif\u001b[39;00m run_managers:\n\u001b[1;32m    642\u001b[0m             run_managers[i]\u001b[39m.\u001b[39mon_llm_error(e, response\u001b[39m=\u001b[39mLLMResult(generations\u001b[39m=\u001b[39m[]))\n\u001b[0;32m--> 643\u001b[0m         \u001b[39mraise\u001b[39;00m e\n\u001b[1;32m    644\u001b[0m flattened_outputs \u001b[39m=\u001b[39m [\n\u001b[1;32m    645\u001b[0m     LLMResult(generations\u001b[39m=\u001b[39m[res\u001b[39m.\u001b[39mgenerations], llm_output\u001b[39m=\u001b[39mres\u001b[39m.\u001b[39mllm_output)  \u001b[39m# type: ignore[list-item]\u001b[39;00m\n\u001b[1;32m    646\u001b[0m     \u001b[39mfor\u001b[39;00m res \u001b[39min\u001b[39;00m results\n\u001b[1;32m    647\u001b[0m ]\n\u001b[1;32m    648\u001b[0m llm_output \u001b[39m=\u001b[39m \u001b[39mself\u001b[39m\u001b[39m.\u001b[39m_combine_llm_outputs([res\u001b[39m.\u001b[39mllm_output \u001b[39mfor\u001b[39;00m res \u001b[39min\u001b[39;00m results])\n",
      "File \u001b[0;32m~/hackatum24/lib/python3.11/site-packages/langchain_core/language_models/chat_models.py:633\u001b[0m, in \u001b[0;36mBaseChatModel.generate\u001b[0;34m(self, messages, stop, callbacks, tags, metadata, run_name, run_id, **kwargs)\u001b[0m\n\u001b[1;32m    630\u001b[0m \u001b[39mfor\u001b[39;00m i, m \u001b[39min\u001b[39;00m \u001b[39menumerate\u001b[39m(messages):\n\u001b[1;32m    631\u001b[0m     \u001b[39mtry\u001b[39;00m:\n\u001b[1;32m    632\u001b[0m         results\u001b[39m.\u001b[39mappend(\n\u001b[0;32m--> 633\u001b[0m             \u001b[39mself\u001b[39;49m\u001b[39m.\u001b[39;49m_generate_with_cache(\n\u001b[1;32m    634\u001b[0m                 m,\n\u001b[1;32m    635\u001b[0m                 stop\u001b[39m=\u001b[39;49mstop,\n\u001b[1;32m    636\u001b[0m                 run_manager\u001b[39m=\u001b[39;49mrun_managers[i] \u001b[39mif\u001b[39;49;00m run_managers \u001b[39melse\u001b[39;49;00m \u001b[39mNone\u001b[39;49;00m,\n\u001b[1;32m    637\u001b[0m                 \u001b[39m*\u001b[39;49m\u001b[39m*\u001b[39;49mkwargs,\n\u001b[1;32m    638\u001b[0m             )\n\u001b[1;32m    639\u001b[0m         )\n\u001b[1;32m    640\u001b[0m     \u001b[39mexcept\u001b[39;00m \u001b[39mBaseException\u001b[39;00m \u001b[39mas\u001b[39;00m e:\n\u001b[1;32m    641\u001b[0m         \u001b[39mif\u001b[39;00m run_managers:\n",
      "File \u001b[0;32m~/hackatum24/lib/python3.11/site-packages/langchain_core/language_models/chat_models.py:851\u001b[0m, in \u001b[0;36mBaseChatModel._generate_with_cache\u001b[0;34m(self, messages, stop, run_manager, **kwargs)\u001b[0m\n\u001b[1;32m    849\u001b[0m \u001b[39melse\u001b[39;00m:\n\u001b[1;32m    850\u001b[0m     \u001b[39mif\u001b[39;00m inspect\u001b[39m.\u001b[39msignature(\u001b[39mself\u001b[39m\u001b[39m.\u001b[39m_generate)\u001b[39m.\u001b[39mparameters\u001b[39m.\u001b[39mget(\u001b[39m\"\u001b[39m\u001b[39mrun_manager\u001b[39m\u001b[39m\"\u001b[39m):\n\u001b[0;32m--> 851\u001b[0m         result \u001b[39m=\u001b[39m \u001b[39mself\u001b[39;49m\u001b[39m.\u001b[39;49m_generate(\n\u001b[1;32m    852\u001b[0m             messages, stop\u001b[39m=\u001b[39;49mstop, run_manager\u001b[39m=\u001b[39;49mrun_manager, \u001b[39m*\u001b[39;49m\u001b[39m*\u001b[39;49mkwargs\n\u001b[1;32m    853\u001b[0m         )\n\u001b[1;32m    854\u001b[0m     \u001b[39melse\u001b[39;00m:\n\u001b[1;32m    855\u001b[0m         result \u001b[39m=\u001b[39m \u001b[39mself\u001b[39m\u001b[39m.\u001b[39m_generate(messages, stop\u001b[39m=\u001b[39mstop, \u001b[39m*\u001b[39m\u001b[39m*\u001b[39mkwargs)\n",
      "File \u001b[0;32m~/hackatum24/lib/python3.11/site-packages/langchain_community/chat_models/openai.py:476\u001b[0m, in \u001b[0;36mChatOpenAI._generate\u001b[0;34m(self, messages, stop, run_manager, stream, **kwargs)\u001b[0m\n\u001b[1;32m    470\u001b[0m message_dicts, params \u001b[39m=\u001b[39m \u001b[39mself\u001b[39m\u001b[39m.\u001b[39m_create_message_dicts(messages, stop)\n\u001b[1;32m    471\u001b[0m params \u001b[39m=\u001b[39m {\n\u001b[1;32m    472\u001b[0m     \u001b[39m*\u001b[39m\u001b[39m*\u001b[39mparams,\n\u001b[1;32m    473\u001b[0m     \u001b[39m*\u001b[39m\u001b[39m*\u001b[39m({\u001b[39m\"\u001b[39m\u001b[39mstream\u001b[39m\u001b[39m\"\u001b[39m: stream} \u001b[39mif\u001b[39;00m stream \u001b[39mis\u001b[39;00m \u001b[39mnot\u001b[39;00m \u001b[39mNone\u001b[39;00m \u001b[39melse\u001b[39;00m {}),\n\u001b[1;32m    474\u001b[0m     \u001b[39m*\u001b[39m\u001b[39m*\u001b[39mkwargs,\n\u001b[1;32m    475\u001b[0m }\n\u001b[0;32m--> 476\u001b[0m response \u001b[39m=\u001b[39m \u001b[39mself\u001b[39;49m\u001b[39m.\u001b[39;49mcompletion_with_retry(\n\u001b[1;32m    477\u001b[0m     messages\u001b[39m=\u001b[39;49mmessage_dicts, run_manager\u001b[39m=\u001b[39;49mrun_manager, \u001b[39m*\u001b[39;49m\u001b[39m*\u001b[39;49mparams\n\u001b[1;32m    478\u001b[0m )\n\u001b[1;32m    479\u001b[0m \u001b[39mreturn\u001b[39;00m \u001b[39mself\u001b[39m\u001b[39m.\u001b[39m_create_chat_result(response)\n",
      "File \u001b[0;32m~/hackatum24/lib/python3.11/site-packages/langchain_community/chat_models/openai.py:387\u001b[0m, in \u001b[0;36mChatOpenAI.completion_with_retry\u001b[0;34m(self, run_manager, **kwargs)\u001b[0m\n\u001b[1;32m    385\u001b[0m \u001b[39m\u001b[39m\u001b[39m\"\"\"Use tenacity to retry the completion call.\"\"\"\u001b[39;00m\n\u001b[1;32m    386\u001b[0m \u001b[39mif\u001b[39;00m is_openai_v1():\n\u001b[0;32m--> 387\u001b[0m     \u001b[39mreturn\u001b[39;00m \u001b[39mself\u001b[39;49m\u001b[39m.\u001b[39;49mclient\u001b[39m.\u001b[39;49mcreate(\u001b[39m*\u001b[39;49m\u001b[39m*\u001b[39;49mkwargs)\n\u001b[1;32m    389\u001b[0m retry_decorator \u001b[39m=\u001b[39m _create_retry_decorator(\u001b[39mself\u001b[39m, run_manager\u001b[39m=\u001b[39mrun_manager)\n\u001b[1;32m    391\u001b[0m \u001b[39m@retry_decorator\u001b[39m\n\u001b[1;32m    392\u001b[0m \u001b[39mdef\u001b[39;00m \u001b[39m_completion_with_retry\u001b[39m(\u001b[39m*\u001b[39m\u001b[39m*\u001b[39mkwargs: Any) \u001b[39m-\u001b[39m\u001b[39m>\u001b[39m Any:\n",
      "File \u001b[0;32m~/hackatum24/lib/python3.11/site-packages/openai/_utils/_utils.py:275\u001b[0m, in \u001b[0;36mrequired_args.<locals>.inner.<locals>.wrapper\u001b[0;34m(*args, **kwargs)\u001b[0m\n\u001b[1;32m    273\u001b[0m             msg \u001b[39m=\u001b[39m \u001b[39mf\u001b[39m\u001b[39m\"\u001b[39m\u001b[39mMissing required argument: \u001b[39m\u001b[39m{\u001b[39;00mquote(missing[\u001b[39m0\u001b[39m])\u001b[39m}\u001b[39;00m\u001b[39m\"\u001b[39m\n\u001b[1;32m    274\u001b[0m     \u001b[39mraise\u001b[39;00m \u001b[39mTypeError\u001b[39;00m(msg)\n\u001b[0;32m--> 275\u001b[0m \u001b[39mreturn\u001b[39;00m func(\u001b[39m*\u001b[39;49margs, \u001b[39m*\u001b[39;49m\u001b[39m*\u001b[39;49mkwargs)\n",
      "File \u001b[0;32m~/hackatum24/lib/python3.11/site-packages/openai/resources/chat/completions.py:829\u001b[0m, in \u001b[0;36mCompletions.create\u001b[0;34m(self, messages, model, audio, frequency_penalty, function_call, functions, logit_bias, logprobs, max_completion_tokens, max_tokens, metadata, modalities, n, parallel_tool_calls, prediction, presence_penalty, response_format, seed, service_tier, stop, store, stream, stream_options, temperature, tool_choice, tools, top_logprobs, top_p, user, extra_headers, extra_query, extra_body, timeout)\u001b[0m\n\u001b[1;32m    788\u001b[0m \u001b[39m@required_args\u001b[39m([\u001b[39m\"\u001b[39m\u001b[39mmessages\u001b[39m\u001b[39m\"\u001b[39m, \u001b[39m\"\u001b[39m\u001b[39mmodel\u001b[39m\u001b[39m\"\u001b[39m], [\u001b[39m\"\u001b[39m\u001b[39mmessages\u001b[39m\u001b[39m\"\u001b[39m, \u001b[39m\"\u001b[39m\u001b[39mmodel\u001b[39m\u001b[39m\"\u001b[39m, \u001b[39m\"\u001b[39m\u001b[39mstream\u001b[39m\u001b[39m\"\u001b[39m])\n\u001b[1;32m    789\u001b[0m \u001b[39mdef\u001b[39;00m \u001b[39mcreate\u001b[39m(\n\u001b[1;32m    790\u001b[0m     \u001b[39mself\u001b[39m,\n\u001b[0;32m   (...)\u001b[0m\n\u001b[1;32m    826\u001b[0m     timeout: \u001b[39mfloat\u001b[39m \u001b[39m|\u001b[39m httpx\u001b[39m.\u001b[39mTimeout \u001b[39m|\u001b[39m \u001b[39mNone\u001b[39;00m \u001b[39m|\u001b[39m NotGiven \u001b[39m=\u001b[39m NOT_GIVEN,\n\u001b[1;32m    827\u001b[0m ) \u001b[39m-\u001b[39m\u001b[39m>\u001b[39m ChatCompletion \u001b[39m|\u001b[39m Stream[ChatCompletionChunk]:\n\u001b[1;32m    828\u001b[0m     validate_response_format(response_format)\n\u001b[0;32m--> 829\u001b[0m     \u001b[39mreturn\u001b[39;00m \u001b[39mself\u001b[39;49m\u001b[39m.\u001b[39;49m_post(\n\u001b[1;32m    830\u001b[0m         \u001b[39m\"\u001b[39;49m\u001b[39m/chat/completions\u001b[39;49m\u001b[39m\"\u001b[39;49m,\n\u001b[1;32m    831\u001b[0m         body\u001b[39m=\u001b[39;49mmaybe_transform(\n\u001b[1;32m    832\u001b[0m             {\n\u001b[1;32m    833\u001b[0m                 \u001b[39m\"\u001b[39;49m\u001b[39mmessages\u001b[39;49m\u001b[39m\"\u001b[39;49m: messages,\n\u001b[1;32m    834\u001b[0m                 \u001b[39m\"\u001b[39;49m\u001b[39mmodel\u001b[39;49m\u001b[39m\"\u001b[39;49m: model,\n\u001b[1;32m    835\u001b[0m                 \u001b[39m\"\u001b[39;49m\u001b[39maudio\u001b[39;49m\u001b[39m\"\u001b[39;49m: audio,\n\u001b[1;32m    836\u001b[0m                 \u001b[39m\"\u001b[39;49m\u001b[39mfrequency_penalty\u001b[39;49m\u001b[39m\"\u001b[39;49m: frequency_penalty,\n\u001b[1;32m    837\u001b[0m                 \u001b[39m\"\u001b[39;49m\u001b[39mfunction_call\u001b[39;49m\u001b[39m\"\u001b[39;49m: function_call,\n\u001b[1;32m    838\u001b[0m                 \u001b[39m\"\u001b[39;49m\u001b[39mfunctions\u001b[39;49m\u001b[39m\"\u001b[39;49m: functions,\n\u001b[1;32m    839\u001b[0m                 \u001b[39m\"\u001b[39;49m\u001b[39mlogit_bias\u001b[39;49m\u001b[39m\"\u001b[39;49m: logit_bias,\n\u001b[1;32m    840\u001b[0m                 \u001b[39m\"\u001b[39;49m\u001b[39mlogprobs\u001b[39;49m\u001b[39m\"\u001b[39;49m: logprobs,\n\u001b[1;32m    841\u001b[0m                 \u001b[39m\"\u001b[39;49m\u001b[39mmax_completion_tokens\u001b[39;49m\u001b[39m\"\u001b[39;49m: max_completion_tokens,\n\u001b[1;32m    842\u001b[0m                 \u001b[39m\"\u001b[39;49m\u001b[39mmax_tokens\u001b[39;49m\u001b[39m\"\u001b[39;49m: max_tokens,\n\u001b[1;32m    843\u001b[0m                 \u001b[39m\"\u001b[39;49m\u001b[39mmetadata\u001b[39;49m\u001b[39m\"\u001b[39;49m: metadata,\n\u001b[1;32m    844\u001b[0m                 \u001b[39m\"\u001b[39;49m\u001b[39mmodalities\u001b[39;49m\u001b[39m\"\u001b[39;49m: modalities,\n\u001b[1;32m    845\u001b[0m                 \u001b[39m\"\u001b[39;49m\u001b[39mn\u001b[39;49m\u001b[39m\"\u001b[39;49m: n,\n\u001b[1;32m    846\u001b[0m                 \u001b[39m\"\u001b[39;49m\u001b[39mparallel_tool_calls\u001b[39;49m\u001b[39m\"\u001b[39;49m: parallel_tool_calls,\n\u001b[1;32m    847\u001b[0m                 \u001b[39m\"\u001b[39;49m\u001b[39mprediction\u001b[39;49m\u001b[39m\"\u001b[39;49m: prediction,\n\u001b[1;32m    848\u001b[0m                 \u001b[39m\"\u001b[39;49m\u001b[39mpresence_penalty\u001b[39;49m\u001b[39m\"\u001b[39;49m: presence_penalty,\n\u001b[1;32m    849\u001b[0m                 \u001b[39m\"\u001b[39;49m\u001b[39mresponse_format\u001b[39;49m\u001b[39m\"\u001b[39;49m: response_format,\n\u001b[1;32m    850\u001b[0m                 \u001b[39m\"\u001b[39;49m\u001b[39mseed\u001b[39;49m\u001b[39m\"\u001b[39;49m: seed,\n\u001b[1;32m    851\u001b[0m                 \u001b[39m\"\u001b[39;49m\u001b[39mservice_tier\u001b[39;49m\u001b[39m\"\u001b[39;49m: service_tier,\n\u001b[1;32m    852\u001b[0m                 \u001b[39m\"\u001b[39;49m\u001b[39mstop\u001b[39;49m\u001b[39m\"\u001b[39;49m: stop,\n\u001b[1;32m    853\u001b[0m                 \u001b[39m\"\u001b[39;49m\u001b[39mstore\u001b[39;49m\u001b[39m\"\u001b[39;49m: store,\n\u001b[1;32m    854\u001b[0m                 \u001b[39m\"\u001b[39;49m\u001b[39mstream\u001b[39;49m\u001b[39m\"\u001b[39;49m: stream,\n\u001b[1;32m    855\u001b[0m                 \u001b[39m\"\u001b[39;49m\u001b[39mstream_options\u001b[39;49m\u001b[39m\"\u001b[39;49m: stream_options,\n\u001b[1;32m    856\u001b[0m                 \u001b[39m\"\u001b[39;49m\u001b[39mtemperature\u001b[39;49m\u001b[39m\"\u001b[39;49m: temperature,\n\u001b[1;32m    857\u001b[0m                 \u001b[39m\"\u001b[39;49m\u001b[39mtool_choice\u001b[39;49m\u001b[39m\"\u001b[39;49m: tool_choice,\n\u001b[1;32m    858\u001b[0m                 \u001b[39m\"\u001b[39;49m\u001b[39mtools\u001b[39;49m\u001b[39m\"\u001b[39;49m: tools,\n\u001b[1;32m    859\u001b[0m                 \u001b[39m\"\u001b[39;49m\u001b[39mtop_logprobs\u001b[39;49m\u001b[39m\"\u001b[39;49m: top_logprobs,\n\u001b[1;32m    860\u001b[0m                 \u001b[39m\"\u001b[39;49m\u001b[39mtop_p\u001b[39;49m\u001b[39m\"\u001b[39;49m: top_p,\n\u001b[1;32m    861\u001b[0m                 \u001b[39m\"\u001b[39;49m\u001b[39muser\u001b[39;49m\u001b[39m\"\u001b[39;49m: user,\n\u001b[1;32m    862\u001b[0m             },\n\u001b[1;32m    863\u001b[0m             completion_create_params\u001b[39m.\u001b[39;49mCompletionCreateParams,\n\u001b[1;32m    864\u001b[0m         ),\n\u001b[1;32m    865\u001b[0m         options\u001b[39m=\u001b[39;49mmake_request_options(\n\u001b[1;32m    866\u001b[0m             extra_headers\u001b[39m=\u001b[39;49mextra_headers, extra_query\u001b[39m=\u001b[39;49mextra_query, extra_body\u001b[39m=\u001b[39;49mextra_body, timeout\u001b[39m=\u001b[39;49mtimeout\n\u001b[1;32m    867\u001b[0m         ),\n\u001b[1;32m    868\u001b[0m         cast_to\u001b[39m=\u001b[39;49mChatCompletion,\n\u001b[1;32m    869\u001b[0m         stream\u001b[39m=\u001b[39;49mstream \u001b[39mor\u001b[39;49;00m \u001b[39mFalse\u001b[39;49;00m,\n\u001b[1;32m    870\u001b[0m         stream_cls\u001b[39m=\u001b[39;49mStream[ChatCompletionChunk],\n\u001b[1;32m    871\u001b[0m     )\n",
      "File \u001b[0;32m~/hackatum24/lib/python3.11/site-packages/openai/_base_client.py:1278\u001b[0m, in \u001b[0;36mSyncAPIClient.post\u001b[0;34m(self, path, cast_to, body, options, files, stream, stream_cls)\u001b[0m\n\u001b[1;32m   1264\u001b[0m \u001b[39mdef\u001b[39;00m \u001b[39mpost\u001b[39m(\n\u001b[1;32m   1265\u001b[0m     \u001b[39mself\u001b[39m,\n\u001b[1;32m   1266\u001b[0m     path: \u001b[39mstr\u001b[39m,\n\u001b[0;32m   (...)\u001b[0m\n\u001b[1;32m   1273\u001b[0m     stream_cls: \u001b[39mtype\u001b[39m[_StreamT] \u001b[39m|\u001b[39m \u001b[39mNone\u001b[39;00m \u001b[39m=\u001b[39m \u001b[39mNone\u001b[39;00m,\n\u001b[1;32m   1274\u001b[0m ) \u001b[39m-\u001b[39m\u001b[39m>\u001b[39m ResponseT \u001b[39m|\u001b[39m _StreamT:\n\u001b[1;32m   1275\u001b[0m     opts \u001b[39m=\u001b[39m FinalRequestOptions\u001b[39m.\u001b[39mconstruct(\n\u001b[1;32m   1276\u001b[0m         method\u001b[39m=\u001b[39m\u001b[39m\"\u001b[39m\u001b[39mpost\u001b[39m\u001b[39m\"\u001b[39m, url\u001b[39m=\u001b[39mpath, json_data\u001b[39m=\u001b[39mbody, files\u001b[39m=\u001b[39mto_httpx_files(files), \u001b[39m*\u001b[39m\u001b[39m*\u001b[39moptions\n\u001b[1;32m   1277\u001b[0m     )\n\u001b[0;32m-> 1278\u001b[0m     \u001b[39mreturn\u001b[39;00m cast(ResponseT, \u001b[39mself\u001b[39;49m\u001b[39m.\u001b[39;49mrequest(cast_to, opts, stream\u001b[39m=\u001b[39;49mstream, stream_cls\u001b[39m=\u001b[39;49mstream_cls))\n",
      "File \u001b[0;32m~/hackatum24/lib/python3.11/site-packages/openai/_base_client.py:955\u001b[0m, in \u001b[0;36mSyncAPIClient.request\u001b[0;34m(self, cast_to, options, remaining_retries, stream, stream_cls)\u001b[0m\n\u001b[1;32m    952\u001b[0m \u001b[39melse\u001b[39;00m:\n\u001b[1;32m    953\u001b[0m     retries_taken \u001b[39m=\u001b[39m \u001b[39m0\u001b[39m\n\u001b[0;32m--> 955\u001b[0m \u001b[39mreturn\u001b[39;00m \u001b[39mself\u001b[39;49m\u001b[39m.\u001b[39;49m_request(\n\u001b[1;32m    956\u001b[0m     cast_to\u001b[39m=\u001b[39;49mcast_to,\n\u001b[1;32m    957\u001b[0m     options\u001b[39m=\u001b[39;49moptions,\n\u001b[1;32m    958\u001b[0m     stream\u001b[39m=\u001b[39;49mstream,\n\u001b[1;32m    959\u001b[0m     stream_cls\u001b[39m=\u001b[39;49mstream_cls,\n\u001b[1;32m    960\u001b[0m     retries_taken\u001b[39m=\u001b[39;49mretries_taken,\n\u001b[1;32m    961\u001b[0m )\n",
      "File \u001b[0;32m~/hackatum24/lib/python3.11/site-packages/openai/_base_client.py:991\u001b[0m, in \u001b[0;36mSyncAPIClient._request\u001b[0;34m(self, cast_to, options, retries_taken, stream, stream_cls)\u001b[0m\n\u001b[1;32m    988\u001b[0m log\u001b[39m.\u001b[39mdebug(\u001b[39m\"\u001b[39m\u001b[39mSending HTTP Request: \u001b[39m\u001b[39m%s\u001b[39;00m\u001b[39m \u001b[39m\u001b[39m%s\u001b[39;00m\u001b[39m\"\u001b[39m, request\u001b[39m.\u001b[39mmethod, request\u001b[39m.\u001b[39murl)\n\u001b[1;32m    990\u001b[0m \u001b[39mtry\u001b[39;00m:\n\u001b[0;32m--> 991\u001b[0m     response \u001b[39m=\u001b[39m \u001b[39mself\u001b[39;49m\u001b[39m.\u001b[39;49m_client\u001b[39m.\u001b[39;49msend(\n\u001b[1;32m    992\u001b[0m         request,\n\u001b[1;32m    993\u001b[0m         stream\u001b[39m=\u001b[39;49mstream \u001b[39mor\u001b[39;49;00m \u001b[39mself\u001b[39;49m\u001b[39m.\u001b[39;49m_should_stream_response_body(request\u001b[39m=\u001b[39;49mrequest),\n\u001b[1;32m    994\u001b[0m         \u001b[39m*\u001b[39;49m\u001b[39m*\u001b[39;49mkwargs,\n\u001b[1;32m    995\u001b[0m     )\n\u001b[1;32m    996\u001b[0m \u001b[39mexcept\u001b[39;00m httpx\u001b[39m.\u001b[39mTimeoutException \u001b[39mas\u001b[39;00m err:\n\u001b[1;32m    997\u001b[0m     log\u001b[39m.\u001b[39mdebug(\u001b[39m\"\u001b[39m\u001b[39mEncountered httpx.TimeoutException\u001b[39m\u001b[39m\"\u001b[39m, exc_info\u001b[39m=\u001b[39m\u001b[39mTrue\u001b[39;00m)\n",
      "File \u001b[0;32m~/hackatum24/lib/python3.11/site-packages/httpx/_client.py:926\u001b[0m, in \u001b[0;36mClient.send\u001b[0;34m(self, request, stream, auth, follow_redirects)\u001b[0m\n\u001b[1;32m    922\u001b[0m \u001b[39mself\u001b[39m\u001b[39m.\u001b[39m_set_timeout(request)\n\u001b[1;32m    924\u001b[0m auth \u001b[39m=\u001b[39m \u001b[39mself\u001b[39m\u001b[39m.\u001b[39m_build_request_auth(request, auth)\n\u001b[0;32m--> 926\u001b[0m response \u001b[39m=\u001b[39m \u001b[39mself\u001b[39;49m\u001b[39m.\u001b[39;49m_send_handling_auth(\n\u001b[1;32m    927\u001b[0m     request,\n\u001b[1;32m    928\u001b[0m     auth\u001b[39m=\u001b[39;49mauth,\n\u001b[1;32m    929\u001b[0m     follow_redirects\u001b[39m=\u001b[39;49mfollow_redirects,\n\u001b[1;32m    930\u001b[0m     history\u001b[39m=\u001b[39;49m[],\n\u001b[1;32m    931\u001b[0m )\n\u001b[1;32m    932\u001b[0m \u001b[39mtry\u001b[39;00m:\n\u001b[1;32m    933\u001b[0m     \u001b[39mif\u001b[39;00m \u001b[39mnot\u001b[39;00m stream:\n",
      "File \u001b[0;32m~/hackatum24/lib/python3.11/site-packages/httpx/_client.py:954\u001b[0m, in \u001b[0;36mClient._send_handling_auth\u001b[0;34m(self, request, auth, follow_redirects, history)\u001b[0m\n\u001b[1;32m    951\u001b[0m request \u001b[39m=\u001b[39m \u001b[39mnext\u001b[39m(auth_flow)\n\u001b[1;32m    953\u001b[0m \u001b[39mwhile\u001b[39;00m \u001b[39mTrue\u001b[39;00m:\n\u001b[0;32m--> 954\u001b[0m     response \u001b[39m=\u001b[39m \u001b[39mself\u001b[39;49m\u001b[39m.\u001b[39;49m_send_handling_redirects(\n\u001b[1;32m    955\u001b[0m         request,\n\u001b[1;32m    956\u001b[0m         follow_redirects\u001b[39m=\u001b[39;49mfollow_redirects,\n\u001b[1;32m    957\u001b[0m         history\u001b[39m=\u001b[39;49mhistory,\n\u001b[1;32m    958\u001b[0m     )\n\u001b[1;32m    959\u001b[0m     \u001b[39mtry\u001b[39;00m:\n\u001b[1;32m    960\u001b[0m         \u001b[39mtry\u001b[39;00m:\n",
      "File \u001b[0;32m~/hackatum24/lib/python3.11/site-packages/httpx/_client.py:991\u001b[0m, in \u001b[0;36mClient._send_handling_redirects\u001b[0;34m(self, request, follow_redirects, history)\u001b[0m\n\u001b[1;32m    988\u001b[0m \u001b[39mfor\u001b[39;00m hook \u001b[39min\u001b[39;00m \u001b[39mself\u001b[39m\u001b[39m.\u001b[39m_event_hooks[\u001b[39m\"\u001b[39m\u001b[39mrequest\u001b[39m\u001b[39m\"\u001b[39m]:\n\u001b[1;32m    989\u001b[0m     hook(request)\n\u001b[0;32m--> 991\u001b[0m response \u001b[39m=\u001b[39m \u001b[39mself\u001b[39;49m\u001b[39m.\u001b[39;49m_send_single_request(request)\n\u001b[1;32m    992\u001b[0m \u001b[39mtry\u001b[39;00m:\n\u001b[1;32m    993\u001b[0m     \u001b[39mfor\u001b[39;00m hook \u001b[39min\u001b[39;00m \u001b[39mself\u001b[39m\u001b[39m.\u001b[39m_event_hooks[\u001b[39m\"\u001b[39m\u001b[39mresponse\u001b[39m\u001b[39m\"\u001b[39m]:\n",
      "File \u001b[0;32m~/hackatum24/lib/python3.11/site-packages/httpx/_client.py:1027\u001b[0m, in \u001b[0;36mClient._send_single_request\u001b[0;34m(self, request)\u001b[0m\n\u001b[1;32m   1022\u001b[0m     \u001b[39mraise\u001b[39;00m \u001b[39mRuntimeError\u001b[39;00m(\n\u001b[1;32m   1023\u001b[0m         \u001b[39m\"\u001b[39m\u001b[39mAttempted to send an async request with a sync Client instance.\u001b[39m\u001b[39m\"\u001b[39m\n\u001b[1;32m   1024\u001b[0m     )\n\u001b[1;32m   1026\u001b[0m \u001b[39mwith\u001b[39;00m request_context(request\u001b[39m=\u001b[39mrequest):\n\u001b[0;32m-> 1027\u001b[0m     response \u001b[39m=\u001b[39m transport\u001b[39m.\u001b[39;49mhandle_request(request)\n\u001b[1;32m   1029\u001b[0m \u001b[39massert\u001b[39;00m \u001b[39misinstance\u001b[39m(response\u001b[39m.\u001b[39mstream, SyncByteStream)\n\u001b[1;32m   1031\u001b[0m response\u001b[39m.\u001b[39mrequest \u001b[39m=\u001b[39m request\n",
      "File \u001b[0;32m~/hackatum24/lib/python3.11/site-packages/httpx/_transports/default.py:236\u001b[0m, in \u001b[0;36mHTTPTransport.handle_request\u001b[0;34m(self, request)\u001b[0m\n\u001b[1;32m    223\u001b[0m req \u001b[39m=\u001b[39m httpcore\u001b[39m.\u001b[39mRequest(\n\u001b[1;32m    224\u001b[0m     method\u001b[39m=\u001b[39mrequest\u001b[39m.\u001b[39mmethod,\n\u001b[1;32m    225\u001b[0m     url\u001b[39m=\u001b[39mhttpcore\u001b[39m.\u001b[39mURL(\n\u001b[0;32m   (...)\u001b[0m\n\u001b[1;32m    233\u001b[0m     extensions\u001b[39m=\u001b[39mrequest\u001b[39m.\u001b[39mextensions,\n\u001b[1;32m    234\u001b[0m )\n\u001b[1;32m    235\u001b[0m \u001b[39mwith\u001b[39;00m map_httpcore_exceptions():\n\u001b[0;32m--> 236\u001b[0m     resp \u001b[39m=\u001b[39m \u001b[39mself\u001b[39;49m\u001b[39m.\u001b[39;49m_pool\u001b[39m.\u001b[39;49mhandle_request(req)\n\u001b[1;32m    238\u001b[0m \u001b[39massert\u001b[39;00m \u001b[39misinstance\u001b[39m(resp\u001b[39m.\u001b[39mstream, typing\u001b[39m.\u001b[39mIterable)\n\u001b[1;32m    240\u001b[0m \u001b[39mreturn\u001b[39;00m Response(\n\u001b[1;32m    241\u001b[0m     status_code\u001b[39m=\u001b[39mresp\u001b[39m.\u001b[39mstatus,\n\u001b[1;32m    242\u001b[0m     headers\u001b[39m=\u001b[39mresp\u001b[39m.\u001b[39mheaders,\n\u001b[1;32m    243\u001b[0m     stream\u001b[39m=\u001b[39mResponseStream(resp\u001b[39m.\u001b[39mstream),\n\u001b[1;32m    244\u001b[0m     extensions\u001b[39m=\u001b[39mresp\u001b[39m.\u001b[39mextensions,\n\u001b[1;32m    245\u001b[0m )\n",
      "File \u001b[0;32m~/hackatum24/lib/python3.11/site-packages/httpcore/_sync/connection_pool.py:256\u001b[0m, in \u001b[0;36mConnectionPool.handle_request\u001b[0;34m(self, request)\u001b[0m\n\u001b[1;32m    253\u001b[0m         closing \u001b[39m=\u001b[39m \u001b[39mself\u001b[39m\u001b[39m.\u001b[39m_assign_requests_to_connections()\n\u001b[1;32m    255\u001b[0m     \u001b[39mself\u001b[39m\u001b[39m.\u001b[39m_close_connections(closing)\n\u001b[0;32m--> 256\u001b[0m     \u001b[39mraise\u001b[39;00m exc \u001b[39mfrom\u001b[39;00m \u001b[39mNone\u001b[39;00m\n\u001b[1;32m    258\u001b[0m \u001b[39m# Return the response. Note that in this case we still have to manage\u001b[39;00m\n\u001b[1;32m    259\u001b[0m \u001b[39m# the point at which the response is closed.\u001b[39;00m\n\u001b[1;32m    260\u001b[0m \u001b[39massert\u001b[39;00m \u001b[39misinstance\u001b[39m(response\u001b[39m.\u001b[39mstream, typing\u001b[39m.\u001b[39mIterable)\n",
      "File \u001b[0;32m~/hackatum24/lib/python3.11/site-packages/httpcore/_sync/connection_pool.py:236\u001b[0m, in \u001b[0;36mConnectionPool.handle_request\u001b[0;34m(self, request)\u001b[0m\n\u001b[1;32m    232\u001b[0m connection \u001b[39m=\u001b[39m pool_request\u001b[39m.\u001b[39mwait_for_connection(timeout\u001b[39m=\u001b[39mtimeout)\n\u001b[1;32m    234\u001b[0m \u001b[39mtry\u001b[39;00m:\n\u001b[1;32m    235\u001b[0m     \u001b[39m# Send the request on the assigned connection.\u001b[39;00m\n\u001b[0;32m--> 236\u001b[0m     response \u001b[39m=\u001b[39m connection\u001b[39m.\u001b[39;49mhandle_request(\n\u001b[1;32m    237\u001b[0m         pool_request\u001b[39m.\u001b[39;49mrequest\n\u001b[1;32m    238\u001b[0m     )\n\u001b[1;32m    239\u001b[0m \u001b[39mexcept\u001b[39;00m ConnectionNotAvailable:\n\u001b[1;32m    240\u001b[0m     \u001b[39m# In some cases a connection may initially be available to\u001b[39;00m\n\u001b[1;32m    241\u001b[0m     \u001b[39m# handle a request, but then become unavailable.\u001b[39;00m\n\u001b[1;32m    242\u001b[0m     \u001b[39m#\u001b[39;00m\n\u001b[1;32m    243\u001b[0m     \u001b[39m# In this case we clear the connection and try again.\u001b[39;00m\n\u001b[1;32m    244\u001b[0m     pool_request\u001b[39m.\u001b[39mclear_connection()\n",
      "File \u001b[0;32m~/hackatum24/lib/python3.11/site-packages/httpcore/_sync/connection.py:103\u001b[0m, in \u001b[0;36mHTTPConnection.handle_request\u001b[0;34m(self, request)\u001b[0m\n\u001b[1;32m    100\u001b[0m     \u001b[39mself\u001b[39m\u001b[39m.\u001b[39m_connect_failed \u001b[39m=\u001b[39m \u001b[39mTrue\u001b[39;00m\n\u001b[1;32m    101\u001b[0m     \u001b[39mraise\u001b[39;00m exc\n\u001b[0;32m--> 103\u001b[0m \u001b[39mreturn\u001b[39;00m \u001b[39mself\u001b[39;49m\u001b[39m.\u001b[39;49m_connection\u001b[39m.\u001b[39;49mhandle_request(request)\n",
      "File \u001b[0;32m~/hackatum24/lib/python3.11/site-packages/httpcore/_sync/http11.py:136\u001b[0m, in \u001b[0;36mHTTP11Connection.handle_request\u001b[0;34m(self, request)\u001b[0m\n\u001b[1;32m    134\u001b[0m     \u001b[39mwith\u001b[39;00m Trace(\u001b[39m\"\u001b[39m\u001b[39mresponse_closed\u001b[39m\u001b[39m\"\u001b[39m, logger, request) \u001b[39mas\u001b[39;00m trace:\n\u001b[1;32m    135\u001b[0m         \u001b[39mself\u001b[39m\u001b[39m.\u001b[39m_response_closed()\n\u001b[0;32m--> 136\u001b[0m \u001b[39mraise\u001b[39;00m exc\n",
      "File \u001b[0;32m~/hackatum24/lib/python3.11/site-packages/httpcore/_sync/http11.py:106\u001b[0m, in \u001b[0;36mHTTP11Connection.handle_request\u001b[0;34m(self, request)\u001b[0m\n\u001b[1;32m     95\u001b[0m     \u001b[39mpass\u001b[39;00m\n\u001b[1;32m     97\u001b[0m \u001b[39mwith\u001b[39;00m Trace(\n\u001b[1;32m     98\u001b[0m     \u001b[39m\"\u001b[39m\u001b[39mreceive_response_headers\u001b[39m\u001b[39m\"\u001b[39m, logger, request, kwargs\n\u001b[1;32m     99\u001b[0m ) \u001b[39mas\u001b[39;00m trace:\n\u001b[1;32m    100\u001b[0m     (\n\u001b[1;32m    101\u001b[0m         http_version,\n\u001b[1;32m    102\u001b[0m         status,\n\u001b[1;32m    103\u001b[0m         reason_phrase,\n\u001b[1;32m    104\u001b[0m         headers,\n\u001b[1;32m    105\u001b[0m         trailing_data,\n\u001b[0;32m--> 106\u001b[0m     ) \u001b[39m=\u001b[39m \u001b[39mself\u001b[39;49m\u001b[39m.\u001b[39;49m_receive_response_headers(\u001b[39m*\u001b[39;49m\u001b[39m*\u001b[39;49mkwargs)\n\u001b[1;32m    107\u001b[0m     trace\u001b[39m.\u001b[39mreturn_value \u001b[39m=\u001b[39m (\n\u001b[1;32m    108\u001b[0m         http_version,\n\u001b[1;32m    109\u001b[0m         status,\n\u001b[1;32m    110\u001b[0m         reason_phrase,\n\u001b[1;32m    111\u001b[0m         headers,\n\u001b[1;32m    112\u001b[0m     )\n\u001b[1;32m    114\u001b[0m network_stream \u001b[39m=\u001b[39m \u001b[39mself\u001b[39m\u001b[39m.\u001b[39m_network_stream\n",
      "File \u001b[0;32m~/hackatum24/lib/python3.11/site-packages/httpcore/_sync/http11.py:177\u001b[0m, in \u001b[0;36mHTTP11Connection._receive_response_headers\u001b[0;34m(self, request)\u001b[0m\n\u001b[1;32m    174\u001b[0m timeout \u001b[39m=\u001b[39m timeouts\u001b[39m.\u001b[39mget(\u001b[39m\"\u001b[39m\u001b[39mread\u001b[39m\u001b[39m\"\u001b[39m, \u001b[39mNone\u001b[39;00m)\n\u001b[1;32m    176\u001b[0m \u001b[39mwhile\u001b[39;00m \u001b[39mTrue\u001b[39;00m:\n\u001b[0;32m--> 177\u001b[0m     event \u001b[39m=\u001b[39m \u001b[39mself\u001b[39;49m\u001b[39m.\u001b[39;49m_receive_event(timeout\u001b[39m=\u001b[39;49mtimeout)\n\u001b[1;32m    178\u001b[0m     \u001b[39mif\u001b[39;00m \u001b[39misinstance\u001b[39m(event, h11\u001b[39m.\u001b[39mResponse):\n\u001b[1;32m    179\u001b[0m         \u001b[39mbreak\u001b[39;00m\n",
      "File \u001b[0;32m~/hackatum24/lib/python3.11/site-packages/httpcore/_sync/http11.py:217\u001b[0m, in \u001b[0;36mHTTP11Connection._receive_event\u001b[0;34m(self, timeout)\u001b[0m\n\u001b[1;32m    214\u001b[0m     event \u001b[39m=\u001b[39m \u001b[39mself\u001b[39m\u001b[39m.\u001b[39m_h11_state\u001b[39m.\u001b[39mnext_event()\n\u001b[1;32m    216\u001b[0m \u001b[39mif\u001b[39;00m event \u001b[39mis\u001b[39;00m h11\u001b[39m.\u001b[39mNEED_DATA:\n\u001b[0;32m--> 217\u001b[0m     data \u001b[39m=\u001b[39m \u001b[39mself\u001b[39;49m\u001b[39m.\u001b[39;49m_network_stream\u001b[39m.\u001b[39;49mread(\n\u001b[1;32m    218\u001b[0m         \u001b[39mself\u001b[39;49m\u001b[39m.\u001b[39;49mREAD_NUM_BYTES, timeout\u001b[39m=\u001b[39;49mtimeout\n\u001b[1;32m    219\u001b[0m     )\n\u001b[1;32m    221\u001b[0m     \u001b[39m# If we feed this case through h11 we'll raise an exception like:\u001b[39;00m\n\u001b[1;32m    222\u001b[0m     \u001b[39m#\u001b[39;00m\n\u001b[1;32m    223\u001b[0m     \u001b[39m#     httpcore.RemoteProtocolError: can't handle event type\u001b[39;00m\n\u001b[0;32m   (...)\u001b[0m\n\u001b[1;32m    227\u001b[0m     \u001b[39m# perspective. Instead we handle this case distinctly and treat\u001b[39;00m\n\u001b[1;32m    228\u001b[0m     \u001b[39m# it as a ConnectError.\u001b[39;00m\n\u001b[1;32m    229\u001b[0m     \u001b[39mif\u001b[39;00m data \u001b[39m==\u001b[39m \u001b[39mb\u001b[39m\u001b[39m\"\u001b[39m\u001b[39m\"\u001b[39m \u001b[39mand\u001b[39;00m \u001b[39mself\u001b[39m\u001b[39m.\u001b[39m_h11_state\u001b[39m.\u001b[39mtheir_state \u001b[39m==\u001b[39m h11\u001b[39m.\u001b[39mSEND_RESPONSE:\n",
      "File \u001b[0;32m~/hackatum24/lib/python3.11/site-packages/httpcore/_backends/sync.py:128\u001b[0m, in \u001b[0;36mSyncStream.read\u001b[0;34m(self, max_bytes, timeout)\u001b[0m\n\u001b[1;32m    126\u001b[0m \u001b[39mwith\u001b[39;00m map_exceptions(exc_map):\n\u001b[1;32m    127\u001b[0m     \u001b[39mself\u001b[39m\u001b[39m.\u001b[39m_sock\u001b[39m.\u001b[39msettimeout(timeout)\n\u001b[0;32m--> 128\u001b[0m     \u001b[39mreturn\u001b[39;00m \u001b[39mself\u001b[39;49m\u001b[39m.\u001b[39;49m_sock\u001b[39m.\u001b[39;49mrecv(max_bytes)\n",
      "File \u001b[0;32m~/.pyenv/versions/3.11.3/lib/python3.11/ssl.py:1263\u001b[0m, in \u001b[0;36mSSLSocket.recv\u001b[0;34m(self, buflen, flags)\u001b[0m\n\u001b[1;32m   1259\u001b[0m     \u001b[39mif\u001b[39;00m flags \u001b[39m!=\u001b[39m \u001b[39m0\u001b[39m:\n\u001b[1;32m   1260\u001b[0m         \u001b[39mraise\u001b[39;00m \u001b[39mValueError\u001b[39;00m(\n\u001b[1;32m   1261\u001b[0m             \u001b[39m\"\u001b[39m\u001b[39mnon-zero flags not allowed in calls to recv() on \u001b[39m\u001b[39m%s\u001b[39;00m\u001b[39m\"\u001b[39m \u001b[39m%\u001b[39m\n\u001b[1;32m   1262\u001b[0m             \u001b[39mself\u001b[39m\u001b[39m.\u001b[39m\u001b[39m__class__\u001b[39m)\n\u001b[0;32m-> 1263\u001b[0m     \u001b[39mreturn\u001b[39;00m \u001b[39mself\u001b[39;49m\u001b[39m.\u001b[39;49mread(buflen)\n\u001b[1;32m   1264\u001b[0m \u001b[39melse\u001b[39;00m:\n\u001b[1;32m   1265\u001b[0m     \u001b[39mreturn\u001b[39;00m \u001b[39msuper\u001b[39m()\u001b[39m.\u001b[39mrecv(buflen, flags)\n",
      "File \u001b[0;32m~/.pyenv/versions/3.11.3/lib/python3.11/ssl.py:1136\u001b[0m, in \u001b[0;36mSSLSocket.read\u001b[0;34m(self, len, buffer)\u001b[0m\n\u001b[1;32m   1134\u001b[0m         \u001b[39mreturn\u001b[39;00m \u001b[39mself\u001b[39m\u001b[39m.\u001b[39m_sslobj\u001b[39m.\u001b[39mread(\u001b[39mlen\u001b[39m, buffer)\n\u001b[1;32m   1135\u001b[0m     \u001b[39melse\u001b[39;00m:\n\u001b[0;32m-> 1136\u001b[0m         \u001b[39mreturn\u001b[39;00m \u001b[39mself\u001b[39;49m\u001b[39m.\u001b[39;49m_sslobj\u001b[39m.\u001b[39;49mread(\u001b[39mlen\u001b[39;49m)\n\u001b[1;32m   1137\u001b[0m \u001b[39mexcept\u001b[39;00m SSLError \u001b[39mas\u001b[39;00m x:\n\u001b[1;32m   1138\u001b[0m     \u001b[39mif\u001b[39;00m x\u001b[39m.\u001b[39margs[\u001b[39m0\u001b[39m] \u001b[39m==\u001b[39m SSL_ERROR_EOF \u001b[39mand\u001b[39;00m \u001b[39mself\u001b[39m\u001b[39m.\u001b[39msuppress_ragged_eofs:\n",
      "\u001b[0;31mKeyboardInterrupt\u001b[0m: "
     ]
    }
   ],
   "source": [
    "for case in tqdm(not_kc_input_cases[47:]):\n",
    "    #if case in already_processed_files:\n",
    "    #    continue\n",
    "    case_path = os.path.join(not_kc_input_dir, case)\n",
    "    case_data = load_json(case_path)\n",
    "    if 'facts' not in case_data:\n",
    "        print('facts not found in the case with name:', case)\n",
    "        continue\n",
    "    case_facts = case_data['facts']\n",
    "\n",
    "    if len(case_facts) > 30600:\n",
    "        case_facts = case_facts[:30600]\n",
    "\n",
    "    classifier = LegalCaseClassifier()\n",
    "    result = classifier.classify_case(case_facts)\n",
    "\n",
    "    output_result = {}\n",
    "    output_result['result'] = result\n",
    "    output_result['id'] = case\n",
    "    output_result['ground_truth'] = ' NOT KEY CASE'\n",
    "    output_result['importance'] = case_data['importance']\n",
    "    save_json(f'./results/notkc_{case}', output_result)\n",
    "    time.sleep(3)"
   ]
  },
  {
   "cell_type": "code",
   "execution_count": 8,
   "metadata": {},
   "outputs": [],
   "source": [
    "# key case = 1\n",
    "# not key case = 0\n",
    "\n",
    "# load all files in result and create a dataframe with the following columns \n",
    "# id, result.classification, ground_truth\n",
    "# save the dataframe as csv\n",
    "\n",
    "import pandas as pd\n",
    "import os\n",
    "\n",
    "def return_binary_classification(result):\n",
    "    if result == 'KEY CASE':\n",
    "        return 1\n",
    "    else:\n",
    "        return 0\n",
    "\n",
    "results_dir = './results/'\n",
    "results = os.listdir(results_dir)\n",
    "\n",
    "data = []\n",
    "for result in results:\n",
    "    result_data = load_json(os.path.join(results_dir, result))\n",
    "    data.append({\n",
    "        'id': result_data['id'],\n",
    "        'classification': return_binary_classification(result_data['result']['classification']),\n",
    "        'ground_truth': return_binary_classification(result_data['ground_truth']),\n",
    "        'cutoff_date': 0.5\n",
    "    })\n",
    "\n",
    "df = pd.DataFrame(data)"
   ]
  },
  {
   "cell_type": "code",
   "execution_count": 9,
   "metadata": {},
   "outputs": [
    {
     "data": {
      "text/html": [
       "<div>\n",
       "<style scoped>\n",
       "    .dataframe tbody tr th:only-of-type {\n",
       "        vertical-align: middle;\n",
       "    }\n",
       "\n",
       "    .dataframe tbody tr th {\n",
       "        vertical-align: top;\n",
       "    }\n",
       "\n",
       "    .dataframe thead th {\n",
       "        text-align: right;\n",
       "    }\n",
       "</style>\n",
       "<table border=\"1\" class=\"dataframe\">\n",
       "  <thead>\n",
       "    <tr style=\"text-align: right;\">\n",
       "      <th></th>\n",
       "      <th>id</th>\n",
       "      <th>classification</th>\n",
       "      <th>ground_truth</th>\n",
       "      <th>cutoff_date</th>\n",
       "    </tr>\n",
       "  </thead>\n",
       "  <tbody>\n",
       "    <tr>\n",
       "      <th>0</th>\n",
       "      <td>001-207382.json</td>\n",
       "      <td>1</td>\n",
       "      <td>0</td>\n",
       "      <td>0.5</td>\n",
       "    </tr>\n",
       "    <tr>\n",
       "      <th>1</th>\n",
       "      <td>001-196613.json</td>\n",
       "      <td>0</td>\n",
       "      <td>0</td>\n",
       "      <td>0.5</td>\n",
       "    </tr>\n",
       "    <tr>\n",
       "      <th>2</th>\n",
       "      <td>001-214015.json</td>\n",
       "      <td>1</td>\n",
       "      <td>0</td>\n",
       "      <td>0.5</td>\n",
       "    </tr>\n",
       "    <tr>\n",
       "      <th>3</th>\n",
       "      <td>001-198565.json</td>\n",
       "      <td>0</td>\n",
       "      <td>0</td>\n",
       "      <td>0.5</td>\n",
       "    </tr>\n",
       "    <tr>\n",
       "      <th>4</th>\n",
       "      <td>001-183395.json</td>\n",
       "      <td>1</td>\n",
       "      <td>1</td>\n",
       "      <td>0.5</td>\n",
       "    </tr>\n",
       "    <tr>\n",
       "      <th>...</th>\n",
       "      <td>...</td>\n",
       "      <td>...</td>\n",
       "      <td>...</td>\n",
       "      <td>...</td>\n",
       "    </tr>\n",
       "    <tr>\n",
       "      <th>245</th>\n",
       "      <td>001-203169.json</td>\n",
       "      <td>1</td>\n",
       "      <td>1</td>\n",
       "      <td>0.5</td>\n",
       "    </tr>\n",
       "    <tr>\n",
       "      <th>246</th>\n",
       "      <td>001-197216.json</td>\n",
       "      <td>0</td>\n",
       "      <td>0</td>\n",
       "      <td>0.5</td>\n",
       "    </tr>\n",
       "    <tr>\n",
       "      <th>247</th>\n",
       "      <td>001-203885.json</td>\n",
       "      <td>1</td>\n",
       "      <td>1</td>\n",
       "      <td>0.5</td>\n",
       "    </tr>\n",
       "    <tr>\n",
       "      <th>248</th>\n",
       "      <td>001-204993.json</td>\n",
       "      <td>1</td>\n",
       "      <td>1</td>\n",
       "      <td>0.5</td>\n",
       "    </tr>\n",
       "    <tr>\n",
       "      <th>249</th>\n",
       "      <td>001-211107.json</td>\n",
       "      <td>0</td>\n",
       "      <td>0</td>\n",
       "      <td>0.5</td>\n",
       "    </tr>\n",
       "  </tbody>\n",
       "</table>\n",
       "<p>250 rows × 4 columns</p>\n",
       "</div>"
      ],
      "text/plain": [
       "                  id  classification  ground_truth  cutoff_date\n",
       "0    001-207382.json               1             0          0.5\n",
       "1    001-196613.json               0             0          0.5\n",
       "2    001-214015.json               1             0          0.5\n",
       "3    001-198565.json               0             0          0.5\n",
       "4    001-183395.json               1             1          0.5\n",
       "..               ...             ...           ...          ...\n",
       "245  001-203169.json               1             1          0.5\n",
       "246  001-197216.json               0             0          0.5\n",
       "247  001-203885.json               1             1          0.5\n",
       "248  001-204993.json               1             1          0.5\n",
       "249  001-211107.json               0             0          0.5\n",
       "\n",
       "[250 rows x 4 columns]"
      ]
     },
     "execution_count": 9,
     "metadata": {},
     "output_type": "execute_result"
    }
   ],
   "source": [
    "df"
   ]
  },
  {
   "cell_type": "code",
   "execution_count": 10,
   "metadata": {},
   "outputs": [
    {
     "data": {
      "text/plain": [
       "(0.616, 0.6028368794326241, 0.68, 0.6390977443609023)"
      ]
     },
     "execution_count": 10,
     "metadata": {},
     "output_type": "execute_result"
    }
   ],
   "source": [
    "# calculate accuracy\n",
    "accuracy = (df['classification'] == df['ground_truth']).sum() / len(df)\n",
    "\n",
    "# calculate precision\n",
    "precision = (df['classification'] & df['ground_truth']).sum() / df['classification'].sum()\n",
    "\n",
    "# calculate recall\n",
    "recall = (df['classification'] & df['ground_truth']).sum() / df['ground_truth'].sum()\n",
    "\n",
    "# calculate f1 score\n",
    "f1 = 2 * (precision * recall) / (precision + recall)\n",
    "\n",
    "accuracy, precision, recall, f1"
   ]
  },
  {
   "cell_type": "code",
   "execution_count": 11,
   "metadata": {},
   "outputs": [
    {
     "data": {
      "text/plain": [
       "<Axes: xlabel='ground_truth', ylabel='classification'>"
      ]
     },
     "execution_count": 11,
     "metadata": {},
     "output_type": "execute_result"
    },
    {
     "data": {
      "image/png": "[encoded data removed]",
      "text/plain": [
       "<Figure size 640x480 with 2 Axes>"
      ]
     },
     "metadata": {},
     "output_type": "display_data"
    }
   ],
   "source": [
    "# heatmap for columnd: classification, ground_truth\n",
    "import seaborn as sns\n",
    "import matplotlib.pyplot as plt\n",
    "\n",
    "confusion_matrix = pd.crosstab(df['classification'], df['ground_truth'], rownames=['classification'], colnames=['ground_truth'])\n",
    "sns.heatmap(confusion_matrix, annot=True, cmap='Blues', fmt='g')"
   ]
  },
  {
   "cell_type": "code",
   "execution_count": 14,
   "metadata": {},
   "outputs": [
    {
     "data": {
      "text/html": [
       "<div>\n",
       "<style scoped>\n",
       "    .dataframe tbody tr th:only-of-type {\n",
       "        vertical-align: middle;\n",
       "    }\n",
       "\n",
       "    .dataframe tbody tr th {\n",
       "        vertical-align: top;\n",
       "    }\n",
       "\n",
       "    .dataframe thead th {\n",
       "        text-align: right;\n",
       "    }\n",
       "</style>\n",
       "<table border=\"1\" class=\"dataframe\">\n",
       "  <thead>\n",
       "    <tr style=\"text-align: right;\">\n",
       "      <th>ground_truth</th>\n",
       "      <th>0</th>\n",
       "      <th>1</th>\n",
       "    </tr>\n",
       "    <tr>\n",
       "      <th>classification</th>\n",
       "      <th></th>\n",
       "      <th></th>\n",
       "    </tr>\n",
       "  </thead>\n",
       "  <tbody>\n",
       "    <tr>\n",
       "      <th>0</th>\n",
       "      <td>69</td>\n",
       "      <td>40</td>\n",
       "    </tr>\n",
       "    <tr>\n",
       "      <th>1</th>\n",
       "      <td>56</td>\n",
       "      <td>85</td>\n",
       "    </tr>\n",
       "  </tbody>\n",
       "</table>\n",
       "</div>"
      ],
      "text/plain": [
       "ground_truth     0   1\n",
       "classification        \n",
       "0               69  40\n",
       "1               56  85"
      ]
     },
     "execution_count": 14,
     "metadata": {},
     "output_type": "execute_result"
    }
   ],
   "source": [
    "confusion_matrix"
   ]
  },
  {
   "cell_type": "code",
   "execution_count": null,
   "metadata": {},
   "outputs": [],
   "source": []
  }
 ],
 "metadata": {
  "kernelspec": {
   "display_name": "thesis24",
   "language": "python",
   "name": "python3"
  },
  "language_info": {
   "codemirror_mode": {
    "name": "ipython",
    "version": 3
   },
   "file_extension": ".py",
   "mimetype": "text/x-python",
   "name": "python",
   "nbconvert_exporter": "python",
   "pygments_lexer": "ipython3",
   "version": "3.11.3"
  },
  "orig_nbformat": 4
 },
 "nbformat": 4,
 "nbformat_minor": 2
}
