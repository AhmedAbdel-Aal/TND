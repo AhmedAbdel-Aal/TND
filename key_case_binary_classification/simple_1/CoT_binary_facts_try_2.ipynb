{
 "cells": [
  {
   "cell_type": "code",
   "execution_count": 25,
   "metadata": {},
   "outputs": [],
   "source": [
    "from langchain.prompts import PromptTemplate\n",
    "from langchain.chains import LLMChain\n",
    "from langchain.chat_models import ChatOpenAI\n",
    "from typing import Dict\n",
    "\n",
    "class LegalCaseClassifier:\n",
    "    def __init__(self, model_name: str = \"gpt-4o\", temperature: float = 0):\n",
    "        self.llm = ChatOpenAI(model_name=model_name, temperature=temperature)\n",
    "        \n",
    "        # Step 1: Detailed Legal Analysis Prompt\n",
    "        self.legal_analysis_prompt = PromptTemplate(\n",
    "            input_variables=[\"case_facts\"],\n",
    "            template=\"\"\"\n",
    "            You are an experienced legal expert specializing in European Court of Human Rights (ECHR) jurisprudence.\n",
    "            Your role is to provide a detailed analysis of the given case facts through these specific steps.\n",
    "\n",
    "            Case Facts:\n",
    "            {case_facts}\n",
    "\n",
    "            Conduct a systematic analysis:\n",
    "\n",
    "            1. General Legal Norms and Principles:\n",
    "            - Identify the core legal principles and doctrines relevant to the case.\n",
    "            - Analyze if/how the case extends these principles to new contexts\n",
    "            - Highlight any established legal precedents.\n",
    "\n",
    "            2. Circumstances and Requirements:\n",
    "            - Match the specific facts of the case to the legal criteria or thresholds required for application.\n",
    "            - Note any conditions, exceptions, or thresholds explicitly mentioned.\n",
    "\n",
    "            3. Scope and Application:\n",
    "            - Assess the case’s substantive or procedural impact.\n",
    "            - Identify whether the jurisdictional aspects (material, temporal) play a critical role.\n",
    "            - Pinpoint key qualifiers such as \"sometimes,\" \"exceptionally,\" or \"in the present case.\"\n",
    "\n",
    "            4. CITATION ANALYSIS:\n",
    "            For each case citation, explain:\n",
    "            - Where in the reasoning it appears\n",
    "            - How the Court is using this citation (e.g., following precedent, distinguishing facts, extending principle)\n",
    "            - Whether it's being used to:\n",
    "            * Simply support existing principles\n",
    "            * Distinguish from current facts\n",
    "            * Extend principles to new situations\n",
    "            * Modify or refine existing principles\n",
    "\n",
    "            5. Impact and Precedent:\n",
    "            - Determine whether the case introduces novel interpretations or applications of law.\n",
    "            - Evaluate how the case might clarify, refine, or expand upon existing jurisprudence (e.g., enlarging or narrowing the application of established principles to new factual contexts).\n",
    "            - Evaluate how the case contributes to, clarifies, or modifies existing case law.\n",
    "\n",
    "            6. Implications:\n",
    "            - Consider the case's broader implications beyond the immediate dispute.\n",
    "            - Highlight factors that indicate a significant contribution to legal development.\n",
    "\n",
    "            Provide your analysis in clear, structured steps with specific references to ECHR principles where applicable.\n",
    "\n",
    "            Analysis:\n",
    "            \"\"\"\n",
    "        )\n",
    "        \n",
    "        # Step 2: Classification Prompt with Clear Distinction\n",
    "        self.classification_prompt = PromptTemplate(\n",
    "            input_variables=[\"analysis\"],\n",
    "            template=\"\"\"\n",
    "            You are an experienced legal expert specializing in European Court of Human Rights (ECHR) jurisprudence.\n",
    "            Your role is, based on the analysis, classify this case into one of these clearly defined categories:\n",
    "\n",
    "            Classification Criteria:\n",
    "            \n",
    "            KEY CASE:\n",
    "            - Makes a significant contribution to the development, clarification, or modification of case law.\n",
    "            - Establishes new legal principles or substantially modifies existing ones.\n",
    "            - Has broad implications beyond the immediate case.\n",
    "            - Enlarges or narrows the application of an establieshed line of jurisprudence.\n",
    "            - Synthesizes multiple principles to address novel scenarios.\n",
    "            - Creates exceptions or special considerations to established rules\n",
    "\n",
    "            NOT KEY CASE:\n",
    "            - Applies existing case law without significant contributions to legal development.\n",
    "            - Demonstrates limited implications beyond the immediate dispute.\n",
    "            - Does not enlarge or narrow the application of an establieshed line of jurisprudence.\n",
    "            - Cites precedents without extending their application\n",
    "\n",
    "            Analysis provided:\n",
    "            {analysis}\n",
    "\n",
    "            Provide your reasoning step by step and conclude with one of the following exact classifications:\n",
    "\n",
    "            CLASSIFICATION: KEY CASE\n",
    "            CLASSIFICATION: NOT KEY CASE\n",
    "\"\"\"\n",
    "        )\n",
    "        \n",
    "        # Create the chains\n",
    "        self.legal_analysis_chain = LLMChain(llm=self.llm, prompt=self.legal_analysis_prompt)\n",
    "        self.classification_chain = LLMChain(llm=self.llm, prompt=self.classification_prompt)\n",
    "    \n",
    "    def classify_case(self, case_facts: str) -> Dict[str, any]:\n",
    "        \"\"\"\n",
    "        Classify a legal case based on its significance to case law development.\n",
    "        \n",
    "        Args:\n",
    "            case_facts: The facts section of the legal case\n",
    "            \n",
    "        Returns:\n",
    "            Dictionary containing classification result and detailed analysis\n",
    "        \"\"\"\n",
    "        # Step 1: Generate legal analysis\n",
    "        legal_analysis = self.legal_analysis_chain.run(case_facts)\n",
    "        \n",
    "        # Step 2: Make classification based on analysis\n",
    "        classification_result = self.classification_chain.run(legal_analysis)\n",
    "        \n",
    "        # Extract final classification\n",
    "        if \"CLASSIFICATION: KEY CASE\" in classification_result:\n",
    "            classification = \"KEY CASE\"\n",
    "        elif \"CLASSIFICATION: NOT KEY CASE\" in classification_result:\n",
    "            classification = \"NOT KEY CASE\"\n",
    "        else:\n",
    "            classification = \"NOT KEY CASE\"\n",
    "        \n",
    "        return {\n",
    "            \"classification\": classification,\n",
    "            \"legal_analysis\": legal_analysis,\n",
    "            \"classification_reasoning\": classification_result\n",
    "        }\n"
   ]
  },
  {
   "cell_type": "code",
   "execution_count": 16,
   "metadata": {},
   "outputs": [],
   "source": [
    "import dotenv\n",
    "import os\n",
    "import time\n",
    "from tqdm import tqdm\n",
    "from utils import load_json, save_json\n",
    "dotenv.load_dotenv()\n",
    "\n",
    "openai_key = os.getenv(\"OPENAI_API_KEY\")"
   ]
  },
  {
   "cell_type": "code",
   "execution_count": 27,
   "metadata": {},
   "outputs": [
    {
     "data": {
      "text/plain": [
       "(125, 125)"
      ]
     },
     "execution_count": 27,
     "metadata": {},
     "output_type": "execute_result"
    }
   ],
   "source": [
    "kc_input_dir = '../../kc_classification_data/125_kc_2018_2024/'\n",
    "not_kc_input_dir = '../../kc_classification_data/125_notkc_2018_2024/'\n",
    "\n",
    "kc_input_cases = os.listdir(kc_input_dir)\n",
    "not_kc_input_cases = os.listdir(not_kc_input_dir)\n",
    "\n",
    "output_dir = './results_2/'\n",
    "\n",
    "len(kc_input_cases), len(not_kc_input_cases)"
   ]
  },
  {
   "cell_type": "code",
   "execution_count": 28,
   "metadata": {},
   "outputs": [],
   "source": [
    "# diabsle deprecation warning\n",
    "import warnings\n",
    "warnings.filterwarnings(\"ignore\", category=DeprecationWarning)"
   ]
  },
  {
   "cell_type": "code",
   "execution_count": 29,
   "metadata": {},
   "outputs": [],
   "source": [
    "already_processed_files = os.listdir(output_dir)\n",
    "\n",
    "# remove the prefix kc_ and not_kc_\n",
    "already_processed_files = [f.replace('kc_', '') for f in already_processed_files]\n",
    "already_processed_files = [f.replace('not', '') for f in already_processed_files]"
   ]
  },
  {
   "cell_type": "code",
   "execution_count": 30,
   "metadata": {},
   "outputs": [
    {
     "name": "stderr",
     "output_type": "stream",
     "text": [
      "100%|██████████| 125/125 [14:12<00:00,  6.82s/it]\n"
     ]
    }
   ],
   "source": [
    "for case in tqdm(kc_input_cases):\n",
    "    if case in already_processed_files:\n",
    "        continue\n",
    "    case_path = os.path.join(kc_input_dir, case)\n",
    "    case_data = load_json(case_path)\n",
    "    case_facts = case_data['case_text']['THE FACTS']\n",
    "\n",
    "    if len(case_facts) > 30600:\n",
    "        case_facts = case_facts[:30600]\n",
    "\n",
    "    classifier = LegalCaseClassifier()\n",
    "    result = classifier.classify_case(case_facts)\n",
    "\n",
    "    output_result = {}\n",
    "    output_result['result'] = result\n",
    "    output_result['id'] = case\n",
    "    output_result['ground_truth'] = 'KEY CASE'\n",
    "    output_result['one-liner'] = case_data['one-liner']\n",
    "    save_json(f'./results_2/kc_{case}', output_result)\n",
    "    time.sleep(5)"
   ]
  },
  {
   "cell_type": "code",
   "execution_count": 35,
   "metadata": {},
   "outputs": [
    {
     "name": "stderr",
     "output_type": "stream",
     "text": [
      "100%|██████████| 125/125 [1:03:20<00:00, 30.41s/it]\n"
     ]
    }
   ],
   "source": [
    "for case in tqdm(not_kc_input_cases):\n",
    "    if case in already_processed_files:\n",
    "        continue\n",
    "    case_path = os.path.join(not_kc_input_dir, case)\n",
    "    case_data = load_json(case_path)\n",
    "    if 'facts' not in case_data:\n",
    "        print('facts not found in the case with name:', case)\n",
    "        continue\n",
    "    case_facts = case_data['facts']\n",
    "\n",
    "    if len(case_facts) > 30600:\n",
    "        case_facts = case_facts[:30600]\n",
    "\n",
    "    classifier = LegalCaseClassifier()\n",
    "    result = classifier.classify_case(case_facts)\n",
    "\n",
    "    output_result = {}\n",
    "    output_result['result'] = result\n",
    "    output_result['id'] = case\n",
    "    output_result['ground_truth'] = ' NOT KEY CASE'\n",
    "    output_result['importance'] = case_data['importance']\n",
    "    save_json(f'./results_2/notkc_{case}', output_result)\n",
    "    time.sleep(3)"
   ]
  },
  {
   "cell_type": "code",
   "execution_count": 36,
   "metadata": {},
   "outputs": [],
   "source": [
    "# key case = 1\n",
    "# not key case = 0\n",
    "\n",
    "# load all files in result and create a dataframe with the following columns \n",
    "# id, result.classification, ground_truth\n",
    "# save the dataframe as csv\n",
    "\n",
    "import pandas as pd\n",
    "import os\n",
    "\n",
    "def return_binary_classification(result):\n",
    "    if result == 'KEY CASE':\n",
    "        return 1\n",
    "    else:\n",
    "        return 0\n",
    "\n",
    "results_dir = './results_2/'\n",
    "results = os.listdir(results_dir)\n",
    "\n",
    "data = []\n",
    "for result in results:\n",
    "    result_data = load_json(os.path.join(results_dir, result))\n",
    "    data.append({\n",
    "        'id': result_data['id'],\n",
    "        'classification': return_binary_classification(result_data['result']['classification']),\n",
    "        'ground_truth': return_binary_classification(result_data['ground_truth']),\n",
    "        'cutoff_date': 0.5\n",
    "    })\n",
    "\n",
    "df = pd.DataFrame(data)"
   ]
  },
  {
   "cell_type": "code",
   "execution_count": 37,
   "metadata": {},
   "outputs": [
    {
     "data": {
      "text/html": [
       "<div>\n",
       "<style scoped>\n",
       "    .dataframe tbody tr th:only-of-type {\n",
       "        vertical-align: middle;\n",
       "    }\n",
       "\n",
       "    .dataframe tbody tr th {\n",
       "        vertical-align: top;\n",
       "    }\n",
       "\n",
       "    .dataframe thead th {\n",
       "        text-align: right;\n",
       "    }\n",
       "</style>\n",
       "<table border=\"1\" class=\"dataframe\">\n",
       "  <thead>\n",
       "    <tr style=\"text-align: right;\">\n",
       "      <th></th>\n",
       "      <th>id</th>\n",
       "      <th>classification</th>\n",
       "      <th>ground_truth</th>\n",
       "      <th>cutoff_date</th>\n",
       "    </tr>\n",
       "  </thead>\n",
       "  <tbody>\n",
       "    <tr>\n",
       "      <th>0</th>\n",
       "      <td>001-207382.json</td>\n",
       "      <td>1</td>\n",
       "      <td>0</td>\n",
       "      <td>0.5</td>\n",
       "    </tr>\n",
       "    <tr>\n",
       "      <th>1</th>\n",
       "      <td>001-196613.json</td>\n",
       "      <td>0</td>\n",
       "      <td>0</td>\n",
       "      <td>0.5</td>\n",
       "    </tr>\n",
       "    <tr>\n",
       "      <th>2</th>\n",
       "      <td>001-214015.json</td>\n",
       "      <td>1</td>\n",
       "      <td>0</td>\n",
       "      <td>0.5</td>\n",
       "    </tr>\n",
       "    <tr>\n",
       "      <th>3</th>\n",
       "      <td>001-198565.json</td>\n",
       "      <td>1</td>\n",
       "      <td>0</td>\n",
       "      <td>0.5</td>\n",
       "    </tr>\n",
       "    <tr>\n",
       "      <th>4</th>\n",
       "      <td>001-183395.json</td>\n",
       "      <td>0</td>\n",
       "      <td>1</td>\n",
       "      <td>0.5</td>\n",
       "    </tr>\n",
       "    <tr>\n",
       "      <th>...</th>\n",
       "      <td>...</td>\n",
       "      <td>...</td>\n",
       "      <td>...</td>\n",
       "      <td>...</td>\n",
       "    </tr>\n",
       "    <tr>\n",
       "      <th>245</th>\n",
       "      <td>001-203169.json</td>\n",
       "      <td>0</td>\n",
       "      <td>1</td>\n",
       "      <td>0.5</td>\n",
       "    </tr>\n",
       "    <tr>\n",
       "      <th>246</th>\n",
       "      <td>001-197216.json</td>\n",
       "      <td>0</td>\n",
       "      <td>0</td>\n",
       "      <td>0.5</td>\n",
       "    </tr>\n",
       "    <tr>\n",
       "      <th>247</th>\n",
       "      <td>001-203885.json</td>\n",
       "      <td>1</td>\n",
       "      <td>1</td>\n",
       "      <td>0.5</td>\n",
       "    </tr>\n",
       "    <tr>\n",
       "      <th>248</th>\n",
       "      <td>001-204993.json</td>\n",
       "      <td>1</td>\n",
       "      <td>1</td>\n",
       "      <td>0.5</td>\n",
       "    </tr>\n",
       "    <tr>\n",
       "      <th>249</th>\n",
       "      <td>001-211107.json</td>\n",
       "      <td>1</td>\n",
       "      <td>0</td>\n",
       "      <td>0.5</td>\n",
       "    </tr>\n",
       "  </tbody>\n",
       "</table>\n",
       "<p>250 rows × 4 columns</p>\n",
       "</div>"
      ],
      "text/plain": [
       "                  id  classification  ground_truth  cutoff_date\n",
       "0    001-207382.json               1             0          0.5\n",
       "1    001-196613.json               0             0          0.5\n",
       "2    001-214015.json               1             0          0.5\n",
       "3    001-198565.json               1             0          0.5\n",
       "4    001-183395.json               0             1          0.5\n",
       "..               ...             ...           ...          ...\n",
       "245  001-203169.json               0             1          0.5\n",
       "246  001-197216.json               0             0          0.5\n",
       "247  001-203885.json               1             1          0.5\n",
       "248  001-204993.json               1             1          0.5\n",
       "249  001-211107.json               1             0          0.5\n",
       "\n",
       "[250 rows x 4 columns]"
      ]
     },
     "execution_count": 37,
     "metadata": {},
     "output_type": "execute_result"
    }
   ],
   "source": [
    "df"
   ]
  },
  {
   "cell_type": "code",
   "execution_count": 38,
   "metadata": {},
   "outputs": [
    {
     "data": {
      "text/plain": [
       "(0.5, 0.5, 0.656, 0.5674740484429065)"
      ]
     },
     "execution_count": 38,
     "metadata": {},
     "output_type": "execute_result"
    }
   ],
   "source": [
    "# calculate accuracy\n",
    "accuracy = (df['classification'] == df['ground_truth']).sum() / len(df)\n",
    "\n",
    "# calculate precision\n",
    "precision = (df['classification'] & df['ground_truth']).sum() / df['classification'].sum()\n",
    "\n",
    "# calculate recall\n",
    "recall = (df['classification'] & df['ground_truth']).sum() / df['ground_truth'].sum()\n",
    "\n",
    "# calculate f1 score\n",
    "f1 = 2 * (precision * recall) / (precision + recall)\n",
    "\n",
    "accuracy, precision, recall, f1"
   ]
  },
  {
   "cell_type": "code",
   "execution_count": 40,
   "metadata": {},
   "outputs": [
    {
     "data": {
      "text/plain": [
       "125"
      ]
     },
     "execution_count": 40,
     "metadata": {},
     "output_type": "execute_result"
    }
   ],
   "source": [
    "(df['classification'] == df['ground_truth']).sum() "
   ]
  },
  {
   "cell_type": "code",
   "execution_count": 39,
   "metadata": {},
   "outputs": [
    {
     "data": {
      "text/plain": [
       "<Axes: xlabel='ground_truth', ylabel='classification'>"
      ]
     },
     "execution_count": 39,
     "metadata": {},
     "output_type": "execute_result"
    },
    {
     "data": {
      "image/png": "[encoded data removed]",
      "text/plain": [
       "<Figure size 640x480 with 2 Axes>"
      ]
     },
     "metadata": {},
     "output_type": "display_data"
    }
   ],
   "source": [
    "# heatmap for columnd: classification, ground_truth\n",
    "import seaborn as sns\n",
    "import matplotlib.pyplot as plt\n",
    "\n",
    "confusion_matrix = pd.crosstab(df['classification'], df['ground_truth'], rownames=['classification'], colnames=['ground_truth'])\n",
    "sns.heatmap(confusion_matrix, annot=True, cmap='Blues', fmt='g')"
   ]
  },
  {
   "cell_type": "code",
   "execution_count": null,
   "metadata": {},
   "outputs": [],
   "source": []
  }
 ],
 "metadata": {
  "kernelspec": {
   "display_name": "hackatum24",
   "language": "python",
   "name": "python3"
  },
  "language_info": {
   "codemirror_mode": {
    "name": "ipython",
    "version": 3
   },
   "file_extension": ".py",
   "mimetype": "text/x-python",
   "name": "python",
   "nbconvert_exporter": "python",
   "pygments_lexer": "ipython3",
   "version": "3.11.3"
  },
  "orig_nbformat": 4
 },
 "nbformat": 4,
 "nbformat_minor": 2
}
