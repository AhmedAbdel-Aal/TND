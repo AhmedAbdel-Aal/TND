{
 "cells": [
  {
   "cell_type": "code",
   "execution_count": 1,
   "metadata": {},
   "outputs": [],
   "source": [
    "%load_ext autoreload\n",
    "%autoreload 2"
   ]
  },
  {
   "cell_type": "code",
   "execution_count": 7,
   "metadata": {},
   "outputs": [],
   "source": [
    "import os\n",
    "import time\n",
    "import ollama\n",
    "import json\n",
    "from agent import Agent\n",
    "from utils import load_json, save_json\n",
    "from rouge_score import rouge_scorer"
   ]
  },
  {
   "cell_type": "code",
   "execution_count": 3,
   "metadata": {},
   "outputs": [],
   "source": [
    "cases = {'1':[], '2':[], '3':[], '4':[]}\n",
    "for root, dirs, files in os.walk('../pilot_study_sample/'):\n",
    "    for dir in dirs:\n",
    "        for root, dirs, files in os.walk('../pilot_study_sample/' + dir):\n",
    "            for file in files:\n",
    "                if file.endswith('.json'):\n",
    "                    cases[dir].append(os.path.join(root, file))"
   ]
  },
  {
   "cell_type": "code",
   "execution_count": 4,
   "metadata": {},
   "outputs": [],
   "source": [
    "agent = Agent(backend=\"groq\")\n"
   ]
  },
  {
   "cell_type": "code",
   "execution_count": 5,
   "metadata": {},
   "outputs": [
    {
     "data": {
      "text/plain": [
       "{'1': ['../pilot_study_sample/1/001-58304.json',\n",
       "  '../pilot_study_sample/1/001-58305.json',\n",
       "  '../pilot_study_sample/1/001-58978.json',\n",
       "  '../pilot_study_sample/1/001-58306.json',\n",
       "  '../pilot_study_sample/1/001-58983.json'],\n",
       " '2': ['../pilot_study_sample/2/001-57418.json',\n",
       "  '../pilot_study_sample/2/001-57417.json',\n",
       "  '../pilot_study_sample/2/001-57421.json',\n",
       "  '../pilot_study_sample/2/001-57420.json',\n",
       "  '../pilot_study_sample/2/001-57416.json'],\n",
       " '3': ['../pilot_study_sample/3/001-67200.json',\n",
       "  '../pilot_study_sample/3/001-205675.json',\n",
       "  '../pilot_study_sample/3/001-57899.json',\n",
       "  '../pilot_study_sample/3/001-67204.json',\n",
       "  '../pilot_study_sample/3/001-57885.json'],\n",
       " '4': ['../pilot_study_sample/4/001-147039.json',\n",
       "  '../pilot_study_sample/4/001-147038.json',\n",
       "  '../pilot_study_sample/4/001-225326.json',\n",
       "  '../pilot_study_sample/4/001-147040.json',\n",
       "  '../pilot_study_sample/4/001-147041.json']}"
      ]
     },
     "execution_count": 5,
     "metadata": {},
     "output_type": "execute_result"
    }
   ],
   "source": [
    "cases"
   ]
  },
  {
   "cell_type": "code",
   "execution_count": 6,
   "metadata": {},
   "outputs": [],
   "source": [
    "c4 = load_json('../pilot_study_sample/4/001-147040.json')\n",
    "c3 = load_json('../pilot_study_sample/3/001-57899.json')\n",
    "c2 = load_json('../pilot_study_sample/2/001-57417.json')"
   ]
  },
  {
   "cell_type": "code",
   "execution_count": 11,
   "metadata": {},
   "outputs": [],
   "source": [
    "def run_case(case):\n",
    "    agent = Agent(backend=\"groq\")\n",
    "    scorer = rouge_scorer.RougeScorer(['rouge1', 'rougeL'], use_stemmer=True)\n",
    "\n",
    "    case_facts = case['facts']\n",
    "    case_conclusion = case['conclusion']\n",
    "    case_law = case['law']\n",
    "\n",
    "    generated_law_section = agent.generate(case_facts, case_conclusion)\n",
    "    scores = scorer.score(generated_law_section, case_law)\n",
    "\n",
    "    output_dict = {'generated_law_section': generated_law_section}\n",
    "    output_dict.update(scores)\n",
    "    return output_dict"
   ]
  },
  {
   "cell_type": "code",
   "execution_count": 15,
   "metadata": {},
   "outputs": [],
   "source": [
    "for case in [c2, c3, c4]:\n",
    "    output_dict = run_case(case)\n",
    "    output_name = case['itemid']+ '_output.json'\n",
    "    save_json(output_name, output_dict)\n",
    "    time.sleep(60)\n"
   ]
  },
  {
   "cell_type": "code",
   "execution_count": 19,
   "metadata": {},
   "outputs": [
    {
     "name": "stdout",
     "output_type": "stream",
     "text": [
      "The case being analyzed is a notable one dealing with the conditions of pre-trial detention in a Russian remand prison. The applicant, Istratov, was detained from November 2008 to September 2009 and complained that his fundamental rights were violated due to the congested and unhygienic conditions in the prison.\n",
      "\n",
      "The reasons provided for justifying the application of legal norms in this case involve the principles of Article 3 of the Convention (prohibition of inhuman or degrading treatment) and Article 13 (right to an effective remedy). \n",
      "\n",
      "General legal norms and principles at play include the notion of ‘effective remedy’, as enshrined in Article 13, which obliges a State to provide an opportunity for an individual to claim their rights protected under the Convention. The principles of respect for human dignity, safety, and well-being, as embodied in Article 3, are also applicable.\n",
      "\n",
      "To identify the specific legal norms applied to the facts of the case, we must examine the relevant paragraphs. For instance, paragraph 10 of the facts suggests that the applicant complained to the Moscow city prosecutor about the conditions of his detention, who acknowledged that not every detainee was afforded the statutory standard of four square metres due to overpopulation of the prison. This points to the applicability of the ‘standard’ (four square metres per person) for assessing the material conditions of detention.\n",
      "\n",
      "Another important aspect is the principle of ‘effective remedy’. Paragraph 11 indicates that the applicant brought a civil claim for compensation in connection with inadequate conditions of detention in remand prison IZ77/3. The court then ruled that the applicant was always provided with a separate sleeping place and that the number of detainees never exceeded that of sleeping places, which led to the rejection of the claim.\n",
      "\n",
      "As the court notes in the Conclusion, there has been no violation of Article 3, as the applicant was always provided with a separate sleeping place and the number of detainees did not exceed that of sleeping places. However, there has been a violation of Article 13, as the government failed to provide an effective remedy for the applicant's complaints. \n",
      "\n",
      "The court's conclusion emphasizes the importance of an effective remedy for those whose rights are being violated, which aligns with the principle enshrined in Article 13.\n"
     ]
    }
   ],
   "source": [
    "output_dict = load_json('001-147040_output.json')\n",
    "print(output_dict['generated_law_section'])"
   ]
  },
  {
   "cell_type": "code",
   "execution_count": 20,
   "metadata": {},
   "outputs": [
    {
     "name": "stdout",
     "output_type": "stream",
     "text": [
      "Based on the facts, conclusion, and the Court's reasoning, I identify the arguments provided for justifying the application of legal norms to the specific facts of the case:\n",
      "\n",
      "1. The European Court of Human Rights (ECHR) emphasizes the importance of the right to fair trial, as enshrined in Article 6 of the Convention.\n",
      "\n",
      "2. The Court notes that legal assistance is essential for the proper defense of the accused, and that an accused person \"charged with a criminal offence\" has the right to assistance from a lawyer.\n",
      "\n",
      "3. The Court stresses that the burden of proving that the interests of justice require legal assistance must not be laid upon the accused person.\n",
      "\n",
      "4. The Court finds that there were no valid reasons for dispensing with legal assistance in the present case.\n",
      "\n",
      "5. The Court highlights the importance of ensuring that the facts are ascertained, understood, and appraised in a legally relevant manner, and that legal assistance is needed to achieve this goal.\n",
      "\n",
      "6. The Court notes that a lawyer's role is not limited to examining legal questions but also includes ensuring that the facts are presented in a legally relevant manner.\n",
      "\n",
      "7. The Court emphasizes that the standard of justice is not only to do justice but also to be seen to do justice, and that the appeal raised a legal issue concerning the exercise of the trial judge's discretion.\n",
      "\n",
      "8. The Court concludes that the interests of justice required that the applicant be given free legal assistance for the hearing of his appeal, as his lack of representation produced at least the appearance of injustice.\n",
      "\n",
      "9. The Court stresses that the Crown's representation by counsel, although not called upon to argue, was still present and able to advance a legal argument if necessary.\n",
      "\n",
      "10. Finally, the Court notes that the applicant's sentence was substantial, and that his lack of representation for the hearing of his appeal was a significant factor in the outcome of the case.\n",
      "\n",
      "The legal norms applied in this case are:\n",
      "\n",
      "* Article 6 of the European Convention on Human Rights (right to a fair trial)\n",
      "* Scots law (relevant domestic law and practice)\n",
      "* European Court of Human Rights' case law (Granger v. the United Kingdom)\n",
      "\n",
      "The key phrases that detail the application of the Article are:\n",
      "\n",
      "* \"charged with a criminal offence\"\n",
      "* \"assistance from a lawyer\"\n",
      "* \"interests of justice\"\n",
      "* \"free legal assistance\"\n",
      "* \"fair trial\"\n",
      "\n",
      "The relevant domestic law and practice are:\n",
      "\n",
      "* Scots law regarding legal aid (section 25 of the Legal Aid (Scotland) Act 1986)\n",
      "* Practice in criminal appeals (rule 233 of the 1975 Act)\n",
      "* Practice Note issued by the Lord Justice General regarding the review of legal aid applications\n",
      "* Manual of Procedure of the Scottish Legal Aid Board (paragraph 6.12)\n",
      "\n",
      "The European Court of Human Rights' case law is also relevant, specifically the Granger v. the United Kingdom case.\n"
     ]
    }
   ],
   "source": [
    "output_dict = load_json('001-57899_output.json')\n",
    "print(output_dict['generated_law_section'])"
   ]
  },
  {
   "cell_type": "code",
   "execution_count": 21,
   "metadata": {},
   "outputs": [
    {
     "name": "stdout",
     "output_type": "stream",
     "text": [
      "Based on the facts and conclusion of the case, I will identify the arguments provided for justifying the application of legal norms to the specific facts of the case.\n",
      "\n",
      "**General legal norms and principles:**\n",
      "\n",
      "1. The Convention for the Protection of Human Rights and Fundamental Freedoms (ECHR)\n",
      "2. Article 6 of the ECHR, which guarantees the right to a fair trial, including the right to a public hearing, the right to be presumed innocent until proved guilty, and the right to effective access to a court.\n",
      "3. Austrian Penal Code, particularly sections 42 and 83\n",
      "4. Austrian Code of Criminal Procedure, particularly sections 34, 87, 88, 90, 451, and 447\n",
      "\n",
      "**Identification of key phrases:**\n",
      "\n",
      "1. \"Suspicion\" (Tatverdacht): used in section 42 of the Austrian Penal Code to indicate the need for a court to terminate proceedings if there is insufficient grounds for prosecution.\n",
      "2. \"Insignificant\" (geringfügig): used in section 42 of the Austrian Penal Code to indicate that the offense is not of sufficient gravity to warrant prosecution.\n",
      "3. \"Mere procedure\" (Vorgang): used by the Supreme Court to distinguish between decisions based on substantive grounds (section 42) and those based on procedural grounds (section 90).\n",
      "4. \"Guilty\" (schuldig): used in the District Court's decision to indicate the court's finding that the applicant committed the offense.\n",
      "\n",
      "**Application of legal norms to specific facts:**\n",
      "\n",
      "1. The District Court's decision, although characterized as a \"termination decision\" (Beschluss), contained findings of fact and guilt, which violated Article 6(2) of the ECHR.\n",
      "2. The Supreme Court's reasoning, while acknowledging the District Court's infelicitous wording, failed to effectively address the breach of Article 6(2) and instead relied on the hypothetical construction of section 42 as a mere procedural provision.\n",
      "3. The Austrian Penal Code's section 42 was criticized for its ambiguous language, which allowed for interpretation that undermined the principle of the presumption of innocence.\n",
      "4. The District Court's failure to specify the date of the termination decision in its written reasoning was noted as an additional procedural irregularity.\n",
      "\n",
      "**Conclusions:**\n",
      "\n",
      "1. The majority of the judges concluded that there was no breach of Article 6 of the ECHR, while three judges (including the author of this response) dissented, arguing that the District Court's findings and the Supreme Court's reasoning were inconsistent with the right to a fair trial.\n",
      "\n",
      "Overall, the case highlights the importance of clear language and accurate application of legal norms to ensure the effective protection of human rights, particularly the right to a fair trial.\n"
     ]
    }
   ],
   "source": [
    "output_dict = load_json('001-57417_output.json')\n",
    "print(output_dict['generated_law_section'])"
   ]
  },
  {
   "cell_type": "code",
   "execution_count": null,
   "metadata": {},
   "outputs": [],
   "source": []
  },
  {
   "cell_type": "code",
   "execution_count": null,
   "metadata": {},
   "outputs": [],
   "source": []
  },
  {
   "cell_type": "code",
   "execution_count": null,
   "metadata": {},
   "outputs": [],
   "source": []
  },
  {
   "cell_type": "code",
   "execution_count": 14,
   "metadata": {},
   "outputs": [
    {
     "data": {
      "text/plain": [
       "'001-57417_output.json'"
      ]
     },
     "execution_count": 14,
     "metadata": {},
     "output_type": "execute_result"
    }
   ],
   "source": [
    "output_name"
   ]
  },
  {
   "cell_type": "code",
   "execution_count": 13,
   "metadata": {},
   "outputs": [
    {
     "data": {
      "text/plain": [
       "{'generated_law_section': 'Based on the facts and conclusion, I will identify the arguments provided for justifying the application of legal norms to the specific facts of the case.\\n\\n**General legal norms and principles:**\\n\\n1. Article 6 of the European Convention on Human Rights (ECHR) guarantees the right to a fair trial, including the right to a public hearing, the right to be presumed innocent until proved guilty, and the right to a fair and public hearing.\\n2. Section 42 of the Austrian Penal Code provides a procedure for terminating proceedings in minor cases without a trial hearing.\\n3. Section 90 par. 1 and section 451 par. 2 of the Austrian Code of Criminal Procedure govern the termination of proceedings and the application of section 42 of the Penal Code.\\n\\n**Arguments for justifying the application of legal norms:**\\n\\n1. The applicant\\'s denial of the accusations and his request for a hearing and evidence were ignored by the District Court, which indicated that the proceedings were terminated without a trial hearing and without regard for the evidence.\\n2. The District Court\\'s decision, although couched in terms of a \"suspected state of affairs,\" amounted to a finding of guilt, which violated the applicant\\'s right to be presumed innocent until proved guilty.\\n3. The Supreme Court\\'s decision was inadequate as it did not correct the District Court\\'s error and allowed the finding of guilt to stand.\\n4. The procedure used under section 42 of the Penal Code did not provide for a hearing or evidence, which was required by Article 6 of the ECHR.\\n5. The wording of the District Court\\'s decision was not clear and led to ambiguity, which undermined the applicant\\'s right to a fair trial.\\n6. The Supreme Court did not take advantage of the opportunity to correct the District Court\\'s error and declare the decision contrary to the law.\\n\\n**Key phrases and mapping:**\\n\\n1. \"Applying section 42 of the Penal Code\" - corresponds to the requirement of a fair trial under Article 6 of the ECHR.\\n2. \"The conditions of section 42 are met\" - corresponds to the requirement of a finding of guilt under Article 6 of the ECHR.\\n3. \"The conditions of section 42 are not met\" - corresponds to the requirement of a fair trial under Article 6 of the ECHR.\\n4. \"The suspect has a right to a fair and public hearing\" - corresponds to the requirement of a fair trial under Article 6 of the ECHR.\\n5. \"The court has a duty to satisfy itself\" - corresponds to the requirement of a fair trial under Article 6 of the ECHR.\\n6. \"The court must limit itself to ascertaining whether there existed against the suspect sufficient suspicion\" - corresponds to the requirement of a fair trial under Article 6 of the ECHR.\\n\\n**Conditions for the application of Articles:**\\n\\n1. The conditions of section 42 of the Penal Code must be met for the proceedings to be terminated without a trial hearing.\\n2. The conditions of Article 6 of the ECHR must be met for a fair trial, including the right to a public hearing, the right to be presumed innocent until proved guilty, and the right to a fair and public hearing.\\n\\n**Thresholds/conditions:**\\n\\n1. The requirement of a fair trial under Article 6 of the ECHR, which includes the right to a public hearing, the right to be presumed innocent until proved guilty, and the right to a fair and public hearing.\\n2. The requirement of a finding of guilt under Article 6 of the ECHR, which includes the right to a fair trial and the right to a public hearing.\\n\\n**Responsibility and accountability:**\\n\\n1. The District Court was responsible for the termination of the proceedings without a trial hearing and without regard for the evidence.\\n2. The Supreme Court was responsible for not correcting the District Court\\'s error and allowing the finding of guilt to stand.\\n3. The authorities responsible for the drafting and implementation of section 42 of the Penal Code were responsible for creating a procedure that could lead to violations of the right to a fair trial.',\n",
       " 'rouge1': Score(precision=0.21695652173913044, recall=0.7263464337700145, fmeasure=0.33411449614998323),\n",
       " 'rougeL': Score(precision=0.11434782608695652, recall=0.38282387190684136, fmeasure=0.17609641781051222)}"
      ]
     },
     "execution_count": 13,
     "metadata": {},
     "output_type": "execute_result"
    }
   ],
   "source": [
    "output_dict"
   ]
  },
  {
   "cell_type": "code",
   "execution_count": 25,
   "metadata": {},
   "outputs": [],
   "source": [
    "i4_case_facts = i4_case['facts']\n",
    "i4_case_conclusion = i4_case['conclusion']"
   ]
  },
  {
   "cell_type": "code",
   "execution_count": 40,
   "metadata": {},
   "outputs": [],
   "source": [
    "generated_law_section = agent.generate(i4_case_facts, i4_case_conclusion)"
   ]
  },
  {
   "cell_type": "code",
   "execution_count": 41,
   "metadata": {},
   "outputs": [
    {
     "name": "stdout",
     "output_type": "stream",
     "text": [
      "I will identify the general legal norms and principles, criteria for legal doctrines, and corresponding phrases from the case facts. I will also map the key phrases and distinguish conditions for the application of Articles across various contexts.\n",
      "\n",
      "**General legal norms and principles:**\n",
      "\n",
      "* Article 6 of the European Convention on Human Rights (ECHR) guarantees the right to a fair trial, including the right to a public hearing, the presumption of innocence, and the right to challenge evidence.\n",
      "* Austrian law requires the court to satisfy itself that the conditions of section 42 of the Penal Code are met before terminating the proceedings.\n",
      "\n",
      "**Criteria for legal doctrines:**\n",
      "\n",
      "* Section 42 of the Austrian Penal Code provides a substantive ground for exoneration (sachlicher Strafausschliessungsgrund) and allows for the termination of proceedings in trivial cases.\n",
      "* The requirement of procedural economy (Prozesskonomie) is relevant in deciding whether to terminate proceedings.\n",
      "\n",
      "**Corresponding phrases:**\n",
      "\n",
      "* \"the conditions of section 42 of the Penal Code are met\" - refers to the application of section 42, which is a substantive ground for exoneration.\n",
      "* \"satisfy itself that the conditions of section 42 are met\" - refers to the court's obligation to apply section 42 as a substantive ground for exoneration.\n",
      "* \"termination of proceedings\" - refers to the application of section 42, which allows for the termination of proceedings in trivial cases.\n",
      "* \"prosecutorial discretion\" - refers to the public prosecutor's discretion to decide whether to prosecute or terminate proceedings.\n",
      "* \"finding of guilt\" - is relevant in determining the scope of application of Article 6 of the ECHR.\n",
      "\n",
      "**Key phrases and conditions for application:**\n",
      "\n",
      "* \"sometimes\" - indicates that section 42 is applicable in certain circumstances (trivial cases).\n",
      "* \"exceptionally\" - indicates that section 42 is applicable in exceptional circumstances (trivial cases).\n",
      "* \"in the present case\" - indicates that section 42 is being applied in a specific case (the applicant's case).\n",
      "* \"as regards its reasoning\" - refers to the court's decision to terminate proceedings based on section 42.\n",
      "* \"the decision whether or not the conditions of paragraph (1) hereof are met shall be taken by the court\" - refers to the court's obligation to apply section 42 as a substantive ground for exoneration.\n",
      "* \"where the court decides in the affirmative, it shall bring the proceedings to a close, no matter what stage they may have reached\" - refers to the court's obligation to terminate proceedings if the conditions of section 42 are met.\n",
      "\n",
      "**Distinguishing conditions for application:**\n",
      "\n",
      "* Article 6 of the ECHR is applicable in criminal cases, but not in trivial cases (as defined by section 42 of the Austrian Penal Code).\n",
      "* Section 42 of the Austrian Penal Code applies in trivial cases, but not in cases where the accused is presumed innocent until proved guilty according to law (as guaranteed by Article 6 of the ECHR).\n",
      "\n",
      "**Thresholds and conditions for application:**\n",
      "\n",
      "* The court must satisfy itself that the conditions of section 42 are met before terminating proceedings.\n",
      "* Section 42 is applicable only in trivial cases, as defined by the provision.\n",
      "\n",
      "I hope this analysis helps to identify the key legal norms, principles, and criteria for application of the case.\n"
     ]
    }
   ],
   "source": [
    "print(generated_law_section)"
   ]
  },
  {
   "cell_type": "code",
   "execution_count": 29,
   "metadata": {},
   "outputs": [
    {
     "name": "stdout",
     "output_type": "stream",
     "text": [
      "28. The applicant claimed to be the victim of a breach of paragraphs 1, 2 and 3 (d) of Article 6 (art. 6-1, art. 6-2, art. 6-3-d) which provide as follows:\n",
      "\"1. In the determination of ... any criminal charge against him, everyone is entitled to a fair and public hearing ... by a ... tribunal ...\n",
      "2. Everyone charged with a criminal offence shall be presumed innocent until proved guilty according to law.\n",
      "3. Everyone charged with a criminal offence has the following minimum rights:\n",
      "...\n",
      "...\"\n",
      "In the submission of Mr. Adolf, this breach resulted from the Innsbruck District Court's decision dated 10 January 1978, from the earlier procedure and also from section 42 of the Austrian Penal Code itself.\n",
      "I. THE APPLICABILITY OF ARTICLE 6 (art. 6)\n",
      "29. The Government's principal submission was that Article 6 (art. 6) was not applicable in the present case since no criminal charge existed at any time or, at least, at the time when the decision at issue was rendered. This view was not shared by the Commission and was contested by the applicant.\n",
      "30. The Court thus has to ascertain whether there was a \"criminal charge\" (\"accusation en mati re p nale\", Article 6 par. 1 (art. 6-1)) against Mr. Adolf or whether he was \"charged with a criminal offence\" (\"accus d'une infraction\" and \"accus \", Article 6 par. 2 and 3) (art. 6-2, art 6-3).\n",
      "These expressions are to be interpreted as having an \"autonomous\" meaning in the context of the Convention and not on the basis of their meaning in domestic law (see notably, mutatis mutandis, the Deweer judgment of 27 February 1980, Series A no. 35, p. 22, par. 42). The legislation of the State concerned is certainly relevant, but it provides no more than a starting point in ascertaining whether at any time there was a \"criminal charge\" against Mr. Adolf or he was \"charged with a criminal offence\" (see, mutatis mutandis, the Engel and others judgment of 8 June 1976, Series A no. 22, p. 35, par. 82, and the K nig judgment of 28 June 1978, Series A no. 27, p. 30, par. 89). The prominent place held in a democratic society by the right to a fair trial favours a \"substantive\", rather than a \"formal\", conception of the \"charge\" referred to by Article 6 (art. 6); it impels the Court to look behind the appearances and examine the realities of the procedure in question in order to determine whether there has been a \"charge\" within the meaning of Article 6 (art. 6) (see the above-mentioned Deweer judgment, p. 23, par. 44).\n",
      "In particular, the applicant's situation under the domestic legal rules in force has to be examined in the light of the object and purpose of Article 6 (art. 6), namely the protection of the rights of the defence.\n",
      "31. On 12 August 1977, following Mrs. Proxauf's complaint, the public prosecutor's office had instructed the federal police to investigate \"whether or not a punishable act had been committed\". The police questioned Mr. Adolf and several witnesses about the complaint and then returned the case-file to the public prosecutor's office which, on 28 September 1977, asked the District Court to procure a medical report on the seriousness of Mrs. Proxauf's injury. The Court entered the case in the register and, under the heading \"punishable act\", referred to section 83 of the Penal Code, this being a provision - amongst others - that deals with the infliction of bodily harm. Following receipt of the doctor's opinion, the court assessed the costs of the opinion in a decision of 11 November 1977 which mentioned \"the criminal proceedings against Gustav Adolf under section 83 of the Penal Code\" and described him as \"accused\".\n",
      "In view of these circumstances, which are not contested (see paragraph 11 above), the Court considers that there is a combination of factors demonstrating that at the relevant time there was a \"criminal charge\" against Mr. Adolf within the meaning of the Convention. Since Mr. Adolf complained of the decision dated 10 January 1978 and of the legal basis thereof, namely section 42 of the Penal Code, but not of the institution of proceedings against him, it is unnecessary to determine the precise moment at which he was \"charged\".\n",
      "32. According to the Government, as a matter of law the termination of proceedings took effect on 24 November 1977, so that at least from that date onwards Mr. Adolf could no longer be regarded as a person \"charged with a criminal offence\" within the meaning of Article 6 (art. 6) of the Convention.\n",
      "In the Court's opinion, the decision taken by the District Court on that date, which was not notified to the applicant, is inseparable from the reasoned written version dated 10 January 1978, the latter having spelt out the grounds underlying the former. In short, there was - to adopt the expression utilised by the Commission's Delegate - \"a single procedural act effected in several stages\". Besides, this was how the Austrian judicial authorities understood the position: the Generalprokurator's application for annulment, on which the Supreme Court ruled on 28 February 1980, was directed exclusively against the decision dated 10 January 1978 (see paragraphs 14 and 16 above).\n",
      "33. In the submission of the Government, the fact that the District Court applied section 42 of the Penal Code proved that there never was a \"charge\" or an \"offence\" in this case. The Government pointed out, furthermore, that the Supreme Court and the great majority of Austrian legal commentators regard the section as not being concerned with procedure but as providing a substantive ground for exonerating the accused, its purpose, it is said, being to \"decriminalise\" certain acts of a trivial nature by making them non-punishable (see paragraph 22 above).\n",
      "In the first place, the Court observes, as did the Commission's Delegate, that recourse to section 42 cannot affect the existence, or retroactively alter the nature, of the procedures conducted prior to the court order terminating proceedings. The decision dated 10 January 1978 referred to \"the criminal case against Dr. Gustav Adolf for the offence of inflicting bodily harm, within the meaning of section 83 of the Penal Code\" and described him as an \"accused\" (see paragraph 12 above). In the notification of 22 December 1977 (ibid.), the District Court had moreover already mentioned the \"proceedings against Gustav Adolf under section 83 of the Penal Code\".\n",
      "As regards the concept of a non-punishable act, it is clearly in line with the title and text of section 42 (mangelnde Strafw rdigkeit, nicht strafbar). Nevertheless, non-punishable or unpunished criminal offences do exist and Article 6 (art. 6) of the Convention does not distinguish between them and other criminal offences; it applies whenever a person is \"charged\" with any criminal offence.\n",
      "34. To sum up, in 1977 Mr. Adolf was subject to a criminal charge (within the meaning of the Convention) to which the reasoned decision dated 10 January 1978 related. Article 6 (art. 6) was thus applicable in the present case.\n",
      "II. COMPLIANCE WITH ARTICLE 6 (art. 6)\n",
      "35. Relying on paragraphs 1, 2 and 3 (d) of Article 6 (art. 6-1, art. 6-2, art. 6-3-d), the applicant reiterated in substance the arguments he had put forward before the Commission (see paragraph 25 above). In reply, the Government pleaded as their alternative submission that neither the impugned decision of the Innsbruck District Court nor its basis in law, namely section 42 of the Penal Code, infringed the requirements of Article 6 (art. 6) of the Convention. The Commission, for its part, considered that there had been a violation of paragraph 2 (art. 6-2), but not of any other paragraph, such violation arising solely from the said decision.\n",
      "36. As to whether section 42 of the Penal Code is in itself compatible with the Convention, the Court would recall its established case-law: \"in proceedings originating in an individual application, [the Court] has to confine its attention, as far as possible, to the issues raised by the concrete case before it\" (see notably the Guzzardi judgment of 6 November 1980, Series A no. 39, pp. 31-32, par. 88). Accordingly, the Court's task is not review in abstracto under the Convention the provision of domestic law challenged by Mr. Adolf but to review the manner in which that provision was applied to him (see notably, in addition to the Guzzardi judgment, loc. cit., the X v. the United Kingdom judgment of 5 November 1981, Series A no. 46, p. 14, par. 41).\n",
      "37. The Government contended that Mr. Adolf was not actually prejudiced by the District Court's decision and was therefore not a victim of a violation of his Convention rights. However, in its use of the word \"victim\", Article 25 (art. 25) denotes \"the person directly affected by the act or omission which is in issue\" - that is to say, in the present case, the applicant; and the existence of a violation is conceivable even in the absence of prejudice, prejudice being relevant only in the context of Article 50 (art. 50) (see notably the Artico judgment of 13 May 1980, Series A no. 37, p. 18, par. 35).\n",
      "38. In its decision dated 10 January 1978, the District Court stated (see paragraph 12 above):\n",
      "\"... The investigations ... and the expert opinion have shown that in the course of a quarrel the accused flew into a rage and threw an envelope containing a key in the direction of Mrs. Anneliese Schuh who however managed to avoid the missile, while ... Irma Proxauf standing behind her was hit. The key first struck the back of the right hand, causing a superficial abrasion, and then bounced against the left side of the above-mentioned person's chest.\n",
      "The injury found is insignificant as it does not exceed the three-day limit; the fault of the accused may be described as insignificant, and his character gives cause to except that he will conduct himself properly in future.\"\n",
      "In the Court's opinion, this reasoning was capable of suggesting that Mr. Adolf had inflicted bodily harm on Mrs. Proxauf and that he was at fault in doing so. The above-quoted extract is not limited to recounting a \"suspected state of affairs\": it presents as established certain facts alleged by the complainant, without even mentioning that Mr. Adolf had denied throwing any keys and had denounced the complaint as being knowingly false.\n",
      "39. The Government considered that a distinction should be drawn between operative provisions and reasoning adduced; they questioned whether the use of imprecise or incorrect terminology in the reasoning, but not in the operative provisions, of a decision terminating proceedings and hence, in their submission, one that was beneficial to the person concerned, could in itself go counter to the presumption of innocence. They drew attention, in this connection also, to the particular legal character of section 42 of the Penal Code: the application of this section, so they contended, meant that the District Court objectively could not, and subjectively did not, intend to make a finding of legal or moral guilt.\n",
      "According to the Supreme Court and the Austrian authorities, section 42 must be read in the light of, inter alia, its drafting history, the rules of criminal procedure and Article 6 par. 2 (art. 6-2) of the Convention, the Convention having constitutional status in . When the section is so construed, the termination of proceedings under it should be understood as being based on the mere existence of suspicion and not on actual findings of fact and guilt (see paragraphs 14, 16 and 24 above).\n",
      "The fact nonetheless remains that the reasoning in the decision dated 10 January 1978 was in terms that, in the opinion of the Court, were well capable of being understood as meaning that Mr. Adolf was guilty of a criminal offence, albeit one that did not merit punishment; as the Delegate of the Commission pointed out, the decision's reasoning forms a whole with and cannot be dissociated from the operative provisions.\n",
      "40. According to the Government, the District Court's decision should be read in conjunction with the judgment of the Supreme Court; this judgment, the Government submitted, clarified the District Court's decision by showing that it was grounded solely on the existence of a \"suspected state of affairs\".\n",
      "The judgment of 28 February 1980 (see paragraph 16 above) did indeed hold that a decision taken in pursuance of section 42 of the Penal Code does not, because of its very character and whatever may be its wording, involve anything in the nature of a verdict of guilt. It would have been preferable, the judgment added, had the District Court stated this explicitly and without ambiguity, but the more or less apposite choice of wording in the reasoning could not deprive the reasoning of the specific significance it had as a result of the nature of the decision given.\n",
      "The Court recognises that the District Court's reasoned decision dated 10 January 1978 must be read with the judgment of the Supreme Court and in the light of it. That judgment has cleared Mr. Adolf of any finding of guilt and thus the presumption of his innocence is no longer called into question. By reason of the nature of section 42 of the Penal Code, the proceedings, on that section being applied, did not and could not terminate with any finding of guilt; it was therefore not necessary for the District Court to proceed with any hearing in the case or examination of evidence.\n",
      "41. There has accordingly been no breach of Article 6 (art. 6) of the Convention.\n"
     ]
    }
   ],
   "source": [
    "print(i4_case['law'])"
   ]
  },
  {
   "cell_type": "code",
   "execution_count": 12,
   "metadata": {},
   "outputs": [],
   "source": [
    "from rouge_score import rouge_scorer\n",
    "scorer = rouge_scorer.RougeScorer(['rouge1', 'rougeL'], use_stemmer=True)"
   ]
  },
  {
   "cell_type": "code",
   "execution_count": 13,
   "metadata": {},
   "outputs": [],
   "source": [
    "actual_law_section = i4_case['law']\n",
    "\n",
    "scores = scorer.score(generated_law_section, actual_law_section)"
   ]
  },
  {
   "cell_type": "code",
   "execution_count": 14,
   "metadata": {},
   "outputs": [
    {
     "data": {
      "text/plain": [
       "{'rouge1': Score(precision=0.5627376425855514, recall=0.5094664371772806, fmeasure=0.5347786811201445),\n",
       " 'rougeL': Score(precision=0.2509505703422053, recall=0.22719449225473323, fmeasure=0.23848238482384823)}"
      ]
     },
     "execution_count": 14,
     "metadata": {},
     "output_type": "execute_result"
    }
   ],
   "source": [
    "scores"
   ]
  },
  {
   "cell_type": "code",
   "execution_count": null,
   "metadata": {},
   "outputs": [],
   "source": []
  }
 ],
 "metadata": {
  "kernelspec": {
   "display_name": "thesis24",
   "language": "python",
   "name": "python3"
  },
  "language_info": {
   "codemirror_mode": {
    "name": "ipython",
    "version": 3
   },
   "file_extension": ".py",
   "mimetype": "text/x-python",
   "name": "python",
   "nbconvert_exporter": "python",
   "pygments_lexer": "ipython3",
   "version": "3.11.3"
  }
 },
 "nbformat": 4,
 "nbformat_minor": 2
}
