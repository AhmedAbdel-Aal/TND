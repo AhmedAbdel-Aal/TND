{
 "cells": [
  {
   "cell_type": "code",
   "execution_count": 2,
   "metadata": {},
   "outputs": [],
   "source": [
    "%load_ext autoreload\n",
    "%autoreload 2"
   ]
  },
  {
   "cell_type": "code",
   "execution_count": 10,
   "metadata": {},
   "outputs": [],
   "source": [
    "import os\n",
    "import time\n",
    "import ollama\n",
    "import json\n",
    "from agent import Agent\n",
    "from utils import load_json, save_json\n",
    "from rouge_score import rouge_scorer"
   ]
  },
  {
   "cell_type": "code",
   "execution_count": 4,
   "metadata": {},
   "outputs": [],
   "source": [
    "cases = {'1':[], '2':[], '3':[], '4':[]}\n",
    "for root, dirs, files in os.walk('../pilot_study_sample/'):\n",
    "    for dir in dirs:\n",
    "        for root, dirs, files in os.walk('../pilot_study_sample/' + dir):\n",
    "            for file in files:\n",
    "                if file.endswith('.json'):\n",
    "                    cases[dir].append(os.path.join(root, file))"
   ]
  },
  {
   "cell_type": "code",
   "execution_count": 5,
   "metadata": {},
   "outputs": [],
   "source": [
    "agent = Agent(backend=\"groq\")"
   ]
  },
  {
   "cell_type": "code",
   "execution_count": 13,
   "metadata": {},
   "outputs": [],
   "source": [
    "one_shot_example = load_json(cases['4'][2])\n",
    "\n",
    "c4 = load_json('../pilot_study_sample/4/001-147040.json')\n",
    "c3 = load_json('../pilot_study_sample/3/001-57899.json')\n",
    "c2 = load_json('../pilot_study_sample/2/001-57417.json')"
   ]
  },
  {
   "cell_type": "code",
   "execution_count": 11,
   "metadata": {},
   "outputs": [],
   "source": [
    "def run_case(case, one_shot_example):\n",
    "    agent = Agent(backend=\"groq\")\n",
    "    scorer = rouge_scorer.RougeScorer(['rouge1', 'rougeL'], use_stemmer=True)\n",
    "\n",
    "    case_facts = case['facts']\n",
    "    case_conclusion = case['conclusion']\n",
    "    case_law = case['law']\n",
    "\n",
    "    one_shot_fact = one_shot_example['facts']\n",
    "    one_shot_conclusion = one_shot_example['conclusion']\n",
    "    one_shot_law = one_shot_example['law']\n",
    "\n",
    "    generated_law_section = agent.generate(one_shot_fact, one_shot_law, one_shot_conclusion, case_facts, case_conclusion)\n",
    "    scores = scorer.score(generated_law_section, case_law)\n",
    "\n",
    "    output_dict = {'generated_law_section': generated_law_section}\n",
    "    output_dict.update(scores)\n",
    "    return output_dict"
   ]
  },
  {
   "cell_type": "code",
   "execution_count": 14,
   "metadata": {},
   "outputs": [],
   "source": [
    "for case in [c2, c3, c4]:\n",
    "    output_dict = run_case(case, one_shot_example)\n",
    "    output_name = case['itemid']+ '_output.json'\n",
    "    save_json(output_name, output_dict)\n",
    "    time.sleep(60)"
   ]
  },
  {
   "cell_type": "code",
   "execution_count": 15,
   "metadata": {},
   "outputs": [
    {
     "name": "stdout",
     "output_type": "stream",
     "text": [
      "**Law**\n",
      "\n",
      "Having regard to the facts and submissions set out in the present judgment, the Court finds as follows:\n",
      "\n",
      "Article 6 1 of the Convention\n",
      "\n",
      "1. The length of the criminal proceedings in the present case exceeded the reasonable time required by Article 6 1 of the Convention.\n",
      "2. The Court reiterates that the reasonableness of the length of proceedings must be assessed in the light of the circumstances of the case and with reference to the following criteria: the complexity of the case, the conduct of the applicants and the relevant authorities, and what was at stake for the applicants in the dispute.\n",
      "3. In the present case, the Court finds that the length of the proceedings was excessive and failed to meet the reasonable time requirement.\n",
      "\n",
      "Article 13 of the Convention\n",
      "\n",
      "1. The applicants did not have at their disposal an effective domestic remedy in respect of their complaints about the length of the criminal proceedings.\n",
      "2. The Court reiterates that an effective remedy is one that allows applicants to have their grievances redressed quickly and effectively, and that the remedy must be effective in practice as well as in law.\n",
      "\n",
      "Damages and costs\n",
      "\n",
      "1. The Court has found a breach of Articles 6 1 and 13 of the Convention.\n",
      "2. The Court awards the applicants, within three months, the amounts indicated in the appended table, to be converted into the currency of the respondent State at the rate applicable at the date of settlement.\n",
      "3. From the expiry of the above-mentioned three months until settlement, simple interest shall be payable on the above amounts at a rate equal to the marginal lending rate of the European Central Bank during the default period plus three percentage points.\n",
      "\n",
      "Application of Article 41 of the Convention\n",
      "\n",
      "1. Article 41 of the Convention provides that if the Court finds that there has been a violation of the Convention or the Protocols thereto, and if the internal law of the High Contracting Party concerned allows only partial reparation to be made, the Court shall, if necessary, afford just satisfaction to the injured party.\n",
      "2. Regard being had to the documents in its possession and to its caselaw, the Court finds it reasonable to award the sums indicated in the appended table.\n",
      "\n",
      "Done in English, and notified in writing on [insert date], pursuant to Rule 77 2 and 3 of the Rules of Court.\n"
     ]
    }
   ],
   "source": [
    "output_dict = load_json('001-147040_output.json')\n",
    "print(output_dict['generated_law_section'])"
   ]
  },
  {
   "cell_type": "code",
   "execution_count": 16,
   "metadata": {},
   "outputs": [
    {
     "name": "stdout",
     "output_type": "stream",
     "text": [
      "**THE LAW**\n",
      "\n",
      "The Court finds that the excessive length of the criminal proceedings in question has been incompatible with the reasonable time requirement and that the applicants have no effective remedy in this connection. The Court reiterates that the reasonableness of the length of proceedings must be assessed in the light of the circumstances of the case and with reference to the following criteria: the complexity of the case, the conduct of the applicants and the relevant authorities, and what was at stake for the applicants in the dispute.\n",
      "\n",
      "The Court notes that the applicants did not have at their disposal an effective remedy in respect of their complaints. The Court further notes that there has been a breach of Article 6 para. 3 (c) of the Convention and Article 13 of the Convention.\n",
      "\n",
      " Article 41 of the Convention provides:\n",
      "\n",
      "\"If the Court finds that there has been a violation of the Convention or the Protocols thereto, and if the internal law of the High Contracting Party concerned allows only partial reparation to be made, the Court shall, if necessary, afford just satisfaction to the injured party.\"\n",
      "\n",
      "The Court finds it reasonable to award just satisfaction to the applicants in the form of the sums indicated in the appended table.\n",
      "\n",
      "In relation to the principle of the \"interests of justice\" normally requiring that a person \"charged with a criminal offence\" be assisted by a lawyer, the Court recalls that legal assistance is necessary not only for the presentation of the case in an adequate manner, but also to ensure that the facts are ascertained, understood and appraised in a legally relevant manner. The burden of proving that the interests of justice require legal assistance must not be laid upon the accused person. In the present case, there were no valid reasons for dispensing with legal assistance, and the Court concludes that the failure to grant legal aid for the appeal violated the applicants' right under Article 6 para. 3 (c) of the Convention.\n",
      "\n",
      "The Court further concludes that the interest of justice required the grant of free legal assistance for the hearing of the appeal, given the severity of the sentence imposed on the applicant, the legal issues raised by the appeal, and the fact that the Crown was represented by counsel. Therefore, the failure to grant legal assistance for the appeal also violated the applicants' right under Article 6 para. 3 (c) of the Convention.\n"
     ]
    }
   ],
   "source": [
    "output_dict = load_json('001-57899_output.json')\n",
    "print(output_dict['generated_law_section'])"
   ]
  },
  {
   "cell_type": "code",
   "execution_count": 17,
   "metadata": {},
   "outputs": [
    {
     "name": "stdout",
     "output_type": "stream",
     "text": [
      "Based on the provided information, I shall generate the \"Law\" section of the ECHR judgment as follows:\n",
      "\n",
      "\" THE COURT,\n",
      "\n",
      "Having regard to the reasoned judgment of the Court, aforesaid;\n",
      "\n",
      "Regarding the applicant's complaint that the excessive length of criminal proceedings and the lack of effective remedy in domestic law violated Article 6 of the Convention;\n",
      "\n",
      "Finds that:\n",
      "\n",
      "1.  Article 6 of the Convention, including its paragraphs 1 and 2, is applicable to this case;\n",
      "2. The excessive length of criminal proceedings and the lack of effective remedy in domestic law did not violate Article 6 of the Convention;\"\n",
      "\n",
      "**Note:** Since there are two separate opinions on the matter, I have taken the majority view which concludes that there was no breach of Article 6(1) and (2) of the Convention. However, I have also included the two separate opinions to provide a comprehensive view of the arguments presented. If you would like me to generate the separate opinions as well, please let me know.\n"
     ]
    }
   ],
   "source": [
    "output_dict = load_json('001-57417_output.json')\n",
    "print(output_dict['generated_law_section'])"
   ]
  },
  {
   "cell_type": "code",
   "execution_count": null,
   "metadata": {},
   "outputs": [],
   "source": []
  },
  {
   "cell_type": "code",
   "execution_count": null,
   "metadata": {},
   "outputs": [],
   "source": []
  },
  {
   "cell_type": "code",
   "execution_count": null,
   "metadata": {},
   "outputs": [],
   "source": []
  },
  {
   "cell_type": "code",
   "execution_count": null,
   "metadata": {},
   "outputs": [],
   "source": []
  },
  {
   "cell_type": "code",
   "execution_count": null,
   "metadata": {},
   "outputs": [],
   "source": []
  },
  {
   "cell_type": "code",
   "execution_count": null,
   "metadata": {},
   "outputs": [],
   "source": []
  },
  {
   "cell_type": "code",
   "execution_count": 6,
   "metadata": {},
   "outputs": [],
   "source": [
    "facts_1 = i4_case_1['facts']\n",
    "law_1 = i4_case_1['law']\n",
    "conclusion_1 = i4_case_1['conclusion']\n",
    "\n",
    "facts_2 = i4_case_2['facts']\n",
    "law_2 = i4_case_2['law']\n",
    "conclusion_2 = i4_case_2['conclusion']"
   ]
  },
  {
   "cell_type": "code",
   "execution_count": 17,
   "metadata": {},
   "outputs": [],
   "source": [
    "generated_law_section = agent.generate(facts_1, law_1, conclusion_1, facts_2, conclusion_2)"
   ]
  },
  {
   "cell_type": "code",
   "execution_count": 10,
   "metadata": {},
   "outputs": [
    {
     "name": "stdout",
     "output_type": "stream",
     "text": [
      "I. ALLEGED VIOLATION OF ARTICLE 3 OF THE CONVENTION\n",
      "17. The applicant complained that the conditions of his detention in remand prison IZ-77/3 of Moscow between 22 November 2008 and 7 September 2009 violated Article 3 of the Convention, which reads as follows:\n",
      "No one shall be subjected to torture or to inhuman or degrading treatment or punishment.\n",
      "A. Admissibility\n",
      "18. With reference to various provisions of the Rules of Court and the Practice Direction on Institution of Proceedings, the Government alleged that the application form had been lodged after a long delay and that its date of posting, rather than that of the applicant s first letter, should be taken as the date of introduction of the case. In their view, that fact had an impact on the admissibility of the complaint, in particular as regards the six-month time-limit set by Article 35 1 of the Convention.\n",
      "19. The applicant did not comment.\n",
      "20. The Court observes that the application form was posted on 4 December 2009, that is within six months from 7 September 2009, when the applicant had left the remand prison, the starting date of the six-month time-limit. The Court concludes that even if it were to accept the Government s argument, the applicant s complaint is not out of time for the purposes of Article 35 1 of the Convention.\n",
      "21. The Court notes that this complaint is not manifestly ill-founded within the meaning of Article 35 3 (a) of the Convention. It further notes that it is not inadmissible on any other grounds. It must therefore be declared admissible.\n",
      "B. Establishment of facts\n",
      "22. The applicant was held in the Moscow remand prison IZ-77/3 between 22 November 2008 and 7 September 2009, that is nine months and fifteen days.\n",
      "23. The Court observes that the Government submitted a large number of documents concerning various aspects of the applicant s detention. Of particular importance is the prison population register, an original document which was prepared during the period of the applicant s stay in the prison and covered a large part of the detention. The documents showed that the applicant had been detained in cells 608, 207, 517 and 510, which measured around 34, 32, 37 and 13 sq. m, respectively.\n",
      "24. The Court however notes that the documents, including the certificates by the director of the prison, the prison population register and the domestic judgments, variously indicated the number of sleeping places and the actual occupancy of the cells (see paragraphs 8, 9 and 11 above).\n",
      "25. Nevertheless, the Court finds that, even considering the highest occupancy figures, the applicant was afforded around 4 sq. m of personal space and that there was no shortage of sleeping places during the period under examination.\n",
      "26. As to the findings of the domestic authorities regarding the lack of personal space (see paragraphs 10 and 11 above), the Court observes that the prosecutor s reply referred to the remand prison in general, rather than to the applicant s personal situation, whereas the domestic judgment did not indicate the actual occupancy of the cells and it is not clear from it why such conclusion was reached.\n",
      "27. The applicant s submissions differed from those of the Government in every aspect save for the number of one cell. Although they were sufficiently detailed, the only evidence corroborating them were the cellmates statements, which contained general assertions without references to concrete details (see paragraph 7 above). Moreover, the Court notes that the factual information provided by the Government was not contested by the applicant in his observations in reply. For these reasons, the Court lends credence to the Government s submissions.\n",
      "C. Compliance with Article 3\n",
      "28. The Court found it established that the applicant had been provided with around four square metres of floor surface and disposed of his own sleeping place. It cannot be said that the dimensions of his cells were so small as to restrict the applicant s freedom of movement (see Ananyev and Others v. Russia, nos. 42525/07 and 60800/08, 143-148, 10 January 2012).\n",
      "29. It also appears that the applicant was allowed a one-hour outdoor exercise daily. Windows were not fitted with metal shutters preventing natural light and fresh air from penetrating into the cells. The cells were additionally equipped with artificial lighting and forced ventilation.\n",
      "30. The Court observes that the lavatory pans, the dining tables and the sleeping places were all located within the cells, but at a sufficient distance from each other. Brick partitions separated the toilets from the rest of the cells. Hot and cold running water was available to detainees and the applicant had regular access to shower and washing facilities.\n",
      "31. Taking into account the cumulative effect of those conditions, the Court considers that the conditions of the applicant s detention in remand prison IZ-77/3 of Moscow between 22 November 2008 and 7 September 2009 cannot be regarded as inhuman or degrading. There has been therefore no violation of Article 3 of the Convention.\n",
      "II. ALLEGED VIOLATION OF ARTICLE 13 OF THE CONVENTION\n",
      "32. The applicant further complained that he did not dispose of an effective domestic remedy for his grievance concerning the inhuman conditions of detention, as required by Article 13 of the Convention, which provides that:\n",
      "Everyone whose rights and freedoms as set forth in [the] Convention are violated shall have an effective remedy before a national authority notwithstanding that the violation has been committed by persons acting in an official capacity.\n",
      "33. The Government, with reference to the Court s judgment of Ananyev and Others v. Russia (cited above) acknowledged the absence of such remedies, but submitted that the applicant was not a victim of the violation since he did not attempt to raise the issue at the domestic level.\n",
      "34. The applicant did not submit any specific comments.\n",
      "35. The Court observes that the applicant complained about the conditions of his pre-trial detention to the prosecutor and tried to obtain redress in the Russian courts (see paragraphs 10 and 11 above). Accordingly, it rejects the Government s objection.\n",
      "36. Taking into account the Court s findings in the Ananyev and Others judgment (cited above, 93-118), it considers that the applicant did not have at his disposal an effective domestic remedy for his complaints, in breach of Article 13 of the Convention.\n",
      "III. OTHER ALLEGED VIOLATIONS OF THE CONVENTION\n",
      "37. The applicant also complained that he could not adequately prepare for the trial because of poor conditions of his detention. The Court notes that the applicant did not raise that complaint before the courts during the criminal proceedings against him. It follows that the complaint is inadmissible due to non-exhaustion of domestic remedies in accordance with Article 35 1 of the Convention.\n",
      "IV. APPLICATION OF ARTICLE 41 OF THE CONVENTION\n",
      "38. Article 41 of the Convention provides:\n",
      "If the Court finds that there has been a violation of the Convention or the Protocols thereto, and if the internal law of the High Contracting Party concerned allows only partial reparation to be made, the Court shall, if necessary, afford just satisfaction to the injured party.\n",
      "A. Damage\n",
      "39. The applicant claimed 15,840 euros in respect of non-pecuniary damage.\n",
      "40. The Government did not comment.\n",
      "41. The Court has found a violation of Article 13 of the Convention on account of the absence of an effective domestic remedy for the applicant s complaint about the conditions of his pre-trial detention.\n",
      "42. In these circumstances, the Court considers that the finding of a violation constitutes sufficient just satisfaction (see Ananyev and Others v. Russia, cited above, 173). Accordingly, it rejects the applicant s claims in respect of non-pecuniary damage.\n",
      "B. Costs and expenses\n",
      "43. The applicant did not claim any costs and expenses incurred either before the domestic courts or the Court.\n"
     ]
    }
   ],
   "source": [
    "print(law_2)"
   ]
  },
  {
   "cell_type": "code",
   "execution_count": 18,
   "metadata": {},
   "outputs": [
    {
     "name": "stdout",
     "output_type": "stream",
     "text": [
      "I. LAW\n",
      "\n",
      "1. The Court finds that the applicants have standing to bring their complaints before the Court, relying on Article 34 of the European Convention on Human Rights (Preamble, § 2 and 3) and the Court's case-law (see, for example, Benyaminson and Others v. Ukraine, no. 31585/02, § 83, 26 July 2007).\n",
      "\n",
      "2. Having regard to Article 6 1 and Article 13 of the Convention, the Court holds that the excessive length of the criminal proceedings and the lack of an effective remedy in domestic law have breached the Convention rights of the applicants.\n",
      "\n",
      "3. Pursuant to Article 41 of the Convention, the Court finds it reasonable to award the sums indicated in the appended table in respect of the non-pecuniary damage suffered by the applicants, as per its case-law (see, inter alia, Bevz v. Ukraine, no. 7307/05, 52, 18 June 2009).\n",
      "\n",
      "4. The Court notes that, in accordance with Article 41 of the Convention, the applicants had a legitimate expectation of a fair and efficient disposal of their case and that the excessive length of the proceedings has caused them additional stress, anxiety, and distress.\n",
      "\n",
      "5. In respect of the application, the Court considers that the applicants have not relied solely on the excessive length of the criminal proceedings to assert their claim but have also pointed out the lack of an effective remedy in domestic law.\n",
      "\n",
      "6. The Court emphasizes the principle that the rights guaranteed by the Convention are subject to the maintenance of a balance between conflicting interests and that the Convention does not guarantee a certain result in the sense of a winning or losing party in a criminal proceeding (see, for example, Harris v. United Kingdom, Series A no. 76, 45, 1982).\n",
      "\n",
      "7. The Court also notes that the applicants have not suffered any pecuniary loss as a result of the State's failure to comply with their rights under the Convention.\n",
      "\n",
      "8. However, the Court concludes that the breach of Article 6 1 and Article 13 of the Convention has caused the applicants non-pecuniary damage, which can be compensated by the award of a sum in respect of the non-pecuniary damage suffered.\n",
      "\n",
      "9. Finally, the Court stresses that the award made is equitable and constitutes a fair balance between the awards made by the Court in similar cases (see, for example, Bevz v. Ukraine, no. 7307/05, 52, 18 June 2009).\n",
      "\n",
      "10. The Court hereby awards the applicants, within three months, the amounts indicated in the appended table, to be converted into the currency of the respondent State at the rate applicable at the date of settlement, together with simple interest at a rate equal to the marginal lending rate of the European Central Bank during the default period plus three percentage points.\n"
     ]
    }
   ],
   "source": [
    "print(generated_law_section)"
   ]
  },
  {
   "cell_type": "code",
   "execution_count": 12,
   "metadata": {},
   "outputs": [],
   "source": [
    "from rouge_score import rouge_scorer"
   ]
  },
  {
   "cell_type": "code",
   "execution_count": 13,
   "metadata": {},
   "outputs": [],
   "source": [
    "scorer = rouge_scorer.RougeScorer(['rouge1', 'rougeL'], use_stemmer=True)"
   ]
  },
  {
   "cell_type": "code",
   "execution_count": 14,
   "metadata": {},
   "outputs": [],
   "source": [
    "scores = scorer.score(generated_law_section,law_2)"
   ]
  },
  {
   "cell_type": "code",
   "execution_count": 15,
   "metadata": {},
   "outputs": [
    {
     "data": {
      "text/plain": [
       "{'rouge1': Score(precision=0.24283559577677225, recall=0.7334851936218679, fmeasure=0.3648725212464589),\n",
       " 'rougeL': Score(precision=0.11463046757164404, recall=0.3462414578587699, fmeasure=0.17223796033994332)}"
      ]
     },
     "execution_count": 15,
     "metadata": {},
     "output_type": "execute_result"
    }
   ],
   "source": [
    "scores"
   ]
  },
  {
   "cell_type": "code",
   "execution_count": null,
   "metadata": {},
   "outputs": [],
   "source": []
  }
 ],
 "metadata": {
  "kernelspec": {
   "display_name": "pytorch-env",
   "language": "python",
   "name": "python3"
  },
  "language_info": {
   "codemirror_mode": {
    "name": "ipython",
    "version": 3
   },
   "file_extension": ".py",
   "mimetype": "text/x-python",
   "name": "python",
   "nbconvert_exporter": "python",
   "pygments_lexer": "ipython3",
   "version": "3.11.3"
  }
 },
 "nbformat": 4,
 "nbformat_minor": 2
}
