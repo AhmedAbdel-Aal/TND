{
 "cells": [
  {
   "cell_type": "code",
   "execution_count": 1,
   "metadata": {},
   "outputs": [],
   "source": [
    "import spacy\n",
    "from sklearn.feature_extraction.text import TfidfVectorizer\n",
    "from sklearn.metrics.pairwise import cosine_similarity\n",
    "import networkx as nx"
   ]
  },
  {
   "cell_type": "code",
   "execution_count": 2,
   "metadata": {},
   "outputs": [],
   "source": [
    "# Load SpaCy model\n",
    "nlp = spacy.load(\"en_core_web_sm\")\n",
    "\n",
    "def extract_facts(text):\n",
    "    doc = nlp(text)\n",
    "    facts = []\n",
    "    for sent in doc.sents:\n",
    "        if any(token.dep_ in [\"nsubj\", \"dobj\", \"pobj\"] for token in sent):\n",
    "            facts.append(sent.text)\n",
    "    return facts"
   ]
  },
  {
   "cell_type": "code",
   "execution_count": 3,
   "metadata": {},
   "outputs": [
    {
     "name": "stdout",
     "output_type": "stream",
     "text": [
      "['i will go to the store and buy some milk, then i will go back home.', 'Later, I will go to the gym and work out.']\n"
     ]
    }
   ],
   "source": [
    "original_text = \"i will go to the store and buy some milk, then i will go back home. Later, I will go to the gym and work out.\"\n",
    "facts = extract_facts(original_text)\n",
    "print(facts)"
   ]
  },
  {
   "cell_type": "code",
   "execution_count": 4,
   "metadata": {},
   "outputs": [],
   "source": [
    "def build_fact_graph(facts):\n",
    "    G = nx.Graph()\n",
    "    for fact in facts:\n",
    "        doc = nlp(fact)\n",
    "        for token in doc:\n",
    "            if token.dep_ in [\"nsubj\", \"dobj\", \"pobj\"]:\n",
    "                G.add_edge(token.head.text, token.text)\n",
    "    return G\n",
    "\n",
    "def compare_facts(original_facts, generated_facts):\n",
    "    original_graph = build_fact_graph(original_facts)\n",
    "    generated_graph = build_fact_graph(generated_facts)\n",
    "    \n",
    "    fabricated_facts = []\n",
    "    for fact in generated_facts:\n",
    "        if not any(nx.is_isomorphic(original_graph, generated_graph.subgraph(c)) \n",
    "                   for c in nx.connected_components(generated_graph)):\n",
    "            fabricated_facts.append(fact)\n",
    "    \n",
    "    return fabricated_facts\n",
    "\n",
    "def check_fact_fabrication(original_text, generated_text):\n",
    "    original_facts = extract_facts(original_text)\n",
    "    generated_facts = extract_facts(generated_text)\n",
    "    \n",
    "    fabricated_facts = compare_facts(original_facts, generated_facts)\n",
    "    \n",
    "    if fabricated_facts:\n",
    "        print(\"Potential fabricated facts detected:\")\n",
    "        for fact in fabricated_facts:\n",
    "            print(f\"- {fact}\")\n",
    "    else:\n",
    "        print(\"No fabricated facts detected.\")"
   ]
  },
  {
   "cell_type": "code",
   "execution_count": 5,
   "metadata": {},
   "outputs": [],
   "source": [
    "from utils import load_json, load_txt\n",
    "actual_facts = load_json(\"../bigger_study_sample/001-57899.json\")['facts']\n",
    "generated_facts = load_txt(\"./gpt-4/001-57899.txt\")"
   ]
  },
  {
   "cell_type": "code",
   "execution_count": 7,
   "metadata": {},
   "outputs": [
    {
     "name": "stdout",
     "output_type": "stream",
     "text": [
      "Potential fabricated facts detected:\n",
      "- The case involves Mr. Anthony Boner, a British citizen, born in 1960, who was convicted of multiple criminal offenses, including assault and armed robbery, in a trial held in the High Court of Justiciary, Scotland, between March 29 and April 10, 1990.\n",
      "- The key facts of the case are as follows:\n",
      "\n",
      "\n",
      "- **Key Events:**\n",
      "   - On December 14, 1989, three masked men, armed with a shotgun and a knife, committed a robbery at a post office in Glen Village, where they assaulted three employees and caused damage to a car.\n",
      "   - Mr. Boner, along with two others, was arrested following an investigation and was charged with assault, armed robbery, wilful damage, and firearm-related offenses.\n",
      "   -\n",
      "- During the trial, a witness, Mrs. G., was allowed to give evidence after being present in the courtroom before her testimony, which the defense objected to.\n",
      "- The trial judge ruled that her earlier presence did not affect the fairness of her testimony.\n",
      "- Mrs. G.'s evidence implicated Mr. Boner in the robbery.\n",
      "   \n",
      "- - The jury found Mr. Boner guilty of all charges, and he was sentenced to eight years in prison.\n",
      "   - Mr. Boner filed an appeal against his conviction, but his solicitors and counsel withdrew support, as they did not believe there were substantial grounds for appeal.\n",
      "\n",
      "\n",
      "- Mr. Anthony Boner (British citizen and appellant in the case).\n",
      "   - **Respondent:**\n",
      "- Involved in denying Mr. Boner’s request for legal aid to appeal his conviction.\n",
      "   \n",
      "- - **Counsel for the Crown:**\n",
      "- Representing the government during the appeal.\n",
      "   \n",
      "- - **European Commission of Human Rights:**\n",
      "- Referred the case to the European Court of Human Rights (ECHR).\n",
      "   -\n",
      "- **European Court of Human Rights (ECHR):** Ultimately ruled on the violation of Mr. Boner’s rights under Article 6 para.\n",
      "- 3 (c) of the European Convention on Human Rights.\n",
      "\n",
      "\n",
      "- 3. **Legal Issue:**\n",
      "   - The primary legal issue in the case was whether Mr. Boner’s right to free legal assistance under Article 6 para.\n",
      "- 3 (c) of the European Convention on Human Rights was violated.\n",
      "- Specifically, it was argued that the \"interests of justice\" required legal representation during Mr. Boner’s appeal hearing, especially since he lacked legal knowledge, while the Crown was represented by counsel.\n",
      "- Despite the withdrawal of his legal aid due to insufficient grounds for appeal, Mr. Boner represented himself in the appeal.\n",
      "\n",
      "\n",
      "- The European Court of Human Rights found that the failure to provide Mr. Boner with free legal assistance during his appeal hearing amounted to a violation of Article 6 para.\n",
      "- 3 (c), as the \"interests of justice\" required legal representation.\n"
     ]
    }
   ],
   "source": [
    "check_fact_fabrication(original_text, generated_facts)"
   ]
  },
  {
   "cell_type": "code",
   "execution_count": 16,
   "metadata": {},
   "outputs": [
    {
     "data": {
      "text/plain": [
       "'I. CIRCUMSTANCES OF THE CASE\\n6. The applicant, Mr Anthony Boner, is a British citizen born in 1960. He lives in .\\nOn 14 December 1989 three masked men, armed with a shotgun and a knife, carried out a robbery at a post office in Glen Village, , in the course of which they assaulted three post-office employees. They also caused damage to a motor car.\\nFollowing investigations, Mr Boner and two other men were arrested and remanded in custody. The applicant was indicted on a charge of assault and armed robbery, a charge of wilful damage and three charges relating to firearms. Between 29 March and 10 April 1990 he stood trial in the High Court of Justiciary sitting in .\\n7. The applicant received legal aid for the preparation of his defence and for his representation by counsel at the trial.\\n8. During the trial a prosecution witness, Mrs G., entered the courtroom prior to giving evidence and spoke to one of the applicant s co-accused, against whom charges had been dropped. When Mrs G. was called to give evidence, the applicant s counsel objected on the basis of her earlier presence in court. The trial judge adjourned the case and instructed prosecuting counsel to make further inquiries into the matter so that it could be determined whether Mrs G. s attendance was due to any negligence or failure on the part of the Crown. Prosecuting counsel informed the judge that inquiries had revealed no fault on the part of anyone for whom the Crown bore responsibility. This was not disputed by the applicant s counsel, who, moreover, was unable to give any indication as to how Mrs G. s evidence could be affected by her earlier presence in court. The trial judge accordingly took the view that no injustice would be done by Mrs G. s examination. Finding that the relevant legal conditions were satisfied (see paragraph 17 below), he therefore exercised his discretion and permitted her to give evidence. Subsequently, counsel for the applicant had the opportunity to cross-examine Mrs G. on the matter of her attendance in court.\\nIn her evidence, Mrs G. stated that the applicant had been at her home the evening before the robbery and had spoken of robbing the post office. The following morning he had left the house and returned later with a bag, in a state of nervousness. Other evidence against the applicant included the fact that a shotgun and various items stolen from the post office were found on the applicant s premises. In addition, a different witness identified Mr Boner as being one of the robbers and Mrs G. s statement was supported by her 9-year-old daughter.\\n9. The jury found the applicant guilty on all the charges. Taking account of his numerous previous convictions, the judge sentenced him to eight years imprisonment.\\n10. On 17 April 1990 the applicant, through his solicitor, lodged an intimation of intention to appeal against conviction.\\n11. Mr Boner instructed new solicitors, who asked a different counsel to advise on the prospects of an appeal and to draft a note of appeal.\\nIn his opinion dated 10 June 1990 counsel stated his view that the only possible ground of appeal related to the \"admissibility of the evidence of Mrs G.\" and to the question \"that the trial judge erred in exercising discretion in allowing her to be present\". However, he conceded that he had not been provided with sufficient information to be able properly to base an opinion or to frame grounds of appeal. Notwithstanding this acknowledgement he did draft a note of appeal which contained six grounds, the first two of which concerned the trial judge s decision to admit the witness. This note of appeal was filed by the applicant s solicitors on 13 June 1990.\\n12. Up to this point all the work had been covered by the legal aid granted for the trial. An application to extend legal aid to the appeal proceedings had been submitted in May 1990. On 25 July 1990 the Scottish Legal Aid Board (\"the Board\") asked the applicant to provide an opinion from counsel on the prospects of success. The earlier opinion dated 10 June 1990 was accordingly forwarded to the Board, together with a supplementary opinion from the same counsel dated 6 September 1990. In this latter opinion counsel reiterated the view that the appeal rested on the question whether Mrs G. s evidence was admissible. However, he again stated that he had not been provided with sufficient material on which to assess the merits of the appeal. \"I regret meantime I am unable to answer the fundamental question in this case\", he concluded.\\n13. On 27 September 1990 the applicant s solicitors informed the Board by telephone that counsel had finally decided that he could not support the application for legal aid or the appeal; that they were of the same view; and that, consequently, they could no longer act for the applicant. The terms of that telephone call were confirmed in a letter dated 2 November 1990 from the solicitors to the Board.\\n14. On 14 November 1990 the Scottish Legal Aid Board notified Mr Boner s solicitors that his application for legal aid had been refused as the Board was not satisfied, as it was required to be under the relevant legislation (see paragraph 26 below), that he had substantial grounds for taking an appeal and that it was reasonable that he should receive legal aid. In a letter of 11 December 1990 to the applicant the Board added that it could not see any merit in the appeal. Despite the advice of his solicitors and counsel, Mr Boner decided to proceed with the appeal.\\n15. The applicant, who had no legal knowledge and had no assistance with his submissions, presented his own case on 24 January 1991 before the High Court of Justiciary, sitting in and acting as an appellate court. The Crown was represented by counsel. There is no indication in the record that the court required counsel for the Crown to address it.\\n16. The appeal court considered the first two grounds of appeal relating to Mrs G. and held that these were ill-founded and that the trial judge had approached the matter properly. As the applicant did not address the court on the remaining grounds of appeal, these were not considered by the court. It did however examine other points raised by the applicant, but reached \"the clear conclusion that there was no miscarriage of justice in the case\". The appeal against conviction was unanimously dismissed.\\nII. RELEVANT DOMESTIC LAW AND PRACTICE\\nA. Presence of witness in court\\n17. Under Scots law, a witness who has been present in court without the court s permission and without consent from the opposite party may still be allowed to give evidence provided that \"it appears to the court that the presence of the witness was not the result of culpable negligence or criminal intent, and that the witness had not been unduly instructed or influenced by what took place during his presence, or that injustice will not be done by his examination\" (section 140 of the Criminal Procedure (Scotland) Act 1975 - \"the 1975 Act\").\\nB. Appeals in criminal proceedings\\n18. The following details relate solely to the \"solemn procedure\", under which trial proceeds upon an indictment before a judge sitting with a jury.\\n19. A person convicted of a criminal charge in has an automatic right of appeal granted by statute (section 228 of the 1975 Act). No leave to appeal is required.\\n20. In an appeal, the appellant may ask the court to review any alleged miscarriage of justice in the proceedings in which he was convicted (section 228(2) of the 1975 Act). What is a miscarriage of justice is not defined by statute, but the term covers such matters as misdirections by the trial judge or wrong decisions on the admissibility of evidence, as well as breaches of natural justice. In any appeal, the nature of the alleged miscarriage of justice must be specified in the grounds of appeal contained in a written note of appeal, lodged within eight weeks of the date when sentence was imposed upon the appellant (section 233(1) and (2) of the 1975 Act). An appellant may not, at the appeal hearing, found any aspect of his appeal on a ground which is not contained in the note of appeal unless, exceptionally and on cause shown, he obtains the leave of the court to do so (section 233(3) of the 1975 Act).\\n21. An appeal is heard by a bench of not less than three judges. At the hearing of the appeal the appellant or his counsel, if he is represented, makes submissions to the court in support of the grounds of appeal. Appellants who do not have legal representation are not required to make an oral presentation: they are allowed, however, to read any material that they may have prepared or collected.\\nThe Crown is always represented by counsel at the hearing of criminal appeals. Their duty is to act solely in the public interest and not to seek to uphold a wrongful decision. Accordingly, they will only address the court if requested to do so or if it is necessary to bring to the attention of the court some matter relevant to the appeal, whether or not favourable to the prosecution.\\n22. In disposing of an appeal against conviction the court may dismiss it and affirm the verdict of the trial court; set aside the verdict of the trial court either by quashing the conviction or by substituting an amended verdict of guilty; or set aside the verdict of the trial court and authorise a new prosecution (section 254 of the 1975 Act).\\nC. Representation of appellants by counsel\\n23. Counsel in are vested with the public office of advocate, which imposes a number of duties upon them, among which is the duty not to accept instructions to act in circumstances where, in their professional opinion, a case is manifestly unfounded, even if the client is able to pay for such representation.\\nThe basis of this rule of professional conduct is that counsel cannot properly occupy the time of the court in advancing arguments which he knows to be without foundation.\\nD. Legal aid for criminal appeals\\n24. The administration of legal aid in Scotland is the responsibility of the Scottish Legal Aid Board, an independent body whose members are appointed by the Secretary of State for from among counsel, solicitors and other persons with experience of the courts.\\n25. Legal aid which has been made available for a trial on indictment extends, in the case of conviction, to include consideration and advice by a solicitor on the question of appeal. An opinion on the prospect of the appeal can also be obtained from the counsel who acted at the trial.\\nUnder special provisions legal aid is also available to enable the solicitor to prepare and lodge the statutory intimation of intention to appeal and, where appropriate, arrange for the opinion of counsel to be obtained as to the prospects of the appeal, and for the drafting and lodging of a note of appeal setting out the grounds of appeal.\\n26. To extend legal aid beyond this point a further application by the solicitor to the Legal Aid Board is required. This should include confirmation that the applicant s solicitor is willing to act in the appeal as well as a statement of the arguments in support of the grounds of appeal and a note of the solicitor s reasons for believing that the grounds of appeal are substantial and that legal aid should be made available.\\nThe application will be granted if the Board is satisfied that the applicant is financially eligible, that \"he has substantial grounds for making the appeal and it is reasonable in the particular circumstances of the case that legal aid should be made available to him\" (Legal Aid (Scotland) Act 1986, section 25(2)).\\n27. The Board takes its decisions on the basis of the documents before it, which normally include copies of the note of appeal, the trial judge s charge to the jury and the trial judge s report on the case. The views expressed by the applicant s solicitor and counsel will also be taken into account.\\n28. Although the legislation does not provide for a formal review, the Board will, as a matter of practice, when requested to do so, reconsider an application which has been refused. Such reconsideration involves the application being referred to an external reporter, who was not involved in the Board s earlier decision and who reports to the Board on the merits of the application. Otherwise, Board decisions are subject to ordinary judicial review.\\n29. If the appellant proceeds with his appeal without legal aid and the court considers that, prima facie, he may have substantial grounds for taking the appeal and it is in the interests of justice that he should have legal representation in arguing these grounds, the court must immediately adjourn the hearing and make a recommendation that the Board s decision be reviewed.\\n30. The practice of the court in this regard was formalised following the judgment of the European Court of Human Rights in Granger v. the of 28 March 1990 (Series A no. 174) by a Practice Note to this effect issued on 4 December 1990 by the Lord Justice General to all Appeal Court Chairmen and Clerks:\\n\"In any appeal where legal aid has been refused and the court considers that prima facie an appellant may have substantial grounds for taking the appeal and it is in the interests of justice that the appellant should have legal representation in arguing his grounds, the court shall forthwith adjourn the hearing and make a recommendation that the decision to refuse legal aid should be reviewed.\"\\n31. Where such a recommendation is made, legal aid is automatically granted. To this end, the Manual of Procedure of the Scottish Legal Aid Board provides in paragraph 6.12 that:\\n\"In these circumstances the Board will receive a letter from the High Court of Justiciary giving the details of the case where they are recommending a re-consideration of the decision to refuse. If we are asked to re-consider a decision in these circumstances, then the application should be granted automatically. The case need not be seen by a reporter or Board solicitor, but ought to be referred to the Assistant Manager for the appropriate action.\"32. Mr Boner applied to the Commission on 4 April 1991. He relied on Article 6 para. 3 (c) (art. 6-3-c) of the Convention, complaining that he had been refused legal aid.\\n33. The Commission declared the application (no. 18711/91) admissible on 9 December 1992. In its report of 4 May 1993 (Article 31) (art. 31), it concluded, by seventeen votes to two, that there had been a violation of Article 6 para. 3 (c) (art. 6-3-c).\\nThe full text of the Commission s opinion and of the dissenting opinion contained in the report is reproduced as an annex to this judgment.'"
      ]
     },
     "execution_count": 16,
     "metadata": {},
     "output_type": "execute_result"
    }
   ],
   "source": [
    "actual_facts"
   ]
  },
  {
   "cell_type": "code",
   "execution_count": 6,
   "metadata": {},
   "outputs": [
    {
     "data": {
      "text/plain": [
       "'**Answer:**  \\nThe case involves Mr. Anthony Boner, a British citizen, born in 1960, who was convicted of multiple criminal offenses, including assault and armed robbery, in a trial held in the High Court of Justiciary, Scotland, between March 29 and April 10, 1990. The key facts of the case are as follows:\\n\\n1. **Key Events:**\\n   - On December 14, 1989, three masked men, armed with a shotgun and a knife, committed a robbery at a post office in Glen Village, where they assaulted three employees and caused damage to a car.\\n   - Mr. Boner, along with two others, was arrested following an investigation and was charged with assault, armed robbery, wilful damage, and firearm-related offenses.\\n   - During the trial, a witness, Mrs. G., was allowed to give evidence after being present in the courtroom before her testimony, which the defense objected to. The trial judge ruled that her earlier presence did not affect the fairness of her testimony. Mrs. G.\\'s evidence implicated Mr. Boner in the robbery.\\n   - The jury found Mr. Boner guilty of all charges, and he was sentenced to eight years in prison.\\n   - Mr. Boner filed an appeal against his conviction, but his solicitors and counsel withdrew support, as they did not believe there were substantial grounds for appeal.\\n\\n2. **Parties Involved:**\\n   - **Applicant:** Mr. Anthony Boner (British citizen and appellant in the case).\\n   - **Respondent:** The United Kingdom Government.\\n   - **Scottish Legal Aid Board:** Involved in denying Mr. Boner’s request for legal aid to appeal his conviction.\\n   - **Counsel for the Crown:** Representing the government during the appeal.\\n   - **European Commission of Human Rights:** Referred the case to the European Court of Human Rights (ECHR).\\n   - **European Court of Human Rights (ECHR):** Ultimately ruled on the violation of Mr. Boner’s rights under Article 6 para. 3 (c) of the European Convention on Human Rights.\\n\\n3. **Legal Issue:**\\n   - The primary legal issue in the case was whether Mr. Boner’s right to free legal assistance under Article 6 para. 3 (c) of the European Convention on Human Rights was violated. Specifically, it was argued that the \"interests of justice\" required legal representation during Mr. Boner’s appeal hearing, especially since he lacked legal knowledge, while the Crown was represented by counsel. Despite the withdrawal of his legal aid due to insufficient grounds for appeal, Mr. Boner represented himself in the appeal.\\n\\nThe European Court of Human Rights found that the failure to provide Mr. Boner with free legal assistance during his appeal hearing amounted to a violation of Article 6 para. 3 (c), as the \"interests of justice\" required legal representation.'"
      ]
     },
     "execution_count": 6,
     "metadata": {},
     "output_type": "execute_result"
    }
   ],
   "source": [
    "generated_facts"
   ]
  },
  {
   "cell_type": "code",
   "execution_count": 2,
   "metadata": {},
   "outputs": [
    {
     "name": "stderr",
     "output_type": "stream",
     "text": [
      "/Users/ahmed/thesis24/lib/python3.11/site-packages/sentence_transformers/cross_encoder/CrossEncoder.py:13: TqdmExperimentalWarning: Using `tqdm.autonotebook.tqdm` in notebook mode. Use `tqdm.tqdm` instead to force console mode (e.g. in jupyter console)\n",
      "  from tqdm.autonotebook import tqdm, trange\n"
     ]
    }
   ],
   "source": [
    "import spacy\n",
    "from sentence_transformers import SentenceTransformer\n",
    "from sklearn.metrics.pairwise import cosine_similarity\n",
    "import numpy as np"
   ]
  },
  {
   "cell_type": "code",
   "execution_count": 3,
   "metadata": {},
   "outputs": [
    {
     "data": {
      "application/vnd.jupyter.widget-view+json": {
       "model_id": "1213acd23dfc4d8cba2cc97a6387b3c6",
       "version_major": 2,
       "version_minor": 0
      },
      "text/plain": [
       "modules.json:   0%|          | 0.00/349 [00:00<?, ?B/s]"
      ]
     },
     "metadata": {},
     "output_type": "display_data"
    },
    {
     "data": {
      "application/vnd.jupyter.widget-view+json": {
       "model_id": "d377f7c065884fcfb142b5e4834df5f4",
       "version_major": 2,
       "version_minor": 0
      },
      "text/plain": [
       "config_sentence_transformers.json:   0%|          | 0.00/116 [00:00<?, ?B/s]"
      ]
     },
     "metadata": {},
     "output_type": "display_data"
    },
    {
     "data": {
      "application/vnd.jupyter.widget-view+json": {
       "model_id": "7547579144c94e2db7dfc9598481f881",
       "version_major": 2,
       "version_minor": 0
      },
      "text/plain": [
       "README.md:   0%|          | 0.00/10.7k [00:00<?, ?B/s]"
      ]
     },
     "metadata": {},
     "output_type": "display_data"
    },
    {
     "data": {
      "application/vnd.jupyter.widget-view+json": {
       "model_id": "2fa5835d06e4410f964dd708bb4834d2",
       "version_major": 2,
       "version_minor": 0
      },
      "text/plain": [
       "sentence_bert_config.json:   0%|          | 0.00/53.0 [00:00<?, ?B/s]"
      ]
     },
     "metadata": {},
     "output_type": "display_data"
    },
    {
     "data": {
      "application/vnd.jupyter.widget-view+json": {
       "model_id": "81215a506aee4e5487269f81f66be342",
       "version_major": 2,
       "version_minor": 0
      },
      "text/plain": [
       "config.json:   0%|          | 0.00/612 [00:00<?, ?B/s]"
      ]
     },
     "metadata": {},
     "output_type": "display_data"
    },
    {
     "data": {
      "application/vnd.jupyter.widget-view+json": {
       "model_id": "576dfcb325fc43caad013e28a11cb2af",
       "version_major": 2,
       "version_minor": 0
      },
      "text/plain": [
       "model.safetensors:   0%|          | 0.00/90.9M [00:00<?, ?B/s]"
      ]
     },
     "metadata": {},
     "output_type": "display_data"
    },
    {
     "data": {
      "application/vnd.jupyter.widget-view+json": {
       "model_id": "8bf9a757394f4eb39914637f62d730a3",
       "version_major": 2,
       "version_minor": 0
      },
      "text/plain": [
       "tokenizer_config.json:   0%|          | 0.00/350 [00:00<?, ?B/s]"
      ]
     },
     "metadata": {},
     "output_type": "display_data"
    },
    {
     "data": {
      "application/vnd.jupyter.widget-view+json": {
       "model_id": "0bec6c2598a44f65ae0fc241c8799cef",
       "version_major": 2,
       "version_minor": 0
      },
      "text/plain": [
       "vocab.txt:   0%|          | 0.00/232k [00:00<?, ?B/s]"
      ]
     },
     "metadata": {},
     "output_type": "display_data"
    },
    {
     "data": {
      "application/vnd.jupyter.widget-view+json": {
       "model_id": "fe4e0b19df4a47eeadfdcf1f0e890961",
       "version_major": 2,
       "version_minor": 0
      },
      "text/plain": [
       "tokenizer.json:   0%|          | 0.00/466k [00:00<?, ?B/s]"
      ]
     },
     "metadata": {},
     "output_type": "display_data"
    },
    {
     "data": {
      "application/vnd.jupyter.widget-view+json": {
       "model_id": "3b8f86d8a603484d86ee09fd8ce346d2",
       "version_major": 2,
       "version_minor": 0
      },
      "text/plain": [
       "special_tokens_map.json:   0%|          | 0.00/112 [00:00<?, ?B/s]"
      ]
     },
     "metadata": {},
     "output_type": "display_data"
    },
    {
     "name": "stderr",
     "output_type": "stream",
     "text": [
      "/Users/ahmed/thesis24/lib/python3.11/site-packages/transformers/tokenization_utils_base.py:1601: FutureWarning: `clean_up_tokenization_spaces` was not set. It will be set to `True` by default. This behavior will be depracted in transformers v4.45, and will be then set to `False` by default. For more details check this issue: https://github.com/huggingface/transformers/issues/31884\n",
      "  warnings.warn(\n"
     ]
    },
    {
     "data": {
      "application/vnd.jupyter.widget-view+json": {
       "model_id": "e02e2b1dbfa14305822fe5cb0b28b1e1",
       "version_major": 2,
       "version_minor": 0
      },
      "text/plain": [
       "1_Pooling/config.json:   0%|          | 0.00/190 [00:00<?, ?B/s]"
      ]
     },
     "metadata": {},
     "output_type": "display_data"
    }
   ],
   "source": [
    "# Load models\n",
    "nlp = spacy.load(\"en_core_web_sm\")\n",
    "sentence_model = SentenceTransformer('all-MiniLM-L6-v2')\n",
    "\n",
    "def extract_key_facts(text):\n",
    "    doc = nlp(text)\n",
    "    facts = []\n",
    "    for sent in doc.sents:\n",
    "        if any(token.dep_ in [\"nsubj\", \"dobj\", \"pobj\"] for token in sent):\n",
    "            facts.append(sent.text)\n",
    "    return facts\n",
    "\n",
    "def semantic_similarity(sent1, sent2):\n",
    "    emb1 = sentence_model.encode([sent1])\n",
    "    emb2 = sentence_model.encode([sent2])\n",
    "    return cosine_similarity(emb1, emb2)[0][0]\n",
    "\n",
    "def check_fact_fabrication(original_text, generated_text, similarity_threshold=0.7):\n",
    "    original_facts = extract_key_facts(original_text)\n",
    "    generated_facts = extract_key_facts(generated_text)\n",
    "    \n",
    "    fabricated_facts = []\n",
    "    for gen_fact in generated_facts:\n",
    "        max_similarity = max(semantic_similarity(gen_fact, orig_fact) for orig_fact in original_facts)\n",
    "        if max_similarity < similarity_threshold:\n",
    "            fabricated_facts.append(gen_fact)\n",
    "    \n",
    "    return fabricated_facts"
   ]
  },
  {
   "cell_type": "code",
   "execution_count": 4,
   "metadata": {},
   "outputs": [],
   "source": [
    "from utils import load_json, load_txt\n",
    "actual_facts = load_json(\"../bigger_study_sample/001-57899.json\")['facts']\n",
    "generated_facts = load_txt(\"./gpt-4/001-57899.txt\")"
   ]
  },
  {
   "cell_type": "code",
   "execution_count": 6,
   "metadata": {},
   "outputs": [
    {
     "name": "stdout",
     "output_type": "stream",
     "text": [
      "Potential fabricated facts detected:\n",
      "- The case involves Mr. Anthony Boner, a British citizen, born in 1960, who was convicted of multiple criminal offenses, including assault and armed robbery, in a trial held in the High Court of Justiciary, Scotland, between March 29 and April 10, 1990.\n",
      "- The key facts of the case are as follows:\n",
      "\n",
      "\n",
      "- The trial judge ruled that her earlier presence did not affect the fairness of her testimony.\n",
      "- Involved in denying Mr. Boner’s request for legal aid to appeal his conviction.\n",
      "   \n",
      "- Representing the government during the appeal.\n",
      "   \n",
      "- - **European Commission of Human Rights:**\n",
      "- Referred the case to the European Court of Human Rights (ECHR).\n",
      "   -\n",
      "- **European Court of Human Rights (ECHR):** Ultimately ruled on the violation of Mr. Boner’s rights under Article 6 para.\n",
      "- 3 (c) of the European Convention on Human Rights.\n",
      "\n",
      "\n",
      "- 3. **Legal Issue:**\n",
      "   - The primary legal issue in the case was whether Mr. Boner’s right to free legal assistance under Article 6 para.\n",
      "- 3 (c) of the European Convention on Human Rights was violated.\n",
      "- Specifically, it was argued that the \"interests of justice\" required legal representation during Mr. Boner’s appeal hearing, especially since he lacked legal knowledge, while the Crown was represented by counsel.\n",
      "- The European Court of Human Rights found that the failure to provide Mr. Boner with free legal assistance during his appeal hearing amounted to a violation of Article 6 para.\n",
      "- 3 (c), as the \"interests of justice\" required legal representation.\n"
     ]
    }
   ],
   "source": [
    "fabricated_facts = check_fact_fabrication(actual_facts, generated_facts)\n",
    "\n",
    "if fabricated_facts:\n",
    "    print(\"Potential fabricated facts detected:\")\n",
    "    for fact in fabricated_facts:\n",
    "        print(f\"- {fact}\")\n",
    "else:\n",
    "    print(\"No fabricated facts detected.\")"
   ]
  },
  {
   "cell_type": "code",
   "execution_count": null,
   "metadata": {},
   "outputs": [],
   "source": []
  }
 ],
 "metadata": {
  "kernelspec": {
   "display_name": "thesis24",
   "language": "python",
   "name": "thesis24"
  },
  "language_info": {
   "codemirror_mode": {
    "name": "ipython",
    "version": 3
   },
   "file_extension": ".py",
   "mimetype": "text/x-python",
   "name": "python",
   "nbconvert_exporter": "python",
   "pygments_lexer": "ipython3",
   "version": "3.11.3"
  },
  "orig_nbformat": 4
 },
 "nbformat": 4,
 "nbformat_minor": 2
}
