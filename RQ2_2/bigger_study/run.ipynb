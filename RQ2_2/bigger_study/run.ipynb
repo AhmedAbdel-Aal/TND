{
 "cells": [
  {
   "cell_type": "code",
   "execution_count": 2,
   "metadata": {},
   "outputs": [
    {
     "name": "stdout",
     "output_type": "stream",
     "text": [
      "The autoreload extension is already loaded. To reload it, use:\n",
      "  %reload_ext autoreload\n"
     ]
    }
   ],
   "source": [
    "%load_ext autoreload\n",
    "%autoreload 2"
   ]
  },
  {
   "cell_type": "code",
   "execution_count": 3,
   "metadata": {},
   "outputs": [],
   "source": [
    "import os\n",
    "import time\n",
    "import ollama\n",
    "import json\n",
    "from utils import load_json, save_json"
   ]
  },
  {
   "cell_type": "code",
   "execution_count": 4,
   "metadata": {},
   "outputs": [],
   "source": [
    "cases = []\n",
    "for root, dirs, files in os.walk('../bigger_study_sample/'):\n",
    "    for file in files:\n",
    "        if file.endswith('.json'):\n",
    "            cases.append(os.path.join(root, file))"
   ]
  },
  {
   "cell_type": "code",
   "execution_count": 5,
   "metadata": {},
   "outputs": [
    {
     "data": {
      "text/plain": [
       "['../bigger_study_sample/001-85449.json',\n",
       " '../bigger_study_sample/001-170054.json',\n",
       " '../bigger_study_sample/001-145342.json',\n",
       " '../bigger_study_sample/001-147040.json',\n",
       " '../bigger_study_sample/001-57899.json',\n",
       " '../bigger_study_sample/001-57676.json',\n",
       " '../bigger_study_sample/001-111142.json',\n",
       " '../bigger_study_sample/001-57430.json']"
      ]
     },
     "execution_count": 5,
     "metadata": {},
     "output_type": "execute_result"
    }
   ],
   "source": [
    "cases"
   ]
  },
  {
   "cell_type": "code",
   "execution_count": 6,
   "metadata": {},
   "outputs": [],
   "source": [
    "import re\n",
    "\n",
    "def get_last_question(text):\n",
    "    # Regex pattern to match questions, considering multiline questions\n",
    "    pattern = r'Question:\\s*(.*?)(?=\\n[A-Z]|\\Z)'\n",
    "\n",
    "    # Find all matches with the multiline flag enabled\n",
    "    matches = re.findall(pattern, text, re.DOTALL)\n",
    "    \n",
    "    # Get the last match\n",
    "    last_question = matches[-1] if matches else None\n",
    "\n",
    "    return last_question\n",
    "\n",
    "\n",
    "def check_for_stop(text):\n",
    "    # Regex pattern to match questions, considering multiline questions\n",
    "    pattern = r'Stop:\\s*(.*?)(?=\\n[A-Z]|\\Z)'\n",
    "\n",
    "    # Find all matches with the multiline flag enabled\n",
    "    matches = re.findall(pattern, text, re.DOTALL)\n",
    "    \n",
    "    # Get the last match\n",
    "    stop = matches[-1] if matches else None\n",
    "\n",
    "    return stop\n",
    "\n",
    "def check_for_final_answer(text):\n",
    "    # Regex pattern to match questions, considering multiline questions\n",
    "    pattern = r'Final Answer:\\s*(.*?)(?=\\n[A-Z]|\\Z)'\n",
    "\n",
    "    # Find all matches with the multiline flag enabled\n",
    "    matches = re.findall(pattern, text, re.DOTALL)\n",
    "    \n",
    "    # Get the last match\n",
    "    stop = matches[-1] if matches else None\n",
    "\n",
    "    return stop\n"
   ]
  },
  {
   "cell_type": "code",
   "execution_count": 7,
   "metadata": {},
   "outputs": [],
   "source": [
    "from agent_senior import SeniorAgent\n",
    "from agent_junior import JuniorAgent"
   ]
  },
  {
   "cell_type": "code",
   "execution_count": 8,
   "metadata": {},
   "outputs": [],
   "source": [
    "s_agent = SeniorAgent()\n",
    "j_agent = JuniorAgent()"
   ]
  },
  {
   "cell_type": "code",
   "execution_count": 9,
   "metadata": {},
   "outputs": [],
   "source": [
    "c4 = load_json('../bigger_study_sample/001-57899.json')"
   ]
  },
  {
   "cell_type": "code",
   "execution_count": 10,
   "metadata": {},
   "outputs": [],
   "source": [
    "def run_conversation(s_agent, j_agent, case):\n",
    "    round = 20\n",
    "    all_conversation = \"\"\n",
    "\n",
    "    for i in range(round):\n",
    "        print(f\"---------------------round{i+1}-------------------------\")\n",
    "        all_conversation += f\"---------------------round{i+1}-------------------------\\n\"\n",
    "        response = s_agent.ask_question()\n",
    "        question = get_last_question(response)\n",
    "        print(f\"Q: {question}\")\n",
    "        stop = check_for_stop(response)\n",
    "        final_answer = check_for_final_answer(response)\n",
    "        if (stop is not None) or (final_answer is not None):\n",
    "            print(f\"Stop: {stop}, final_answer: {final_answer}\")\n",
    "            print(response)\n",
    "            all_conversation += f\"\\n{response}\"\n",
    "            break\n",
    "\n",
    "        answer = j_agent.answer_question(case['facts'], case['conclusion'], question)\n",
    "        s_agent.append_to_cache(answer)\n",
    "        \n",
    "        print(f\"Senior Agent -> {question}\")\n",
    "        print(f\"Junior Agent -> {answer}\")\n",
    "\n",
    "        all_conversation += f\"Senior Agent -> {question}\\n\\n Junior Agent -> {answer}\\n\\n\"\n",
    "        time.sleep(20)\n",
    "    return all_conversation"
   ]
  },
  {
   "cell_type": "markdown",
   "metadata": {},
   "source": [
    "# C4"
   ]
  },
  {
   "cell_type": "code",
   "execution_count": 11,
   "metadata": {},
   "outputs": [
    {
     "name": "stdout",
     "output_type": "stream",
     "text": [
      "---------------------round1-------------------------\n",
      "Q: What are the specific facts of the legal case that I should consider for this task?\n",
      "Senior Agent -> What are the specific facts of the legal case that I should consider for this task?\n",
      "Junior Agent -> Answer: The specific facts of the legal case that I should consider for this task are:\n",
      "\n",
      "* The applicant, Mr. Anthony Boner, was convicted of armed robbery and sentenced to eight years imprisonment.\n",
      "* He was denied legal aid for his appeal, despite having substantial grounds for taking the appeal.\n",
      "* His solicitors and counsel had declined to continue to act for him because they believed the grounds of appeal were not substantial.\n",
      "* The Scottish Legal Aid Board refused his application for legal aid for the appeal, citing that there were no substantial grounds for making the appeal.\n",
      "* Mr. Boner proceeded with his appeal without legal representation, and the appeal court dismissed his appeal.\n",
      "* The appeal court judges took particular care to ensure that Mr. Boner was treated with courtesy and consideration, and counsel for the Crown was present at the hearing but did not actively participate.\n",
      "* The case raises a legal issue concerning the exercise of the trial judge's discretion, and Mr. Boner's conviction had led to the imposition of a sentence of eight years imprisonment.\n"
     ]
    },
    {
     "ename": "KeyboardInterrupt",
     "evalue": "",
     "output_type": "error",
     "traceback": [
      "\u001b[0;31m---------------------------------------------------------------------------\u001b[0m",
      "\u001b[0;31mKeyboardInterrupt\u001b[0m                         Traceback (most recent call last)",
      "\u001b[1;32m/Users/ahmed/Desktop/msc-24/TND/RQ2_2/bigger_study/run.ipynb Cell 11\u001b[0m line \u001b[0;36m4\n\u001b[1;32m      <a href='vscode-notebook-cell:/Users/ahmed/Desktop/msc-24/TND/RQ2_2/bigger_study/run.ipynb#X13sZmlsZQ%3D%3D?line=0'>1</a>\u001b[0m s_agent \u001b[39m=\u001b[39m SeniorAgent()\n\u001b[1;32m      <a href='vscode-notebook-cell:/Users/ahmed/Desktop/msc-24/TND/RQ2_2/bigger_study/run.ipynb#X13sZmlsZQ%3D%3D?line=1'>2</a>\u001b[0m j_agent \u001b[39m=\u001b[39m JuniorAgent()\n\u001b[0;32m----> <a href='vscode-notebook-cell:/Users/ahmed/Desktop/msc-24/TND/RQ2_2/bigger_study/run.ipynb#X13sZmlsZQ%3D%3D?line=3'>4</a>\u001b[0m all_conversation \u001b[39m=\u001b[39m run_conversation(s_agent, j_agent, c4)\n\u001b[1;32m      <a href='vscode-notebook-cell:/Users/ahmed/Desktop/msc-24/TND/RQ2_2/bigger_study/run.ipynb#X13sZmlsZQ%3D%3D?line=5'>6</a>\u001b[0m output_name \u001b[39m=\u001b[39m c4[\u001b[39m'\u001b[39m\u001b[39mitemid\u001b[39m\u001b[39m'\u001b[39m]\u001b[39m+\u001b[39m \u001b[39m'\u001b[39m\u001b[39m_output.json\u001b[39m\u001b[39m'\u001b[39m\n\u001b[1;32m      <a href='vscode-notebook-cell:/Users/ahmed/Desktop/msc-24/TND/RQ2_2/bigger_study/run.ipynb#X13sZmlsZQ%3D%3D?line=6'>7</a>\u001b[0m output_dict \u001b[39m=\u001b[39m {\u001b[39m'\u001b[39m\u001b[39mcache\u001b[39m\u001b[39m'\u001b[39m: s_agent\u001b[39m.\u001b[39mcache}\n",
      "\u001b[1;32m/Users/ahmed/Desktop/msc-24/TND/RQ2_2/bigger_study/run.ipynb Cell 11\u001b[0m line \u001b[0;36m2\n\u001b[1;32m     <a href='vscode-notebook-cell:/Users/ahmed/Desktop/msc-24/TND/RQ2_2/bigger_study/run.ipynb#X13sZmlsZQ%3D%3D?line=22'>23</a>\u001b[0m     \u001b[39mprint\u001b[39m(\u001b[39mf\u001b[39m\u001b[39m\"\u001b[39m\u001b[39mJunior Agent -> \u001b[39m\u001b[39m{\u001b[39;00manswer\u001b[39m}\u001b[39;00m\u001b[39m\"\u001b[39m)\n\u001b[1;32m     <a href='vscode-notebook-cell:/Users/ahmed/Desktop/msc-24/TND/RQ2_2/bigger_study/run.ipynb#X13sZmlsZQ%3D%3D?line=24'>25</a>\u001b[0m     all_conversation \u001b[39m+\u001b[39m\u001b[39m=\u001b[39m \u001b[39mf\u001b[39m\u001b[39m\"\u001b[39m\u001b[39mSenior Agent -> \u001b[39m\u001b[39m{\u001b[39;00mquestion\u001b[39m}\u001b[39;00m\u001b[39m\\n\u001b[39;00m\u001b[39m\\n\u001b[39;00m\u001b[39m Junior Agent -> \u001b[39m\u001b[39m{\u001b[39;00manswer\u001b[39m}\u001b[39;00m\u001b[39m\\n\u001b[39;00m\u001b[39m\\n\u001b[39;00m\u001b[39m\"\u001b[39m\n\u001b[0;32m---> <a href='vscode-notebook-cell:/Users/ahmed/Desktop/msc-24/TND/RQ2_2/bigger_study/run.ipynb#X13sZmlsZQ%3D%3D?line=25'>26</a>\u001b[0m     time\u001b[39m.\u001b[39;49msleep(\u001b[39m20\u001b[39;49m)\n\u001b[1;32m     <a href='vscode-notebook-cell:/Users/ahmed/Desktop/msc-24/TND/RQ2_2/bigger_study/run.ipynb#X13sZmlsZQ%3D%3D?line=26'>27</a>\u001b[0m \u001b[39mreturn\u001b[39;00m all_conversation\n",
      "\u001b[0;31mKeyboardInterrupt\u001b[0m: "
     ]
    }
   ],
   "source": [
    "s_agent = SeniorAgent()\n",
    "j_agent = JuniorAgent()\n",
    "\n",
    "all_conversation = run_conversation(s_agent, j_agent, c4)\n",
    "\n",
    "output_name = c4['itemid']+ '_output.json'\n",
    "output_dict = {'cache': s_agent.cache}\n",
    "save_json(output_name, output_dict)"
   ]
  },
  {
   "cell_type": "code",
   "execution_count": 15,
   "metadata": {},
   "outputs": [
    {
     "name": "stdout",
     "output_type": "stream",
     "text": [
      "---------------------round1-------------------------\n",
      "Senior Agent: What are the specific facts of the case that I should consider for this task?\n",
      "\n",
      " Junior Agent: Answer: The specific facts of the case that I should consider for this task are:\n",
      "\n",
      "* The applicant, Mr. Anthony Boner, was convicted of armed robbery and sentenced to eight years imprisonment.\n",
      "* He was denied legal aid for his appeal, despite having substantial grounds for appeal.\n",
      "* His solicitors and counsel declined to continue acting for him because they believed the grounds of appeal were not substantial.\n",
      "* The Scottish Legal Aid Board refused his application for legal aid, citing that there were no substantial grounds for making the appeal.\n",
      "* Mr. Boner proceeded with his appeal without legal representation, and the appeal court dismissed his appeal.\n",
      "* The appeal court judges took particular care to ensure that Mr. Boner was treated with courtesy and consideration, and counsel for the Crown was present but did not actively participate in the hearing.\n",
      "* The case raises a legal issue concerning the exercise of the trial judge's discretion, and Mr. Boner's conviction had led to the imposition of a sentence of eight years imprisonment.\n",
      "\n",
      "---------------------round2-------------------------\n",
      "Senior Agent: What is the specific legal issue or area of law implicated in the facts of the case that I should focus on, particularly in relation to the European Convention on Human Rights (ECHR)?\n",
      "\n",
      " Junior Agent: Answer: The specific legal issue or area of law implicated in the facts of the case is the right to a fair trial, as guaranteed by Article 6 of the European Convention on Human Rights (ECHR). The case concerns the refusal of legal aid to the applicant, Mr. Boner, for his appeal against conviction, and the subsequent lack of legal representation at the hearing of his appeal. The Court's decision focuses on whether the refusal of legal aid and the lack of legal representation at the hearing of the appeal violated the applicant's right to a fair trial, as protected by Article 6(3)(c) of the ECHR, which provides that \"everyone charged with a criminal offence has the right to defend himself in person or through legal assistance of his own choosing or, if he has not sufficient means to pay for legal assistance, to be given it free when the interests of justice so require\".\n",
      "\n",
      "---------------------round3-------------------------\n",
      "Senior Agent: What are the specific arguments presented by Mr. Boner in his application to the European Court of Human Rights (ECHR) regarding the alleged violation of his right to a fair trial under Article 6(3)(c) of the ECHR?\n",
      "\n",
      " Junior Agent: Answer: Mr. Boner's application to the European Court of Human Rights (ECHR) alleged that he was denied a fair trial under Article 6(3)(c) of the ECHR because he was refused legal aid for his appeal, despite having substantial grounds for taking the appeal. He argued that the refusal of legal aid was unjustified and that the interests of justice required that he be provided with free legal assistance for the hearing of his appeal.\n",
      "\n",
      "---------------------round4-------------------------\n",
      "Senior Agent: What is the specific argument presented by Mr. Boner regarding the role of the Scottish Legal Aid Board in refusing his application for legal aid, and how does this relate to the alleged violation of his right to a fair trial under Article 6(3)(c) of the ECHR?\n",
      "\n",
      " Junior Agent: \"Answer: The specific argument presented by Mr. Boner regarding the role of the Scottish Legal Aid Board in refusing his application for legal aid is that the Board's decision was arbitrary and unreasonable, as it was based on the opinion of his solicitors and counsel that the grounds of appeal were not substantial, without providing Mr. Boner with sufficient information or assistance to assess the merits of his appeal. Mr. Boner argues that this failure to provide adequate assistance and information led to a violation of his right to a fair trial under Article 6(3)(c) of the ECHR, as he was unable to effectively present his case and argue his grounds of appeal without legal representation. Furthermore, Mr. Boner argues that the Board's decision was not in accordance with the principles of fairness and impartiality, as it was influenced by the opinion of his solicitors and counsel, who had already declined to continue acting for him, and did not take into account the interests of justice and the need for legal assistance in the appeal process.\"\n",
      "\n",
      "---------------------round5-------------------------\n",
      "Senior Agent: What is the European Court of Human Rights' (ECHR) approach to determining whether the refusal of legal aid and the lack of legal representation at the hearing of the appeal violated Mr. Boner's right to a fair trial under Article 6(3)(c) of the ECHR, and what factors does the Court consider in making this determination?\n",
      "\n",
      " Junior Agent: Answer: The European Court of Human Rights' (ECHR) approach to determining whether the refusal of legal aid and the lack of legal representation at the hearing of the appeal violated Mr. Boner's right to a fair trial under Article 6(3)(c) of the ECHR is to consider whether the \"interests of justice\" required legal assistance. The Court emphasizes that legal assistance is necessary to ensure that the accused person can present their case in an adequate manner and make an effective contribution to the proceedings. The burden of proving that the interests of justice do not require legal assistance is on the State, and it must be clearly and convincingly established that the accused person does not require it.\n",
      "\n",
      "In the present case, the Court notes that there were no valid reasons for dispensing with legal assistance, and that Mr. Boner's solicitors and counsel had declined to continue to act for him because they believed the grounds of appeal were not substantial. The Court also observes that the Scottish Legal Aid Board had refused Mr. Boner's application for legal aid for the appeal, and that the Crown was represented at the hearing of the appeal by counsel who was present and able to advance a legal argument if called upon by the court.\n",
      "\n",
      "However, the Court concludes that the lack of legal representation for the hearing, when counsel for the Crown was present, produced at least the appearance of injustice, particularly given the severity of Mr. Boner's sentence. The Court therefore finds that the \"interests of justice\" required the grant of free legal assistance for the hearing of the appeal, and that the failure to grant such assistance amounted to a violation of Article 6(3)(c) of the ECHR.\n",
      "\n",
      "---------------------round6-------------------------\n",
      "Senior Agent: What is the specific legal norm or principle that the European Court of Human Rights (ECHR) applies to determine whether the refusal of legal aid and the lack of legal representation at the hearing of the appeal violated Mr. Boner's right to a fair trial under Article 6(3)(c) of the ECHR, and how does this norm or principle relate to the \"interests of justice\" requirement?\n",
      "\n",
      " Junior Agent: Answer: The specific legal norm or principle that the European Court of Human Rights (ECHR) applies to determine whether the refusal of legal aid and the lack of legal representation at the hearing of the appeal violated Mr. Boner's right to a fair trial under Article 6(3)(c) of the ECHR is the principle that legal assistance is necessary to ensure that the interests of justice are served. This principle is rooted in the idea that legal assistance is essential to ensure that a person \"charged with a criminal offence\" is able to present their case in an adequate manner and make an effective contribution to the proceedings.\n",
      "\n",
      "The ECHR has consistently held that the \"interests of justice\" require that a person be assisted by a lawyer, particularly in criminal proceedings. This principle is not limited to situations where legal assistance is \"useful\" or \"necessary\" in a narrow sense, but also encompasses the need to ensure that the facts are ascertained, understood, and appraised in a legally relevant manner.\n",
      "\n",
      "In the present case, the ECHR found that the refusal of legal aid and the lack of legal representation at the hearing of the appeal violated Mr. Boner's right to a fair trial under Article 6(3)(c) because it did not meet the \"interests of justice\" requirement. The Court noted that the appeal raised a legal issue concerning the exercise of the trial judge's discretion, and that Mr. Boner's conviction had led to the imposition of a sentence of eight years imprisonment. Given the severity of the sentence and the legal issue at stake, the Court concluded that the lack of legal representation at the hearing of the appeal produced at least the appearance of injustice, which was not in line with the \"interests of justice\" principle.\n",
      "\n",
      "In essence, the ECHR's application of the \"interests of justice\" principle in this case emphasizes the importance of ensuring that a person has access to legal assistance in order to ensure a fair trial, particularly in criminal proceedings where the stakes are high and the consequences of a wrongful conviction can be severe.\n",
      "\n",
      "---------------------round7-------------------------\n",
      "\n",
      "Final Answer:\n",
      "\n",
      "The European Court of Human Rights (ECHR) held that the refusal of legal aid and the lack of legal representation at the hearing of Mr. Boner's appeal violated his right to a fair trial under Article 6(3)(c) of the ECHR. The Court's decision was based on the principle that legal assistance is necessary to ensure that the interests of justice are served, particularly in criminal proceedings where the stakes are high and the consequences of a wrongful conviction can be severe.\n",
      "\n",
      "The Court found that the Scottish Legal Aid Board's decision to refuse Mr. Boner's application for legal aid was arbitrary and unreasonable, as it was based on the opinion of his solicitors and counsel without providing him with sufficient information or assistance to assess the merits of his appeal. The Court also noted that the lack of legal representation at the hearing of the appeal produced at least the appearance of injustice, particularly given the severity of Mr. Boner's sentence.\n",
      "\n",
      "In applying the \"interests of justice\" principle, the Court emphasized that legal assistance is essential to ensure that a person \"charged with a criminal offence\" is able to present their case in an adequate manner and make an effective contribution to the proceedings. The Court concluded that the refusal of legal aid and the lack of legal representation at the hearing of the appeal did not meet the \"interests of justice\" requirement, and therefore violated Mr. Boner's right to a fair trial under Article 6(3)(c) of the ECHR.\n"
     ]
    }
   ],
   "source": [
    "print(all_conversation)"
   ]
  },
  {
   "cell_type": "code",
   "execution_count": 16,
   "metadata": {},
   "outputs": [],
   "source": [
    "def save_txt_file(file_name, content):\n",
    "    with open(file_name, 'w') as f:\n",
    "        f.write(content)"
   ]
  },
  {
   "cell_type": "code",
   "execution_count": 17,
   "metadata": {},
   "outputs": [],
   "source": [
    "save_txt_file(c4['itemid']+ '_output.txt', all_conversation)"
   ]
  },
  {
   "cell_type": "code",
   "execution_count": null,
   "metadata": {},
   "outputs": [],
   "source": []
  },
  {
   "cell_type": "code",
   "execution_count": null,
   "metadata": {},
   "outputs": [],
   "source": []
  },
  {
   "cell_type": "code",
   "execution_count": null,
   "metadata": {},
   "outputs": [],
   "source": []
  },
  {
   "cell_type": "code",
   "execution_count": null,
   "metadata": {},
   "outputs": [],
   "source": []
  },
  {
   "cell_type": "code",
   "execution_count": null,
   "metadata": {},
   "outputs": [],
   "source": []
  },
  {
   "cell_type": "code",
   "execution_count": null,
   "metadata": {},
   "outputs": [],
   "source": []
  }
 ],
 "metadata": {
  "kernelspec": {
   "display_name": "thesis24",
   "language": "python",
   "name": "python3"
  },
  "language_info": {
   "codemirror_mode": {
    "name": "ipython",
    "version": 3
   },
   "file_extension": ".py",
   "mimetype": "text/x-python",
   "name": "python",
   "nbconvert_exporter": "python",
   "pygments_lexer": "ipython3",
   "version": "3.11.3"
  },
  "orig_nbformat": 4
 },
 "nbformat": 4,
 "nbformat_minor": 2
}
