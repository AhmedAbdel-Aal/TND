{
 "cells": [
  {
   "cell_type": "code",
   "execution_count": 1,
   "metadata": {},
   "outputs": [],
   "source": [
    "%load_ext autoreload\n",
    "%autoreload 2"
   ]
  },
  {
   "cell_type": "code",
   "execution_count": 2,
   "metadata": {},
   "outputs": [],
   "source": [
    "from utils import load_json, load_txt"
   ]
  },
  {
   "cell_type": "code",
   "execution_count": null,
   "metadata": {},
   "outputs": [],
   "source": [
    "def parse_llama_generated_response(generated_response):\n",
    "    rounds = generated_response.split('---------------------')\n",
    "    rounds = [round.strip() for round in rounds if round.strip()]\n",
    "    parsed_rounds = []\n",
    "\n",
    "    # For each round, separate into \"Question\" and \"Answer\" parts\n",
    "    for round_text in rounds:\n",
    "        if 'Senior Agent -> Question:' in round_text and 'Junior Agent -> Answer:' in round_text:\n",
    "            # Split the round into question and answer parts\n",
    "            question_part, answer_part = round_text.split('Junior Agent -> Answer:')\n",
    "            \n",
    "            # Clean up the parts by stripping leading/trailing spaces\n",
    "            question_part = question_part.strip().replace('----\\n', '')\n",
    "            answer_part = answer_part.strip().replace('----\\n', '')\n",
    "            \n",
    "            # Add the tuple (question, answer) to the list\n",
    "            parsed_rounds.append({\n",
    "                \"question\": question_part.replace('Senior Agent -> Question:', '').strip(),\n",
    "                \"answer\": answer_part\n",
    "            })\n",
    "    return parsed_rounds"
   ]
  },
  {
   "cell_type": "code",
   "execution_count": null,
   "metadata": {},
   "outputs": [],
   "source": [
    "def def parse_gpt_generated_response(generated_response):\n"
   ]
  }
 ],
 "metadata": {
  "kernelspec": {
   "display_name": "thesis24",
   "language": "python",
   "name": "python3"
  },
  "language_info": {
   "codemirror_mode": {
    "name": "ipython",
    "version": 3
   },
   "file_extension": ".py",
   "mimetype": "text/x-python",
   "name": "python",
   "nbconvert_exporter": "python",
   "pygments_lexer": "ipython3",
   "version": "3.11.3"
  },
  "orig_nbformat": 4
 },
 "nbformat": 4,
 "nbformat_minor": 2
}
