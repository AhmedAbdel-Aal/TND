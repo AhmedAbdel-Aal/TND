{
 "cells": [
  {
   "cell_type": "code",
   "execution_count": 8,
   "metadata": {},
   "outputs": [
    {
     "name": "stdout",
     "output_type": "stream",
     "text": [
      "The autoreload extension is already loaded. To reload it, use:\n",
      "  %reload_ext autoreload\n"
     ]
    }
   ],
   "source": [
    "%load_ext autoreload\n",
    "%autoreload 2"
   ]
  },
  {
   "cell_type": "code",
   "execution_count": 10,
   "metadata": {},
   "outputs": [],
   "source": [
    "import os\n",
    "import time\n",
    "import ollama\n",
    "import json\n",
    "from utils import load_json, save_json, load_txt"
   ]
  },
  {
   "cell_type": "code",
   "execution_count": 12,
   "metadata": {},
   "outputs": [],
   "source": [
    "case = load_json('../bigger_study_sample/001-147040.json')\n",
    "case_output = load_txt('../bigger_study/001-147040_output.txt')"
   ]
  },
  {
   "cell_type": "code",
   "execution_count": 13,
   "metadata": {},
   "outputs": [],
   "source": [
    "from q1_evaluator import Q1Evaluator\n",
    "from q2_evaluator import Q2Evaluator\n",
    "from q3_evaluator import Q3Evaluator\n",
    "from q4_evaluator import Q4Evaluator\n",
    "from q5_evaluator import Q5Evaluator"
   ]
  },
  {
   "cell_type": "code",
   "execution_count": 15,
   "metadata": {},
   "outputs": [
    {
     "name": "stdout",
     "output_type": "stream",
     "text": [
      "   get_completion from groq....\n",
      "Score: 4\n",
      "\n",
      "Explanation:\n",
      "\n",
      "The generated reasoning demonstrates a good understanding of the case law and the relevant articles of the European Convention on Human Rights (ECHR). The junior agent has identified the main elements of the precedents/legal notion, including the conditions of the applicant's pretrial detention, the domestic remedies pursued, and the European Court of Human Rights' (ECHR) decision.\n",
      "\n",
      "The generated reasoning covers the key aspects of the case, including the applicant's complaints about the conditions of his detention, the domestic authorities' responses, and the ECHR's findings. The junior agent has also demonstrated an understanding of the relevant international and European standards, guidelines, and recommendations related to the conditions of pretrial detention.\n",
      "\n",
      "However, there are some areas where the generated reasoning could be improved. For example, some of the answers are quite brief and lack detailed analysis or explanation. Additionally, there are some minor errors and inconsistencies in the generated reasoning, such as the mention of Article 8 ECHR and Article 6 ECHR, which are not directly relevant to the case.\n",
      "\n",
      "Overall, the generated reasoning demonstrates a good understanding of the case law and the relevant articles of the ECHR, but could benefit from more detailed analysis and explanation.\n"
     ]
    }
   ],
   "source": [
    "q1_eval = Q1Evaluator()\n",
    "q1_response = q1_eval.evaluate(case['law'], case_output)\n",
    "print(q1_response)"
   ]
  },
  {
   "cell_type": "code",
   "execution_count": 16,
   "metadata": {},
   "outputs": [
    {
     "name": "stdout",
     "output_type": "stream",
     "text": [
      "   get_completion from groq....\n",
      "Score: 4\n",
      "\n",
      "Explanation:\n",
      "\n",
      "The generated reasoning provides a thorough and accurate analysis of the case, covering all the factual circumstances and legal issues relevant to the European Court of Human Rights' (ECHR) decision. The junior agent's answers demonstrate a good understanding of the case law and the European Convention on Human Rights (ECHR), including the specific articles and provisions relevant to the case.\n",
      "\n",
      "The generated reasoning correctly identifies the key issues in the case, including the conditions of the applicant's pretrial detention, the domestic remedies pursued, and the ECHR's findings on the violation of Article 13 ECHR. The junior agent's answers also provide relevant context and background information, such as the duration of the applicant's detention and the specific health issues or vulnerabilities that may have been exacerbated by the inadequate conditions of detention.\n",
      "\n",
      "The generated reasoning is well-structured and easy to follow, with each round building on the previous one to provide a comprehensive analysis of the case. The junior agent's answers are clear and concise, and they demonstrate a good understanding of the legal concepts and principles relevant to the case.\n",
      "\n",
      "The only area for improvement is that the generated reasoning could benefit from more explicit connections between the factual circumstances and the legal issues. For example, the junior agent's answers could more explicitly explain how the specific conditions of the applicant's detention (e.g., overcrowding, poor ventilation) relate to the violation of Article 13 ECHR. Additionally, the generated reasoning could benefit from more nuanced analysis of the ECHR's decision, including any ambiguities or complexities in the Court's reasoning.\n"
     ]
    }
   ],
   "source": [
    "q2_eval = Q2Evaluator()\n",
    "q2_response = q2_eval.evaluate(case['law'], case_output)\n",
    "print(q2_response)"
   ]
  },
  {
   "cell_type": "code",
   "execution_count": 26,
   "metadata": {},
   "outputs": [
    {
     "name": "stdout",
     "output_type": "stream",
     "text": [
      "   get_completion from groq....\n"
     ]
    },
    {
     "ename": "KeyboardInterrupt",
     "evalue": "",
     "output_type": "error",
     "traceback": [
      "\u001b[0;31m---------------------------------------------------------------------------\u001b[0m",
      "\u001b[0;31mHTTPStatusError\u001b[0m                           Traceback (most recent call last)",
      "File \u001b[0;32m~/thesis24/lib/python3.11/site-packages/groq/_base_client.py:997\u001b[0m, in \u001b[0;36mSyncAPIClient._request\u001b[0;34m(self, cast_to, options, remaining_retries, stream, stream_cls)\u001b[0m\n\u001b[1;32m    996\u001b[0m \u001b[39mtry\u001b[39;00m:\n\u001b[0;32m--> 997\u001b[0m     response\u001b[39m.\u001b[39;49mraise_for_status()\n\u001b[1;32m    998\u001b[0m \u001b[39mexcept\u001b[39;00m httpx\u001b[39m.\u001b[39mHTTPStatusError \u001b[39mas\u001b[39;00m err:  \u001b[39m# thrown on 4xx and 5xx status code\u001b[39;00m\n",
      "File \u001b[0;32m~/thesis24/lib/python3.11/site-packages/httpx/_models.py:759\u001b[0m, in \u001b[0;36mResponse.raise_for_status\u001b[0;34m(self)\u001b[0m\n\u001b[1;32m    758\u001b[0m message \u001b[39m=\u001b[39m message\u001b[39m.\u001b[39mformat(\u001b[39mself\u001b[39m, error_type\u001b[39m=\u001b[39merror_type)\n\u001b[0;32m--> 759\u001b[0m \u001b[39mraise\u001b[39;00m HTTPStatusError(message, request\u001b[39m=\u001b[39mrequest, response\u001b[39m=\u001b[39m\u001b[39mself\u001b[39m)\n",
      "\u001b[0;31mHTTPStatusError\u001b[0m: Client error '429 Too Many Requests' for url 'https://api.groq.com/openai/v1/chat/completions'\nFor more information check: https://developer.mozilla.org/en-US/docs/Web/HTTP/Status/429",
      "\nDuring handling of the above exception, another exception occurred:\n",
      "\u001b[0;31mKeyboardInterrupt\u001b[0m                         Traceback (most recent call last)",
      "\u001b[1;32m/Users/ahmed/Desktop/msc-24/TND/RQ2_2/g_eval/eval.ipynb Cell 7\u001b[0m line \u001b[0;36m2\n\u001b[1;32m      <a href='vscode-notebook-cell:/Users/ahmed/Desktop/msc-24/TND/RQ2_2/g_eval/eval.ipynb#W6sZmlsZQ%3D%3D?line=0'>1</a>\u001b[0m q3_eval \u001b[39m=\u001b[39m Q3Evaluator()\n\u001b[0;32m----> <a href='vscode-notebook-cell:/Users/ahmed/Desktop/msc-24/TND/RQ2_2/g_eval/eval.ipynb#W6sZmlsZQ%3D%3D?line=1'>2</a>\u001b[0m q3_response \u001b[39m=\u001b[39m q3_eval\u001b[39m.\u001b[39;49mevaluate(case[\u001b[39m'\u001b[39;49m\u001b[39mlaw\u001b[39;49m\u001b[39m'\u001b[39;49m], q1_response, q2_response, case_output)\n\u001b[1;32m      <a href='vscode-notebook-cell:/Users/ahmed/Desktop/msc-24/TND/RQ2_2/g_eval/eval.ipynb#W6sZmlsZQ%3D%3D?line=2'>3</a>\u001b[0m \u001b[39mprint\u001b[39m(q3_response)\n",
      "File \u001b[0;32m~/Desktop/msc-24/TND/RQ2_2/g_eval/q3_evaluator.py:95\u001b[0m, in \u001b[0;36mQ3Evaluator.evaluate\u001b[0;34m(self, law, feedback_1, feedback_2, generated_reasoning)\u001b[0m\n\u001b[1;32m     93\u001b[0m \u001b[39mdef\u001b[39;00m \u001b[39mevaluate\u001b[39m(\u001b[39mself\u001b[39m, law, feedback_1, feedback_2, generated_reasoning):\n\u001b[0;32m---> 95\u001b[0m     imp_class \u001b[39m=\u001b[39m \u001b[39mself\u001b[39;49m\u001b[39m.\u001b[39;49minit_classify(law, feedback_1, feedback_2, generated_reasoning)\n\u001b[1;32m     97\u001b[0m     \u001b[39mreturn\u001b[39;00m imp_class\n",
      "File \u001b[0;32m~/Desktop/msc-24/TND/RQ2_2/g_eval/q3_evaluator.py:89\u001b[0m, in \u001b[0;36mQ3Evaluator.init_classify\u001b[0;34m(self, law, feedback_1, feedback_2, generated_reasoning, system_message)\u001b[0m\n\u001b[1;32m     55\u001b[0m system_message \u001b[39m=\u001b[39m (\n\u001b[1;32m     56\u001b[0m     \u001b[39m\"\u001b[39m\u001b[39mYou are expert legal lawyer with European Court of Human Rights (ECHR).\u001b[39m\u001b[39m\"\u001b[39m\n\u001b[1;32m     57\u001b[0m )\n\u001b[1;32m     59\u001b[0m user_prompt \u001b[39m=\u001b[39m \u001b[39mf\u001b[39m\u001b[39m\"\"\"\u001b[39m\n\u001b[1;32m     60\u001b[0m \u001b[39m    You are an expert in European Court of Human Rights (ECHR) case law. \u001b[39m\n\u001b[1;32m     61\u001b[0m \u001b[39m    You are given the law section of a case, and the generated reasoning by a lawyer, and the feedback about the identification of legal notion and factual circumstances in the generated reasoning.\u001b[39m\n\u001b[0;32m   (...)\u001b[0m\n\u001b[1;32m     87\u001b[0m \u001b[39m    explanation:\u001b[39m\n\u001b[1;32m     88\u001b[0m \u001b[39m \u001b[39m\u001b[39m\"\"\"\u001b[39m\n\u001b[0;32m---> 89\u001b[0m response \u001b[39m=\u001b[39m \u001b[39mself\u001b[39;49m\u001b[39m.\u001b[39;49mget_completion(user_prompt, system_message)\n\u001b[1;32m     90\u001b[0m \u001b[39mself\u001b[39m\u001b[39m.\u001b[39mcache[\u001b[39m\"\u001b[39m\u001b[39msummary\u001b[39m\u001b[39m\"\u001b[39m] \u001b[39m=\u001b[39m response\n\u001b[1;32m     91\u001b[0m \u001b[39mreturn\u001b[39;00m response\n",
      "File \u001b[0;32m~/Desktop/msc-24/TND/RQ2_2/g_eval/q3_evaluator.py:38\u001b[0m, in \u001b[0;36mQ3Evaluator.get_completion\u001b[0;34m(self, prompt, system_message)\u001b[0m\n\u001b[1;32m     36\u001b[0m \u001b[39melif\u001b[39;00m \u001b[39mself\u001b[39m\u001b[39m.\u001b[39mbackend \u001b[39m==\u001b[39m \u001b[39m\"\u001b[39m\u001b[39mgroq\u001b[39m\u001b[39m\"\u001b[39m:\n\u001b[1;32m     37\u001b[0m     \u001b[39mprint\u001b[39m(\u001b[39m\"\u001b[39m\u001b[39m   get_completion from groq....\u001b[39m\u001b[39m\"\u001b[39m)\n\u001b[0;32m---> 38\u001b[0m     chat_completion \u001b[39m=\u001b[39m \u001b[39mself\u001b[39;49m\u001b[39m.\u001b[39;49mgroq_client\u001b[39m.\u001b[39;49mchat\u001b[39m.\u001b[39;49mcompletions\u001b[39m.\u001b[39;49mcreate(\n\u001b[1;32m     39\u001b[0m         model\u001b[39m=\u001b[39;49m\u001b[39m\"\u001b[39;49m\u001b[39mllama3-70b-8192\u001b[39;49m\u001b[39m\"\u001b[39;49m,\n\u001b[1;32m     40\u001b[0m         temperature\u001b[39m=\u001b[39;49m\u001b[39m0\u001b[39;49m,\n\u001b[1;32m     41\u001b[0m         messages\u001b[39m=\u001b[39;49m[\n\u001b[1;32m     42\u001b[0m             {\u001b[39m\"\u001b[39;49m\u001b[39mrole\u001b[39;49m\u001b[39m\"\u001b[39;49m: \u001b[39m\"\u001b[39;49m\u001b[39msystem\u001b[39;49m\u001b[39m\"\u001b[39;49m, \u001b[39m\"\u001b[39;49m\u001b[39mcontent\u001b[39;49m\u001b[39m\"\u001b[39;49m: system_message},\n\u001b[1;32m     43\u001b[0m             {\u001b[39m\"\u001b[39;49m\u001b[39mrole\u001b[39;49m\u001b[39m\"\u001b[39;49m: \u001b[39m\"\u001b[39;49m\u001b[39muser\u001b[39;49m\u001b[39m\"\u001b[39;49m, \u001b[39m\"\u001b[39;49m\u001b[39mcontent\u001b[39;49m\u001b[39m\"\u001b[39;49m: prompt},\n\u001b[1;32m     44\u001b[0m         ],\n\u001b[1;32m     45\u001b[0m     )\n\u001b[1;32m     46\u001b[0m     \u001b[39mreturn\u001b[39;00m chat_completion\u001b[39m.\u001b[39mchoices[\u001b[39m0\u001b[39m]\u001b[39m.\u001b[39mmessage\u001b[39m.\u001b[39mcontent\n\u001b[1;32m     47\u001b[0m \u001b[39melse\u001b[39;00m:\n",
      "File \u001b[0;32m~/thesis24/lib/python3.11/site-packages/groq/resources/chat/completions.py:289\u001b[0m, in \u001b[0;36mCompletions.create\u001b[0;34m(self, messages, model, frequency_penalty, function_call, functions, logit_bias, logprobs, max_tokens, n, parallel_tool_calls, presence_penalty, response_format, seed, stop, stream, temperature, tool_choice, tools, top_logprobs, top_p, user, extra_headers, extra_query, extra_body, timeout)\u001b[0m\n\u001b[1;32m    148\u001b[0m \u001b[39mdef\u001b[39;00m \u001b[39mcreate\u001b[39m(\n\u001b[1;32m    149\u001b[0m     \u001b[39mself\u001b[39m,\n\u001b[1;32m    150\u001b[0m     \u001b[39m*\u001b[39m,\n\u001b[0;32m   (...)\u001b[0m\n\u001b[1;32m    177\u001b[0m     timeout: \u001b[39mfloat\u001b[39m \u001b[39m|\u001b[39m httpx\u001b[39m.\u001b[39mTimeout \u001b[39m|\u001b[39m \u001b[39mNone\u001b[39;00m \u001b[39m|\u001b[39m NotGiven \u001b[39m=\u001b[39m NOT_GIVEN,\n\u001b[1;32m    178\u001b[0m ) \u001b[39m-\u001b[39m\u001b[39m>\u001b[39m ChatCompletion \u001b[39m|\u001b[39m Stream[ChatCompletionChunk]:\n\u001b[1;32m    179\u001b[0m \u001b[39m    \u001b[39m\u001b[39m\"\"\"\u001b[39;00m\n\u001b[1;32m    180\u001b[0m \u001b[39m    Creates a model response for the given chat conversation.\u001b[39;00m\n\u001b[1;32m    181\u001b[0m \n\u001b[0;32m   (...)\u001b[0m\n\u001b[1;32m    287\u001b[0m \u001b[39m      timeout: Override the client-level default timeout for this request, in seconds\u001b[39;00m\n\u001b[1;32m    288\u001b[0m \u001b[39m    \"\"\"\u001b[39;00m\n\u001b[0;32m--> 289\u001b[0m     \u001b[39mreturn\u001b[39;00m \u001b[39mself\u001b[39;49m\u001b[39m.\u001b[39;49m_post(\n\u001b[1;32m    290\u001b[0m         \u001b[39m\"\u001b[39;49m\u001b[39m/openai/v1/chat/completions\u001b[39;49m\u001b[39m\"\u001b[39;49m,\n\u001b[1;32m    291\u001b[0m         body\u001b[39m=\u001b[39;49mmaybe_transform(\n\u001b[1;32m    292\u001b[0m             {\n\u001b[1;32m    293\u001b[0m                 \u001b[39m\"\u001b[39;49m\u001b[39mmessages\u001b[39;49m\u001b[39m\"\u001b[39;49m: messages,\n\u001b[1;32m    294\u001b[0m                 \u001b[39m\"\u001b[39;49m\u001b[39mmodel\u001b[39;49m\u001b[39m\"\u001b[39;49m: model,\n\u001b[1;32m    295\u001b[0m                 \u001b[39m\"\u001b[39;49m\u001b[39mfrequency_penalty\u001b[39;49m\u001b[39m\"\u001b[39;49m: frequency_penalty,\n\u001b[1;32m    296\u001b[0m                 \u001b[39m\"\u001b[39;49m\u001b[39mfunction_call\u001b[39;49m\u001b[39m\"\u001b[39;49m: function_call,\n\u001b[1;32m    297\u001b[0m                 \u001b[39m\"\u001b[39;49m\u001b[39mfunctions\u001b[39;49m\u001b[39m\"\u001b[39;49m: functions,\n\u001b[1;32m    298\u001b[0m                 \u001b[39m\"\u001b[39;49m\u001b[39mlogit_bias\u001b[39;49m\u001b[39m\"\u001b[39;49m: logit_bias,\n\u001b[1;32m    299\u001b[0m                 \u001b[39m\"\u001b[39;49m\u001b[39mlogprobs\u001b[39;49m\u001b[39m\"\u001b[39;49m: logprobs,\n\u001b[1;32m    300\u001b[0m                 \u001b[39m\"\u001b[39;49m\u001b[39mmax_tokens\u001b[39;49m\u001b[39m\"\u001b[39;49m: max_tokens,\n\u001b[1;32m    301\u001b[0m                 \u001b[39m\"\u001b[39;49m\u001b[39mn\u001b[39;49m\u001b[39m\"\u001b[39;49m: n,\n\u001b[1;32m    302\u001b[0m                 \u001b[39m\"\u001b[39;49m\u001b[39mparallel_tool_calls\u001b[39;49m\u001b[39m\"\u001b[39;49m: parallel_tool_calls,\n\u001b[1;32m    303\u001b[0m                 \u001b[39m\"\u001b[39;49m\u001b[39mpresence_penalty\u001b[39;49m\u001b[39m\"\u001b[39;49m: presence_penalty,\n\u001b[1;32m    304\u001b[0m                 \u001b[39m\"\u001b[39;49m\u001b[39mresponse_format\u001b[39;49m\u001b[39m\"\u001b[39;49m: response_format,\n\u001b[1;32m    305\u001b[0m                 \u001b[39m\"\u001b[39;49m\u001b[39mseed\u001b[39;49m\u001b[39m\"\u001b[39;49m: seed,\n\u001b[1;32m    306\u001b[0m                 \u001b[39m\"\u001b[39;49m\u001b[39mstop\u001b[39;49m\u001b[39m\"\u001b[39;49m: stop,\n\u001b[1;32m    307\u001b[0m                 \u001b[39m\"\u001b[39;49m\u001b[39mstream\u001b[39;49m\u001b[39m\"\u001b[39;49m: stream,\n\u001b[1;32m    308\u001b[0m                 \u001b[39m\"\u001b[39;49m\u001b[39mtemperature\u001b[39;49m\u001b[39m\"\u001b[39;49m: temperature,\n\u001b[1;32m    309\u001b[0m                 \u001b[39m\"\u001b[39;49m\u001b[39mtool_choice\u001b[39;49m\u001b[39m\"\u001b[39;49m: tool_choice,\n\u001b[1;32m    310\u001b[0m                 \u001b[39m\"\u001b[39;49m\u001b[39mtools\u001b[39;49m\u001b[39m\"\u001b[39;49m: tools,\n\u001b[1;32m    311\u001b[0m                 \u001b[39m\"\u001b[39;49m\u001b[39mtop_logprobs\u001b[39;49m\u001b[39m\"\u001b[39;49m: top_logprobs,\n\u001b[1;32m    312\u001b[0m                 \u001b[39m\"\u001b[39;49m\u001b[39mtop_p\u001b[39;49m\u001b[39m\"\u001b[39;49m: top_p,\n\u001b[1;32m    313\u001b[0m                 \u001b[39m\"\u001b[39;49m\u001b[39muser\u001b[39;49m\u001b[39m\"\u001b[39;49m: user,\n\u001b[1;32m    314\u001b[0m             },\n\u001b[1;32m    315\u001b[0m             completion_create_params\u001b[39m.\u001b[39;49mCompletionCreateParams,\n\u001b[1;32m    316\u001b[0m         ),\n\u001b[1;32m    317\u001b[0m         options\u001b[39m=\u001b[39;49mmake_request_options(\n\u001b[1;32m    318\u001b[0m             extra_headers\u001b[39m=\u001b[39;49mextra_headers, extra_query\u001b[39m=\u001b[39;49mextra_query, extra_body\u001b[39m=\u001b[39;49mextra_body, timeout\u001b[39m=\u001b[39;49mtimeout\n\u001b[1;32m    319\u001b[0m         ),\n\u001b[1;32m    320\u001b[0m         cast_to\u001b[39m=\u001b[39;49mChatCompletion,\n\u001b[1;32m    321\u001b[0m         stream\u001b[39m=\u001b[39;49mstream \u001b[39mor\u001b[39;49;00m \u001b[39mFalse\u001b[39;49;00m,\n\u001b[1;32m    322\u001b[0m         stream_cls\u001b[39m=\u001b[39;49mStream[ChatCompletionChunk],\n\u001b[1;32m    323\u001b[0m     )\n",
      "File \u001b[0;32m~/thesis24/lib/python3.11/site-packages/groq/_base_client.py:1225\u001b[0m, in \u001b[0;36mSyncAPIClient.post\u001b[0;34m(self, path, cast_to, body, options, files, stream, stream_cls)\u001b[0m\n\u001b[1;32m   1211\u001b[0m \u001b[39mdef\u001b[39;00m \u001b[39mpost\u001b[39m(\n\u001b[1;32m   1212\u001b[0m     \u001b[39mself\u001b[39m,\n\u001b[1;32m   1213\u001b[0m     path: \u001b[39mstr\u001b[39m,\n\u001b[0;32m   (...)\u001b[0m\n\u001b[1;32m   1220\u001b[0m     stream_cls: \u001b[39mtype\u001b[39m[_StreamT] \u001b[39m|\u001b[39m \u001b[39mNone\u001b[39;00m \u001b[39m=\u001b[39m \u001b[39mNone\u001b[39;00m,\n\u001b[1;32m   1221\u001b[0m ) \u001b[39m-\u001b[39m\u001b[39m>\u001b[39m ResponseT \u001b[39m|\u001b[39m _StreamT:\n\u001b[1;32m   1222\u001b[0m     opts \u001b[39m=\u001b[39m FinalRequestOptions\u001b[39m.\u001b[39mconstruct(\n\u001b[1;32m   1223\u001b[0m         method\u001b[39m=\u001b[39m\u001b[39m\"\u001b[39m\u001b[39mpost\u001b[39m\u001b[39m\"\u001b[39m, url\u001b[39m=\u001b[39mpath, json_data\u001b[39m=\u001b[39mbody, files\u001b[39m=\u001b[39mto_httpx_files(files), \u001b[39m*\u001b[39m\u001b[39m*\u001b[39moptions\n\u001b[1;32m   1224\u001b[0m     )\n\u001b[0;32m-> 1225\u001b[0m     \u001b[39mreturn\u001b[39;00m cast(ResponseT, \u001b[39mself\u001b[39;49m\u001b[39m.\u001b[39;49mrequest(cast_to, opts, stream\u001b[39m=\u001b[39;49mstream, stream_cls\u001b[39m=\u001b[39;49mstream_cls))\n",
      "File \u001b[0;32m~/thesis24/lib/python3.11/site-packages/groq/_base_client.py:920\u001b[0m, in \u001b[0;36mSyncAPIClient.request\u001b[0;34m(self, cast_to, options, remaining_retries, stream, stream_cls)\u001b[0m\n\u001b[1;32m    911\u001b[0m \u001b[39mdef\u001b[39;00m \u001b[39mrequest\u001b[39m(\n\u001b[1;32m    912\u001b[0m     \u001b[39mself\u001b[39m,\n\u001b[1;32m    913\u001b[0m     cast_to: Type[ResponseT],\n\u001b[0;32m   (...)\u001b[0m\n\u001b[1;32m    918\u001b[0m     stream_cls: \u001b[39mtype\u001b[39m[_StreamT] \u001b[39m|\u001b[39m \u001b[39mNone\u001b[39;00m \u001b[39m=\u001b[39m \u001b[39mNone\u001b[39;00m,\n\u001b[1;32m    919\u001b[0m ) \u001b[39m-\u001b[39m\u001b[39m>\u001b[39m ResponseT \u001b[39m|\u001b[39m _StreamT:\n\u001b[0;32m--> 920\u001b[0m     \u001b[39mreturn\u001b[39;00m \u001b[39mself\u001b[39;49m\u001b[39m.\u001b[39;49m_request(\n\u001b[1;32m    921\u001b[0m         cast_to\u001b[39m=\u001b[39;49mcast_to,\n\u001b[1;32m    922\u001b[0m         options\u001b[39m=\u001b[39;49moptions,\n\u001b[1;32m    923\u001b[0m         stream\u001b[39m=\u001b[39;49mstream,\n\u001b[1;32m    924\u001b[0m         stream_cls\u001b[39m=\u001b[39;49mstream_cls,\n\u001b[1;32m    925\u001b[0m         remaining_retries\u001b[39m=\u001b[39;49mremaining_retries,\n\u001b[1;32m    926\u001b[0m     )\n",
      "File \u001b[0;32m~/thesis24/lib/python3.11/site-packages/groq/_base_client.py:1003\u001b[0m, in \u001b[0;36mSyncAPIClient._request\u001b[0;34m(self, cast_to, options, remaining_retries, stream, stream_cls)\u001b[0m\n\u001b[1;32m   1001\u001b[0m \u001b[39mif\u001b[39;00m retries \u001b[39m>\u001b[39m \u001b[39m0\u001b[39m \u001b[39mand\u001b[39;00m \u001b[39mself\u001b[39m\u001b[39m.\u001b[39m_should_retry(err\u001b[39m.\u001b[39mresponse):\n\u001b[1;32m   1002\u001b[0m     err\u001b[39m.\u001b[39mresponse\u001b[39m.\u001b[39mclose()\n\u001b[0;32m-> 1003\u001b[0m     \u001b[39mreturn\u001b[39;00m \u001b[39mself\u001b[39;49m\u001b[39m.\u001b[39;49m_retry_request(\n\u001b[1;32m   1004\u001b[0m         options,\n\u001b[1;32m   1005\u001b[0m         cast_to,\n\u001b[1;32m   1006\u001b[0m         retries,\n\u001b[1;32m   1007\u001b[0m         err\u001b[39m.\u001b[39;49mresponse\u001b[39m.\u001b[39;49mheaders,\n\u001b[1;32m   1008\u001b[0m         stream\u001b[39m=\u001b[39;49mstream,\n\u001b[1;32m   1009\u001b[0m         stream_cls\u001b[39m=\u001b[39;49mstream_cls,\n\u001b[1;32m   1010\u001b[0m     )\n\u001b[1;32m   1012\u001b[0m \u001b[39m# If the response is streamed then we need to explicitly read the response\u001b[39;00m\n\u001b[1;32m   1013\u001b[0m \u001b[39m# to completion before attempting to access the response text.\u001b[39;00m\n\u001b[1;32m   1014\u001b[0m \u001b[39mif\u001b[39;00m \u001b[39mnot\u001b[39;00m err\u001b[39m.\u001b[39mresponse\u001b[39m.\u001b[39mis_closed:\n",
      "File \u001b[0;32m~/thesis24/lib/python3.11/site-packages/groq/_base_client.py:1049\u001b[0m, in \u001b[0;36mSyncAPIClient._retry_request\u001b[0;34m(self, options, cast_to, remaining_retries, response_headers, stream, stream_cls)\u001b[0m\n\u001b[1;32m   1045\u001b[0m log\u001b[39m.\u001b[39minfo(\u001b[39m\"\u001b[39m\u001b[39mRetrying request to \u001b[39m\u001b[39m%s\u001b[39;00m\u001b[39m in \u001b[39m\u001b[39m%f\u001b[39;00m\u001b[39m seconds\u001b[39m\u001b[39m\"\u001b[39m, options\u001b[39m.\u001b[39murl, timeout)\n\u001b[1;32m   1047\u001b[0m \u001b[39m# In a synchronous context we are blocking the entire thread. Up to the library user to run the client in a\u001b[39;00m\n\u001b[1;32m   1048\u001b[0m \u001b[39m# different thread if necessary.\u001b[39;00m\n\u001b[0;32m-> 1049\u001b[0m time\u001b[39m.\u001b[39;49msleep(timeout)\n\u001b[1;32m   1051\u001b[0m \u001b[39mreturn\u001b[39;00m \u001b[39mself\u001b[39m\u001b[39m.\u001b[39m_request(\n\u001b[1;32m   1052\u001b[0m     options\u001b[39m=\u001b[39moptions,\n\u001b[1;32m   1053\u001b[0m     cast_to\u001b[39m=\u001b[39mcast_to,\n\u001b[0;32m   (...)\u001b[0m\n\u001b[1;32m   1056\u001b[0m     stream_cls\u001b[39m=\u001b[39mstream_cls,\n\u001b[1;32m   1057\u001b[0m )\n",
      "\u001b[0;31mKeyboardInterrupt\u001b[0m: "
     ]
    }
   ],
   "source": [
    "q3_eval = Q3Evaluator()\n",
    "q3_response = q3_eval.evaluate(case['law'], q1_response, q2_response, case_output)\n",
    "print(q3_response)"
   ]
  },
  {
   "cell_type": "code",
   "execution_count": 20,
   "metadata": {},
   "outputs": [
    {
     "name": "stdout",
     "output_type": "stream",
     "text": [
      "   get_completion from groq....\n",
      "Score: 4\n",
      "\n",
      "Explanation:\n",
      "\n",
      "The generated reasoning provides a good overview of the case, including the facts, the applicant's complaints, and the European Court of Human Rights' (ECHR) decision. It correctly identifies the violation of Article 13 of the European Convention on Human Rights (ECHR) and explains the reasons for this finding.\n",
      "\n",
      "However, the generated reasoning could be improved in several areas. Firstly, it lacks a clear and concise summary of the case at the beginning. Secondly, some of the answers to the questions are not directly relevant to the case and could be omitted. For example, the discussion of the United Nations Standard Minimum Rules for the Treatment of Prisoners and the Council of Europe's Committee for the Prevention of Torture (CPT) recommendations is not essential to understanding the case.\n",
      "\n",
      "Additionally, the generated reasoning could benefit from a more detailed analysis of the ECHR's decision and the reasons behind it. For instance, it could explain why the Court found that the domestic remedies were not effective in addressing the applicant's complaints and how this relates to the violation of Article 13 ECHR.\n",
      "\n",
      "Overall, the generated reasoning is good but could be improved with a clearer structure, more focused answers, and a deeper analysis of the case.\n"
     ]
    }
   ],
   "source": [
    "q4_eval = Q4Evaluator()\n",
    "q4_response = q4_eval.evaluate(case['law'], case_output)\n",
    "print(q4_response)"
   ]
  },
  {
   "cell_type": "code",
   "execution_count": 21,
   "metadata": {},
   "outputs": [
    {
     "name": "stdout",
     "output_type": "stream",
     "text": [
      "   get_completion from groq....\n",
      "score: 4\n",
      "\n",
      "explanation:\n",
      "\n",
      "The generated reasoning demonstrates a good understanding of the case law and the relevant articles of the European Convention on Human Rights (ECHR). The junior agent provides accurate information about the facts of the case, the domestic remedies pursued by the applicant, and the European Court of Human Rights' (ECHR) decision.\n",
      "\n",
      "The generated reasoning also shows an ability to analyze the case and identify the key issues, such as the inadequacy of the domestic remedies and the lack of effective investigation by the domestic authorities. The junior agent also correctly identifies the relevant international standards and guidelines, such as the United Nations Standard Minimum Rules for the Treatment of Prisoners and the Council of Europe's Committee for the Prevention of Torture (CPT) recommendations.\n",
      "\n",
      "However, the generated reasoning could be improved in a few areas. For example, the junior agent could have provided more detailed information about the domestic remedies pursued by the applicant, such as the outcome of the complaint to the Moscow city prosecutor and the civil claim for compensation. Additionally, the junior agent could have analyzed the ECHR's decision in more depth, such as the Court's reasoning for finding a violation of Article 13 ECHR.\n",
      "\n",
      "Overall, the generated reasoning demonstrates a good understanding of the case law and the relevant articles of the ECHR, but could be improved with more detailed analysis and information.\n"
     ]
    }
   ],
   "source": [
    "q5_eval = Q5Evaluator()\n",
    "q5_response = q5_eval.evaluate(case['law'], case_output)\n",
    "print(q5_response)"
   ]
  },
  {
   "cell_type": "code",
   "execution_count": null,
   "metadata": {},
   "outputs": [],
   "source": []
  },
  {
   "cell_type": "code",
   "execution_count": null,
   "metadata": {},
   "outputs": [],
   "source": []
  }
 ],
 "metadata": {
  "kernelspec": {
   "display_name": "thesis24",
   "language": "python",
   "name": "python3"
  },
  "language_info": {
   "codemirror_mode": {
    "name": "ipython",
    "version": 3
   },
   "file_extension": ".py",
   "mimetype": "text/x-python",
   "name": "python",
   "nbconvert_exporter": "python",
   "pygments_lexer": "ipython3",
   "version": "3.11.3"
  },
  "orig_nbformat": 4
 },
 "nbformat": 4,
 "nbformat_minor": 2
}
