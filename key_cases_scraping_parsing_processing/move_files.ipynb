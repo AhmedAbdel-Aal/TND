{
 "cells": [
  {
   "cell_type": "code",
   "execution_count": 1,
   "metadata": {},
   "outputs": [],
   "source": [
    "%load_ext autoreload\n",
    "%autoreload 2"
   ]
  },
  {
   "cell_type": "code",
   "execution_count": 2,
   "metadata": {},
   "outputs": [],
   "source": [
    "import os"
   ]
  },
  {
   "cell_type": "code",
   "execution_count": 4,
   "metadata": {},
   "outputs": [],
   "source": [
    "# load the cases files\n",
    "path = './key_cases_scrapped_full/'\n",
    "\n",
    "files = os.listdir(path)\n"
   ]
  },
  {
   "cell_type": "code",
   "execution_count": 8,
   "metadata": {},
   "outputs": [],
   "source": [
    "sorted_files = sorted(files, key=lambda x: x.split('_')[0])"
   ]
  },
  {
   "cell_type": "code",
   "execution_count": 12,
   "metadata": {},
   "outputs": [],
   "source": [
    "for i in range(0, len(sorted_files), 3):\n",
    "    #print(sorted_files[i], sorted_files[i+1], sorted_files[i+2])\n",
    "    file_name = '-'.join(sorted_files[i].split('-')[1:3])\n",
    "    # create a folder\n",
    "    os.makedirs(f'./key_cases_scrapped_full/{file_name}', exist_ok=True)\n",
    "    # move the files\n",
    "    os.rename(f'./key_cases_scrapped_full/{sorted_files[i]}', f'./key_cases_scrapped_full/{file_name}/{sorted_files[i]}')\n",
    "    os.rename(f'./key_cases_scrapped_full/{sorted_files[i+1]}', f'./key_cases_scrapped_full/{file_name}/{sorted_files[i+1]}')\n",
    "    os.rename(f'./key_cases_scrapped_full/{sorted_files[i+2]}', f'./key_cases_scrapped_full/{file_name}/{sorted_files[i+2]}')"
   ]
  },
  {
   "cell_type": "code",
   "execution_count": 13,
   "metadata": {},
   "outputs": [
    {
     "name": "stdout",
     "output_type": "stream",
     "text": [
      "149\n"
     ]
    }
   ],
   "source": [
    "# load the cases files\n",
    "path = './key_cases_scrapped_full/'\n",
    "\n",
    "files = os.listdir(path)\n",
    "\n",
    "print(len(files))"
   ]
  },
  {
   "cell_type": "code",
   "execution_count": null,
   "metadata": {},
   "outputs": [],
   "source": []
  }
 ],
 "metadata": {
  "kernelspec": {
   "display_name": "thesis24",
   "language": "python",
   "name": "python3"
  },
  "language_info": {
   "codemirror_mode": {
    "name": "ipython",
    "version": 3
   },
   "file_extension": ".py",
   "mimetype": "text/x-python",
   "name": "python",
   "nbconvert_exporter": "python",
   "pygments_lexer": "ipython3",
   "version": "3.11.3"
  },
  "orig_nbformat": 4
 },
 "nbformat": 4,
 "nbformat_minor": 2
}
