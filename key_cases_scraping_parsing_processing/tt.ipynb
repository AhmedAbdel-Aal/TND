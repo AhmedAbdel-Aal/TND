{
 "cells": [
  {
   "cell_type": "code",
   "execution_count": 1,
   "metadata": {},
   "outputs": [],
   "source": [
    "from scrap_case import LegalCaseScraper"
   ]
  },
  {
   "cell_type": "code",
   "execution_count": 2,
   "metadata": {},
   "outputs": [
    {
     "name": "stdout",
     "output_type": "stream",
     "text": [
      "Found TABLE OF CONTENTS at index: 75\n",
      "Found CONCLUSION at index: 153\n",
      "Starting after index: 153\n",
      "================================================================================\n",
      "THE FACTS\n",
      "11.  The applicants, listed below, are all Portuguese nationals living in Portugal:\n",
      "1.  The first applicant, Ms Cláudia Duarte Agostinho, was born in 1999;\n",
      "2.  The second applicant, Mr Martim Duarte Agostinho, was born in 2003;\n",
      "3.  The third applicant, Ms Mariana Duarte Agostinho, was born in 2012;\n",
      "4.  The fourth applicant, Ms Catarina Dos Santos Mota, was born in 2000;\n",
      "5.  The fifth applicant, Ms Sofia Isabel Dos Santos Oliveira, was born in 2005;\n",
      "6.  The sixth applicant, Mr André Dos Santos Oliveira, was born in 2008.\n",
      "The first, third and fourth applicants live in Merinhas (Pombal municipality) and the second applicant in Leiria, both of which are in Leiria District. The fifth and sixth applicants live in Sobreda, a civil parish within the municipality of Almada, which is part of the metropolitan area of Lisbon.\n",
      "12.  The applicants relied on the relevant international documents[1], general reports and expert findings[2] concerning the harm caused by climate change to human health. This related, in particular, to the fact that Portugal was already experiencing a range of climate-change impacts, including increases in mean temperatures and extreme heat. That caused heatwaves which, in turn, were a major driver of wildfires.\n",
      "13.  In the applicants’ view, all the respondent States bore responsibility for this. In particular, States contributed to climate change by, inter alia, permitting:\n",
      "(a)  the release of emissions within the national territory, and offshore areas “over which they had jurisdiction”;\n",
      "(b)  the export of fossil fuels extracted on their territory;\n",
      "(c)  the import of goods, the production of which involved the release of emissions into the atmosphere; and\n",
      "(d)  entities within their jurisdiction to contribute to the release of emissions overseas, namely, through the extraction of fossil fuels overseas or by financing such extraction.\n",
      "14.  The applicants submitted that they were currently exposed to a risk of harm from climate change and that the risk was set to increase significantly over the course of their lifetimes and would also affect any children they might have. The applicants alleged that they had already experienced reduced energy levels, difficulty sleeping and a curtailment on their ability to spend time or exercise outdoors during recent heatwaves. The regions where they lived faced an increase in extreme fire risk. The 2017 wildfires had come very close to the homes of applicants nos. 1-4, and the garden of the house of applicants nos. 1-3 had been covered in ash. The wildfires also made applicants nos. 5-6 anxious and upset. Similarly, applicants nos. 1-4 were horrified to know that people were being killed close to their home by these fires. The second applicant had been unable to attend school for several days because of the amount of smoke in the air. The applicants also experienced anxiety about the effects which climate change might have on them and their families, and the families they hoped to have in future.\n",
      "15.  In support of their application, the applicants submitted written personal statements which may be summarised as follows.\n",
      "16.  In a written statement accompanying the application form, signed by applicants nos. 1-3, they explained that they had decided to lodge an application with the Court following the forest fires which had struck Portugal in the summer of 2017. They made the same statements as in the application form (see paragraph 14 above) and added that none of them or their friends or family had been injured in the forest fires, and nor had their family suffered any damage from the fires. However, over sixty people had been killed by these fires and many others had been injured. All of the fatalities had occurred in or near a place less than an hour’s drive away from their home. The applicants had experienced moments of horror during these fires, especially knowing that people were being killed in the most awful way so close to their home. Then again, in October 2017, fires had broken out throughout the northern half of Portugal and some had been very close to their home. Around forty-five people had been killed across the country as a result of these fires.\n",
      "17.  As regards the reason why they decided to lodge an application with the Court, the applicants submitted the following:\n",
      "“The fires made us realise that climate change is not just a threat to the planet’s future or to the polar ice caps. It is a threat to us that is here, right now, on our doorstep. Around that time, we became anxious to do something. We know that without immediate action by governments to reduce global greenhouse gas emissions, the threat from climate change is only going to get worse. We may have escaped harm in 2017 but our chances of doing so again will only decrease over time if we continue on the path that we are on. Once again, Portugal experienced widespread forest fires this (2020) summer as a result of a combination of high temperatures and high winds. Fortunately, these fires were not as bad as the fires in 2017 but they are reminder of the risk we face. That’s why we decided to take this case.\n",
      "Climate change causes us to fear what the future holds for us and the families we hope to have. While we may at some point wish to spend some time abroad, Portugal is our home, it is the country in which we are likely to spend most of the rest of our lives and have our own families. And yet we have learned from the Climate Analytics expert report that Portugal is a climate change hotspot. It makes us sad and scared to think that, if governments continue on their current path, we will experience much more extreme heatwaves than the ones which have gripped our country in recent years and that events like the fires which broke out around us in 2017 will occur again and again, getting worse into the future. Even Mariana, who is only eight years old, appreciates that the natural environment which surrounds her is under threat. As a lover of the natural environment this causes her significant anxiety.”\n",
      "18.  The applicants further argued that there were lots of ways in which the impacts associated with climate change, in particular from high temperatures and drought, affected, or would affect in the future, their lives. The extreme heat was difficult to endure, it required them to spend more time indoors, they suffered from reduced energy levels and they had difficulty sleeping, which affected their productivity. Severe droughts could interfere with their ability to grow crops and use their well. Applicants nos. 1 and 2 suffered from allergies (a sun allergy, hay fever and sinusitis, respectively) which made them worry because climate change would worsen certain allergies.\n",
      "19.  Finally, the applicants specified that “[t]his statement [had] been prepared with the input of our parents (Teresa and Sérgio) and they [had confirmed] that the contents of the statements relating to Mariana and Martim [were] true”.\n",
      "20.  In a written declaration, the fourth applicant explained that she was a friend and neighbour of the Duarte Agostinho family. She further specified why she had decided to lodge an application with the Court:\n",
      "“I decided to join Claudia, Martim and Mariana Duarte Agostinho in bringing this case when I heard about it. I too experienced the horror of the forest fires which broke out across Portugal in 2017, although fortunately I was not injured [and] nor were any of my family members, and nor was any of my family’s property damaged. I have been concerned about climate change for some time. As a result, I have made some changes to how I live. For example, I consume far less meat than I used to as I know the production of meat contributes to climate change.”\n",
      "21.  The fourth applicant further submitted that she could not exercise outdoors during extreme heatwaves and there had even been occasions during the summer of 2020 when she had avoided spending time outdoors altogether. Her sleep was affected and therefore she did not function properly during the day. She was becoming increasingly worried about how climate change would affect her and her generation’s future since, as things stood, climate change posed a clear risk to life, health and quality of life. As a child, the applicant had suffered from bad asthma (which was now less of a problem) and she currently suffered occasionally from bronchitis. Any significant deterioration in air quality could cause her to suffer from bad asthma again and would worsen the symptoms of her bronchitis.\n",
      "22.  As regards the reason why they decided to lodge the present application with the Court, the applicants explained as follows:\n",
      "“We decided, along with our parents, to get involved in bringing this case not long after major forest fires spread across Portugal in 2017, first in June and then again in October, killing over 100 people. Fortunately, none of our friends or family members were killed or injured but the scenes of destruction across our country made us realise how real the threat of climate change is. We were disturbed to see the images of the fires on the news, with people crying for help as a result of the destruction. It made us both very anxious and upset.”\n",
      "23.  The applicants further stressed that they were worried about climate change, particularly after they had seen the summary of the Climate Analytics report. They had difficulty sleeping, lacked energy and could not go outside on hot days. The scenes of death and destruction linked to forest fires caused them fear and anxiety. Both applicants suffered from allergies which would be affected by high temperatures. They were also worried about whether they would be able to spend time outdoors in future. Their home was close to the sea and close enough for them to experience the effects of winter storms.\n",
      "24.  The applicants specified that their parents had been present when they provided the information for their statement and had confirmed its veracity.\n",
      "25.  In their memorial of 5 December 2022, the applicants reiterated the arguments made in the application form and further relied on the more recent reports of the Intergovernmental Panel on Climate Change (“IPCC”)[3], and some other scientific reports[4], showing that the level of global warming to date was unsafe and that “rapid and deep” emissions reductions by 2030 were needed in order to achieve the agreed 1.5oC temperature increase limit. The respondent States had been aware of the dangers of climate change since the adoption in 1992 of the UN Framework Convention on Climate Change (“UNFCCC”) and the adoption of the Paris Agreement.[5] Action was required by each respondent State across the four areas identified in paragraph 13 above. The applicants argued that Portugal was one of the European countries that would be most affected by the adverse impact of climate change and that it faced “hard limits” to its ability to adapt to the impact of global warming[6].\n",
      "26.  The applicants submitted a list of specific impacts on and risks to them linked to climate change. This list was mostly based on the general climate‑change situation in Portugal[7] and included the following:\n",
      "(a)  Heat-related impacts – the applicants reiterated that during periods of extreme heat, they had to curtail their usual youthful activities of playing and exercising outdoors, and otherwise enjoying the outdoors. Extremely hot nights also made it difficult for them to sleep, making them more tired and less productive in the days that followed. Applicants nos. 2, 4 and 6 suffered from respiratory conditions, and an increase in the mean temperature would lead to increases of 2.7% in general mortality and 1.7% in respiratory morbidity.\n",
      "(b)  Wildfires and smoke – applicants nos. 1-3 had described the “horror” of these fires, with the first applicant now suffering from anxiety as each summer approached. During the forest fires, their garden had been covered with ash. The second applicant had been unable to attend school, and smoke had filled the sky (containing chemicals harmful to human health). The applicants were concerned that wildfires at least as bad as those in 2017 would occur in the future. Where the applicants resided, the number of days of extreme wildfire risks was projected to significantly increase between the years 2000 and 2100.\n",
      "(c)  Air pollution and allergens – climate change would expose people in Portugal to high levels of pollution, and would potentially increase the levels of aeroallergens exacerbating respiratory diseases such as asthma. Applicants nos. 2 and 4-6 suffered from health conditions caused by pollution and allergens. Applicant no. 2 submitted a medical certificate according to which he had been diagnosed with rhinitis and asthma. Applicant no. 6 provided a handwritten medical certificate according to which he suffered from bronchial asthma aggravated by climate-change related temperature changes, namely extreme heat.\n",
      "(d)  Mental-health impact – the lead author of a study surveying the mental-health impact on young people in Portugal linked to climate change[8], had produced an expert report concerning the applicants in the present case. In her opinion, applicants nos. 2 and 5-6 suffered from an “Adverse Childhood Experience” linked to prolonged climate anxiety. The applicants also experienced a form of mental suffering called “moral injury” caused by their awareness of the failure by those in authority to protect them.\n",
      "27.  In their further submissions of 29 March 2023, the applicants argued that there were in fact only few factual disputes between them and the respondent States. In their view, the following was undisputed: (i) the global causes and impacts of climate change; (ii) the climate-change impacts in Portugal and the limits of Portugal’s adaptive capacity; (iii) the imperative to keep global warming to 1.5℃; (iv) the inadequacy of the current pathway; (v) the need for rapid global emissions reductions outlined as necessary by the IPCC; (vi) the need for steep declines in fossil fuel production; and (vii) the contribution to climate change of embedded and overseas emissions of entities domiciled within the respondent States.\n",
      "28.  The applicants argued that the risk level of heatwaves in their districts was comparable to the overall high and increasing risk of heatwaves in Portugal as a whole. All the applicants lived in areas which had experienced record temperatures of over 40℃ in recent years. Applicants nos. 1-4 lived in areas classified as being at “moderate” risk and all the applicants lived in or near coastal areas with higher humidity where heat stress could occur at lower temperatures. The district where applicants nos. 1-4 lived was one of the three districts in Portugal most affected by wildfires in 2022.\n",
      "29.  It could not be accepted as a “common issue” the fact that the applicants needed to stay indoors during heatwaves. Heatwaves would substantially increase as a result of climate change and the issue needed to be tackled by the respondent States (see paragraph 35 below).\n",
      "30.  The applicants clarified that their reference to the 2017 wildfires should be understood as an example of the increasingly frequent and severe impacts of climate change that had affected and would continue to affect Portugal. However, the applicants had never claimed that the reference to the 2017 wildfires was their only complaint in respect of the impact of climate change upon them.\n",
      "31.  In their joint submissions to the Grand Chamber (see paragraph 72-73 below), the respondent Governments challenged the probative value of the expert reports relied upon by the applicants concerning climate change and its effects on the applicants. The Governments stressed that these reports had not been peer-reviewed and some of them were based on contested assumptions which did not represent the best available evidence.\n",
      "32.  The Governments further explained that the factual information as regards the case had been collected and examined by the Portuguese Government. The other respondent Governments had not had access to detailed information regarding the applicants’ situation and the factual context of the case.\n",
      "33.  The respondent Governments noted the following facts of the case:\n",
      "(a)  Two major fires occurred in Portugal in 2017, the first in June and the second in October.\n",
      "(b)  The houses where applicants nos. 1-4 lived were located in the Meirinhas municipality of Pombal, in the centre of Portugal, which was the region in which the second major fire occurred, in October 2017.\n",
      "(c)  The above-mentioned applicants’ houses were located approximately an hour’s journey from the location of the first fire in the summer of 2017.\n",
      "(d)  Ash might have fallen in the garden of the house where the first three applicants lived.\n",
      "(e)  The second applicant would have been unable to attend school on the afternoon of 16 October 2017, as it had been closed at the time owing to the smoke caused by the second major fire.\n",
      "(f)  Applicants nos. 5-6 lived in Sobreda, in the region of Lisbon, close to the sea.\n",
      "(g)  Sobreda was located around 200 kilometres from the region where the fires occurred.\n",
      "34.  The respondent Governments contested all the other facts of a personal nature alleged by the applicants. As regards the applicants’ personal statements, the Governments noted as follows.\n",
      "35.  All the applicants had conceded that neither they nor their relatives had sustained any harm, whether physical or material. The difficulties alleged to have been experienced by the applicants in sleeping and spending time outdoors when it was too hot was a common issue and did not raise concerns specific to the applicants. The fears for the future the applicants claimed they were facing had not been substantiated.\n",
      "36.  Regarding the alleged damage suffered by applicants nos. 1-3, they had not indicated when or where such damage had occurred, nor had they specified what the damage consisted of. The applicants had not established any causal link between the alleged damage and the events in question. The names of the applicants had not been included on the list of victims who had suffered physical injury, non-material or material damage as a result of the two major fires in 2017, and who had accordingly been awarded compensation at the domestic level.\n",
      "37.  While applicants nos. 2 and 6 had provided some medical evidence in support of their complaints, the Governments noted that applicant no. 2’s medical certificate dated from November 2018 and did not provide any information about the level or intensity of his conditions (rhinitis and asthma) or any medical treatment provided then or since, and did not provide any information about the cause of the conditions. Applicant no. 6’s medical certificate was an undated handwritten note, which declared that the applicant suffered from bronchial asthma “aggravated” by extreme heat. No information had been given about the level or intensity of the condition, or any medical treatment provided.\n",
      "38.  The respondent Governments argued that there had been a significant shift and expansion of the applicants’ arguments as regards the actual subject matter of the case. In particular, it appeared that the applicants no longer sought to relate the damage or inconvenience they claimed to have suffered to the fires of 2017, but also (or especially) to greenhouse gas (“GHG”) emissions emitted by the various respondent Governments.\n",
      "39.  In this connection, the Governments noted the following:\n",
      "(a)  The applicants had claimed that the region in which they resided was especially affected by heatwaves and fires. However, the applicants’ places of residence, which were located near the coastline, had been identified in the “National Risk Assessment” (provided by the Portuguese Government) ‑ which divided Portugal into four levels of risk (very high, high, mild, low) – as geographical areas where the risk level regarding heatwaves or episodes of extreme heat was considered to be “mild” or “low”. The risk level in the regions where the applicants lived was no higher than in the rest of the territory of Portugal. In any event, in the period 2018-22, Portugal had avoided the most severe consequences from wildfires, having reduced by half their number.\n",
      "(b)  The applicants were now claiming that their mental health was being severely impaired by the effects of climate change and/or had been severely impaired by the fires of 2017. Previously the applicants had relied on their asserted fears concerning the possible future consequences of climate change, in particular, fears that the respiratory diseases and allergies from which they claimed to suffer would worsen.\n",
      "(c)  As regards the alleged mental-health impact, and in so far as the applicants relied on the expert report (see paragraph 26 (d) above), the Governments questioned whether the document in question could be considered an “expert report”. They noted that the document itself acknowledged that climate anxiety was not yet a diagnosable mental illness. There was no evidence that any of the applicants had had any treatment, whether for anxiety and depression generally or for climate anxiety. The “expert report” had apparently been prepared without any direct examination of the applicants by the expert. The applicants had apparently only been interviewed online and in conditions that were not clear.\n",
      "================================================================================\n"
     ]
    }
   ],
   "source": [
    "url = \"https://hudoc.echr.coe.int/eng?i=001-233261\"\n",
    "scraper = LegalCaseScraper()\n",
    "try:\n",
    "    facts = scraper.scrape_facts(url)\n",
    "    print(\"=\" * 80)\n",
    "    print(facts)\n",
    "    print(\"=\" * 80)\n",
    "finally:\n",
    "    scraper.close()\n"
   ]
  },
  {
   "cell_type": "code",
   "execution_count": null,
   "metadata": {},
   "outputs": [],
   "source": []
  }
 ],
 "metadata": {
  "kernelspec": {
   "display_name": "hackatum24",
   "language": "python",
   "name": "python3"
  },
  "language_info": {
   "codemirror_mode": {
    "name": "ipython",
    "version": 3
   },
   "file_extension": ".py",
   "mimetype": "text/x-python",
   "name": "python",
   "nbconvert_exporter": "python",
   "pygments_lexer": "ipython3",
   "version": "3.11.3"
  },
  "orig_nbformat": 4
 },
 "nbformat": 4,
 "nbformat_minor": 2
}
