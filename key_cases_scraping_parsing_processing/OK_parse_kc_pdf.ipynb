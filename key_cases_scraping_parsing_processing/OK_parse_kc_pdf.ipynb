{
 "cells": [
  {
   "cell_type": "code",
   "execution_count": 18,
   "metadata": {},
   "outputs": [],
   "source": [
    "import pymupdf\n",
    "import re\n",
    "import json"
   ]
  },
  {
   "cell_type": "code",
   "execution_count": 20,
   "metadata": {},
   "outputs": [],
   "source": [
    "import pymupdf\n",
    "import os\n",
    "\n",
    "def extract_page_range(pdf_path):\n",
    "    doc = pymupdf.open(pdf_path)\n",
    "    start_page = 4\n",
    "    start_flag = False\n",
    "    end_page = None\n",
    "    \n",
    "    for idx, page in enumerate(doc):\n",
    "        text = page.get_text()\n",
    "        if not start_flag and 'Cases by Article' in text:\n",
    "            start_page = idx + 1\n",
    "            start_flag = True\n",
    "        if ('Cases by respondent State' in text) or ('Cases by applicant' in text) or ('Cases by State' in text):\n",
    "            end_page = idx + 1\n",
    "            break\n",
    "    \n",
    "    return start_page, end_page-1\n",
    "\n",
    "def process_pdf(pdf_path):\n",
    "        \n",
    "    # Get the page range\n",
    "    start_page, end_page = extract_page_range(pdf_path)\n",
    "    if not start_page or not end_page:\n",
    "        print(\"Could not find start or end page markers\")\n",
    "        return\n",
    "    \n",
    "    print(f\"Processing pages {start_page} to {end_page}\")\n",
    "    \n",
    "    # Open the PDF\n",
    "    doc = pymupdf.open(pdf_path)\n",
    "    all_cases = []\n",
    "    all_links = []\n",
    "    all_links_2 = []\n",
    "    \n",
    "    # Process each page\n",
    "    for page_num in range(start_page - 1, end_page):\n",
    "        page = doc[page_num]\n",
    "                \n",
    "        # Save text content\n",
    "        text = page.get_text()#.encode(\"utf8\")\n",
    "        text = re.sub(r'Cases by Article\\s*\\n\\s*\\n', '', text) \n",
    "        text = re.sub(r'\\d+\\s*\\nKey cases 2024[^\\n]*\\n', '', text)\n",
    "        text = re.sub(r'\\| Legal summary', '| Legal summary\\n***', text)\n",
    "        text = re.sub(r'\\*\\*\\*\\s*$', '***', text)\n",
    "        cases = [case.strip() for case in text.split('***') if case.strip()]\n",
    "\n",
    "        if len(cases)*2 != len(page.get_links()): # skip this page\n",
    "            print(f'The page has been skipped: {page_num + 1}, {len(cases)} cases and {len(page.get_links())} links')\n",
    "            continue\n",
    "        \n",
    "        assert len(cases)*2 == len(page.get_links()), f'Number of cases and links do not match on page {page_num + 1}, {len(cases)} cases and {len(page.get_links())} links'\n",
    "        \n",
    "        # Save links\n",
    "        linkes = []\n",
    "        linkes_2 = []\n",
    "        for link in page.get_links():\n",
    "            if \"uri\" in link:\n",
    "                if '001-' in link['uri']:\n",
    "                    linkes.append(link['uri'])\n",
    "                else:\n",
    "                    linkes_2.append(link['uri'])\n",
    "\n",
    "        cases = [case.strip() for case in text.split('***') if case.strip()]\n",
    "        links = linkes\n",
    "        print(len(cases), len(links), len(linkes_2))\n",
    "        all_cases.extend(cases)\n",
    "        all_links.extend(links)\n",
    "        all_links_2.extend(linkes_2)\n",
    "\n",
    "\n",
    "        all_cases_linked = list(zip(all_cases, all_links, all_links_2))\n",
    "        \n",
    "        print(f\"Processed page {page_num + 1}\")\n",
    "    return all_cases_linked\n",
    "\n",
    "\n",
    "def create_case_objects(case_link_tuples, file_name):\n",
    "    cases_list = []\n",
    "    for case_text, link, link_2 in case_link_tuples:\n",
    "        case_obj = {\n",
    "            \"case_text\": case_text.strip(),\n",
    "            \"link\": link.strip(),\n",
    "            \"link_2\": link_2.strip()\n",
    "        }\n",
    "        cases_list.append(case_obj)\n",
    "    \n",
    "    # Write to JSON file with proper formatting\n",
    "    with open(file_name, 'w', encoding='utf-8') as f:\n",
    "        json.dump({\"cases\": cases_list}, f, indent=2, ensure_ascii=False)"
   ]
  },
  {
   "cell_type": "code",
   "execution_count": 10,
   "metadata": {},
   "outputs": [
    {
     "name": "stdout",
     "output_type": "stream",
     "text": [
      "Processing pages 4 to 11\n",
      "3 3 3\n",
      "Processed page 4\n",
      "4 4 4\n",
      "Processed page 5\n",
      "5 5 5\n",
      "Processed page 6\n",
      "6 6 6\n",
      "Processed page 7\n",
      "4 4 4\n",
      "Processed page 8\n",
      "3 3 3\n",
      "Processed page 9\n",
      "3 3 3\n",
      "Processed page 10\n",
      "1 1 1\n",
      "Processed page 11\n"
     ]
    }
   ],
   "source": [
    "# Usage example\n",
    "pdf_path = \"./key_cases_pdf/Cases_list_2024_ENG.pdf\"\n",
    "output_dir = \"./key_cases_meta_data/kc_2024_parsed.json\"\n",
    "\n",
    "all_cases_linked = process_pdf(pdf_path)\n",
    "create_case_objects(all_cases_linked, output_dir)"
   ]
  },
  {
   "cell_type": "code",
   "execution_count": 11,
   "metadata": {},
   "outputs": [
    {
     "name": "stdout",
     "output_type": "stream",
     "text": [
      "Processing pages 4 to 15\n",
      "4 4 4\n",
      "Processed page 4\n",
      "4 2 6\n",
      "Processed page 5\n",
      "3 3 3\n",
      "Processed page 6\n",
      "6 6 6\n",
      "Processed page 7\n",
      "6 5 7\n",
      "Processed page 8\n",
      "5 4 6\n",
      "Processed page 9\n",
      "6 6 6\n",
      "Processed page 10\n",
      "4 4 4\n",
      "Processed page 11\n",
      "4 4 4\n",
      "Processed page 12\n",
      "5 5 5\n",
      "Processed page 13\n",
      "4 3 5\n",
      "Processed page 14\n",
      "2 1 3\n",
      "Processed page 15\n"
     ]
    }
   ],
   "source": [
    "# Usage example\n",
    "pdf_path = \"./key_cases_pdf/Cases_list_2023_ENG.pdf\"\n",
    "output_dir = \"./key_cases_meta_data/kc_2023_parsed.json\"\n",
    "\n",
    "all_cases_linked = process_pdf(pdf_path)\n",
    "create_case_objects(all_cases_linked, output_dir)"
   ]
  },
  {
   "cell_type": "code",
   "execution_count": 21,
   "metadata": {},
   "outputs": [
    {
     "name": "stdout",
     "output_type": "stream",
     "text": [
      "Processing pages 4 to 14\n",
      "4 4 4\n",
      "Processed page 4\n",
      "5 5 5\n",
      "Processed page 5\n",
      "6 6 6\n",
      "Processed page 6\n",
      "5 5 5\n",
      "Processed page 7\n",
      "The page has been skipped: 8, 5 cases and 8 links\n",
      "6 6 6\n",
      "Processed page 9\n",
      "6 6 6\n",
      "Processed page 10\n",
      "5 5 5\n",
      "Processed page 11\n",
      "5 4 6\n",
      "Processed page 12\n",
      "4 2 6\n",
      "Processed page 13\n",
      "2 0 4\n",
      "Processed page 14\n"
     ]
    }
   ],
   "source": [
    "# Usage example\n",
    "pdf_path = \"./key_cases_pdf/Cases_list_2022_ENG.pdf\"\n",
    "output_dir = \"./key_cases_meta_data/kc_2022_parsed.json\"\n",
    "\n",
    "all_cases_linked = process_pdf(pdf_path)\n",
    "create_case_objects(all_cases_linked, output_dir)"
   ]
  },
  {
   "cell_type": "code",
   "execution_count": 22,
   "metadata": {},
   "outputs": [
    {
     "name": "stdout",
     "output_type": "stream",
     "text": [
      "Processing pages 4 to 13\n",
      "The page has been skipped: 4, 5 cases and 12 links\n",
      "The page has been skipped: 5, 6 cases and 14 links\n",
      "7 7 7\n",
      "Processed page 6\n",
      "The page has been skipped: 7, 2 cases and 12 links\n",
      "The page has been skipped: 8, 7 cases and 18 links\n",
      "The page has been skipped: 9, 3 cases and 14 links\n",
      "The page has been skipped: 10, 4 cases and 14 links\n",
      "The page has been skipped: 11, 5 cases and 12 links\n",
      "The page has been skipped: 12, 4 cases and 10 links\n",
      "The page has been skipped: 13, 1 cases and 4 links\n"
     ]
    }
   ],
   "source": [
    "# Usage example\n",
    "pdf_path = \"./key_cases_pdf/Cases_list_2021_ENG.pdf\"\n",
    "output_dir = \"./key_cases_meta_data/kc_2021_parsed.json\"\n",
    "\n",
    "all_cases_linked = process_pdf(pdf_path)\n",
    "create_case_objects(all_cases_linked, output_dir)"
   ]
  },
  {
   "cell_type": "code",
   "execution_count": 14,
   "metadata": {},
   "outputs": [
    {
     "name": "stdout",
     "output_type": "stream",
     "text": [
      "Processing pages 4 to 12\n",
      "5 5 5\n",
      "Processed page 4\n",
      "6 6 6\n",
      "Processed page 5\n",
      "6 6 6\n",
      "Processed page 6\n",
      "7 6 8\n",
      "Processed page 7\n",
      "7 7 7\n",
      "Processed page 8\n",
      "6 6 6\n",
      "Processed page 9\n",
      "6 6 6\n",
      "Processed page 10\n",
      "6 6 6\n",
      "Processed page 11\n",
      "2 1 3\n",
      "Processed page 12\n"
     ]
    }
   ],
   "source": [
    "# Usage example\n",
    "pdf_path = \"./key_cases_pdf/Cases_list_2020_ENG.pdf\"\n",
    "output_dir = \"./key_cases_meta_data/kc_2020_parsed.json\"\n",
    "\n",
    "all_cases_linked = process_pdf(pdf_path)\n",
    "create_case_objects(all_cases_linked, output_dir)"
   ]
  },
  {
   "cell_type": "code",
   "execution_count": 23,
   "metadata": {},
   "outputs": [
    {
     "name": "stdout",
     "output_type": "stream",
     "text": [
      "Processing pages 4 to 8\n",
      "6 6 6\n",
      "Processed page 4\n",
      "The page has been skipped: 5, 6 cases and 10 links\n",
      "The page has been skipped: 6, 8 cases and 14 links\n",
      "The page has been skipped: 7, 6 cases and 14 links\n",
      "3 3 3\n",
      "Processed page 8\n"
     ]
    }
   ],
   "source": [
    "# Usage example\n",
    "pdf_path = \"./key_cases_pdf/Cases_list_2019_ENG.pdf\"\n",
    "output_dir = \"./key_cases_meta_data/kc_2019_parsed.json\"\n",
    "\n",
    "all_cases_linked = process_pdf(pdf_path)\n",
    "create_case_objects(all_cases_linked, output_dir)"
   ]
  },
  {
   "cell_type": "code",
   "execution_count": 16,
   "metadata": {},
   "outputs": [
    {
     "name": "stdout",
     "output_type": "stream",
     "text": [
      "Processing pages 4 to 10\n",
      "5 5 5\n",
      "Processed page 4\n",
      "7 7 7\n",
      "Processed page 5\n",
      "6 6 6\n",
      "Processed page 6\n",
      "7 7 7\n",
      "Processed page 7\n",
      "7 7 7\n",
      "Processed page 8\n",
      "6 6 6\n",
      "Processed page 9\n",
      "3 3 3\n",
      "Processed page 10\n"
     ]
    }
   ],
   "source": [
    "# Usage example\n",
    "pdf_path = \"./key_cases_pdf/Cases_list_2018_ENG.pdf\"\n",
    "output_dir = \"./key_cases_meta_data/kc_2018_parsed.json\"\n",
    "\n",
    "all_cases_linked = process_pdf(pdf_path)\n",
    "create_case_objects(all_cases_linked, output_dir)"
   ]
  },
  {
   "cell_type": "code",
   "execution_count": 17,
   "metadata": {},
   "outputs": [
    {
     "name": "stdout",
     "output_type": "stream",
     "text": [
      "Processing pages 4 to 10\n",
      "5 5 5\n",
      "Processed page 4\n",
      "6 6 6\n",
      "Processed page 5\n",
      "7 7 7\n",
      "Processed page 6\n",
      "7 7 7\n",
      "Processed page 7\n",
      "7 7 7\n",
      "Processed page 8\n"
     ]
    },
    {
     "ename": "AssertionError",
     "evalue": "Number of cases and links do not match on page 9, 6 cases and 10 links",
     "output_type": "error",
     "traceback": [
      "\u001b[0;31m---------------------------------------------------------------------------\u001b[0m",
      "\u001b[0;31mAssertionError\u001b[0m                            Traceback (most recent call last)",
      "\u001b[1;32m/Users/ahmed/Desktop/msc-24/TND/key_cases_identification/OK_parse_kc_pdf.ipynb Cell 10\u001b[0m line \u001b[0;36m5\n\u001b[1;32m      <a href='vscode-notebook-cell:/Users/ahmed/Desktop/msc-24/TND/key_cases_identification/OK_parse_kc_pdf.ipynb#X30sZmlsZQ%3D%3D?line=1'>2</a>\u001b[0m pdf_path \u001b[39m=\u001b[39m \u001b[39m\"\u001b[39m\u001b[39m./key_cases_pdf/Cases_list_2017_ENG.pdf\u001b[39m\u001b[39m\"\u001b[39m\n\u001b[1;32m      <a href='vscode-notebook-cell:/Users/ahmed/Desktop/msc-24/TND/key_cases_identification/OK_parse_kc_pdf.ipynb#X30sZmlsZQ%3D%3D?line=2'>3</a>\u001b[0m output_dir \u001b[39m=\u001b[39m \u001b[39m\"\u001b[39m\u001b[39m./key_cases_meta_data/kc_2017_parsed.json\u001b[39m\u001b[39m\"\u001b[39m\n\u001b[0;32m----> <a href='vscode-notebook-cell:/Users/ahmed/Desktop/msc-24/TND/key_cases_identification/OK_parse_kc_pdf.ipynb#X30sZmlsZQ%3D%3D?line=4'>5</a>\u001b[0m all_cases_linked \u001b[39m=\u001b[39m process_pdf(pdf_path)\n\u001b[1;32m      <a href='vscode-notebook-cell:/Users/ahmed/Desktop/msc-24/TND/key_cases_identification/OK_parse_kc_pdf.ipynb#X30sZmlsZQ%3D%3D?line=5'>6</a>\u001b[0m create_case_objects(all_cases_linked, output_dir)\n",
      "\u001b[1;32m/Users/ahmed/Desktop/msc-24/TND/key_cases_identification/OK_parse_kc_pdf.ipynb Cell 10\u001b[0m line \u001b[0;36m4\n\u001b[1;32m     <a href='vscode-notebook-cell:/Users/ahmed/Desktop/msc-24/TND/key_cases_identification/OK_parse_kc_pdf.ipynb#X30sZmlsZQ%3D%3D?line=45'>46</a>\u001b[0m text \u001b[39m=\u001b[39m re\u001b[39m.\u001b[39msub(\u001b[39mr\u001b[39m\u001b[39m'\u001b[39m\u001b[39m\\\u001b[39m\u001b[39m*\u001b[39m\u001b[39m\\\u001b[39m\u001b[39m*\u001b[39m\u001b[39m\\\u001b[39m\u001b[39m*\u001b[39m\u001b[39m\\\u001b[39m\u001b[39ms*$\u001b[39m\u001b[39m'\u001b[39m, \u001b[39m'\u001b[39m\u001b[39m***\u001b[39m\u001b[39m'\u001b[39m, text)\n\u001b[1;32m     <a href='vscode-notebook-cell:/Users/ahmed/Desktop/msc-24/TND/key_cases_identification/OK_parse_kc_pdf.ipynb#X30sZmlsZQ%3D%3D?line=46'>47</a>\u001b[0m cases \u001b[39m=\u001b[39m [case\u001b[39m.\u001b[39mstrip() \u001b[39mfor\u001b[39;00m case \u001b[39min\u001b[39;00m text\u001b[39m.\u001b[39msplit(\u001b[39m'\u001b[39m\u001b[39m***\u001b[39m\u001b[39m'\u001b[39m) \u001b[39mif\u001b[39;00m case\u001b[39m.\u001b[39mstrip()]\n\u001b[0;32m---> <a href='vscode-notebook-cell:/Users/ahmed/Desktop/msc-24/TND/key_cases_identification/OK_parse_kc_pdf.ipynb#X30sZmlsZQ%3D%3D?line=48'>49</a>\u001b[0m \u001b[39massert\u001b[39;00m \u001b[39mlen\u001b[39m(cases)\u001b[39m*\u001b[39m\u001b[39m2\u001b[39m \u001b[39m==\u001b[39m \u001b[39mlen\u001b[39m(page\u001b[39m.\u001b[39mget_links()), \u001b[39mf\u001b[39m\u001b[39m'\u001b[39m\u001b[39mNumber of cases and links do not match on page \u001b[39m\u001b[39m{\u001b[39;00mpage_num\u001b[39m \u001b[39m\u001b[39m+\u001b[39m\u001b[39m \u001b[39m\u001b[39m1\u001b[39m\u001b[39m}\u001b[39;00m\u001b[39m, \u001b[39m\u001b[39m{\u001b[39;00m\u001b[39mlen\u001b[39m(cases)\u001b[39m}\u001b[39;00m\u001b[39m cases and \u001b[39m\u001b[39m{\u001b[39;00m\u001b[39mlen\u001b[39m(page\u001b[39m.\u001b[39mget_links())\u001b[39m}\u001b[39;00m\u001b[39m links\u001b[39m\u001b[39m'\u001b[39m\n\u001b[1;32m     <a href='vscode-notebook-cell:/Users/ahmed/Desktop/msc-24/TND/key_cases_identification/OK_parse_kc_pdf.ipynb#X30sZmlsZQ%3D%3D?line=50'>51</a>\u001b[0m \u001b[39m# Save links\u001b[39;00m\n\u001b[1;32m     <a href='vscode-notebook-cell:/Users/ahmed/Desktop/msc-24/TND/key_cases_identification/OK_parse_kc_pdf.ipynb#X30sZmlsZQ%3D%3D?line=51'>52</a>\u001b[0m linkes \u001b[39m=\u001b[39m []\n",
      "\u001b[0;31mAssertionError\u001b[0m: Number of cases and links do not match on page 9, 6 cases and 10 links"
     ]
    }
   ],
   "source": [
    "# Usage example\n",
    "pdf_path = \"./key_cases_pdf/Cases_list_2017_ENG.pdf\"\n",
    "output_dir = \"./key_cases_meta_data/kc_2017_parsed.json\"\n",
    "\n",
    "all_cases_linked = process_pdf(pdf_path)\n",
    "create_case_objects(all_cases_linked, output_dir)"
   ]
  },
  {
   "cell_type": "code",
   "execution_count": 84,
   "metadata": {},
   "outputs": [
    {
     "name": "stdout",
     "output_type": "stream",
     "text": [
      "Processing pages 4 to 11\n",
      "5 10\n",
      "Processed page 4\n",
      "7 14\n",
      "Processed page 5\n"
     ]
    },
    {
     "ename": "AssertionError",
     "evalue": "Number of cases and links do not match on page 6, 6 cases and 10 links",
     "output_type": "error",
     "traceback": [
      "\u001b[0;31m---------------------------------------------------------------------------\u001b[0m",
      "\u001b[0;31mAssertionError\u001b[0m                            Traceback (most recent call last)",
      "\u001b[1;32m/Users/ahmed/Desktop/msc-24/TND/key_cases_identification/parse_kc_pdf.ipynb Cell 11\u001b[0m line \u001b[0;36m5\n\u001b[1;32m      <a href='vscode-notebook-cell:/Users/ahmed/Desktop/msc-24/TND/key_cases_identification/parse_kc_pdf.ipynb#X23sZmlsZQ%3D%3D?line=1'>2</a>\u001b[0m pdf_path \u001b[39m=\u001b[39m \u001b[39m\"\u001b[39m\u001b[39m./key_cases_pdf/Cases_list_2016_ENG.pdf\u001b[39m\u001b[39m\"\u001b[39m\n\u001b[1;32m      <a href='vscode-notebook-cell:/Users/ahmed/Desktop/msc-24/TND/key_cases_identification/parse_kc_pdf.ipynb#X23sZmlsZQ%3D%3D?line=2'>3</a>\u001b[0m output_dir \u001b[39m=\u001b[39m \u001b[39m\"\u001b[39m\u001b[39mkc_2016_parsed.json\u001b[39m\u001b[39m\"\u001b[39m\n\u001b[0;32m----> <a href='vscode-notebook-cell:/Users/ahmed/Desktop/msc-24/TND/key_cases_identification/parse_kc_pdf.ipynb#X23sZmlsZQ%3D%3D?line=4'>5</a>\u001b[0m all_cases_linked \u001b[39m=\u001b[39m process_pdf(pdf_path)\n\u001b[1;32m      <a href='vscode-notebook-cell:/Users/ahmed/Desktop/msc-24/TND/key_cases_identification/parse_kc_pdf.ipynb#X23sZmlsZQ%3D%3D?line=5'>6</a>\u001b[0m create_case_objects(all_cases_linked, output_dir)\n",
      "\u001b[1;32m/Users/ahmed/Desktop/msc-24/TND/key_cases_identification/parse_kc_pdf.ipynb Cell 11\u001b[0m line \u001b[0;36m4\n\u001b[1;32m     <a href='vscode-notebook-cell:/Users/ahmed/Desktop/msc-24/TND/key_cases_identification/parse_kc_pdf.ipynb#X23sZmlsZQ%3D%3D?line=44'>45</a>\u001b[0m text \u001b[39m=\u001b[39m re\u001b[39m.\u001b[39msub(\u001b[39mr\u001b[39m\u001b[39m'\u001b[39m\u001b[39m\\\u001b[39m\u001b[39m*\u001b[39m\u001b[39m\\\u001b[39m\u001b[39m*\u001b[39m\u001b[39m\\\u001b[39m\u001b[39m*\u001b[39m\u001b[39m\\\u001b[39m\u001b[39ms*$\u001b[39m\u001b[39m'\u001b[39m, \u001b[39m'\u001b[39m\u001b[39m***\u001b[39m\u001b[39m'\u001b[39m, text)\n\u001b[1;32m     <a href='vscode-notebook-cell:/Users/ahmed/Desktop/msc-24/TND/key_cases_identification/parse_kc_pdf.ipynb#X23sZmlsZQ%3D%3D?line=45'>46</a>\u001b[0m cases \u001b[39m=\u001b[39m [case\u001b[39m.\u001b[39mstrip() \u001b[39mfor\u001b[39;00m case \u001b[39min\u001b[39;00m text\u001b[39m.\u001b[39msplit(\u001b[39m'\u001b[39m\u001b[39m***\u001b[39m\u001b[39m'\u001b[39m) \u001b[39mif\u001b[39;00m case\u001b[39m.\u001b[39mstrip()]\n\u001b[0;32m---> <a href='vscode-notebook-cell:/Users/ahmed/Desktop/msc-24/TND/key_cases_identification/parse_kc_pdf.ipynb#X23sZmlsZQ%3D%3D?line=47'>48</a>\u001b[0m \u001b[39massert\u001b[39;00m \u001b[39mlen\u001b[39m(cases)\u001b[39m*\u001b[39m\u001b[39m2\u001b[39m \u001b[39m==\u001b[39m \u001b[39mlen\u001b[39m(page\u001b[39m.\u001b[39mget_links()), \u001b[39mf\u001b[39m\u001b[39m'\u001b[39m\u001b[39mNumber of cases and links do not match on page \u001b[39m\u001b[39m{\u001b[39;00mpage_num\u001b[39m \u001b[39m\u001b[39m+\u001b[39m\u001b[39m \u001b[39m\u001b[39m1\u001b[39m\u001b[39m}\u001b[39;00m\u001b[39m, \u001b[39m\u001b[39m{\u001b[39;00m\u001b[39mlen\u001b[39m(cases)\u001b[39m}\u001b[39;00m\u001b[39m cases and \u001b[39m\u001b[39m{\u001b[39;00m\u001b[39mlen\u001b[39m(page\u001b[39m.\u001b[39mget_links())\u001b[39m}\u001b[39;00m\u001b[39m links\u001b[39m\u001b[39m'\u001b[39m\n\u001b[1;32m     <a href='vscode-notebook-cell:/Users/ahmed/Desktop/msc-24/TND/key_cases_identification/parse_kc_pdf.ipynb#X23sZmlsZQ%3D%3D?line=49'>50</a>\u001b[0m \u001b[39m# Save links\u001b[39;00m\n\u001b[1;32m     <a href='vscode-notebook-cell:/Users/ahmed/Desktop/msc-24/TND/key_cases_identification/parse_kc_pdf.ipynb#X23sZmlsZQ%3D%3D?line=50'>51</a>\u001b[0m linkes \u001b[39m=\u001b[39m []\n",
      "\u001b[0;31mAssertionError\u001b[0m: Number of cases and links do not match on page 6, 6 cases and 10 links"
     ]
    }
   ],
   "source": [
    "# Usage example\n",
    "pdf_path = \"./key_cases_pdf/Cases_list_2016_ENG.pdf\"\n",
    "output_dir = \"kc_2016_parsed.json\"\n",
    "\n",
    "all_cases_linked = process_pdf(pdf_path)\n",
    "create_case_objects(all_cases_linked, output_dir)"
   ]
  },
  {
   "cell_type": "code",
   "execution_count": null,
   "metadata": {},
   "outputs": [],
   "source": []
  }
 ],
 "metadata": {
  "kernelspec": {
   "display_name": "thesis24",
   "language": "python",
   "name": "python3"
  },
  "language_info": {
   "codemirror_mode": {
    "name": "ipython",
    "version": 3
   },
   "file_extension": ".py",
   "mimetype": "text/x-python",
   "name": "python",
   "nbconvert_exporter": "python",
   "pygments_lexer": "ipython3",
   "version": "3.11.3"
  },
  "orig_nbformat": 4
 },
 "nbformat": 4,
 "nbformat_minor": 2
}
