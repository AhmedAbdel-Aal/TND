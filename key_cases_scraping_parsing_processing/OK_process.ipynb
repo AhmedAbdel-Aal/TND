{
 "cells": [
  {
   "cell_type": "code",
   "execution_count": 1,
   "metadata": {},
   "outputs": [],
   "source": [
    "%load_ext autoreload\n",
    "%autoreload 2"
   ]
  },
  {
   "cell_type": "code",
   "execution_count": 25,
   "metadata": {},
   "outputs": [],
   "source": [
    "import os\n",
    "import json\n",
    "from datetime import datetime\n",
    "from parse_process import parse_case_files, parse_metadata_files, parse_oneliner_files"
   ]
  },
  {
   "cell_type": "code",
   "execution_count": 3,
   "metadata": {},
   "outputs": [],
   "source": [
    "cases_dir = os.listdir('./key_cases_scrapped_full/')\n",
    "output_dir = './kc_processed/'"
   ]
  },
  {
   "cell_type": "code",
   "execution_count": 19,
   "metadata": {},
   "outputs": [
    {
     "data": {
      "text/plain": [
       "149"
      ]
     },
     "execution_count": 19,
     "metadata": {},
     "output_type": "execute_result"
    }
   ],
   "source": [
    "len(cases_dir)"
   ]
  },
  {
   "cell_type": "code",
   "execution_count": 27,
   "metadata": {},
   "outputs": [],
   "source": [
    "def load_txt(file_path, mode):\n",
    "    if mode == 'read':\n",
    "        with open(file_path, 'r') as f:\n",
    "            return f.read()\n",
    "    elif mode == 'readlines':\n",
    "        with open(file_path, 'r') as f:\n",
    "            return f.readlines()\n",
    "    else:\n",
    "        raise ValueError('Invalid mode')\n",
    "\n",
    "def save_json(file_path, data):\n",
    "    with open(file_path, 'w') as f:\n",
    "        json.dump(data, f)"
   ]
  },
  {
   "cell_type": "code",
   "execution_count": 31,
   "metadata": {},
   "outputs": [
    {
     "name": "stdout",
     "output_type": "stream",
     "text": [
      "skipping: 001-203699 no facts\n",
      "skipping: 001-189019 no facts\n",
      "skipping: 001-222780 no facts\n",
      "skipping: 001-224629 no facts\n",
      "skipping: 001-186434 no facts\n",
      "skipping: 001-231227 no facts\n",
      "skipping: 001-194618 no date\n",
      "skipping: 001-222410 no facts\n",
      "skipping: 001-184438 no facts\n",
      "skipping: 001-195544 no date\n",
      "skipping: 001-234982 no facts\n",
      "skipping: 001-223932 no facts\n",
      "skipping: 001-222750 no date\n",
      "skipping: 001-182452 no date\n",
      "skipping: 001-219559 no facts\n",
      "skipping: 001-219707 no facts\n",
      "skipping: 001-180276 no facts\n",
      "skipping: 001-222660 no facts\n",
      "skipping: 001-203370 no facts\n",
      "skipping: 001-235426 no facts\n",
      "skipping: 001-223924 no facts\n",
      "skipping: 001-181585 no facts\n",
      "skipping: 001-233937 no facts\n",
      "skipping: 001-194523 no date\n"
     ]
    }
   ],
   "source": [
    "cutoff_date_str = '31/10/2023'\n",
    "cutoff_date = datetime.strptime(cutoff_date_str, \"%d/%m/%Y\").date()\n",
    "\n",
    "before_cutoff = 0\n",
    "after_cutoff = 0\n",
    "\n",
    "for case_dir in cases_dir:\n",
    "    #print('processing:', case_dir)\n",
    "    case_i = './key_cases_scrapped_full/' + case_dir\n",
    "    files = sorted(os.listdir(case_i))\n",
    "    #print(files)\n",
    "    year = files[0].split('-')[0]\n",
    "    #print(year)\n",
    "    case_data = {}\n",
    "    \n",
    "    # parse case text\n",
    "    case_i_text = load_txt(case_i + f'/{files[2]}', 'read')\n",
    "    case_i_text_parsed = parse_case_files(case_i_text)\n",
    "    case_data['case_text'] = case_i_text_parsed\n",
    "\n",
    "    if 'THE FACTS' not in case_i_text_parsed or len(case_i_text_parsed['THE FACTS']) == 0:\n",
    "        print('skipping:', case_dir, 'no facts')\n",
    "        continue\n",
    "\n",
    "    # parse metadata\n",
    "    case_i_metadata = load_txt(case_i + f'/{files[0]}', 'readlines')\n",
    "    extracted_metadata = parse_metadata_files(case_i_metadata)\n",
    "    case_data['metadata'] = extracted_metadata\n",
    "    if 'Judgment Date' not in extracted_metadata and 'Decision Date' not in extracted_metadata:\n",
    "        print('skipping:', case_dir, 'no date')\n",
    "        continue\n",
    "    else:\n",
    "        cutoff_date_str = '01/10/2023'\n",
    "        date_key = \"Judgment Date\" if \"Judgment Date\" in extracted_metadata else \"Decision Date\" if \"Decision Date\" in extracted_metadata else None\n",
    "        file_date = datetime.strptime(extracted_metadata[date_key], \"%d/%m/%Y\").date()\n",
    "        \n",
    "        # Compare the file date with the cutoff date\n",
    "        if file_date > cutoff_date:\n",
    "            case_data['cut-off'] = 'after'\n",
    "            after_cutoff += 1\n",
    "        else:\n",
    "            case_data['cut-off'] = 'before'\n",
    "            before_cutoff += 1\n",
    "\n",
    "\n",
    "    # parse one-liner\n",
    "    case_i_oneliner = load_txt(case_i + f'/{files[1]}', 'readlines')\n",
    "    extracted_oneliner = parse_oneliner_files(case_i_oneliner)\n",
    "    case_data['one-liner'] = extracted_oneliner\n",
    "\n",
    "    #print('---------------------')\n",
    "    save_json(output_dir + case_dir + '.json', case_data)"
   ]
  },
  {
   "cell_type": "code",
   "execution_count": 32,
   "metadata": {},
   "outputs": [
    {
     "data": {
      "text/plain": [
       "125"
      ]
     },
     "execution_count": 32,
     "metadata": {},
     "output_type": "execute_result"
    }
   ],
   "source": [
    "processed_cases = os.listdir(output_dir)\n",
    "len(processed_cases)"
   ]
  },
  {
   "cell_type": "code",
   "execution_count": 33,
   "metadata": {},
   "outputs": [
    {
     "data": {
      "text/plain": [
       "(107, 18)"
      ]
     },
     "execution_count": 33,
     "metadata": {},
     "output_type": "execute_result"
    }
   ],
   "source": [
    "before_cutoff, after_cutoff"
   ]
  },
  {
   "cell_type": "code",
   "execution_count": null,
   "metadata": {},
   "outputs": [],
   "source": []
  }
 ],
 "metadata": {
  "kernelspec": {
   "display_name": "thesis24",
   "language": "python",
   "name": "python3"
  },
  "language_info": {
   "codemirror_mode": {
    "name": "ipython",
    "version": 3
   },
   "file_extension": ".py",
   "mimetype": "text/x-python",
   "name": "python",
   "nbconvert_exporter": "python",
   "pygments_lexer": "ipython3",
   "version": "3.11.3"
  },
  "orig_nbformat": 4
 },
 "nbformat": 4,
 "nbformat_minor": 2
}
