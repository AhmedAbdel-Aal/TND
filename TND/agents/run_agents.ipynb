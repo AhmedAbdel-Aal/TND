{
 "cells": [
  {
   "cell_type": "code",
   "execution_count": 1,
   "metadata": {},
   "outputs": [],
   "source": [
    "%load_ext autoreload\n",
    "%autoreload 2"
   ]
  },
  {
   "cell_type": "code",
   "execution_count": 2,
   "metadata": {},
   "outputs": [],
   "source": [
    "import os\n",
    "import ollama\n",
    "import json\n",
    "from summary_agent import SummaryAgent\n",
    "from Principles_agent import LPAgent"
   ]
  },
  {
   "cell_type": "code",
   "execution_count": 3,
   "metadata": {},
   "outputs": [],
   "source": [
    "def load_json(path):\n",
    "    with open(path, 'r') as f:\n",
    "        data = json.load(f)\n",
    "    return data\n",
    "\n",
    "\n",
    "i1_case =  load_json('../data/echr-processed/001-61521.json')\n",
    "i2_case = load_json('../data/echr-processed/001-57416.json')\n",
    "i3_case = load_json('../data/echr-processed/001-205675.json')\n",
    "i4_case = load_json('../data/echr-processed/001-225326.json')"
   ]
  },
  {
   "cell_type": "code",
   "execution_count": 4,
   "metadata": {},
   "outputs": [],
   "source": [
    "summary_agent = SummaryAgent(backend=\"ollama\")"
   ]
  },
  {
   "cell_type": "code",
   "execution_count": 5,
   "metadata": {},
   "outputs": [
    {
     "name": "stdout",
     "output_type": "stream",
     "text": [
      "Summarizing procedure\n",
      "   init_summary ....\n",
      "   reflect ....\n",
      "   improve ....\n",
      "Summarizing facts\n",
      "   init_summary ....\n",
      "   reflect ....\n",
      "   improve ....\n",
      "Summarizing law\n"
     ]
    },
    {
     "name": "stderr",
     "output_type": "stream",
     "text": [
      "Token indices sequence length is longer than the specified maximum sequence length for this model (684 > 512). Running this sequence through the model will result in indexing errors\n"
     ]
    },
    {
     "name": "stdout",
     "output_type": "stream",
     "text": [
      "   init_summary ....\n",
      "   reflect ....\n",
      "   improve ....\n",
      "Summarizing conclusion\n",
      "   init_summary ....\n",
      "   reflect ....\n",
      "   improve ....\n"
     ]
    }
   ],
   "source": [
    "summary_i4case = summary_agent.summarize_case(i4_case)"
   ]
  },
  {
   "cell_type": "code",
   "execution_count": null,
   "metadata": {},
   "outputs": [],
   "source": [
    "summary_i1case = summary_agent.summarize_case(i1_case)"
   ]
  },
  {
   "cell_type": "code",
   "execution_count": 31,
   "metadata": {},
   "outputs": [],
   "source": [
    "with open('./001-57416.json', 'w') as f:\n",
    "    json.dump(i4_case, f, indent=4)\n",
    "with open('./001-57416_summary.json', 'w') as f:\n",
    "    json.dump(summary_i4case, f, indent=4)\n",
    "\n",
    "    \n",
    "with open('./001-61521.json', 'w') as f:\n",
    "    json.dump(i1_case, f, indent=4)\n",
    "with open('./001-61521_summary.json', 'w') as f:\n",
    "    json.dump(summary_i1case, f, indent=4)\n",
    "    "
   ]
  },
  {
   "cell_type": "code",
   "execution_count": 8,
   "metadata": {},
   "outputs": [
    {
     "name": "stdout",
     "output_type": "stream",
     "text": [
      "Decides to join the applications;\n",
      "Decides that Ms Olena Oleksandrivna Kruhlova, the wife of the applicant in application no. 25946/19, has standing to continue the present proceedings in his stead;\n",
      "Declares the applications admissible;\n",
      "Holds that these applications disclose a breach of Article 6 1 and Article 13 of the Convention concerning the excessive length of criminal proceedings and the lack of any effective remedy in domestic law;\n",
      "Holds\n",
      "that the respondent State is to pay the applicants, within three months, the amounts indicated in the appended table, to be converted into the currency of the respondent State at the rate applicable at the date of settlement;\n",
      "that from the expiry of the above-mentioned three months until settlement simple interest shall be payable on the above amounts at a rate equal to the marginal lending rate of the European Central Bank during the default period plus three percentage points.\n",
      "Done in English, and notified in writing on 22 June 2023, pursuant to Rule 77 2 and 3 of the Rules of Court.\n",
      "\n"
     ]
    }
   ],
   "source": [
    "print(i4_case['conclusion'])"
   ]
  },
  {
   "cell_type": "code",
   "execution_count": 9,
   "metadata": {},
   "outputs": [
    {
     "name": "stdout",
     "output_type": "stream",
     "text": [
      "Here is a revised version of the legal case summary:\n",
      "\n",
      "This judgment joins the applicants' cases, allowing Ms. Olena Oleksandrivna Kruhlova to continue proceedings on behalf of her husband in one of the cases. The European Court of Human Rights (ECHR) finds that both applications disclose a breach of Article 6(1) and Article 13 of the Convention due to excessive length of criminal proceedings and lack of effective domestic remedies. Specifically, the prolonged duration of criminal proceedings and the absence of adequate mechanisms to address these issues in domestic law resulted in a violation of the applicants' rights. The respondent State is ordered to pay the applicants within three months the amounts specified in the appended table, converted into the currency of the respondent State at the applicable rate. Simple interest will accrue at a rate equal to the marginal lending rate of the European Central Bank during the default period plus three percentage points from the expiry date until settlement.\n"
     ]
    }
   ],
   "source": [
    "print(summary_i4case['conclusion'])"
   ]
  },
  {
   "cell_type": "code",
   "execution_count": 37,
   "metadata": {},
   "outputs": [
    {
     "name": "stdout",
     "output_type": "stream",
     "text": [
      "1. Holds that there has been a violation of the respondent State's positive obligations under both Articles 3 and 8 of the Convention;\n",
      "2. Holds that no separate issue arises under Article 13 of the Convention;\n",
      "3. Holds that it is not necessary to examine the applicant's complaints under Article 14 of the Convention;\n",
      "4. Holds\n",
      "(a) that the respondent State is to pay the applicant, within three months from the date on which the judgment becomes final according to Article 44 2 of the Convention, the following amounts, to be converted into the national currency of the respondent State at the rate applicable at the date of settlement:\n",
      "(b) that from the expiry of the above-mentioned three months until settlement simple interest shall be payable on the above amounts at a rate equal to the marginal lending rate of the European Central Bank during the default period plus three percentage points;\n",
      "5. Dismisses the remainder of the applicant's claim for just satisfaction.\n",
      "Done in English, and notified in writing on 4 December 2003, pursuant to Rule 77 2 and 3 of the Rules of Court.\n",
      "In accordance with Article 45 2 of the Convention and Rule 74 2 of the Rules of Court, the concurring opinion of Mrs Tulkens is annexed to this judgment.\n",
      "In this particularly sensitive and delicate case, I should simply like to make a few additional observations.\n",
      "1. I consider that it was important and significant that the Court should examine the case under both Article 3 and Article 8 of the Convention. Rape infringes not only the right to personal integrity (both physical and psychological) as guaranteed by Article 3, but also the right to autonomy as a component of the right to respect for private life as guaranteed by Article 8.\n",
      "2. I agree entirely with the Court's general approach (see paragraphs 148 et seq. of the judgment) and the manner in which it was applied in the present case (see paragraphs 169 et seq.). The only point I wish to clarify concerns the use of criminal remedies. Relying, in particular, on X and Y v. the Netherlands (judgment of 26 March 1985, Series A no. 91), the Court considers that States have a positive obligation inherent in Articles 3 and 8 of the Convention to enact criminal-law provisions effectively punishing rape (see paragraph 153). Admittedly, recourse to the criminal law may be understandable where offences of this kind are concerned. However, it is also important to emphasise on a more general level, as, indeed, the Court did in X and Y v. the Netherlands itself, that [r]ecourse to the criminal law is not necessarily the only answer (p. 12, 24 in fine). I consider that criminal proceedings should remain, both in theory and in practice, a last resort or subsidiary remedy and that their use, even in the context of positive obligations, calls for a certain degree of restraint . As to the assumption that criminal remedies are, in any event, the most effective in terms of deterrence, the observations set out in the Report on Decriminalisation by the European Committee on Crime Problems clearly show that the effectiveness of general deterrence based on the criminal law depends on various factors and that such an approach is not the only way of preventing undesirable behaviour .\n",
      "3. That said, in the present case, as in X and Y v. the Netherlands (p. 13, 27), once the State has opted for a system of protection based on the criminal law, it is of course essential that the relevant criminal-law provisions are fully and rigorously applied in order to provide the applicant with practical and effective protection. In that connection, the Court's observation that [t]he investigation and its conclusion must be centred on the issue of non-consent (see paragraph 181 of the present judgment) is, in my opinion, of fundamental importance.\n",
      "3. That said, in the present case, as in X and Y v. the Netherlands (p. 13, 27), once the State has opted for a system of protection based on the criminal law, it is of course essential that the relevant criminal-law provisions are fully and rigorously applied in order to provide the applicant with practical and effective protection. In that connection, the Court's observation that [t]he investigation and its conclusion must be centred on the issue of non-consent (see paragraph 181 of the present judgment) is, in my opinion, of fundamental importance.\n"
     ]
    }
   ],
   "source": [
    "print(i1_case['conclusion'])"
   ]
  },
  {
   "cell_type": "code",
   "execution_count": 38,
   "metadata": {},
   "outputs": [
    {
     "name": "stdout",
     "output_type": "stream",
     "text": [
      "The European Court of Human Rights holds that there has been a violation of both Articles 3 and 8 of the Convention, resulting from the respondent State's positive obligations. The Court finds no separate issue arises under Article 13. The Court does not examine the applicant's complaints under Article 14. As a remedy, the respondent State is required to pay the applicant a certain amount within three months from the date on which the judgment becomes final. Simple interest will be payable at a rate equal to the marginal lending rate of the European Central Bank during the default period plus three percentage points. The remainder of the applicant's claim is dismissed.\n"
     ]
    }
   ],
   "source": [
    "print(summary_i1case['conclusion'])"
   ]
  },
  {
   "cell_type": "code",
   "execution_count": 6,
   "metadata": {},
   "outputs": [],
   "source": [
    "i4_string = json.dumps(i4_case)\n",
    "i4s_string = json.dumps(summary_i4case)"
   ]
  },
  {
   "cell_type": "code",
   "execution_count": 7,
   "metadata": {},
   "outputs": [
    {
     "data": {
      "text/plain": [
       "(5534, 3207)"
      ]
     },
     "execution_count": 7,
     "metadata": {},
     "output_type": "execute_result"
    }
   ],
   "source": [
    "len(i4_string), len(i4s_string)"
   ]
  },
  {
   "cell_type": "code",
   "execution_count": 8,
   "metadata": {},
   "outputs": [],
   "source": [
    "from utils import count_tokens"
   ]
  },
  {
   "cell_type": "code",
   "execution_count": 9,
   "metadata": {},
   "outputs": [
    {
     "name": "stderr",
     "output_type": "stream",
     "text": [
      "Token indices sequence length is longer than the specified maximum sequence length for this model (1421 > 512). Running this sequence through the model will result in indexing errors\n",
      "Token indices sequence length is longer than the specified maximum sequence length for this model (849 > 512). Running this sequence through the model will result in indexing errors\n"
     ]
    },
    {
     "data": {
      "text/plain": [
       "(1421, 849)"
      ]
     },
     "execution_count": 9,
     "metadata": {},
     "output_type": "execute_result"
    }
   ],
   "source": [
    "count_tokens(i4_string), count_tokens(i4s_string)"
   ]
  },
  {
   "cell_type": "code",
   "execution_count": 16,
   "metadata": {},
   "outputs": [
    {
     "name": "stderr",
     "output_type": "stream",
     "text": [
      "Token indices sequence length is longer than the specified maximum sequence length for this model (21107 > 512). Running this sequence through the model will result in indexing errors\n",
      "Token indices sequence length is longer than the specified maximum sequence length for this model (2633 > 512). Running this sequence through the model will result in indexing errors\n"
     ]
    },
    {
     "data": {
      "text/plain": [
       "(97376, 12250, 21107, 2633)"
      ]
     },
     "execution_count": 16,
     "metadata": {},
     "output_type": "execute_result"
    }
   ],
   "source": [
    "i1_string = json.dumps(i1_case)\n",
    "i1s_string = json.dumps(summary_i1case)\n",
    "\n",
    "len(i1_string), len(i1s_string), count_tokens(i1_string), count_tokens(i1s_string)"
   ]
  },
  {
   "cell_type": "code",
   "execution_count": 10,
   "metadata": {},
   "outputs": [],
   "source": [
    "lp_agent = LPAgent(backend='ollama')"
   ]
  },
  {
   "cell_type": "code",
   "execution_count": 11,
   "metadata": {},
   "outputs": [
    {
     "name": "stdout",
     "output_type": "stream",
     "text": [
      "   init_extract ....\n",
      "   reflect ....\n",
      "   improve ....\n"
     ]
    }
   ],
   "source": [
    "lps = lp_agent.extract_lps(i4_case)"
   ]
  },
  {
   "cell_type": "code",
   "execution_count": 12,
   "metadata": {},
   "outputs": [
    {
     "name": "stdout",
     "output_type": "stream",
     "text": [
      "As an expert legal lawyer with the European Court of Human Rights (ECHR), I have identified the following legal principles from the case:\n",
      "\n",
      "1. **Reasonable time requirement**: The length of criminal proceedings must be assessed in the light of the circumstances of the case, considering factors such as complexity, conduct of applicants and authorities, and what was at stake for the applicants.\n",
      "2. **Article 6-1 of the Convention**: The right to a fair trial includes the reasonable time requirement for criminal proceedings.\n",
      "3. **Article 13 of the Convention**: The right to an effective remedy in domestic law is applicable in cases where there is a breach of Article 6-1 (reasonable time requirement).\n",
      "4. **The concept of \"excessive length\"**: In assessing the reasonableness of the length of proceedings, the Court considers whether the overall length of the proceedings was excessive and failed to meet the reasonable time requirement.\n",
      "5. **Just satisfaction under Article 41 of the Convention**: When a violation is found, the Court may award just satisfaction to the injured party, taking into account the internal law of the High Contracting Party concerned.\n",
      "\n",
      "These legal principles are relevant to the case of Kruglov and Others v. Ukraine, which concerns excessive length of criminal proceedings and the lack of an effective remedy in domestic law.\n"
     ]
    }
   ],
   "source": [
    "print(lps)"
   ]
  },
  {
   "cell_type": "code",
   "execution_count": 25,
   "metadata": {},
   "outputs": [
    {
     "name": "stdout",
     "output_type": "stream",
     "text": [
      "   init_summary ....\n",
      "   reflect ....\n",
      "   improve ....\n",
      "Based on the expert suggestions, I have carefully reviewed and edited the list of legal principles to ensure accuracy, conciseness, clarity, and coverage. Here is the revised list:\n",
      "\n",
      "1. **Article 6 - Right to a Fair Trial**: The ECHR found a violation of Article 6(1) of the European Convention on Human Rights, which guarantees the right to a fair trial conducted within a reasonable time frame.\n",
      "2. **Reasonable Time for Criminal Proceedings**: The Court emphasized the importance of ensuring criminal proceedings are conducted within a reasonable time frame under Article 6-1.\n",
      "3. **Article 13 - Right to an Effective Remedy**: The ECHR found a violation of Article 13, which ensures the right to an effective remedy for violations of human rights.\n",
      "4. **No Exceptional Circumstances or Complexities Justifying Delayed Proceedings**: The Court noted that there were no exceptional circumstances or complexities in the case that could justify the lengthy proceedings.\n",
      "5. **Just Satisfaction (Article 41)**: The Court awarded compensation to the applicant under Article 41 of the Convention, as part of its just satisfaction.\n",
      "\n",
      "I have implemented the expert suggestions by:\n",
      "\n",
      "* Rephrasing principle 2 for accuracy and providing more context\n",
      "* Removing principle 5 to avoid repetition and improve conciseness\n",
      "* Refining principle 6 for clarity and ensuring it accurately reflects the Court's decision\n",
      "* Adding a principle that specifically mentions Article 6-1's requirement for a fair trial, as suggested by expert (iv)\n",
      "* Ensuring accuracy by double-checking all legal principles mentioned in the source text\n",
      "\n",
      "The revised list of legal principles provides an accurate, concise, and clear overview of the key legal principles involved in this case.\n"
     ]
    }
   ],
   "source": [
    "summary_i4case = summary_agent.summarize_case(i4_case)\n",
    "lps = lp_agent.extract_lps(summary_i4case)\n",
    "print(lps)"
   ]
  },
  {
   "cell_type": "code",
   "execution_count": 18,
   "metadata": {},
   "outputs": [
    {
     "name": "stdout",
     "output_type": "stream",
     "text": [
      "   init_summary ....\n",
      "   reflect ....\n",
      "   improve ....\n"
     ]
    }
   ],
   "source": [
    "lps = lp_agent.extract_lps(i1_case)"
   ]
  },
  {
   "cell_type": "code",
   "execution_count": 19,
   "metadata": {},
   "outputs": [
    {
     "name": "stdout",
     "output_type": "stream",
     "text": [
      "Here is the revised list of legal principles:\n",
      "\n",
      "1. **Article 41**: The ECHR awards costs to the applicant only if it is established that they were actually and necessarily incurred, are reasonable as to quantum, and relate to the violation found.\n",
      "2. **Beyeler v. Italy (just satisfaction) [GC], no. 33202/96**: Legal costs are recoverable in so far as they relate to the violation found.\n",
      "3. **Article 45.2 of the Convention and Rule 74.2 of the Rules of Court**: The concurring opinion of Mrs. Tulkens is annexed to this judgment.\n",
      "4. **Last resort or subsidiary remedy**: Criminal proceedings should remain a last resort or subsidiary remedy, even in the context of positive obligations, and their use calls for a certain degree of restraint.\n",
      "5. **Effective protection**: Once the State has opted for a system of protection based on the criminal law, it is essential that the relevant criminal-law provisions are fully and rigorously applied to provide the applicant with practical and effective protection.\n",
      "\n",
      "Note: I removed some repetitive information and reorganized the list into concise legal principles.\n"
     ]
    }
   ],
   "source": [
    "print(lps)"
   ]
  },
  {
   "cell_type": "code",
   "execution_count": null,
   "metadata": {},
   "outputs": [],
   "source": [
    "summary_i1case = summary_agent.summarize_case(i1_case)"
   ]
  },
  {
   "cell_type": "code",
   "execution_count": 21,
   "metadata": {},
   "outputs": [
    {
     "name": "stdout",
     "output_type": "stream",
     "text": [
      "   init_summary ....\n",
      "   reflect ....\n",
      "   improve ....\n"
     ]
    }
   ],
   "source": [
    "lps = lp_agent.extract_lps(summary_i1case)"
   ]
  },
  {
   "cell_type": "code",
   "execution_count": 22,
   "metadata": {},
   "outputs": [
    {
     "name": "stdout",
     "output_type": "stream",
     "text": [
      "Here are the revised legal principles:\n",
      "\n",
      "* The European Court of Human Rights emphasizes that sexual assault victims may react in unpredictable ways under conditions of psychological and physical abuse.\n",
      "* States have a positive obligation to ensure that individuals within their jurisdiction are not subjected to ill-treatment, including ill-treatment administered by private individuals.\n",
      "* Effective protection and deterrence against grave acts like rape are essential, particularly for vulnerable groups like children.\n",
      "* The State's margin of appreciation when it comes to choosing means to secure compliance with Article 8 is limited in this context, given the gravity of the act and the need for efficient criminal-law provisions.\n"
     ]
    }
   ],
   "source": [
    "print(lps)"
   ]
  },
  {
   "cell_type": "code",
   "execution_count": 15,
   "metadata": {},
   "outputs": [],
   "source": [
    "from imp_agent import ImpAgent"
   ]
  },
  {
   "cell_type": "code",
   "execution_count": 16,
   "metadata": {},
   "outputs": [],
   "source": [
    "importance_agent = ImpAgent(backend='ollama')"
   ]
  },
  {
   "cell_type": "code",
   "execution_count": 14,
   "metadata": {},
   "outputs": [
    {
     "name": "stdout",
     "output_type": "stream",
     "text": [
      "Summarizing procedure\n",
      "   init_summary ....\n",
      "   reflect ....\n",
      "   improve ....\n",
      "Summarizing facts\n",
      "   init_summary ....\n",
      "   reflect ....\n",
      "   improve ....\n",
      "Summarizing law\n"
     ]
    },
    {
     "name": "stderr",
     "output_type": "stream",
     "text": [
      "Token indices sequence length is longer than the specified maximum sequence length for this model (684 > 512). Running this sequence through the model will result in indexing errors\n"
     ]
    },
    {
     "name": "stdout",
     "output_type": "stream",
     "text": [
      "   init_summary ....\n",
      "   reflect ....\n",
      "   improve ....\n",
      "Summarizing conclusion\n",
      "   init_summary ....\n",
      "   reflect ....\n",
      "   improve ....\n",
      "   init_extract ....\n",
      "   reflect ....\n",
      "   improve ....\n"
     ]
    }
   ],
   "source": [
    "summary_i4case = summary_agent.summarize_case(i4_case)\n",
    "lps = lp_agent.extract_lps(summary_i4case)"
   ]
  },
  {
   "cell_type": "code",
   "execution_count": 30,
   "metadata": {},
   "outputs": [
    {
     "name": "stdout",
     "output_type": "stream",
     "text": [
      "   init_classify ....\n",
      "   reflect ....\n",
      "   improve ....\n"
     ]
    }
   ],
   "source": [
    "importance_class = importance_agent.classify(summary_i4case, lps)"
   ]
  },
  {
   "cell_type": "code",
   "execution_count": 31,
   "metadata": {},
   "outputs": [
    {
     "data": {
      "text/plain": [
       "'**Medium**\\n\\nNote: After considering the expert suggestions, I have reclassified the importance score from \"High\" to \"Medium\". While the judgment still makes a significant contribution to ECHR case law, it does not have the same far-reaching implications or precedent-setting potential as initially suggested. The decision mainly clarifies existing case law and highlights the lack of effective remedies in domestic law, rather than introducing new principles or interpretations.'"
      ]
     },
     "execution_count": 31,
     "metadata": {},
     "output_type": "execute_result"
    }
   ],
   "source": [
    "importance_class"
   ]
  },
  {
   "cell_type": "code",
   "execution_count": 32,
   "metadata": {},
   "outputs": [
    {
     "data": {
      "text/plain": [
       "{'summary': 'Based on the criteria provided, I would classify this case as:\\n\\n**High**\\n\\nThe judgment makes a significant contribution to the development of ECHR case law by clarifying the reasonable time requirement for criminal proceedings under Article 6(1) and highlighting the lack of effective remedies in domestic law. The decision also sets a precedent for similar cases and may lead to changes in national laws and procedures aimed at ensuring a reasonable time frame for criminal proceedings.',\n",
       " 'reflection': 'Here are some suggestions for improving the given importance class:\\n\\n1. **Enhance impact**: While the current importance class highlights the significant contribution to ECHR case law, consider adding specific examples or statistics on how this judgment will affect future cases and national laws.\\n\\n2. **Clarify application**: To further emphasize the significance of this judgment, provide concrete illustrations or scenarios where this ruling would be particularly relevant or influential in real-world situations.\\n\\n3. **Strengthen contribution**: Consider highlighting innovative aspects of the decision or novel applications of existing law that make it a groundbreaking case in the development of ECHR jurisprudence.\\n\\n4. **Prioritize relevance**: Given the importance class is categorized as \"High\", prioritize making sure it accurately reflects the legal impact and implications of this judgment on current case law, rather than merely stating its significance.\\n\\n5. **Add context**: Provide more context about the relevant precedents, statutes, or regulations that are being interpreted or applied in this judgment to further emphasize its significance and relevance.\\n\\n6. **Emphasize precedent-setting potential**: Highlight how this judgment sets a new precedent for similar cases in the future, potentially leading to changes in national laws or procedures.\\n\\n7. **Enhance concision**: Consider condensing the importance class into a single sentence that effectively captures the essence of the judgment\\'s significance and relevance.\\n\\n8. **Use precise terminology**: Utilize exacting legal terminology to accurately describe the judgment\\'s implications on current case law, rather than relying on vague or general descriptions.',\n",
       " 'improvment': '**Medium**\\n\\nNote: After considering the expert suggestions, I have reclassified the importance score from \"High\" to \"Medium\". While the judgment still makes a significant contribution to ECHR case law, it does not have the same far-reaching implications or precedent-setting potential as initially suggested. The decision mainly clarifies existing case law and highlights the lack of effective remedies in domestic law, rather than introducing new principles or interpretations.'}"
      ]
     },
     "execution_count": 32,
     "metadata": {},
     "output_type": "execute_result"
    }
   ],
   "source": [
    "importance_agent.cache"
   ]
  },
  {
   "cell_type": "code",
   "execution_count": null,
   "metadata": {},
   "outputs": [],
   "source": [
    "summary_i1case = summary_agent.summarize_case(i1_case)\n",
    "lps = lp_agent.extract_lps(summary_i1case)"
   ]
  },
  {
   "cell_type": "code",
   "execution_count": 25,
   "metadata": {},
   "outputs": [
    {
     "name": "stdout",
     "output_type": "stream",
     "text": [
      "   init_classify ....\n",
      "   reflect ....\n",
      "   improve ....\n"
     ]
    }
   ],
   "source": [
    "importance_class = importance_agent.classify(summary_i1case, lps)"
   ]
  },
  {
   "cell_type": "code",
   "execution_count": 26,
   "metadata": {},
   "outputs": [
    {
     "data": {
      "text/plain": [
       "'**Importance Class:** High'"
      ]
     },
     "execution_count": 26,
     "metadata": {},
     "output_type": "execute_result"
    }
   ],
   "source": [
    "importance_class"
   ]
  },
  {
   "cell_type": "code",
   "execution_count": null,
   "metadata": {},
   "outputs": [],
   "source": []
  }
 ],
 "metadata": {
  "kernelspec": {
   "display_name": "Python 3.8 - AzureML",
   "language": "python",
   "name": "python38-azureml"
  },
  "language_info": {
   "codemirror_mode": {
    "name": "ipython",
    "version": 3
   },
   "file_extension": ".py",
   "mimetype": "text/x-python",
   "name": "python",
   "nbconvert_exporter": "python",
   "pygments_lexer": "ipython3",
   "version": "3.8.5"
  }
 },
 "nbformat": 4,
 "nbformat_minor": 2
}
