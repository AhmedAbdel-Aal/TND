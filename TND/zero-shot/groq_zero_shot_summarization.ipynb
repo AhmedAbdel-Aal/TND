{
 "cells": [
  {
   "cell_type": "code",
   "execution_count": 1,
   "metadata": {},
   "outputs": [],
   "source": [
    "import os\n",
    "import json\n",
    "from tqdm import tqdm\n",
    "from groq import Groq"
   ]
  },
  {
   "cell_type": "code",
   "execution_count": 2,
   "metadata": {},
   "outputs": [],
   "source": [
    "client = Groq(\n",
    "    api_key=\"secret\",\n",
    ")"
   ]
  },
  {
   "cell_type": "code",
   "execution_count": 15,
   "metadata": {},
   "outputs": [],
   "source": [
    "def get_response(json_content):\n",
    "        chat_completion = client.chat.completions.create(\n",
    "            model=\"llama3-8b-8192\",\n",
    "            messages=[\n",
    "                {\n",
    "                    \"role\": \"system\",\n",
    "                    \"content\": f\"\"\"\n",
    "                    \n",
    "        <s>[INST]\n",
    "         Could you please provide a summary of the given legal case, including all key points and supporting details?\n",
    "        The summary should be comprehensive and accurately reflect the main and most important facts, procedure, and arguments presented in the original text,\n",
    "        while also being concise and easy to understand. To ensure accuracy, please read the text carefully and pay attention to any nuances or complexities in the language.\n",
    "\n",
    "        ### Input:  \n",
    "        Case:\n",
    "        {json_content}\n",
    "\n",
    "        ### Output:\n",
    "        Summary: \n",
    "        [/INST]       \n",
    "                    \"\"\",\n",
    "                }\n",
    "            ]\n",
    "        )\n",
    "        return chat_completion"
   ]
  },
  {
   "cell_type": "code",
   "execution_count": 16,
   "metadata": {},
   "outputs": [],
   "source": [
    "# Directory paths\n",
    "input_dir = './echr-prompts/'\n",
    "output_dir = './zero-results/'\n",
    "\n",
    "# Ensure directory exists\n",
    "os.makedirs(input_dir, exist_ok=True)\n",
    "os.makedirs(output_dir, exist_ok=True)\n"
   ]
  },
  {
   "cell_type": "code",
   "execution_count": 17,
   "metadata": {},
   "outputs": [
    {
     "name": "stderr",
     "output_type": "stream",
     "text": [
      "  0%|          | 0/16096 [00:00<?, ?it/s]"
     ]
    },
    {
     "name": "stderr",
     "output_type": "stream",
     "text": [
      "  0%|          | 0/16096 [00:01<?, ?it/s]\n"
     ]
    }
   ],
   "source": [
    "# Process each JSON file\n",
    "for filename in tqdm(os.listdir(input_dir)):\n",
    "    if filename.endswith('.json'):\n",
    "        file_path = os.path.join(input_dir, filename)\n",
    "        \n",
    "        # Load JSON file\n",
    "        with open(file_path, 'r') as file:\n",
    "            json_data = json.load(file)\n",
    "\n",
    "        label = json_data['importance']\n",
    "        del json_data['importance']\n",
    "        del json_data['procedure']\n",
    "        del json_data['law']\n",
    "        \n",
    "        # Convert JSON data to string\n",
    "        json_string = json.dumps(json_data)\n",
    "        \n",
    "        # Get response\n",
    "        response_content = get_response(json_string)\n",
    "       # response_dict = json.loads(response_content.choices[0].message.content)\n",
    "        \n",
    "        # Save response to output directory as a .json file\n",
    "        data = {\n",
    "            'label': label,\n",
    "            'filename': filename,\n",
    "            'summary': response_content.choices[0].message.content,\n",
    "            #'total tokens': response_content.usage.total_tokens,\n",
    "            #'completion_tokens': response_content.usage.completion_tokens,\n",
    "            #'prompt_tokens': response_content.usage.prompt_tokens,\n",
    "            \n",
    "        }\n",
    "        #data.update(response_dict)\n",
    "        #output_file_path = os.path.join(output_dir, f'response_{os.path.splitext(filename)[0]}.json')\n",
    "        #with open(output_file_path, 'w') as json_file:\n",
    "        #    json.dump(data, json_file)    \n",
    "        break     "
   ]
  },
  {
   "cell_type": "code",
   "execution_count": 18,
   "metadata": {},
   "outputs": [
    {
     "data": {
      "text/plain": [
       "('1', '001-60310.json')"
      ]
     },
     "execution_count": 18,
     "metadata": {},
     "output_type": "execute_result"
    }
   ],
   "source": [
    "data['label'], data['filename']"
   ]
  },
  {
   "cell_type": "code",
   "execution_count": 19,
   "metadata": {},
   "outputs": [
    {
     "name": "stdout",
     "output_type": "stream",
     "text": [
      "Here is a comprehensive and concise summary of the legal case:\n",
      "\n",
      "The case concerns the death of the applicant's husband, who was killed in September 1994. The applicant alleged that his husband was killed by the Turkish security forces or with their complicity. The European Court of Human Rights (ECtHR) examined whether there was a violation of Articles 2, 6-1, and 13 of the European Convention on Human Rights.\n",
      "\n",
      "The ECtHR held that there was insufficient evidence to show that the applicant's husband was killed by the security forces or with their complicity, and thus, no violation of Article 2 was found on this ground. The Court also held that the investigation into the applicant's husband's death was not satisfactory, as it was incomplete, superficial, and late, and did not comply with the procedural requirements arising under Article 2 of the Convention. The Court concluded that there had been no violation of Article 2 in this regard.\n",
      "\n",
      "Furthermore, the Court held that it was unnecessary to examine the applicant's complaint under Article 6-1, and that there had been no violation of Article 13 of the Convention.\n",
      "\n",
      "The ECtHR concluded that there was no violation of Article 2 concerning the effectiveness of the investigation, and that the investigation into the applicant's husband's death was too incomplete, superficial, and late to afford any prospect of the murder being cleared up. The Court also found that the investigation did not comply with the procedural requirements arising under Article 2 of the Convention.\n",
      "\n",
      "One judge dissenting opinion held that the steps taken by the authorities in charge of the preliminary investigation and by the public prosecutor's office were not wholly satisfactory, and that the investigation was inadequate and ineffective.\n"
     ]
    }
   ],
   "source": [
    "print(data['summary'])"
   ]
  },
  {
   "cell_type": "code",
   "execution_count": 12,
   "metadata": {},
   "outputs": [
    {
     "name": "stdout",
     "output_type": "stream",
     "text": [
      "In the case of Sabuktekin v. Turkey, decided on 19/03/2002, the European Court of Human Rights (ECHR) examined the complaint of a Turkish citizen, Mrs. Sabuktekin, regarding the death of her husband and the investigation that followed. The Court found no violation of Articles 2, 6-1, and 13 of the European Convention of Human Rights, but it did find a violation of Article 13 in conjunction with Article 2.\n",
      "\n",
      "Key points of the case include:\n",
      "\n",
      "1. The applicant's husband was killed on 28 September 1994. The investigation into his death was launched immediately, but the police questioned only four people at the scene. An autopsy or toxicological analysis was not carried out, and relevant evidence was not collected in a timely manner.\n",
      "\n",
      "2. In July 1995, an operation was launched against Hizbullah, and fourteen people were arrested. The investigation focused on these suspects, but only two of them were questioned. The investigation did not yield any results, and the authorities did not hear evidence from key witnesses until 1998.\n",
      "\n",
      "3. The ECHR concluded that, while the investigation was long and complex, it was incomplete, superficial, and too late to provide any prospect of solving the murder. The Court found that the investigation did not comply with the procedural requirements arising under Article 2 of the Convention.\n",
      "\n",
      "4. However, the ECHR did not find a violation of Article 2 concerning the effectiveness of the investigation, as the authorities had taken numerous steps to investigate the death and had made efforts to identify and question suspects.\n",
      "\n",
      "5. The ECHR also found that it was not necessary to examine the applicant's complaint under Article 6-1 of the Convention.\n",
      "\n",
      "6. Regarding Article 13, the right to an effective remedy, the ECHR found that there had been a violation, as the applicant did not have an effective remedy to appeal the decision not to conduct an effective investigation into the death of her husband.\n",
      "\n",
      "In conclusion, the Sabuktekin v. Turkey case involved a long and complex investigation into the death of the applicant's husband. While the authorities took steps to investigate the death, the ECHR found that the investigation was inadequate and ineffective, leading to a violation of Article 13 in conjunction with Article 2 of the Convention.\n"
     ]
    }
   ],
   "source": [
    "print(data['summary'])"
   ]
  },
  {
   "cell_type": "code",
   "execution_count": 75,
   "metadata": {},
   "outputs": [],
   "source": [
    "d = response_content.choices[0].message.content"
   ]
  },
  {
   "cell_type": "code",
   "execution_count": 76,
   "metadata": {},
   "outputs": [
    {
     "data": {
      "text/plain": [
       "'{\\n  \"importance score\": 1,\\n  \"reason\": \"The case declares the application admissible, holds that there has been a violation of Article 6 1 of the Convention, and holds that the respondent State is to pay the applicant, within three months from the date on which the judgment becomes final, EUR 7,000 in respect of non-pecuniary damage. This indicates a significant contribution to the development, clarification or modification of the case law as it interprets Article 6 1 of the Convention and sets a financial award.\"\\n}'"
      ]
     },
     "execution_count": 76,
     "metadata": {},
     "output_type": "execute_result"
    }
   ],
   "source": [
    "d"
   ]
  },
  {
   "cell_type": "code",
   "execution_count": 78,
   "metadata": {},
   "outputs": [
    {
     "data": {
      "text/plain": [
       "dict_keys(['importance score', 'reason'])"
      ]
     },
     "execution_count": 78,
     "metadata": {},
     "output_type": "execute_result"
    }
   ],
   "source": [
    "d = json.loads(d)\n",
    "d.keys()"
   ]
  },
  {
   "cell_type": "code",
   "execution_count": 79,
   "metadata": {},
   "outputs": [
    {
     "data": {
      "text/plain": [
       "{'importance score': 1,\n",
       " 'reason': 'The case declares the application admissible, holds that there has been a violation of Article 6 1 of the Convention, and holds that the respondent State is to pay the applicant, within three months from the date on which the judgment becomes final, EUR 7,000 in respect of non-pecuniary damage. This indicates a significant contribution to the development, clarification or modification of the case law as it interprets Article 6 1 of the Convention and sets a financial award.'}"
      ]
     },
     "execution_count": 79,
     "metadata": {},
     "output_type": "execute_result"
    }
   ],
   "source": [
    "d"
   ]
  },
  {
   "cell_type": "code",
   "execution_count": null,
   "metadata": {},
   "outputs": [],
   "source": []
  }
 ],
 "metadata": {
  "kernelspec": {
   "display_name": "pytorch-env",
   "language": "python",
   "name": "pytorch-env"
  },
  "language_info": {
   "codemirror_mode": {
    "name": "ipython",
    "version": 3
   },
   "file_extension": ".py",
   "mimetype": "text/x-python",
   "name": "python",
   "nbconvert_exporter": "python",
   "pygments_lexer": "ipython3",
   "version": "3.11.3"
  },
  "orig_nbformat": 4
 },
 "nbformat": 4,
 "nbformat_minor": 2
}
