{
 "cells": [
  {
   "cell_type": "code",
   "execution_count": 2,
   "metadata": {},
   "outputs": [],
   "source": [
    "import os\n",
    "import json\n",
    "from tqdm import tqdm\n",
    "from groq import Groq"
   ]
  },
  {
   "cell_type": "code",
   "execution_count": 3,
   "metadata": {},
   "outputs": [],
   "source": [
    "client = Groq(\n",
    "    api_key=\"secret\",\n",
    ")"
   ]
  },
  {
   "cell_type": "code",
   "execution_count": 9,
   "metadata": {},
   "outputs": [],
   "source": [
    "def get_response(json_content):\n",
    "        chat_completion = client.chat.completions.create(\n",
    "            model=\"llama3-8b-8192\",\n",
    "            messages=[\n",
    "                {\n",
    "                    \"role\": \"system\",\n",
    "                    \"content\": f\"\"\"\n",
    "        Please list the high-level topics in thefollowing legal case.\n",
    "        ### Input:  \n",
    "        Case:\n",
    "       Article 10\n",
    "\n",
    "Article 10-1\n",
    "\n",
    "Freedom of expression\n",
    "\n",
    "Freedom to impart information\n",
    "\n",
    "No legitimate aim for temporary suspension of children’s fairy tale book depicting same-sex relationships and its subsequent labelling as harmful to children under the age of 14: violation\n",
    "\n",
    "Facts – The applicant, a children’s author and openly homosexual, wrote a book of six fairy tales, two of which depicted marriage between persons of the same sex. The book was aimed at nine to ten-year-old children and at social inclusion of various marginalised social groups, such as Roma, persons from different racial backgrounds, persons with disabilities, divorced families and stories around issues such as emigration and bullying. Soon after its publication by the Lithuanian University of Educational Sciences (“the University”), concerns were expressed by members of the Seimas, referring to complaints from associations representing families, that stories of same-sex relationships were presented to children. The distribution of the book was then temporarily suspended. It was later resumed but the book was marked with a warning label stating that its contents could be harmful to children under the age of 14. This was done pursuant to the indication by the Inspectorate of Journalistic Ethics which found that in so far as they encouraged a different concept of marriage and creation of family from the one enshrined in the Lithuanian Constitution and law, the two tales contained information which was harmful to minors, within the meaning of section 4 § 2 (16) of the Act on the Protection of Minors from Negative Effects of Public Information (“the Minors Protection Act”). The applicant unsuccessfully brought civil proceedings against the publisher.\n",
    "\n",
    "On 31 August 2021 a Chamber of the Court relinquished jurisdiction in favour of the Grand Chamber.\n",
    "\n",
    "Law – Article 10:\n",
    "\n",
    "Preliminary issue – The applicant died after lodging the application. Her mother, who was her legal heir, had standing to continue the proceedings in her stead.\n",
    "\n",
    "Merits –\n",
    "\n",
    "(a) Whether the impugned measures can be attributed to the respondent State – The Court found that they could: the measures had been taken by a public-law entity, the University; they had resulted directly from the domestic law which provided for administrative liability for anyone who published or distributed information considered harmful to children, without complying with the labelling requirement, as well as from interventions by several other public authorities. They had also been examined and endorsed by the domestic courts.\n",
    "\n",
    "(b) Existence of an interference and its lawfulness – The impugned measures had amounted to an interference with the applicant’s freedom of expression, for the following reasons.\n",
    "\n",
    "Firstly, although the book, during the year-long suspension of its distribution, had remained available in public libraries and, for some time, online, it had been recalled from bookshops. That had certainly reduced its availability to readers.\n",
    "\n",
    "Secondly, the marking of the book as being harmful to the age group for which it had been intended had affected the applicant’s ability to freely impart her ideas. The book had been written in a language and style which would appeal to children, and it was reasonable to assume that, by the age of 14, teenagers were in general far less interested in reading fairy tales. Having in mind that similar labels were used to mark, among other things, information which was violent, sexually explicit or promoted drug use or self-harm, the warning labels had been likely to dissuade a significant number of parents and guardians, who could be expected to trust the assessment of the book’s contents by the relevant public authority, from allowing children under the age of 14 to read the book. That was especially so in the light of the persistence of stereotypical attitudes, prejudice, hostility and discrimination against the LGBTI community in Lithuania.\n",
    "\n",
    "Thirdly, the restrictions imposed on a children’s book depicting various minorities, in particular its labelling as harmful to minors under the age of 14, had affected the applicant’s reputation as an established children’s author and had been liable to discourage her and other authors from publishing similar literature, thereby creating a chilling effect.\n",
    "\n",
    "The interference had a basis in domestic law, namely section 4 § 2 (16) of the Minors Protection Act.\n",
    "\n",
    "(c) Legitimate aim–\n",
    "\n",
    "(i) The aim of the interference – The Court examined the two aims advanced by the Government.\n",
    "\n",
    "Firstly, the Court could not subscribe to the argument that the aim of the impugned measures had been to protect children from the allegedly sexually explicit nature of one of the two fairy tales. Indeed, the Court was unable to see how the specific passage relied on could have been regarded as sexually explicit. Further, the provisions of the Minors Protection Act that referred to information of an erotic nature or which encouraged sexual relations (sections 4 §§ 2 (4) and (15)) had not been invoked by any of the parties or participants at any stage of the domestic proceedings or relied on by the domestic courts.\n",
    "\n",
    "Secondly, the Government had argued, relying on the Regional Court’s conclusion, that the aim had been to protect children from content which “promoted” same-sex relationships, by presenting those relationships as superior to different-sex relationships and by “insulting”, “degrading” or “belittling” the latter. However, there was no support in the text of the book that the applicant had sought to do this. Neither the Regional Court nor the Government had provided adequate reasons to justify why they considered the fairy tales as “encouraging” or “promoting” some types of relationships at the expense of others, rather than as seeking to foster acceptance of different types of families. Indeed, as accepted – at least implicitly – by the University and the Ministry of Culture at the time of its publication, the book had sought to encourage tolerance and acceptance of various marginalised social groups.\n",
    "\n",
    "Furthermore, the legislative history of section 4 § 2 (16) showed that the explicit reference to homosexual or bisexual relations had been removed from its final text to avoid international criticism. However, the underlying legislative intent had indeed been to restrict information about same-sex relationships, since both the Constitution and the Civil Code provided for marriage only between a man and a woman and Lithuanian legislation did not provide any possibility of legal recognition of same-sex unions. Moreover, every single instance in which that section had been applied or relied on concerned information about LGBTI-related issues.\n",
    "\n",
    "In view of the foregoing the Court had no doubt that the intended aim of section 4 § 2 (16) had been to restrict children’s access to content which had presented same-sex relationships as being essentially equivalent to different-sex relationships. The aim of the impugned measures against the applicant’s book had therefore been to bar children from such information.\n",
    "\n",
    "(ii) Whether the aforementioned aim was legitimate – The Court had already held that a legislative ban on “promotion of homosexuality or non‑traditional sexual relations” among minors did not serve to advance the legitimate aims of protection of morals, health or the rights of others, and that by adopting such laws the authorities reinforced stigma and prejudice and encouraged homophobia, which was incompatible with the notions of equality, pluralism and tolerance inherent in a democratic society. The Grand Chamber fully endorsed that conclusion. That being said, the present case was the first one in which the Court had been invited to assess restrictions imposed on literature about same-sex relationships which was aimed directly at children and written in a style and language easily accessible to them. In those circumstances, the legitimacy of the aim pursued by such restrictions warranted a more extensive analysis.\n",
    "\n",
    "(α) Relevant general principles – There was a broad consensus – including in international law – in support of the idea that in all decisions concerning children, directly or indirectly, their best interests were a primary consideration. The Court had also acknowledged, in a variety of contexts, that children, in view of their age, were impressionable and more easily influenced than persons of an older age. The Court had examined information aimed at children within the context of the right to education under Article 2 of Protocol No. 1 and emphasised that the State had to ensure that it was conveyed in an objective, critical and pluralistic manner. The Court had also accepted that domestic authorities were justified in limiting children’s access to publications which had been found to contain “an encouragement to indulge in precocious activities harmful for them or even to commit certain criminal offences” or serious and prejudicial allegations against sexual minorities, amounting to hate speech. At the same time, the Court had consistently declined to endorse policies and decisions which embodied a predisposed bias on the part of a heterosexual majority against a homosexual minority.\n",
    "\n",
    "(β) The Court’s approach in the present case – With respect to the best interests of the child, the Court had already held, on several occasions, that there was no scientific evidence or sociological data at its disposal suggesting that the mere mention of homosexuality, or open public debate about sexual minorities’ social status, would adversely affect children. It had also held that, to the extent that minors who witnessed demonstrations in favour of LGBTI rights were exposed to the ideas of diversity, equality and tolerance, the adoption of these views could only be conducive to social cohesion.\n",
    "\n",
    "In a similar vein, various international bodies had criticised laws which sought to restrict children’s access to information about different sexual orientations, on the grounds that there was no scientific evidence that such information, when presented in an objective and age-appropriate way, may cause any harm to children. On the contrary, they had emphasised that it was the lack of such information and the continuing stigmatisation of LGBTI persons in society which was harmful to children. The third parties in this case had also submitted that legal rules which labelled LGBTI-related content as harmful to children contributed to the discrimination, bullying and violence experienced by children who identified as LGBTI or who came from same-sex families.\n",
    "\n",
    "The laws of a significant number of Council of Europe member States either explicitly included teaching about same-sex relationships in the school curriculum or required ensuring respect for diversity and prohibition of discrimination on the grounds of sexual orientation in teaching. While there appeared to be no uniformity as to the age at which different member States considered it appropriate to provide children with information about intimate relationships, either same-sex or different-sex, or as to the manner in which such information should be provided to them, it was nonetheless clear that legal provisions which explicitly restricted minors’ access to information about homosexuality or same-sex relationships were present in only one member State, Hungary, whose laws had prompted the European Commission to launch the contentious phase of the infringement procedure. Furthermore, the courts in Switzerland, the United States and Canada, in several different contexts concerning children’s access to information about same-sex relationships, had held that the mere fact that some people might find certain types of families or relationships objectionable or immoral could not justify preventing children from learning about them.\n",
    "\n",
    "Equal and mutual respect for persons of different sexual orientations was inherent in the whole fabric of the Convention. It followed that insulting, degrading or belittling persons on account of their sexual orientation, or promoting one type of family at the expense of another was never acceptable under the Convention. Such an aim or effect could not be discerned in the facts of the present case. On the contrary, to depict, as the applicant had done in her writings, committed relationships between persons of the same sex as being essentially equivalent to those between persons of different sex rather advocated respect for and acceptance of all members of a given society in this fundamental aspect of their lives.\n",
    "\n",
    "Measures which restricted children’s access to information about same-sex relationships solely on the basis of sexual orientation had wider social implications. Such measures, whether they were directly enshrined in the law or adopted in case-by-case decisions, demonstrated that the authorities had a preference for some types of relationships and families over others – that they saw different-sex relationships as more socially acceptable and valuable than same-sex relationships, thereby contributing to the continuing stigmatisation of the latter. Therefore, such restrictions, however limited in their scope and effects, were incompatible with the notions of equality, pluralism and tolerance inherent in a democratic society. Where there was no other basis in any other respect to consider information about same-sex relationships to be inappropriate or harmful to children’s growth and development, restrictions on access to such information did not pursue any aims that could be accepted as legitimate and were therefore incompatible with Article 10.\n",
    "\n",
    "(d) Conclusion – The measures taken against the applicant’s book had sought to limit children’s access to information depicting same-sex relationships as essentially equivalent to different-sex relationships, labelling such information as harmful. Accordingly, they had not pursued a legitimate aim under Article 10 § 2.\n",
    "\n",
    "Conclusion: violation (unanimously).\n",
    "\n",
    "Article 41: EUR 12,000 to the applicant’s heir in respect of non-pecuniary damage.\n",
    "\n",
    "        ### Output:\n",
    "        Topics: \n",
    "                    \"\"\",\n",
    "                }\n",
    "            ]\n",
    "        )\n",
    "        return chat_completion"
   ]
  },
  {
   "cell_type": "code",
   "execution_count": 10,
   "metadata": {},
   "outputs": [],
   "source": [
    "# Directory paths\n",
    "input_dir = './echr-prompts/'\n",
    "output_dir = './zero-results/'\n",
    "\n",
    "# Ensure directory exists\n",
    "os.makedirs(input_dir, exist_ok=True)\n",
    "os.makedirs(output_dir, exist_ok=True)\n"
   ]
  },
  {
   "cell_type": "code",
   "execution_count": 11,
   "metadata": {},
   "outputs": [
    {
     "name": "stderr",
     "output_type": "stream",
     "text": [
      "  0%|          | 0/16096 [00:01<?, ?it/s]\n"
     ]
    }
   ],
   "source": [
    "# Process each JSON file\n",
    "for filename in tqdm(os.listdir(input_dir)):\n",
    "    if filename.endswith('.json'):\n",
    "        file_path = os.path.join(input_dir, filename)\n",
    "        \n",
    "        # Load JSON file\n",
    "        with open(file_path, 'r') as file:\n",
    "            json_data = json.load(file)\n",
    "\n",
    "        label = json_data['importance']\n",
    "        del json_data['importance']\n",
    "        del json_data['procedure']\n",
    "        del json_data['law']\n",
    "        \n",
    "        # Convert JSON data to string\n",
    "        json_string = json.dumps(json_data)\n",
    "        \n",
    "        # Get response\n",
    "        response_content = get_response(json_string)\n",
    "       # response_dict = json.loads(response_content.choices[0].message.content)\n",
    "        \n",
    "        # Save response to output directory as a .json file\n",
    "        data = {\n",
    "            'label': label,\n",
    "            'filename': filename,\n",
    "            'topics': response_content.choices[0].message.content,\n",
    "            #'total tokens': response_content.usage.total_tokens,\n",
    "            #'completion_tokens': response_content.usage.completion_tokens,\n",
    "            #'prompt_tokens': response_content.usage.prompt_tokens,\n",
    "            \n",
    "        }\n",
    "        #data.update(response_dict)\n",
    "        #output_file_path = os.path.join(output_dir, f'response_{os.path.splitext(filename)[0]}.json')\n",
    "        #with open(output_file_path, 'w') as json_file:\n",
    "        #    json.dump(data, json_file)    \n",
    "        break     "
   ]
  },
  {
   "cell_type": "code",
   "execution_count": 12,
   "metadata": {},
   "outputs": [
    {
     "data": {
      "text/plain": [
       "('1', '001-60310.json')"
      ]
     },
     "execution_count": 12,
     "metadata": {},
     "output_type": "execute_result"
    }
   ],
   "source": [
    "data['label'], data['filename']"
   ]
  },
  {
   "cell_type": "code",
   "execution_count": 13,
   "metadata": {},
   "outputs": [
    {
     "name": "stdout",
     "output_type": "stream",
     "text": [
      "The high-level topics in this legal case are:\n",
      "\n",
      "1. Freedom of Expression\n",
      "2. Right to Impart Information\n",
      "3. Restriction of Publication\n",
      "4. Legitimate Aim\n",
      "5. Protection of Children\n",
      "6. Minority Rights\n",
      "7. Equality and Non-Discrimination\n",
      "8. Right to Education\n",
      "9. Pluralism and Tolerance\n",
      "\n",
      "Please let me know if you have any further questions or if there's anything else I can help you with!\n"
     ]
    }
   ],
   "source": [
    "print(data['topics'])"
   ]
  },
  {
   "cell_type": "code",
   "execution_count": 8,
   "metadata": {},
   "outputs": [
    {
     "name": "stdout",
     "output_type": "stream",
     "text": [
      "Based on the legal case provided, the high-level topics are:\n",
      "\n",
      "1. Preliminary Objection\n",
      "2. Investigation into Death\n",
      "3. Effectiveness of Investigation\n",
      "4. Violation of Article 2 (Right to Life)\n",
      "5. Violation of Article 13 (Right to an Effective Remedy)\n",
      "6. Investigation into Investigation\n",
      "7. Inadequacy and Ineffectiveness of Investigation\n"
     ]
    }
   ],
   "source": [
    "print(data['topics'])"
   ]
  },
  {
   "cell_type": "code",
   "execution_count": 9,
   "metadata": {},
   "outputs": [
    {
     "ename": "KeyError",
     "evalue": "'summary'",
     "output_type": "error",
     "traceback": [
      "\u001b[0;31m---------------------------------------------------------------------------\u001b[0m",
      "\u001b[0;31mKeyError\u001b[0m                                  Traceback (most recent call last)",
      "\u001b[1;32m/Users/ahmed/Desktop/msc-24/TND/zero-shot/groq_zero_shot_4classes copy 2.ipynb Cell 8\u001b[0m line \u001b[0;36m1\n\u001b[0;32m----> <a href='vscode-notebook-cell:/Users/ahmed/Desktop/msc-24/TND/zero-shot/groq_zero_shot_4classes%20copy%202.ipynb#X10sZmlsZQ%3D%3D?line=0'>1</a>\u001b[0m \u001b[39mprint\u001b[39m(data[\u001b[39m'\u001b[39;49m\u001b[39msummary\u001b[39;49m\u001b[39m'\u001b[39;49m])\n",
      "\u001b[0;31mKeyError\u001b[0m: 'summary'"
     ]
    }
   ],
   "source": [
    "print(data['summary'])"
   ]
  },
  {
   "cell_type": "code",
   "execution_count": 75,
   "metadata": {},
   "outputs": [],
   "source": [
    "d = response_content.choices[0].message.content"
   ]
  },
  {
   "cell_type": "code",
   "execution_count": 76,
   "metadata": {},
   "outputs": [
    {
     "data": {
      "text/plain": [
       "'{\\n  \"importance score\": 1,\\n  \"reason\": \"The case declares the application admissible, holds that there has been a violation of Article 6 1 of the Convention, and holds that the respondent State is to pay the applicant, within three months from the date on which the judgment becomes final, EUR 7,000 in respect of non-pecuniary damage. This indicates a significant contribution to the development, clarification or modification of the case law as it interprets Article 6 1 of the Convention and sets a financial award.\"\\n}'"
      ]
     },
     "execution_count": 76,
     "metadata": {},
     "output_type": "execute_result"
    }
   ],
   "source": [
    "d"
   ]
  },
  {
   "cell_type": "code",
   "execution_count": 78,
   "metadata": {},
   "outputs": [
    {
     "data": {
      "text/plain": [
       "dict_keys(['importance score', 'reason'])"
      ]
     },
     "execution_count": 78,
     "metadata": {},
     "output_type": "execute_result"
    }
   ],
   "source": [
    "d = json.loads(d)\n",
    "d.keys()"
   ]
  },
  {
   "cell_type": "code",
   "execution_count": 79,
   "metadata": {},
   "outputs": [
    {
     "data": {
      "text/plain": [
       "{'importance score': 1,\n",
       " 'reason': 'The case declares the application admissible, holds that there has been a violation of Article 6 1 of the Convention, and holds that the respondent State is to pay the applicant, within three months from the date on which the judgment becomes final, EUR 7,000 in respect of non-pecuniary damage. This indicates a significant contribution to the development, clarification or modification of the case law as it interprets Article 6 1 of the Convention and sets a financial award.'}"
      ]
     },
     "execution_count": 79,
     "metadata": {},
     "output_type": "execute_result"
    }
   ],
   "source": [
    "d"
   ]
  },
  {
   "cell_type": "code",
   "execution_count": null,
   "metadata": {},
   "outputs": [],
   "source": []
  }
 ],
 "metadata": {
  "kernelspec": {
   "display_name": "pytorch-env",
   "language": "python",
   "name": "pytorch-env"
  },
  "language_info": {
   "codemirror_mode": {
    "name": "ipython",
    "version": 3
   },
   "file_extension": ".py",
   "mimetype": "text/x-python",
   "name": "python",
   "nbconvert_exporter": "python",
   "pygments_lexer": "ipython3",
   "version": "3.11.3"
  },
  "orig_nbformat": 4
 },
 "nbformat": 4,
 "nbformat_minor": 2
}
