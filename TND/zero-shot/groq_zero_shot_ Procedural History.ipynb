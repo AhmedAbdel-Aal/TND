{
 "cells": [
  {
   "cell_type": "code",
   "execution_count": 1,
   "metadata": {},
   "outputs": [],
   "source": [
    "import os\n",
    "import json\n",
    "from tqdm import tqdm\n",
    "from groq import Groq"
   ]
  },
  {
   "cell_type": "code",
   "execution_count": 2,
   "metadata": {},
   "outputs": [],
   "source": [
    "client = Groq(\n",
    "    api_key=\"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\",\n",
    ")"
   ]
  },
  {
   "cell_type": "code",
   "execution_count": 3,
   "metadata": {},
   "outputs": [],
   "source": [
    "def get_response(json_content):\n",
    "        chat_completion = client.chat.completions.create(\n",
    "            model=\"llama3-8b-8192\",\n",
    "            messages=[\n",
    "                {\n",
    "                    \"role\": \"system\",\n",
    "                    \"content\": f\"\"\"\n",
    "        Please Extract and analyze the procedural history of the following legal case\n",
    "        ### Input:  \n",
    "        Case:\n",
    "        {json_content}\n",
    "\n",
    "        ### Output: \n",
    "                    \"\"\",\n",
    "                }\n",
    "            ]\n",
    "        )\n",
    "        return chat_completion"
   ]
  },
  {
   "cell_type": "code",
   "execution_count": 4,
   "metadata": {},
   "outputs": [],
   "source": [
    "# Directory paths\n",
    "input_dir = './echr-prompts/'\n",
    "output_dir = './zero-results/'\n",
    "\n",
    "# Ensure directory exists\n",
    "os.makedirs(input_dir, exist_ok=True)\n",
    "os.makedirs(output_dir, exist_ok=True)\n"
   ]
  },
  {
   "cell_type": "code",
   "execution_count": 6,
   "metadata": {},
   "outputs": [
    {
     "name": "stderr",
     "output_type": "stream",
     "text": [
      "  0%|          | 0/16096 [00:00<?, ?it/s]"
     ]
    },
    {
     "name": "stderr",
     "output_type": "stream",
     "text": [
      "  0%|          | 0/16096 [00:01<?, ?it/s]\n"
     ]
    }
   ],
   "source": [
    "# Process each JSON file\n",
    "for filename in tqdm(os.listdir(input_dir)):\n",
    "    if filename.endswith('.json'):\n",
    "        file_path = os.path.join(input_dir, filename)\n",
    "        \n",
    "        # Load JSON file\n",
    "        with open(file_path, 'r') as file:\n",
    "            json_data = json.load(file)\n",
    "\n",
    "        label = json_data['importance']\n",
    "        del json_data['importance']\n",
    "        del json_data['procedure']\n",
    "        del json_data['law']\n",
    "        \n",
    "        # Convert JSON data to string\n",
    "        json_string = json.dumps(json_data)\n",
    "        \n",
    "        # Get response\n",
    "        response_content = get_response(json_string)\n",
    "       # response_dict = json.loads(response_content.choices[0].message.content)\n",
    "        \n",
    "        # Save response to output directory as a .json file\n",
    "        data = {\n",
    "            'label': label,\n",
    "            'filename': filename,\n",
    "            'ph': response_content.choices[0].message.content,\n",
    "            #'total tokens': response_content.usage.total_tokens,\n",
    "            #'completion_tokens': response_content.usage.completion_tokens,\n",
    "            #'prompt_tokens': response_content.usage.prompt_tokens,\n",
    "            \n",
    "        }\n",
    "        #data.update(response_dict)\n",
    "        #output_file_path = os.path.join(output_dir, f'response_{os.path.splitext(filename)[0]}.json')\n",
    "        #with open(output_file_path, 'w') as json_file:\n",
    "        #    json.dump(data, json_file)    \n",
    "        break     "
   ]
  },
  {
   "cell_type": "code",
   "execution_count": 7,
   "metadata": {},
   "outputs": [
    {
     "data": {
      "text/plain": [
       "('1', '001-60310.json')"
      ]
     },
     "execution_count": 7,
     "metadata": {},
     "output_type": "execute_result"
    }
   ],
   "source": [
    "data['label'], data['filename']"
   ]
  },
  {
   "cell_type": "code",
   "execution_count": 8,
   "metadata": {},
   "outputs": [
    {
     "name": "stdout",
     "output_type": "stream",
     "text": [
      "The procedural history of the case \"SABUKTEKIN v. TURKEY\" can be extracted as follows:\n",
      "\n",
      "1. Complaint:\n",
      "\t* The wife of a Turkish citizen, Sultan Sabuktekin, lodged a complaint with the European Commission of Human Rights on 24 July 1995.\n",
      "\t* The Commission declared the application admissible on 15 October 1996.\n",
      "2. Proceedings before the European Commission:\n",
      "\t* The Turkish Government's preliminary objections were dismissed on 18 June 1998.\n",
      "\t* The Commission's decision was communicated to the parties on 25 June 1998.\n",
      "3. Admissibility decision:\n",
      "\t* The European Commission declared the applicant's husband's death to be in breach of Article 2 of the European Convention on Human Rights on 15 October 1996.\n",
      "\t* The Commission also declared that there had been no violation of Article 6-1 of the Convention.\n",
      "4. Pre-litigation:\n",
      "\t* The Turkish Government launched an investigation into the applicant's husband's death in 1994.\n",
      "\t* The investigation was incomplete, superficial, and late, leading to concerns about its effectiveness and impartiality.\n",
      "\t* The applicant's complaint was lodged in 1995.\n",
      "5. Litigation before the European Court of Human Rights:\n",
      "\t* The case was lodged with the European Court of Human Rights on [date].\n",
      "\t* The Court declared the complaint admissible on [date].\n",
      "\t* The case was decided by the Grand Chamber of the European Court of Human Rights on 19 March 2002.\n",
      "6. Judgment:\n",
      "\t* The Court held that there was no violation of Article 2 of the Convention concerning the death of the applicant's husband (by six votes to one).\n",
      "\t* The Court held that there was no violation of Article 2 of the Convention concerning the effectiveness of the investigation (by six votes to one).\n",
      "\t* The Court held that it was not necessary to examine the applicant's complaint under Article 6-1 of the Convention.\n",
      "\t* The Court held that there had been no violation of Article 13 of the Convention.\n",
      "\n",
      "The procedural history of the case shows that the applicant's husband died in 1994, and the Turkish Government launched an investigation into his death. The applicant lodged a complaint with the European Commission of Human Rights in 1995, which was declared admissible in 1996. The case was then taken up by the European Court of Human Rights, which handed down its judgment on 19 March 2002.\n"
     ]
    }
   ],
   "source": [
    "print(data['ph'])"
   ]
  },
  {
   "cell_type": "code",
   "execution_count": 8,
   "metadata": {},
   "outputs": [
    {
     "name": "stdout",
     "output_type": "stream",
     "text": [
      "Based on the legal case provided, the high-level topics are:\n",
      "\n",
      "1. Preliminary Objection\n",
      "2. Investigation into Death\n",
      "3. Effectiveness of Investigation\n",
      "4. Violation of Article 2 (Right to Life)\n",
      "5. Violation of Article 13 (Right to an Effective Remedy)\n",
      "6. Investigation into Investigation\n",
      "7. Inadequacy and Ineffectiveness of Investigation\n"
     ]
    }
   ],
   "source": [
    "print(data['topics'])"
   ]
  },
  {
   "cell_type": "code",
   "execution_count": 9,
   "metadata": {},
   "outputs": [
    {
     "ename": "KeyError",
     "evalue": "'summary'",
     "output_type": "error",
     "traceback": [
      "\u001b[0;31m---------------------------------------------------------------------------\u001b[0m",
      "\u001b[0;31mKeyError\u001b[0m                                  Traceback (most recent call last)",
      "\u001b[1;32m/Users/ahmed/Desktop/msc-24/TND/zero-shot/groq_zero_shot_4classes copy 2.ipynb Cell 8\u001b[0m line \u001b[0;36m1\n\u001b[0;32m----> <a href='vscode-notebook-cell:/Users/ahmed/Desktop/msc-24/TND/zero-shot/groq_zero_shot_4classes%20copy%202.ipynb#X10sZmlsZQ%3D%3D?line=0'>1</a>\u001b[0m \u001b[39mprint\u001b[39m(data[\u001b[39m'\u001b[39;49m\u001b[39msummary\u001b[39;49m\u001b[39m'\u001b[39;49m])\n",
      "\u001b[0;31mKeyError\u001b[0m: 'summary'"
     ]
    }
   ],
   "source": [
    "print(data['summary'])"
   ]
  },
  {
   "cell_type": "code",
   "execution_count": 75,
   "metadata": {},
   "outputs": [],
   "source": [
    "d = response_content.choices[0].message.content"
   ]
  },
  {
   "cell_type": "code",
   "execution_count": 76,
   "metadata": {},
   "outputs": [
    {
     "data": {
      "text/plain": [
       "'{\\n  \"importance score\": 1,\\n  \"reason\": \"The case declares the application admissible, holds that there has been a violation of Article 6 1 of the Convention, and holds that the respondent State is to pay the applicant, within three months from the date on which the judgment becomes final, EUR 7,000 in respect of non-pecuniary damage. This indicates a significant contribution to the development, clarification or modification of the case law as it interprets Article 6 1 of the Convention and sets a financial award.\"\\n}'"
      ]
     },
     "execution_count": 76,
     "metadata": {},
     "output_type": "execute_result"
    }
   ],
   "source": [
    "d"
   ]
  },
  {
   "cell_type": "code",
   "execution_count": 78,
   "metadata": {},
   "outputs": [
    {
     "data": {
      "text/plain": [
       "dict_keys(['importance score', 'reason'])"
      ]
     },
     "execution_count": 78,
     "metadata": {},
     "output_type": "execute_result"
    }
   ],
   "source": [
    "d = json.loads(d)\n",
    "d.keys()"
   ]
  },
  {
   "cell_type": "code",
   "execution_count": 79,
   "metadata": {},
   "outputs": [
    {
     "data": {
      "text/plain": [
       "{'importance score': 1,\n",
       " 'reason': 'The case declares the application admissible, holds that there has been a violation of Article 6 1 of the Convention, and holds that the respondent State is to pay the applicant, within three months from the date on which the judgment becomes final, EUR 7,000 in respect of non-pecuniary damage. This indicates a significant contribution to the development, clarification or modification of the case law as it interprets Article 6 1 of the Convention and sets a financial award.'}"
      ]
     },
     "execution_count": 79,
     "metadata": {},
     "output_type": "execute_result"
    }
   ],
   "source": [
    "d"
   ]
  },
  {
   "cell_type": "code",
   "execution_count": null,
   "metadata": {},
   "outputs": [],
   "source": []
  }
 ],
 "metadata": {
  "kernelspec": {
   "display_name": "pytorch-env",
   "language": "python",
   "name": "pytorch-env"
  },
  "language_info": {
   "codemirror_mode": {
    "name": "ipython",
    "version": 3
   },
   "file_extension": ".py",
   "mimetype": "text/x-python",
   "name": "python",
   "nbconvert_exporter": "python",
   "pygments_lexer": "ipython3",
   "version": "3.11.3"
  },
  "orig_nbformat": 4
 },
 "nbformat": 4,
 "nbformat_minor": 2
}
