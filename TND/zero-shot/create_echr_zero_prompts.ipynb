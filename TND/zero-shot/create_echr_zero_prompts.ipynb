{
 "cells": [
  {
   "cell_type": "code",
   "execution_count": 1,
   "metadata": {},
   "outputs": [],
   "source": [
    "%load_ext autoreload\n",
    "%autoreload 2"
   ]
  },
  {
   "cell_type": "code",
   "execution_count": 2,
   "metadata": {},
   "outputs": [],
   "source": [
    "import json\n",
    "import os\n",
    "import pandas as pd\n",
    "from tqdm import tqdm\n",
    "from utils import *"
   ]
  },
  {
   "cell_type": "code",
   "execution_count": 3,
   "metadata": {},
   "outputs": [],
   "source": [
    "structured_path = '../../ECHR/echr-data/echr_2_0_0_structured_cases.json'\n",
    "st = load_json(structured_path)\n",
    "\n",
    "unstructured_path = '../../ECHR/echr-data/echr_2_0_0_unstructured_cases.json'\n",
    "ust= load_json(unstructured_path)"
   ]
  },
  {
   "cell_type": "code",
   "execution_count": 4,
   "metadata": {},
   "outputs": [],
   "source": [
    "output_directory = './echr-prompts/'"
   ]
  },
  {
   "cell_type": "code",
   "execution_count": 9,
   "metadata": {},
   "outputs": [
    {
     "name": "stderr",
     "output_type": "stream",
     "text": [
      "16096it [00:32, 501.12it/s]\n"
     ]
    }
   ],
   "source": [
    "keys = list()\n",
    "for i, j in tqdm(zip(st, ust)):\n",
    "    case = {}\n",
    "    assert i['itemid'] == j['itemid']\n",
    "    \n",
    "    docx_key = list(j['content'].keys())[0]\n",
    "    sections = j['content'][docx_key]\n",
    "    \n",
    "    case['judgementdate'] = i['judgementdate'] \n",
    "    case['articles'] = j['__articles'] \n",
    "    case['__conclusion'] = j['__conclusion']\n",
    "    case['article'] = j['article'] \n",
    "    case['parties'] = j['parties']\n",
    "    case['importance'] = j['importance']    \n",
    "\n",
    "    r = get_content(sections)\n",
    "    if 'conclusion' in r.keys():\n",
    "        case.update({'conclusion':r['conclusion']})\n",
    "    if 'procedure' in r.keys():\n",
    "        case.update({'procedure':r['procedure']})\n",
    "    if 'law' in r.keys():\n",
    "        case.update({'law':r['law']})\n",
    "    \n",
    "    save_json(case, output_directory + i['itemid'] + '.json')"
   ]
  },
  {
   "cell_type": "code",
   "execution_count": null,
   "metadata": {},
   "outputs": [],
   "source": []
  }
 ],
 "metadata": {
  "kernelspec": {
   "display_name": "pytorch-env",
   "language": "python",
   "name": "pytorch-env"
  },
  "language_info": {
   "codemirror_mode": {
    "name": "ipython",
    "version": 3
   },
   "file_extension": ".py",
   "mimetype": "text/x-python",
   "name": "python",
   "nbconvert_exporter": "python",
   "pygments_lexer": "ipython3",
   "version": "3.11.3"
  },
  "orig_nbformat": 4
 },
 "nbformat": 4,
 "nbformat_minor": 2
}
