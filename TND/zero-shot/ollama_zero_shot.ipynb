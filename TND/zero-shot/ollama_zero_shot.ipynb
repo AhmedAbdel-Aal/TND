{
 "cells": [
  {
   "cell_type": "code",
   "execution_count": 1,
   "id": "d593a478-6ced-4d9e-a917-696f31deb13c",
   "metadata": {},
   "outputs": [],
   "source": [
    "import ollama\n",
    "import os\n",
    "import json\n",
    "from tqdm import tqdm"
   ]
  },
  {
   "cell_type": "code",
   "execution_count": 3,
   "id": "d55f4141",
   "metadata": {},
   "outputs": [
    {
     "data": {
      "text/plain": [
       "{'models': [{'name': 'mistral:7b',\n",
       "   'model': 'mistral:7b',\n",
       "   'modified_at': '2024-05-25T17:17:04.703920594+02:00',\n",
       "   'size': 4113301090,\n",
       "   'digest': '2ae6f6dd7a3dd734790bbbf58b8909a606e0e7e97e94b7604e0aa7ae4490e6d8',\n",
       "   'details': {'parent_model': '',\n",
       "    'format': 'gguf',\n",
       "    'family': 'llama',\n",
       "    'families': ['llama'],\n",
       "    'parameter_size': '7.2B',\n",
       "    'quantization_level': 'Q4_0'},\n",
       "   'expires_at': '0001-01-01T00:00:00Z'},\n",
       "  {'name': 'llama3:latest',\n",
       "   'model': 'llama3:latest',\n",
       "   'modified_at': '2024-05-24T15:13:40.464991529+02:00',\n",
       "   'size': 4661224676,\n",
       "   'digest': '365c0bd3c000a25d28ddbf732fe1c6add414de7275464c4e4d1c3b5fcb5d8ad1',\n",
       "   'details': {'parent_model': '',\n",
       "    'format': 'gguf',\n",
       "    'family': 'llama',\n",
       "    'families': ['llama'],\n",
       "    'parameter_size': '8.0B',\n",
       "    'quantization_level': 'Q4_0'},\n",
       "   'expires_at': '0001-01-01T00:00:00Z'}]}"
      ]
     },
     "execution_count": 3,
     "metadata": {},
     "output_type": "execute_result"
    }
   ],
   "source": [
    "ollama.list()"
   ]
  },
  {
   "cell_type": "code",
   "execution_count": 4,
   "id": "b79e270c-65dd-43d1-8bdf-2b4e920aad95",
   "metadata": {},
   "outputs": [],
   "source": [
    "# Function to get response from ollama.chat\n",
    "def get_response(json_content):\n",
    "    response = ollama.chat(model='mistral:7b', messages=[\n",
    "        {\n",
    "            'role': 'system',\n",
    "            'content': f\"\"\"\n",
    "<s>[INST]\n",
    "Please extract the following features from the given ECHR case information. These features will be used later for classification purposes:\n",
    "\n",
    "1. **Length of Legal Reasoning Section:** Provide the word count or a detailed estimate of the length of the legal reasoning section.\n",
    "2. **Number and Depth of Citations:** List the number of citations to other cases, statutes, or legal principles, and describe the depth of discussion for these citations.\n",
    "3. **Presence of Legal Principles and Detailed Interpretations:** Identify and describe the legal principles discussed in the case and provide details on how thoroughly they are interpreted and applied.\n",
    "4. **Multiple Concurring or Dissenting Opinions:** Indicate whether there are any concurring or dissenting opinions, and provide details about their number and depth.\n",
    "5. **References to the Development or Clarification of Legal Principles:** Note any instances where the case contributes to the development or clarification of existing legal doctrines, and provide details.\n",
    "6. **Number of Times Subsequent Cases Cite the Case:** If available, provide the number of times this case is cited in subsequent judicial decisions.\n",
    "\n",
    "### Input:  \n",
    "Case:\n",
    "{json_content}\n",
    "Based on the above information, extract the following features:\n",
    "\n",
    "1. Length of Legal Reasoning Section:\n",
    "2. Number and Depth of Citations:\n",
    "3. Presence of Legal Principles and Detailed Interpretations:\n",
    "4. Multiple Concurring or Dissenting Opinions:\n",
    "5. References to the Development or Clarification of Legal Principles:\n",
    "6. Number of Times Subsequent Cases Cite the Case:\n",
    "\n",
    "### Response:  \n",
    "\n",
    "[/INST]\n",
    "\"\"\"\n",
    "        },\n",
    "    ])\n",
    "    return response['message']['content']"
   ]
  },
  {
   "cell_type": "code",
   "execution_count": 5,
   "id": "6ebcef0b",
   "metadata": {},
   "outputs": [],
   "source": [
    "# Directory paths\n",
    "input_dir = './echr-prompts/'\n",
    "output_dir = './zero-results/'\n",
    "\n",
    "# Ensure directory exists\n",
    "os.makedirs(input_dir, exist_ok=True)\n",
    "os.makedirs(output_dir, exist_ok=True)\n"
   ]
  },
  {
   "cell_type": "code",
   "execution_count": 6,
   "id": "b14965a7",
   "metadata": {},
   "outputs": [
    {
     "name": "stderr",
     "output_type": "stream",
     "text": [
      "  0%|          | 0/50 [00:00<?, ?it/s]"
     ]
    },
    {
     "name": "stderr",
     "output_type": "stream",
     "text": [
      "  0%|          | 0/50 [00:39<?, ?it/s]\n"
     ]
    }
   ],
   "source": [
    "\n",
    "# Process each JSON file\n",
    "for filename in tqdm(os.listdir(input_dir)):\n",
    "    if filename.endswith('.json'):\n",
    "        file_path = os.path.join(input_dir, filename)\n",
    "        \n",
    "        # Load JSON file\n",
    "        with open(file_path, 'r') as file:\n",
    "            json_data = json.load(file)\n",
    "\n",
    "        label = json_data['importance']\n",
    "        del json_data['importance']\n",
    "        \n",
    "        # Convert JSON data to string\n",
    "        json_string = json.dumps(json_data)\n",
    "        \n",
    "        # Get response\n",
    "        response_content = get_response(json_string)\n",
    "        \n",
    "        # Save response to output directory as a .txt file\n",
    "        output_file_path = os.path.join(output_dir, f'response_{os.path.splitext(filename)[0]}.txt')\n",
    "        with open(output_file_path, 'w') as output_file:\n",
    "            output_file.write(label + '-' + response_content)\n",
    "    break\n",
    "        \n"
   ]
  },
  {
   "cell_type": "code",
   "execution_count": 7,
   "id": "bb306610",
   "metadata": {},
   "outputs": [
    {
     "name": "stdout",
     "output_type": "stream",
     "text": [
      " 1. Length of Legal Reasoning Section: The length of the legal reasoning section can be estimated as approximately 250 words, based on a standard word count. However, this is an approximation as the structure and density of text may affect the precise word count.\n",
      "2. Number and Depth of Citations: There are four citations to articles in the European Convention on Human Rights (ECHR). The depth of discussion for these citations appears brief, with each citation being mentioned only once in the conclusion to determine whether a violation has occurred or not.\n",
      "3. Presence of Legal Principles and Detailed Interpretations: The case discusses several legal principles, including Articles 6, 13, P1-1 (Protocol No. 1), and Article 41 (just satisfaction). However, the interpretation and application of these principles are not provided in detail; instead, the court quickly determines whether a violation has occurred based on these articles.\n",
      "4. Multiple Concurring or Dissenting Opinions: None is present.\n",
      "5. References to the Development or Clarification of Legal Principles: The case does not seem to contribute significantly to the development or clarification of existing legal doctrines.\n",
      "6. Number of Times Subsequent Cases Cite the Case: This information is not provided in the given data.\n"
     ]
    }
   ],
   "source": [
    "print(response_content)"
   ]
  },
  {
   "cell_type": "code",
   "execution_count": 11,
   "id": "4c5f7b13",
   "metadata": {},
   "outputs": [
    {
     "data": {
      "text/plain": [
       "'3'"
      ]
     },
     "execution_count": 11,
     "metadata": {},
     "output_type": "execute_result"
    }
   ],
   "source": [
    "label"
   ]
  },
  {
   "cell_type": "code",
   "execution_count": null,
   "id": "f2cb7ddc",
   "metadata": {},
   "outputs": [],
   "source": []
  }
 ],
 "metadata": {
  "kernelspec": {
   "display_name": "pytorch-env",
   "language": "python",
   "name": "pytorch-env"
  },
  "language_info": {
   "codemirror_mode": {
    "name": "ipython",
    "version": 3
   },
   "file_extension": ".py",
   "mimetype": "text/x-python",
   "name": "python",
   "nbconvert_exporter": "python",
   "pygments_lexer": "ipython3",
   "version": "3.11.3"
  }
 },
 "nbformat": 4,
 "nbformat_minor": 5
}
