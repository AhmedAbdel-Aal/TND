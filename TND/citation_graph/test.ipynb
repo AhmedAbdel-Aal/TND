{
 "cells": [
  {
   "cell_type": "code",
   "execution_count": 1,
   "metadata": {},
   "outputs": [],
   "source": [
    "%load_ext autoreload\n",
    "%autoreload 2"
   ]
  },
  {
   "cell_type": "code",
   "execution_count": 2,
   "metadata": {},
   "outputs": [],
   "source": [
    "import json\n",
    "import os\n",
    "import pandas as pd\n",
    "from tqdm import tqdm\n",
    "from utils import *"
   ]
  },
  {
   "cell_type": "code",
   "execution_count": 3,
   "metadata": {},
   "outputs": [],
   "source": [
    "unstructured_path = '../../ECHR/echr-data/echr_2_0_0_unstructured_cases.json'\n",
    "ust= load_json(unstructured_path)"
   ]
  },
  {
   "cell_type": "code",
   "execution_count": 6,
   "metadata": {},
   "outputs": [
    {
     "name": "stderr",
     "output_type": "stream",
     "text": [
      "100%|██████████| 16096/16096 [00:01<00:00, 13320.40it/s]\n"
     ]
    }
   ],
   "source": [
    "# Initialize an empty list to hold case data\n",
    "case_data = []\n",
    "\n",
    "# Iterate over each case in the list\n",
    "for case in tqdm(ust):\n",
    "    itemid = case['itemid']\n",
    "    appno = case['appno']\n",
    "    extractedappno = case['extractedappno']\n",
    "    importance = case['importance']\n",
    "    \n",
    "    # Append the data as a dictionary to the case_data list\n",
    "    case_data.append({\n",
    "        'itemid': itemid,\n",
    "        'appno': appno,\n",
    "        'extractedappno': extractedappno,\n",
    "        'importance': importance\n",
    "    })\n",
    "\n",
    "# Create a DataFrame from the case_data list\n",
    "df = pd.DataFrame(case_data)"
   ]
  },
  {
   "cell_type": "code",
   "execution_count": 7,
   "metadata": {},
   "outputs": [
    {
     "data": {
      "text/html": [
       "<div>\n",
       "<style scoped>\n",
       "    .dataframe tbody tr th:only-of-type {\n",
       "        vertical-align: middle;\n",
       "    }\n",
       "\n",
       "    .dataframe tbody tr th {\n",
       "        vertical-align: top;\n",
       "    }\n",
       "\n",
       "    .dataframe thead th {\n",
       "        text-align: right;\n",
       "    }\n",
       "</style>\n",
       "<table border=\"1\" class=\"dataframe\">\n",
       "  <thead>\n",
       "    <tr style=\"text-align: right;\">\n",
       "      <th></th>\n",
       "      <th>itemid</th>\n",
       "      <th>appno</th>\n",
       "      <th>extractedappno</th>\n",
       "      <th>importance</th>\n",
       "    </tr>\n",
       "  </thead>\n",
       "  <tbody>\n",
       "    <tr>\n",
       "      <th>0</th>\n",
       "      <td>001-95845</td>\n",
       "      <td>33888/05</td>\n",
       "      <td>[33888/05, 28/00, 73/00, 71/01, 46/95, 101/03,...</td>\n",
       "      <td>4</td>\n",
       "    </tr>\n",
       "    <tr>\n",
       "      <th>1</th>\n",
       "      <td>001-209033</td>\n",
       "      <td>10783/14</td>\n",
       "      <td>[10783/14, 68294/01, 51127/18, 37685/10, 22768...</td>\n",
       "      <td>2</td>\n",
       "    </tr>\n",
       "    <tr>\n",
       "      <th>2</th>\n",
       "      <td>001-178343</td>\n",
       "      <td>29431/05;7070/06;5402/07</td>\n",
       "      <td>[29431/05, 7070/06, 5402/07, 68955/11, 34148/0...</td>\n",
       "      <td>3</td>\n",
       "    </tr>\n",
       "    <tr>\n",
       "      <th>3</th>\n",
       "      <td>001-84572</td>\n",
       "      <td>11101/04</td>\n",
       "      <td>[11101/04, 38049/02, 52495/99, 15212/03, 11215...</td>\n",
       "      <td>4</td>\n",
       "    </tr>\n",
       "    <tr>\n",
       "      <th>4</th>\n",
       "      <td>001-112534</td>\n",
       "      <td>19433/07</td>\n",
       "      <td>[19433/07, 39272/98, 29392/95, 33218/96, 36505...</td>\n",
       "      <td>4</td>\n",
       "    </tr>\n",
       "  </tbody>\n",
       "</table>\n",
       "</div>"
      ],
      "text/plain": [
       "       itemid                     appno  \\\n",
       "0   001-95845                  33888/05   \n",
       "1  001-209033                  10783/14   \n",
       "2  001-178343  29431/05;7070/06;5402/07   \n",
       "3   001-84572                  11101/04   \n",
       "4  001-112534                  19433/07   \n",
       "\n",
       "                                      extractedappno importance  \n",
       "0  [33888/05, 28/00, 73/00, 71/01, 46/95, 101/03,...          4  \n",
       "1  [10783/14, 68294/01, 51127/18, 37685/10, 22768...          2  \n",
       "2  [29431/05, 7070/06, 5402/07, 68955/11, 34148/0...          3  \n",
       "3  [11101/04, 38049/02, 52495/99, 15212/03, 11215...          4  \n",
       "4  [19433/07, 39272/98, 29392/95, 33218/96, 36505...          4  "
      ]
     },
     "execution_count": 7,
     "metadata": {},
     "output_type": "execute_result"
    }
   ],
   "source": [
    "df.head()"
   ]
  },
  {
   "cell_type": "code",
   "execution_count": 12,
   "metadata": {},
   "outputs": [
    {
     "data": {
      "text/plain": [
       "(16096, 15910)"
      ]
     },
     "execution_count": 12,
     "metadata": {},
     "output_type": "execute_result"
    }
   ],
   "source": [
    "df['itemid'].nunique(), df['appno'].nunique()"
   ]
  },
  {
   "cell_type": "code",
   "execution_count": 10,
   "metadata": {},
   "outputs": [],
   "source": [
    "def get_importances_of_cited_cases(df, itemid):\n",
    "    # Find the extractedappno for the given itemid\n",
    "    extractedappno_list = df.loc[df['itemid'] == itemid, 'extractedappno'].values[0]\n",
    "    \n",
    "    # Query the DataFrame for the importances of the cited cases\n",
    "    cited_cases_importance = df[df['appno'].isin(extractedappno_list)][['appno', 'importance']]\n",
    "    \n",
    "    return cited_cases_importance\n"
   ]
  },
  {
   "cell_type": "code",
   "execution_count": 11,
   "metadata": {},
   "outputs": [
    {
     "data": {
      "text/html": [
       "<div>\n",
       "<style scoped>\n",
       "    .dataframe tbody tr th:only-of-type {\n",
       "        vertical-align: middle;\n",
       "    }\n",
       "\n",
       "    .dataframe tbody tr th {\n",
       "        vertical-align: top;\n",
       "    }\n",
       "\n",
       "    .dataframe thead th {\n",
       "        text-align: right;\n",
       "    }\n",
       "</style>\n",
       "<table border=\"1\" class=\"dataframe\">\n",
       "  <thead>\n",
       "    <tr style=\"text-align: right;\">\n",
       "      <th></th>\n",
       "      <th>appno</th>\n",
       "      <th>importance</th>\n",
       "    </tr>\n",
       "  </thead>\n",
       "  <tbody>\n",
       "    <tr>\n",
       "      <th>0</th>\n",
       "      <td>33888/05</td>\n",
       "      <td>4</td>\n",
       "    </tr>\n",
       "    <tr>\n",
       "      <th>927</th>\n",
       "      <td>17271/04</td>\n",
       "      <td>3</td>\n",
       "    </tr>\n",
       "    <tr>\n",
       "      <th>2035</th>\n",
       "      <td>59498/00</td>\n",
       "      <td>1</td>\n",
       "    </tr>\n",
       "    <tr>\n",
       "      <th>9498</th>\n",
       "      <td>3102/05</td>\n",
       "      <td>4</td>\n",
       "    </tr>\n",
       "    <tr>\n",
       "      <th>11610</th>\n",
       "      <td>17556/05</td>\n",
       "      <td>4</td>\n",
       "    </tr>\n",
       "    <tr>\n",
       "      <th>12887</th>\n",
       "      <td>40765/02</td>\n",
       "      <td>1</td>\n",
       "    </tr>\n",
       "  </tbody>\n",
       "</table>\n",
       "</div>"
      ],
      "text/plain": [
       "          appno importance\n",
       "0      33888/05          4\n",
       "927    17271/04          3\n",
       "2035   59498/00          1\n",
       "9498    3102/05          4\n",
       "11610  17556/05          4\n",
       "12887  40765/02          1"
      ]
     },
     "execution_count": 11,
     "metadata": {},
     "output_type": "execute_result"
    }
   ],
   "source": [
    "get_importances_of_cited_cases(df, '001-95845')"
   ]
  },
  {
   "cell_type": "code",
   "execution_count": null,
   "metadata": {},
   "outputs": [],
   "source": []
  }
 ],
 "metadata": {
  "kernelspec": {
   "display_name": "pytorch-env",
   "language": "python",
   "name": "pytorch-env"
  },
  "language_info": {
   "codemirror_mode": {
    "name": "ipython",
    "version": 3
   },
   "file_extension": ".py",
   "mimetype": "text/x-python",
   "name": "python",
   "nbconvert_exporter": "python",
   "pygments_lexer": "ipython3",
   "version": "3.11.3"
  },
  "orig_nbformat": 4
 },
 "nbformat": 4,
 "nbformat_minor": 2
}
