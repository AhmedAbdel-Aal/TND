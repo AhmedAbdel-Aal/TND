{
 "cells": [
  {
   "cell_type": "code",
   "execution_count": 1,
   "metadata": {},
   "outputs": [],
   "source": [
    "%load_ext autoreload\n",
    "%autoreload 2"
   ]
  },
  {
   "cell_type": "code",
   "execution_count": 2,
   "metadata": {},
   "outputs": [],
   "source": [
    "import os\n",
    "import time\n",
    "import ollama\n",
    "import json\n",
    "from agent import Agent\n",
    "from utils import load_json, save_json"
   ]
  },
  {
   "cell_type": "code",
   "execution_count": 3,
   "metadata": {},
   "outputs": [],
   "source": [
    "cases = {'1':[], '2':[], '3':[], '4':[]}\n",
    "for root, dirs, files in os.walk('../pilot_study_sample/'):\n",
    "    for dir in dirs:\n",
    "        for root, dirs, files in os.walk('../pilot_study_sample/' + dir):\n",
    "            for file in files:\n",
    "                if file.endswith('.json'):\n",
    "                    cases[dir].append(os.path.join(root, file))"
   ]
  },
  {
   "cell_type": "code",
   "execution_count": 4,
   "metadata": {},
   "outputs": [],
   "source": [
    "agent = Agent(backend=\"groq\")\n"
   ]
  },
  {
   "cell_type": "code",
   "execution_count": 11,
   "metadata": {},
   "outputs": [],
   "source": [
    "i4_case = load_json(cases['4'][2])"
   ]
  },
  {
   "cell_type": "code",
   "execution_count": 12,
   "metadata": {},
   "outputs": [],
   "source": [
    "generated_law_section = agent.generate(i4_case['facts'])"
   ]
  },
  {
   "cell_type": "code",
   "execution_count": 13,
   "metadata": {},
   "outputs": [
    {
     "name": "stdout",
     "output_type": "stream",
     "text": [
      "As an expert legal lawyer with the European Court of Human Rights (ECHR), I will now provide legal arguments based on the facts of the case.\n",
      "\n",
      "The applicants have raised two main complaints under the European Convention on Human Rights: the excessive length of criminal proceedings and the lack of any effective remedy in domestic law.\n",
      "\n",
      "**Excessive length of criminal proceedings**\n",
      "\n",
      "Article 6(1) of the Convention guarantees the right to a trial within a reasonable time. The applicants claim that the length of their criminal proceedings has been excessive, which has resulted in an infringement of this right.\n",
      "\n",
      "In order to establish a violation of Article 6(1), the applicants need to demonstrate that the length of their proceedings has been unreasonably long, considering the complexity of the case, the conduct of the parties, and the conduct of the authorities.\n",
      "\n",
      "It is therefore necessary to examine the length of the proceedings in the instant case and assess whether it has exceeded what is considered reasonable in the circumstances. If it has, the Court may find a violation of Article 6(1).\n",
      "\n",
      "**Lack of any effective remedy in domestic law**\n",
      "\n",
      "The applicants also complain that they have been unable to access any effective remedy in domestic law to challenge the excessive length of their criminal proceedings.\n",
      "\n",
      "Article 13 of the Convention guarantees the availability of a remedy at domestic level. In order to establish a violation of Article 13, the applicants need to demonstrate that they have been deprived of any effective remedy to challenge the alleged violation of their Convention rights.\n",
      "\n",
      "If the domestic remedies available to the applicants have been inadequate or ineffective, and they have been unable to access a domestic remedy that would have enabled them to effectively challenge the excessive length of their criminal proceedings, the Court may find a violation of Article 13.\n",
      "\n",
      "In conclusion, the applicants' complaints under Article 6(1) and Article 13 of the Convention, alleging the excessive length of their criminal proceedings and the lack of any effective remedy in domestic law, need to be carefully examined and assessed by the Court. Further submissions and arguments will be necessary to fully address these complaints.\n"
     ]
    }
   ],
   "source": [
    "print(generated_law_section)"
   ]
  },
  {
   "cell_type": "code",
   "execution_count": 14,
   "metadata": {},
   "outputs": [],
   "source": [
    "from rouge_score import rouge_scorer\n",
    "scorer = rouge_scorer.RougeScorer(['rouge1', 'rougeL'], use_stemmer=True)"
   ]
  },
  {
   "cell_type": "code",
   "execution_count": 15,
   "metadata": {},
   "outputs": [],
   "source": [
    "actual_law_section = i4_case['law']\n",
    "\n",
    "scores = scorer.score(generated_law_section, actual_law_section)"
   ]
  },
  {
   "cell_type": "code",
   "execution_count": 16,
   "metadata": {},
   "outputs": [
    {
     "data": {
      "text/plain": [
       "{'rouge1': Score(precision=0.4391634980988593, recall=0.6346153846153846, fmeasure=0.5191011235955056),\n",
       " 'rougeL': Score(precision=0.20532319391634982, recall=0.2967032967032967, fmeasure=0.24269662921348314)}"
      ]
     },
     "execution_count": 16,
     "metadata": {},
     "output_type": "execute_result"
    }
   ],
   "source": [
    "scores"
   ]
  },
  {
   "cell_type": "code",
   "execution_count": null,
   "metadata": {},
   "outputs": [],
   "source": []
  }
 ],
 "metadata": {
  "kernelspec": {
   "display_name": "thesis24",
   "language": "python",
   "name": "python3"
  },
  "language_info": {
   "codemirror_mode": {
    "name": "ipython",
    "version": 3
   },
   "file_extension": ".py",
   "mimetype": "text/x-python",
   "name": "python",
   "nbconvert_exporter": "python",
   "pygments_lexer": "ipython3",
   "version": "3.11.3"
  }
 },
 "nbformat": 4,
 "nbformat_minor": 2
}
