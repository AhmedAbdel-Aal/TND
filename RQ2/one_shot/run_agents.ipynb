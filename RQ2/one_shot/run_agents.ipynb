{
 "cells": [
  {
   "cell_type": "code",
   "execution_count": 1,
   "metadata": {},
   "outputs": [],
   "source": [
    "%load_ext autoreload\n",
    "%autoreload 2"
   ]
  },
  {
   "cell_type": "code",
   "execution_count": 2,
   "metadata": {},
   "outputs": [],
   "source": [
    "import os\n",
    "import time\n",
    "import ollama\n",
    "import json\n",
    "from agent import Agent\n",
    "from utils import load_json, save_json"
   ]
  },
  {
   "cell_type": "code",
   "execution_count": 3,
   "metadata": {},
   "outputs": [],
   "source": [
    "cases = {'1':[], '2':[], '3':[], '4':[]}\n",
    "for root, dirs, files in os.walk('../pilot_study_sample/'):\n",
    "    for dir in dirs:\n",
    "        for root, dirs, files in os.walk('../pilot_study_sample/' + dir):\n",
    "            for file in files:\n",
    "                if file.endswith('.json'):\n",
    "                    cases[dir].append(os.path.join(root, file))"
   ]
  },
  {
   "cell_type": "code",
   "execution_count": 10,
   "metadata": {},
   "outputs": [],
   "source": [
    "agent = Agent(backend=\"groq\")"
   ]
  },
  {
   "cell_type": "code",
   "execution_count": 11,
   "metadata": {},
   "outputs": [],
   "source": [
    "i4_case_1 = load_json(cases['4'][2])\n",
    "i4_case_2 = load_json(cases['4'][3])"
   ]
  },
  {
   "cell_type": "code",
   "execution_count": 12,
   "metadata": {},
   "outputs": [],
   "source": [
    "facts_1 = i4_case_1['facts']\n",
    "law_1 = i4_case_1['law']\n",
    "facts_2 = i4_case_2['facts']\n",
    "law_2 = i4_case_2['law']"
   ]
  },
  {
   "cell_type": "code",
   "execution_count": 13,
   "metadata": {},
   "outputs": [],
   "source": [
    "generated_law_section = agent.generate(facts_1, law_1, facts_2)"
   ]
  },
  {
   "cell_type": "code",
   "execution_count": 14,
   "metadata": {},
   "outputs": [
    {
     "name": "stdout",
     "output_type": "stream",
     "text": [
      "I. ALLEGED VIOLATION OF ARTICLE 3 OF THE CONVENTION\n",
      "17. The applicant complained that the conditions of his detention in remand prison IZ-77/3 of Moscow between 22 November 2008 and 7 September 2009 violated Article 3 of the Convention, which reads as follows:\n",
      "No one shall be subjected to torture or to inhuman or degrading treatment or punishment.\n",
      "A. Admissibility\n",
      "18. With reference to various provisions of the Rules of Court and the Practice Direction on Institution of Proceedings, the Government alleged that the application form had been lodged after a long delay and that its date of posting, rather than that of the applicant s first letter, should be taken as the date of introduction of the case. In their view, that fact had an impact on the admissibility of the complaint, in particular as regards the six-month time-limit set by Article 35 1 of the Convention.\n",
      "19. The applicant did not comment.\n",
      "20. The Court observes that the application form was posted on 4 December 2009, that is within six months from 7 September 2009, when the applicant had left the remand prison, the starting date of the six-month time-limit. The Court concludes that even if it were to accept the Government s argument, the applicant s complaint is not out of time for the purposes of Article 35 1 of the Convention.\n",
      "21. The Court notes that this complaint is not manifestly ill-founded within the meaning of Article 35 3 (a) of the Convention. It further notes that it is not inadmissible on any other grounds. It must therefore be declared admissible.\n",
      "B. Establishment of facts\n",
      "22. The applicant was held in the Moscow remand prison IZ-77/3 between 22 November 2008 and 7 September 2009, that is nine months and fifteen days.\n",
      "23. The Court observes that the Government submitted a large number of documents concerning various aspects of the applicant s detention. Of particular importance is the prison population register, an original document which was prepared during the period of the applicant s stay in the prison and covered a large part of the detention. The documents showed that the applicant had been detained in cells 608, 207, 517 and 510, which measured around 34, 32, 37 and 13 sq. m, respectively.\n",
      "24. The Court however notes that the documents, including the certificates by the director of the prison, the prison population register and the domestic judgments, variously indicated the number of sleeping places and the actual occupancy of the cells (see paragraphs 8, 9 and 11 above).\n",
      "25. Nevertheless, the Court finds that, even considering the highest occupancy figures, the applicant was afforded around 4 sq. m of personal space and that there was no shortage of sleeping places during the period under examination.\n",
      "26. As to the findings of the domestic authorities regarding the lack of personal space (see paragraphs 10 and 11 above), the Court observes that the prosecutor s reply referred to the remand prison in general, rather than to the applicant s personal situation, whereas the domestic judgment did not indicate the actual occupancy of the cells and it is not clear from it why such conclusion was reached.\n",
      "27. The applicant s submissions differed from those of the Government in every aspect save for the number of one cell. Although they were sufficiently detailed, the only evidence corroborating them were the cellmates statements, which contained general assertions without references to concrete details (see paragraph 7 above). Moreover, the Court notes that the factual information provided by the Government was not contested by the applicant in his observations in reply. For these reasons, the Court lends credence to the Government s submissions.\n",
      "C. Compliance with Article 3\n",
      "28. The Court found it established that the applicant had been provided with around four square metres of floor surface and disposed of his own sleeping place. It cannot be said that the dimensions of his cells were so small as to restrict the applicant s freedom of movement (see Ananyev and Others v. Russia, nos. 42525/07 and 60800/08, 143-148, 10 January 2012).\n",
      "29. It also appears that the applicant was allowed a one-hour outdoor exercise daily. Windows were not fitted with metal shutters preventing natural light and fresh air from penetrating into the cells. The cells were additionally equipped with artificial lighting and forced ventilation.\n",
      "30. The Court observes that the lavatory pans, the dining tables and the sleeping places were all located within the cells, but at a sufficient distance from each other. Brick partitions separated the toilets from the rest of the cells. Hot and cold running water was available to detainees and the applicant had regular access to shower and washing facilities.\n",
      "31. Taking into account the cumulative effect of those conditions, the Court considers that the conditions of the applicant s detention in remand prison IZ-77/3 of Moscow between 22 November 2008 and 7 September 2009 cannot be regarded as inhuman or degrading. There has been therefore no violation of Article 3 of the Convention.\n",
      "II. ALLEGED VIOLATION OF ARTICLE 13 OF THE CONVENTION\n",
      "32. The applicant further complained that he did not dispose of an effective domestic remedy for his grievance concerning the inhuman conditions of detention, as required by Article 13 of the Convention, which provides that:\n",
      "Everyone whose rights and freedoms as set forth in [the] Convention are violated shall have an effective remedy before a national authority notwithstanding that the violation has been committed by persons acting in an official capacity.\n",
      "33. The Government, with reference to the Court s judgment of Ananyev and Others v. Russia (cited above) acknowledged the absence of such remedies, but submitted that the applicant was not a victim of the violation since he did not attempt to raise the issue at the domestic level.\n",
      "34. The applicant did not submit any specific comments.\n",
      "35. The Court observes that the applicant complained about the conditions of his pre-trial detention to the prosecutor and tried to obtain redress in the Russian courts (see paragraphs 10 and 11 above). Accordingly, it rejects the Government s objection.\n",
      "36. Taking into account the Court s findings in the Ananyev and Others judgment (cited above, 93-118), it considers that the applicant did not have at his disposal an effective domestic remedy for his complaints, in breach of Article 13 of the Convention.\n",
      "III. OTHER ALLEGED VIOLATIONS OF THE CONVENTION\n",
      "37. The applicant also complained that he could not adequately prepare for the trial because of poor conditions of his detention. The Court notes that the applicant did not raise that complaint before the courts during the criminal proceedings against him. It follows that the complaint is inadmissible due to non-exhaustion of domestic remedies in accordance with Article 35 1 of the Convention.\n",
      "IV. APPLICATION OF ARTICLE 41 OF THE CONVENTION\n",
      "38. Article 41 of the Convention provides:\n",
      "If the Court finds that there has been a violation of the Convention or the Protocols thereto, and if the internal law of the High Contracting Party concerned allows only partial reparation to be made, the Court shall, if necessary, afford just satisfaction to the injured party.\n",
      "A. Damage\n",
      "39. The applicant claimed 15,840 euros in respect of non-pecuniary damage.\n",
      "40. The Government did not comment.\n",
      "41. The Court has found a violation of Article 13 of the Convention on account of the absence of an effective domestic remedy for the applicant s complaint about the conditions of his pre-trial detention.\n",
      "42. In these circumstances, the Court considers that the finding of a violation constitutes sufficient just satisfaction (see Ananyev and Others v. Russia, cited above, 173). Accordingly, it rejects the applicant s claims in respect of non-pecuniary damage.\n",
      "B. Costs and expenses\n",
      "43. The applicant did not claim any costs and expenses incurred either before the domestic courts or the Court.\n"
     ]
    }
   ],
   "source": [
    "print(law_2)"
   ]
  },
  {
   "cell_type": "code",
   "execution_count": 15,
   "metadata": {},
   "outputs": [
    {
     "name": "stdout",
     "output_type": "stream",
     "text": [
      "Here is the \"Law\" section of the ECHR judgment:\n",
      "\n",
      "LAW\n",
      "\n",
      "1. The applications under Article 6 1 and Article 13 of the Convention for breach of the respondent State's obligations to ensure the effective administration of justice and to provide an effective remedy in this connection.\n",
      "\n",
      "RELEVANT DOMESTIC LAW AND PRACTICE\n",
      "\n",
      "2. The applicant's complaints under Article 6 1 and Article 13 of the Convention concern the conditions of his detention in remand prison IZ-77/3 of Moscow and the length of the criminal proceedings against him. The relevant domestic law and practice in this case include:\n",
      "\n",
      "* The Code of Criminal Procedure of the Russian Federation, which provides for the conditions of detention in remand prisons and the procedures for investigating criminal cases;\n",
      "* The Penal Code of the Russian Federation, which sets out the sanctions that may be imposed for criminal offenses;\n",
      "* The Russian Constitution, which guarantees the right to life, liberty and security of the person, as well as the right to a fair trial and an effective remedy against violations of these rights.\n",
      "\n",
      "RELEVANT INTERNATIONAL LAW\n",
      "\n",
      "3. The applicant's complaints also raise issues under Article 13 of the European Convention on Human Rights, which guarantees the right to an effective remedy before a national authority. The respondent State's obligations under Article 13 are shaped by the relevant international law and practice, including:\n",
      "\n",
      "* The European Convention on Human Rights and its Protocols;\n",
      "* The jurisprudence of the European Court of Human Rights.\n",
      "\n",
      "PARTIES' SUBMISSIONS\n",
      "\n",
      "4. The applicant submits that the conditions of his detention in remand prison IZ-77/3 of Moscow were inhumane and violated his rights under Article 3 of the Convention. He claims that he was subjected to overcrowding, poor ventilation, and inadequate sanitation, and that he was not provided with adequate food or clothing.\n",
      "\n",
      "5. The respondent State claims that the conditions of the applicant's detention were in compliance with domestic law and practice, and that the applicant was provided with adequate food, clothing, and medical care. It also claims that the applicant's complaints about the length of the criminal proceedings were unfounded, as the proceedings were conducted in accordance with domestic law and practice.\n",
      "\n",
      "COURT'S ASSESSMENT\n",
      "\n",
      "6. The Court notes that the applicant's complaints under Article 6 1 and Article 13 of the Convention raise issues about the length of the criminal proceedings and the conditions of his detention in remand prison IZ-77/3 of Moscow. The Court must assess these complaints in the light of the relevant Convention articles and the principles of international human rights law.\n",
      "\n",
      "7. In considering the applicant's complaint about the length of the criminal proceedings, the Court notes that the proceedings were conducted over a period of approximately five months, from the date of the applicant's arrest to the date of his conviction. While the Court takes into account the complexity of the case and the conduct of the parties involved, it finds that the length of the proceedings was excessive and failed to meet the reasonable time requirement.\n",
      "\n",
      "8. As regards the applicant's complaint about the conditions of his detention in remand prison IZ-77/3 of Moscow, the Court notes that the applicant was held in a cell that was overcrowded and lacked adequate ventilation and sanitation. The Court also notes that the applicant was not provided with adequate food or clothing, and that he was not afforded adequate medical care.\n",
      "\n",
      "9. The Court concludes that the conditions of the applicant's detention in remand prison IZ-77/3 of Moscow were inhumane and violated his rights under Article 3 of the Convention. The Court also finds that the length of the criminal proceedings was excessive and failed to meet the reasonable time requirement.\n",
      "\n",
      "10. Having regard to the findings above, the Court concludes that there has been a breach of Article 6 1 and Article 13 of the Convention.\n",
      "\n",
      "APPLICATION OF ARTICLE 41 OF THE CONVENTION\n",
      "\n",
      "11. Article 41 of the Convention provides that if the Court finds that there has been a violation of the Convention, and that the internal law of the High Contracting Party concerned allows only partial reparation to be made, the Court shall, if necessary, afford just satisfaction to the injured party.\n",
      "\n",
      "12. The Court considers that it is necessary to afford just satisfaction to the applicant for the breaches of Article 6 1 and Article 13 of the Convention found above. It awards the applicant the sum of €10,000 for pecuniary and non-pecuniary damages, and the sum of €5,000 for costs.\n",
      "\n",
      "13. The Court also considers that it is necessary to order the respondent State to take measures to prevent similar violations of Article 3 and Article 6 1 of the Convention in the future.\n",
      "\n",
      "I. Therefore, the Court holds that there has been a violation of Article 3 and Article 6 1 of the European Convention on Human Rights, and that the respondent State must provide just satisfaction to the applicant in accordance with Article 41 of the Convention.\n"
     ]
    }
   ],
   "source": [
    "print(generated_law_section)"
   ]
  },
  {
   "cell_type": "code",
   "execution_count": 16,
   "metadata": {},
   "outputs": [],
   "source": [
    "from rouge_score import rouge_scorer"
   ]
  },
  {
   "cell_type": "code",
   "execution_count": 17,
   "metadata": {},
   "outputs": [],
   "source": [
    "scorer = rouge_scorer.RougeScorer(['rouge1', 'rougeL'], use_stemmer=True)"
   ]
  },
  {
   "cell_type": "code",
   "execution_count": 18,
   "metadata": {},
   "outputs": [],
   "source": [
    "scores = scorer.score(generated_law_section,law_2)"
   ]
  },
  {
   "cell_type": "code",
   "execution_count": 19,
   "metadata": {},
   "outputs": [
    {
     "data": {
      "text/plain": [
       "{'rouge1': Score(precision=0.4675716440422323, recall=0.7328605200945626, fmeasure=0.570902394106814),\n",
       " 'rougeL': Score(precision=0.2187028657616893, recall=0.34278959810874704, fmeasure=0.26703499079189685)}"
      ]
     },
     "execution_count": 19,
     "metadata": {},
     "output_type": "execute_result"
    }
   ],
   "source": [
    "scores"
   ]
  },
  {
   "cell_type": "code",
   "execution_count": null,
   "metadata": {},
   "outputs": [],
   "source": []
  }
 ],
 "metadata": {
  "kernelspec": {
   "display_name": "pytorch-env",
   "language": "python",
   "name": "python3"
  },
  "language_info": {
   "codemirror_mode": {
    "name": "ipython",
    "version": 3
   },
   "file_extension": ".py",
   "mimetype": "text/x-python",
   "name": "python",
   "nbconvert_exporter": "python",
   "pygments_lexer": "ipython3",
   "version": "3.11.3"
  }
 },
 "nbformat": 4,
 "nbformat_minor": 2
}
