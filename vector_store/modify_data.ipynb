{
 "cells": [
  {
   "cell_type": "code",
   "execution_count": 1,
   "metadata": {},
   "outputs": [],
   "source": [
    "import os\n",
    "import pandas as pd\n",
    "from utils import load_json"
   ]
  },
  {
   "cell_type": "code",
   "execution_count": 2,
   "metadata": {},
   "outputs": [],
   "source": [
    "processed_data_root = '/Users/ahmed/Desktop/msc-24/ECHR/echr-processed' \n",
    "cases_files = os.listdir(processed_data_root)\n",
    "id_t_date = {}\n",
    "\n",
    "for file in cases_files:\n",
    "   case = load_json(os.path.join(processed_data_root, file))\n",
    "   id_t_date[case['itemid']] = case['judgementdate']"
   ]
  },
  {
   "cell_type": "code",
   "execution_count": 3,
   "metadata": {},
   "outputs": [],
   "source": [
    "df = pd.read_csv('/Users/ahmed/Desktop/msc-24/ECHR/paragraphs/echr_case_paragraphs.csv')"
   ]
  },
  {
   "cell_type": "code",
   "execution_count": 4,
   "metadata": {},
   "outputs": [
    {
     "data": {
      "text/html": [
       "<div>\n",
       "<style scoped>\n",
       "    .dataframe tbody tr th:only-of-type {\n",
       "        vertical-align: middle;\n",
       "    }\n",
       "\n",
       "    .dataframe tbody tr th {\n",
       "        vertical-align: top;\n",
       "    }\n",
       "\n",
       "    .dataframe thead th {\n",
       "        text-align: right;\n",
       "    }\n",
       "</style>\n",
       "<table border=\"1\" class=\"dataframe\">\n",
       "  <thead>\n",
       "    <tr style=\"text-align: right;\">\n",
       "      <th></th>\n",
       "      <th>case_id</th>\n",
       "      <th>case_name</th>\n",
       "      <th>paragraph_number</th>\n",
       "      <th>paragraph_text</th>\n",
       "    </tr>\n",
       "  </thead>\n",
       "  <tbody>\n",
       "    <tr>\n",
       "      <th>0</th>\n",
       "      <td>001-95845</td>\n",
       "      <td>CASE OF POPOVIC v. SERBIA</td>\n",
       "      <td>1</td>\n",
       "      <td>1.  The case originated in an application (no....</td>\n",
       "    </tr>\n",
       "    <tr>\n",
       "      <th>1</th>\n",
       "      <td>001-95845</td>\n",
       "      <td>CASE OF POPOVIC v. SERBIA</td>\n",
       "      <td>2</td>\n",
       "      <td>2.  As of 3 June 2006, following the Montenegr...</td>\n",
       "    </tr>\n",
       "    <tr>\n",
       "      <th>2</th>\n",
       "      <td>001-95845</td>\n",
       "      <td>CASE OF POPOVIC v. SERBIA</td>\n",
       "      <td>3</td>\n",
       "      <td>3.  The applicant was represented by Mr S. Sto...</td>\n",
       "    </tr>\n",
       "  </tbody>\n",
       "</table>\n",
       "</div>"
      ],
      "text/plain": [
       "     case_id                  case_name  paragraph_number  \\\n",
       "0  001-95845  CASE OF POPOVIC v. SERBIA                 1   \n",
       "1  001-95845  CASE OF POPOVIC v. SERBIA                 2   \n",
       "2  001-95845  CASE OF POPOVIC v. SERBIA                 3   \n",
       "\n",
       "                                      paragraph_text  \n",
       "0  1.  The case originated in an application (no....  \n",
       "1  2.  As of 3 June 2006, following the Montenegr...  \n",
       "2  3.  The applicant was represented by Mr S. Sto...  "
      ]
     },
     "execution_count": 4,
     "metadata": {},
     "output_type": "execute_result"
    }
   ],
   "source": [
    "df.head(3)"
   ]
  },
  {
   "cell_type": "code",
   "execution_count": 5,
   "metadata": {},
   "outputs": [],
   "source": [
    "df['date'] = df['case_id'].map(id_t_date)"
   ]
  },
  {
   "cell_type": "code",
   "execution_count": 6,
   "metadata": {},
   "outputs": [
    {
     "data": {
      "text/html": [
       "<div>\n",
       "<style scoped>\n",
       "    .dataframe tbody tr th:only-of-type {\n",
       "        vertical-align: middle;\n",
       "    }\n",
       "\n",
       "    .dataframe tbody tr th {\n",
       "        vertical-align: top;\n",
       "    }\n",
       "\n",
       "    .dataframe thead th {\n",
       "        text-align: right;\n",
       "    }\n",
       "</style>\n",
       "<table border=\"1\" class=\"dataframe\">\n",
       "  <thead>\n",
       "    <tr style=\"text-align: right;\">\n",
       "      <th></th>\n",
       "      <th>case_id</th>\n",
       "      <th>case_name</th>\n",
       "      <th>paragraph_number</th>\n",
       "      <th>paragraph_text</th>\n",
       "      <th>date</th>\n",
       "    </tr>\n",
       "  </thead>\n",
       "  <tbody>\n",
       "    <tr>\n",
       "      <th>0</th>\n",
       "      <td>001-95845</td>\n",
       "      <td>CASE OF POPOVIC v. SERBIA</td>\n",
       "      <td>1</td>\n",
       "      <td>1.  The case originated in an application (no....</td>\n",
       "      <td>24/11/2009</td>\n",
       "    </tr>\n",
       "    <tr>\n",
       "      <th>1</th>\n",
       "      <td>001-95845</td>\n",
       "      <td>CASE OF POPOVIC v. SERBIA</td>\n",
       "      <td>2</td>\n",
       "      <td>2.  As of 3 June 2006, following the Montenegr...</td>\n",
       "      <td>24/11/2009</td>\n",
       "    </tr>\n",
       "    <tr>\n",
       "      <th>2</th>\n",
       "      <td>001-95845</td>\n",
       "      <td>CASE OF POPOVIC v. SERBIA</td>\n",
       "      <td>3</td>\n",
       "      <td>3.  The applicant was represented by Mr S. Sto...</td>\n",
       "      <td>24/11/2009</td>\n",
       "    </tr>\n",
       "  </tbody>\n",
       "</table>\n",
       "</div>"
      ],
      "text/plain": [
       "     case_id                  case_name  paragraph_number  \\\n",
       "0  001-95845  CASE OF POPOVIC v. SERBIA                 1   \n",
       "1  001-95845  CASE OF POPOVIC v. SERBIA                 2   \n",
       "2  001-95845  CASE OF POPOVIC v. SERBIA                 3   \n",
       "\n",
       "                                      paragraph_text        date  \n",
       "0  1.  The case originated in an application (no....  24/11/2009  \n",
       "1  2.  As of 3 June 2006, following the Montenegr...  24/11/2009  \n",
       "2  3.  The applicant was represented by Mr S. Sto...  24/11/2009  "
      ]
     },
     "execution_count": 6,
     "metadata": {},
     "output_type": "execute_result"
    }
   ],
   "source": [
    "df.head(3)"
   ]
  },
  {
   "cell_type": "code",
   "execution_count": 8,
   "metadata": {},
   "outputs": [
    {
     "name": "stdout",
     "output_type": "stream",
     "text": [
      "case_id             object\n",
      "case_name           object\n",
      "paragraph_number     int64\n",
      "paragraph_text      object\n",
      "date                object\n",
      "dtype: object\n"
     ]
    }
   ],
   "source": [
    "print(df.dtypes)"
   ]
  },
  {
   "cell_type": "code",
   "execution_count": 9,
   "metadata": {},
   "outputs": [],
   "source": [
    "df['date'] = pd.to_datetime(df['date'], format='%d/%m/%Y', errors='coerce')"
   ]
  },
  {
   "cell_type": "code",
   "execution_count": 10,
   "metadata": {},
   "outputs": [
    {
     "name": "stdout",
     "output_type": "stream",
     "text": [
      "case_id                     object\n",
      "case_name                   object\n",
      "paragraph_number             int64\n",
      "paragraph_text              object\n",
      "date                datetime64[ns]\n",
      "dtype: object\n"
     ]
    }
   ],
   "source": [
    "print(df.dtypes)"
   ]
  },
  {
   "cell_type": "code",
   "execution_count": 11,
   "metadata": {},
   "outputs": [
    {
     "data": {
      "text/plain": [
       "20916"
      ]
     },
     "execution_count": 11,
     "metadata": {},
     "output_type": "execute_result"
    }
   ],
   "source": [
    "# counts nones in date column\n",
    "df['date'].isna().sum()"
   ]
  },
  {
   "cell_type": "code",
   "execution_count": 12,
   "metadata": {},
   "outputs": [
    {
     "data": {
      "text/plain": [
       "(1024702, 5)"
      ]
     },
     "execution_count": 12,
     "metadata": {},
     "output_type": "execute_result"
    }
   ],
   "source": [
    "df.shape"
   ]
  },
  {
   "cell_type": "code",
   "execution_count": 13,
   "metadata": {},
   "outputs": [],
   "source": [
    "# save the dataframe\n",
    "df.to_csv('/Users/ahmed/Desktop/msc-24/ECHR/paragraphs/echr_case_paragraphs_v2.csv', index=False)"
   ]
  },
  {
   "cell_type": "code",
   "execution_count": null,
   "metadata": {},
   "outputs": [],
   "source": []
  }
 ],
 "metadata": {
  "kernelspec": {
   "display_name": "hackatum24",
   "language": "python",
   "name": "python3"
  },
  "language_info": {
   "codemirror_mode": {
    "name": "ipython",
    "version": 3
   },
   "file_extension": ".py",
   "mimetype": "text/x-python",
   "name": "python",
   "nbconvert_exporter": "python",
   "pygments_lexer": "ipython3",
   "version": "3.11.3"
  },
  "orig_nbformat": 4
 },
 "nbformat": 4,
 "nbformat_minor": 2
}
