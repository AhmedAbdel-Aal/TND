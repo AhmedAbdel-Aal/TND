{
 "cells": [
  {
   "cell_type": "code",
   "execution_count": 1,
   "metadata": {},
   "outputs": [],
   "source": [
    "%load_ext autoreload\n",
    "%autoreload 2"
   ]
  },
  {
   "cell_type": "code",
   "execution_count": 2,
   "metadata": {},
   "outputs": [],
   "source": [
    "import os\n",
    "import ollama\n",
    "import json\n",
    "from summary_agent import SummaryAgent"
   ]
  },
  {
   "cell_type": "code",
   "execution_count": 3,
   "metadata": {},
   "outputs": [],
   "source": [
    "def load_json(path):\n",
    "    with open(path, 'r') as f:\n",
    "        data = json.load(f)\n",
    "    return data\n",
    "\n",
    "\n",
    "i1_case =  load_json('../../ECHR/echr-processed/001-61521.json')\n",
    "i2_case = load_json('../../ECHR/echr-processed/001-57416.json')\n",
    "i3_case = load_json('../../ECHR/echr-processed/001-205675.json')\n",
    "i4_case = load_json('../../ECHR/echr-processed/001-225326.json')"
   ]
  },
  {
   "cell_type": "code",
   "execution_count": 104,
   "metadata": {},
   "outputs": [],
   "source": [
    "summary_agent = SummaryAgent()"
   ]
  },
  {
   "cell_type": "code",
   "execution_count": 105,
   "metadata": {},
   "outputs": [
    {
     "data": {
      "text/plain": [
       "dict_keys(['itemid', 'importance', 'judgementdate', '__articles', '__conclusion', 'appno', 'article', 'extractedappno', 'docname', 'parties', 'rank', 'cite', 'procedure', 'facts', 'law', 'conclusion'])"
      ]
     },
     "execution_count": 105,
     "metadata": {},
     "output_type": "execute_result"
    }
   ],
   "source": [
    "i4_case.keys()"
   ]
  },
  {
   "cell_type": "code",
   "execution_count": 109,
   "metadata": {},
   "outputs": [
    {
     "name": "stdout",
     "output_type": "stream",
     "text": [
      "   init_summary ....\n"
     ]
    },
    {
     "ename": "BadRequestError",
     "evalue": "Error code: 400 - {'error': {'message': 'Organization has been restricted. Please reach out to support if you believe this was in error.', 'type': 'invalid_request_error', 'code': 'organization_restricted'}}",
     "output_type": "error",
     "traceback": [
      "\u001b[0;31m---------------------------------------------------------------------------\u001b[0m",
      "\u001b[0;31mBadRequestError\u001b[0m                           Traceback (most recent call last)",
      "\u001b[1;32m/Users/ahmed/Desktop/msc-24/TND/agents/run_agents.ipynb Cell 6\u001b[0m line \u001b[0;36m1\n\u001b[0;32m----> <a href='vscode-notebook-cell:/Users/ahmed/Desktop/msc-24/TND/agents/run_agents.ipynb#W4sZmlsZQ%3D%3D?line=0'>1</a>\u001b[0m summary_reposne \u001b[39m=\u001b[39m summary_agent\u001b[39m.\u001b[39;49msummarize_case(i1_case)\n",
      "File \u001b[0;32m~/Desktop/msc-24/TND/agents/summary_agent.py:171\u001b[0m, in \u001b[0;36mSummaryAgent.summarize_case\u001b[0;34m(self, legal_case_dict)\u001b[0m\n\u001b[1;32m    169\u001b[0m         summarized_legal_case[key] \u001b[39m=\u001b[39m \u001b[39mself\u001b[39m\u001b[39m.\u001b[39msummarize_list(overlapping_splits)\n\u001b[1;32m    170\u001b[0m     \u001b[39melse\u001b[39;00m:\n\u001b[0;32m--> 171\u001b[0m         summarized_legal_case[key] \u001b[39m=\u001b[39m \u001b[39mself\u001b[39;49m\u001b[39m.\u001b[39;49msummarize(legal_case_dict[key])\n\u001b[1;32m    172\u001b[0m \u001b[39melse\u001b[39;00m:\n\u001b[1;32m    173\u001b[0m     summarized_legal_case[key] \u001b[39m=\u001b[39m legal_case_dict[key]\n",
      "File \u001b[0;32m~/Desktop/msc-24/TND/agents/summary_agent.py:146\u001b[0m, in \u001b[0;36mSummaryAgent.summarize\u001b[0;34m(self, source_text)\u001b[0m\n\u001b[1;32m    144\u001b[0m \u001b[39mdef\u001b[39;00m \u001b[39msummarize\u001b[39m(\u001b[39mself\u001b[39m, source_text):\n\u001b[0;32m--> 146\u001b[0m     init_summary \u001b[39m=\u001b[39m \u001b[39mself\u001b[39;49m\u001b[39m.\u001b[39;49minit_summary(source_text)\n\u001b[1;32m    147\u001b[0m     reflection \u001b[39m=\u001b[39m \u001b[39mself\u001b[39m\u001b[39m.\u001b[39mreflect(source_text, init_summary)\n\u001b[1;32m    148\u001b[0m     improved_summary \u001b[39m=\u001b[39m \u001b[39mself\u001b[39m\u001b[39m.\u001b[39mimprove(source_text, init_summary, reflection)\n",
      "File \u001b[0;32m~/Desktop/msc-24/TND/agents/summary_agent.py:68\u001b[0m, in \u001b[0;36mSummaryAgent.init_summary\u001b[0;34m(self, prompt, system_message)\u001b[0m\n\u001b[1;32m     57\u001b[0m system_message \u001b[39m=\u001b[39m \u001b[39m\"\u001b[39m\u001b[39mYou are expert legal lawyer with European Court of Human Rights.\u001b[39m\u001b[39m\"\u001b[39m\n\u001b[1;32m     59\u001b[0m user_prompt \u001b[39m=\u001b[39m \u001b[39mf\u001b[39m\u001b[39m\"\"\"\u001b[39m\n\u001b[1;32m     60\u001b[0m \u001b[39m    Could you please provide a summary of the given legal case, including all key points and supporting details?\u001b[39m\n\u001b[1;32m     61\u001b[0m \u001b[39m    The summary should be comprehensive and accurately reflect the main and most important facts, procedure, and arguments presented in the original text,\u001b[39m\n\u001b[0;32m   (...)\u001b[0m\n\u001b[1;32m     66\u001b[0m \u001b[39m    Summary:       \u001b[39m\n\u001b[1;32m     67\u001b[0m \u001b[39m \u001b[39m\u001b[39m\"\"\"\u001b[39m\n\u001b[0;32m---> 68\u001b[0m response \u001b[39m=\u001b[39m \u001b[39mself\u001b[39;49m\u001b[39m.\u001b[39;49mget_completion(user_prompt, system_message)\n\u001b[1;32m     69\u001b[0m \u001b[39mself\u001b[39m\u001b[39m.\u001b[39mcache[\u001b[39m'\u001b[39m\u001b[39msummary\u001b[39m\u001b[39m'\u001b[39m] \u001b[39m=\u001b[39m response \n\u001b[1;32m     70\u001b[0m \u001b[39mreturn\u001b[39;00m response\n",
      "File \u001b[0;32m~/Desktop/msc-24/TND/agents/summary_agent.py:42\u001b[0m, in \u001b[0;36mSummaryAgent.get_completion\u001b[0;34m(self, prompt, system_message)\u001b[0m\n\u001b[1;32m     40\u001b[0m         \u001b[39mreturn\u001b[39;00m response[\u001b[39m'\u001b[39m\u001b[39mmessage\u001b[39m\u001b[39m'\u001b[39m][\u001b[39m'\u001b[39m\u001b[39mcontent\u001b[39m\u001b[39m'\u001b[39m]\n\u001b[1;32m     41\u001b[0m \u001b[39melif\u001b[39;00m \u001b[39mself\u001b[39m\u001b[39m.\u001b[39mbackend \u001b[39m==\u001b[39m \u001b[39m'\u001b[39m\u001b[39mgroq\u001b[39m\u001b[39m'\u001b[39m:\n\u001b[0;32m---> 42\u001b[0m         chat_completion \u001b[39m=\u001b[39m \u001b[39mself\u001b[39;49m\u001b[39m.\u001b[39;49mgroq_client\u001b[39m.\u001b[39;49mchat\u001b[39m.\u001b[39;49mcompletions\u001b[39m.\u001b[39;49mcreate(\n\u001b[1;32m     43\u001b[0m             model\u001b[39m=\u001b[39;49m\u001b[39m\"\u001b[39;49m\u001b[39mllama3-8b-8192\u001b[39;49m\u001b[39m\"\u001b[39;49m,\n\u001b[1;32m     44\u001b[0m                 messages\u001b[39m=\u001b[39;49m[\n\u001b[1;32m     45\u001b[0m                 {\u001b[39m\"\u001b[39;49m\u001b[39mrole\u001b[39;49m\u001b[39m\"\u001b[39;49m: \u001b[39m\"\u001b[39;49m\u001b[39msystem\u001b[39;49m\u001b[39m\"\u001b[39;49m, \u001b[39m\"\u001b[39;49m\u001b[39mcontent\u001b[39;49m\u001b[39m\"\u001b[39;49m: system_message},\n\u001b[1;32m     46\u001b[0m                 {\u001b[39m\"\u001b[39;49m\u001b[39mrole\u001b[39;49m\u001b[39m\"\u001b[39;49m: \u001b[39m\"\u001b[39;49m\u001b[39muser\u001b[39;49m\u001b[39m\"\u001b[39;49m, \u001b[39m\"\u001b[39;49m\u001b[39mcontent\u001b[39;49m\u001b[39m\"\u001b[39;49m: prompt},        \n\u001b[1;32m     47\u001b[0m                 ]\n\u001b[1;32m     48\u001b[0m          )\n\u001b[1;32m     49\u001b[0m         \u001b[39mreturn\u001b[39;00m chat_completion\u001b[39m.\u001b[39mchoices[\u001b[39m0\u001b[39m]\u001b[39m.\u001b[39mmessage\u001b[39m.\u001b[39mcontent\n\u001b[1;32m     50\u001b[0m \u001b[39melse\u001b[39;00m:\n",
      "File \u001b[0;32m~/.pyenv/versions/3.11.3/lib/python3.11/site-packages/groq/resources/chat/completions.py:283\u001b[0m, in \u001b[0;36mCompletions.create\u001b[0;34m(self, messages, model, frequency_penalty, function_call, functions, logit_bias, logprobs, max_tokens, n, presence_penalty, response_format, seed, stop, stream, temperature, tool_choice, tools, top_logprobs, top_p, user, extra_headers, extra_query, extra_body, timeout)\u001b[0m\n\u001b[1;32m    145\u001b[0m \u001b[39mdef\u001b[39;00m \u001b[39mcreate\u001b[39m(\n\u001b[1;32m    146\u001b[0m     \u001b[39mself\u001b[39m,\n\u001b[1;32m    147\u001b[0m     \u001b[39m*\u001b[39m,\n\u001b[0;32m   (...)\u001b[0m\n\u001b[1;32m    173\u001b[0m     timeout: \u001b[39mfloat\u001b[39m \u001b[39m|\u001b[39m httpx\u001b[39m.\u001b[39mTimeout \u001b[39m|\u001b[39m \u001b[39mNone\u001b[39;00m \u001b[39m|\u001b[39m NotGiven \u001b[39m=\u001b[39m NOT_GIVEN,\n\u001b[1;32m    174\u001b[0m ) \u001b[39m-\u001b[39m\u001b[39m>\u001b[39m ChatCompletion \u001b[39m|\u001b[39m Stream[ChatCompletionChunk]:\n\u001b[1;32m    175\u001b[0m \u001b[39m    \u001b[39m\u001b[39m\"\"\"\u001b[39;00m\n\u001b[1;32m    176\u001b[0m \u001b[39m    Creates a model response for the given chat conversation.\u001b[39;00m\n\u001b[1;32m    177\u001b[0m \n\u001b[0;32m   (...)\u001b[0m\n\u001b[1;32m    281\u001b[0m \u001b[39m      timeout: Override the client-level default timeout for this request, in seconds\u001b[39;00m\n\u001b[1;32m    282\u001b[0m \u001b[39m    \"\"\"\u001b[39;00m\n\u001b[0;32m--> 283\u001b[0m     \u001b[39mreturn\u001b[39;00m \u001b[39mself\u001b[39;49m\u001b[39m.\u001b[39;49m_post(\n\u001b[1;32m    284\u001b[0m         \u001b[39m\"\u001b[39;49m\u001b[39m/openai/v1/chat/completions\u001b[39;49m\u001b[39m\"\u001b[39;49m,\n\u001b[1;32m    285\u001b[0m         body\u001b[39m=\u001b[39;49mmaybe_transform(\n\u001b[1;32m    286\u001b[0m             {\n\u001b[1;32m    287\u001b[0m                 \u001b[39m\"\u001b[39;49m\u001b[39mmessages\u001b[39;49m\u001b[39m\"\u001b[39;49m: messages,\n\u001b[1;32m    288\u001b[0m                 \u001b[39m\"\u001b[39;49m\u001b[39mmodel\u001b[39;49m\u001b[39m\"\u001b[39;49m: model,\n\u001b[1;32m    289\u001b[0m                 \u001b[39m\"\u001b[39;49m\u001b[39mfrequency_penalty\u001b[39;49m\u001b[39m\"\u001b[39;49m: frequency_penalty,\n\u001b[1;32m    290\u001b[0m                 \u001b[39m\"\u001b[39;49m\u001b[39mfunction_call\u001b[39;49m\u001b[39m\"\u001b[39;49m: function_call,\n\u001b[1;32m    291\u001b[0m                 \u001b[39m\"\u001b[39;49m\u001b[39mfunctions\u001b[39;49m\u001b[39m\"\u001b[39;49m: functions,\n\u001b[1;32m    292\u001b[0m                 \u001b[39m\"\u001b[39;49m\u001b[39mlogit_bias\u001b[39;49m\u001b[39m\"\u001b[39;49m: logit_bias,\n\u001b[1;32m    293\u001b[0m                 \u001b[39m\"\u001b[39;49m\u001b[39mlogprobs\u001b[39;49m\u001b[39m\"\u001b[39;49m: logprobs,\n\u001b[1;32m    294\u001b[0m                 \u001b[39m\"\u001b[39;49m\u001b[39mmax_tokens\u001b[39;49m\u001b[39m\"\u001b[39;49m: max_tokens,\n\u001b[1;32m    295\u001b[0m                 \u001b[39m\"\u001b[39;49m\u001b[39mn\u001b[39;49m\u001b[39m\"\u001b[39;49m: n,\n\u001b[1;32m    296\u001b[0m                 \u001b[39m\"\u001b[39;49m\u001b[39mpresence_penalty\u001b[39;49m\u001b[39m\"\u001b[39;49m: presence_penalty,\n\u001b[1;32m    297\u001b[0m                 \u001b[39m\"\u001b[39;49m\u001b[39mresponse_format\u001b[39;49m\u001b[39m\"\u001b[39;49m: response_format,\n\u001b[1;32m    298\u001b[0m                 \u001b[39m\"\u001b[39;49m\u001b[39mseed\u001b[39;49m\u001b[39m\"\u001b[39;49m: seed,\n\u001b[1;32m    299\u001b[0m                 \u001b[39m\"\u001b[39;49m\u001b[39mstop\u001b[39;49m\u001b[39m\"\u001b[39;49m: stop,\n\u001b[1;32m    300\u001b[0m                 \u001b[39m\"\u001b[39;49m\u001b[39mstream\u001b[39;49m\u001b[39m\"\u001b[39;49m: stream,\n\u001b[1;32m    301\u001b[0m                 \u001b[39m\"\u001b[39;49m\u001b[39mtemperature\u001b[39;49m\u001b[39m\"\u001b[39;49m: temperature,\n\u001b[1;32m    302\u001b[0m                 \u001b[39m\"\u001b[39;49m\u001b[39mtool_choice\u001b[39;49m\u001b[39m\"\u001b[39;49m: tool_choice,\n\u001b[1;32m    303\u001b[0m                 \u001b[39m\"\u001b[39;49m\u001b[39mtools\u001b[39;49m\u001b[39m\"\u001b[39;49m: tools,\n\u001b[1;32m    304\u001b[0m                 \u001b[39m\"\u001b[39;49m\u001b[39mtop_logprobs\u001b[39;49m\u001b[39m\"\u001b[39;49m: top_logprobs,\n\u001b[1;32m    305\u001b[0m                 \u001b[39m\"\u001b[39;49m\u001b[39mtop_p\u001b[39;49m\u001b[39m\"\u001b[39;49m: top_p,\n\u001b[1;32m    306\u001b[0m                 \u001b[39m\"\u001b[39;49m\u001b[39muser\u001b[39;49m\u001b[39m\"\u001b[39;49m: user,\n\u001b[1;32m    307\u001b[0m             },\n\u001b[1;32m    308\u001b[0m             completion_create_params\u001b[39m.\u001b[39;49mCompletionCreateParams,\n\u001b[1;32m    309\u001b[0m         ),\n\u001b[1;32m    310\u001b[0m         options\u001b[39m=\u001b[39;49mmake_request_options(\n\u001b[1;32m    311\u001b[0m             extra_headers\u001b[39m=\u001b[39;49mextra_headers, extra_query\u001b[39m=\u001b[39;49mextra_query, extra_body\u001b[39m=\u001b[39;49mextra_body, timeout\u001b[39m=\u001b[39;49mtimeout\n\u001b[1;32m    312\u001b[0m         ),\n\u001b[1;32m    313\u001b[0m         cast_to\u001b[39m=\u001b[39;49mChatCompletion,\n\u001b[1;32m    314\u001b[0m         stream\u001b[39m=\u001b[39;49mstream \u001b[39mor\u001b[39;49;00m \u001b[39mFalse\u001b[39;49;00m,\n\u001b[1;32m    315\u001b[0m         stream_cls\u001b[39m=\u001b[39;49mStream[ChatCompletionChunk],\n\u001b[1;32m    316\u001b[0m     )\n",
      "File \u001b[0;32m~/.pyenv/versions/3.11.3/lib/python3.11/site-packages/groq/_base_client.py:1225\u001b[0m, in \u001b[0;36mSyncAPIClient.post\u001b[0;34m(self, path, cast_to, body, options, files, stream, stream_cls)\u001b[0m\n\u001b[1;32m   1211\u001b[0m \u001b[39mdef\u001b[39;00m \u001b[39mpost\u001b[39m(\n\u001b[1;32m   1212\u001b[0m     \u001b[39mself\u001b[39m,\n\u001b[1;32m   1213\u001b[0m     path: \u001b[39mstr\u001b[39m,\n\u001b[0;32m   (...)\u001b[0m\n\u001b[1;32m   1220\u001b[0m     stream_cls: \u001b[39mtype\u001b[39m[_StreamT] \u001b[39m|\u001b[39m \u001b[39mNone\u001b[39;00m \u001b[39m=\u001b[39m \u001b[39mNone\u001b[39;00m,\n\u001b[1;32m   1221\u001b[0m ) \u001b[39m-\u001b[39m\u001b[39m>\u001b[39m ResponseT \u001b[39m|\u001b[39m _StreamT:\n\u001b[1;32m   1222\u001b[0m     opts \u001b[39m=\u001b[39m FinalRequestOptions\u001b[39m.\u001b[39mconstruct(\n\u001b[1;32m   1223\u001b[0m         method\u001b[39m=\u001b[39m\u001b[39m\"\u001b[39m\u001b[39mpost\u001b[39m\u001b[39m\"\u001b[39m, url\u001b[39m=\u001b[39mpath, json_data\u001b[39m=\u001b[39mbody, files\u001b[39m=\u001b[39mto_httpx_files(files), \u001b[39m*\u001b[39m\u001b[39m*\u001b[39moptions\n\u001b[1;32m   1224\u001b[0m     )\n\u001b[0;32m-> 1225\u001b[0m     \u001b[39mreturn\u001b[39;00m cast(ResponseT, \u001b[39mself\u001b[39;49m\u001b[39m.\u001b[39;49mrequest(cast_to, opts, stream\u001b[39m=\u001b[39;49mstream, stream_cls\u001b[39m=\u001b[39;49mstream_cls))\n",
      "File \u001b[0;32m~/.pyenv/versions/3.11.3/lib/python3.11/site-packages/groq/_base_client.py:920\u001b[0m, in \u001b[0;36mSyncAPIClient.request\u001b[0;34m(self, cast_to, options, remaining_retries, stream, stream_cls)\u001b[0m\n\u001b[1;32m    911\u001b[0m \u001b[39mdef\u001b[39;00m \u001b[39mrequest\u001b[39m(\n\u001b[1;32m    912\u001b[0m     \u001b[39mself\u001b[39m,\n\u001b[1;32m    913\u001b[0m     cast_to: Type[ResponseT],\n\u001b[0;32m   (...)\u001b[0m\n\u001b[1;32m    918\u001b[0m     stream_cls: \u001b[39mtype\u001b[39m[_StreamT] \u001b[39m|\u001b[39m \u001b[39mNone\u001b[39;00m \u001b[39m=\u001b[39m \u001b[39mNone\u001b[39;00m,\n\u001b[1;32m    919\u001b[0m ) \u001b[39m-\u001b[39m\u001b[39m>\u001b[39m ResponseT \u001b[39m|\u001b[39m _StreamT:\n\u001b[0;32m--> 920\u001b[0m     \u001b[39mreturn\u001b[39;00m \u001b[39mself\u001b[39;49m\u001b[39m.\u001b[39;49m_request(\n\u001b[1;32m    921\u001b[0m         cast_to\u001b[39m=\u001b[39;49mcast_to,\n\u001b[1;32m    922\u001b[0m         options\u001b[39m=\u001b[39;49moptions,\n\u001b[1;32m    923\u001b[0m         stream\u001b[39m=\u001b[39;49mstream,\n\u001b[1;32m    924\u001b[0m         stream_cls\u001b[39m=\u001b[39;49mstream_cls,\n\u001b[1;32m    925\u001b[0m         remaining_retries\u001b[39m=\u001b[39;49mremaining_retries,\n\u001b[1;32m    926\u001b[0m     )\n",
      "File \u001b[0;32m~/.pyenv/versions/3.11.3/lib/python3.11/site-packages/groq/_base_client.py:1018\u001b[0m, in \u001b[0;36mSyncAPIClient._request\u001b[0;34m(self, cast_to, options, remaining_retries, stream, stream_cls)\u001b[0m\n\u001b[1;32m   1015\u001b[0m         err\u001b[39m.\u001b[39mresponse\u001b[39m.\u001b[39mread()\n\u001b[1;32m   1017\u001b[0m     log\u001b[39m.\u001b[39mdebug(\u001b[39m\"\u001b[39m\u001b[39mRe-raising status error\u001b[39m\u001b[39m\"\u001b[39m)\n\u001b[0;32m-> 1018\u001b[0m     \u001b[39mraise\u001b[39;00m \u001b[39mself\u001b[39m\u001b[39m.\u001b[39m_make_status_error_from_response(err\u001b[39m.\u001b[39mresponse) \u001b[39mfrom\u001b[39;00m \u001b[39mNone\u001b[39;00m\n\u001b[1;32m   1020\u001b[0m \u001b[39mreturn\u001b[39;00m \u001b[39mself\u001b[39m\u001b[39m.\u001b[39m_process_response(\n\u001b[1;32m   1021\u001b[0m     cast_to\u001b[39m=\u001b[39mcast_to,\n\u001b[1;32m   1022\u001b[0m     options\u001b[39m=\u001b[39moptions,\n\u001b[0;32m   (...)\u001b[0m\n\u001b[1;32m   1025\u001b[0m     stream_cls\u001b[39m=\u001b[39mstream_cls,\n\u001b[1;32m   1026\u001b[0m )\n",
      "\u001b[0;31mBadRequestError\u001b[0m: Error code: 400 - {'error': {'message': 'Organization has been restricted. Please reach out to support if you believe this was in error.', 'type': 'invalid_request_error', 'code': 'organization_restricted'}}"
     ]
    }
   ],
   "source": [
    "summary_reposne = summary_agent.summarize_case(i1_case)"
   ]
  },
  {
   "cell_type": "code",
   "execution_count": 37,
   "metadata": {},
   "outputs": [
    {
     "data": {
      "text/plain": [
       "44700"
      ]
     },
     "execution_count": 37,
     "metadata": {},
     "output_type": "execute_result"
    }
   ],
   "source": [
    "len(i1_case['facts'])"
   ]
  },
  {
   "cell_type": "code",
   "execution_count": 100,
   "metadata": {},
   "outputs": [],
   "source": [
    "from transformers import AutoTokenizer\n",
    "from nltk import tokenize\n",
    "\n",
    "def count_tokens(text):\n",
    "    tokenizer = AutoTokenizer.from_pretrained(\"bert-base-uncased\")\n",
    "    tokens = tokenizer.tokenize(text)\n",
    "    num_tokens = len(tokens)\n",
    "    return num_tokens\n",
    "\n",
    "def get_sentences(text):\n",
    "    sentences = tokenize.sent_tokenize(i1_case['facts'])\n",
    "    merged_sentences = []\n",
    "\n",
    "    sentence = ''\n",
    "    for idx, i in enumerate(sentences):\n",
    "        sentence += i\n",
    "        if len(i) < 10:\n",
    "            continue\n",
    "        else:\n",
    "            merged_sentences.append(sentence)\n",
    "            sentence = ''\n",
    "    \n",
    "    return merged_sentences\n",
    "\n",
    "def overlapping_split(text, token_limit=7500, overlap = 300):\n",
    "    words = len(text.split(' '))\n",
    "    num_tokens = count_tokens(text)\n",
    "    sentences = get_sentences(text)\n",
    "    print(f'text has {words} words and {len(sentences)} sentences, on average {words/len(sentences)} word/sentecesand {num_tokens} tokens, token limit is {token_limit}')\n",
    "    \n",
    "    if num_tokens <= token_limit:\n",
    "        return text\n",
    "    \n",
    "    chuncks = (num_tokens // token_limit) + 1 + 1\n",
    "    sentences_in_chunck = (len(sentences) // chuncks) - 10\n",
    "    spliited_sentences = [sentences[i:i+sentences_in_chunck] for i in range(0, len(sentences), sentences_in_chunck)]\n",
    "    return spliited_sentences\n"
   ]
  },
  {
   "cell_type": "code",
   "execution_count": 101,
   "metadata": {},
   "outputs": [
    {
     "name": "stderr",
     "output_type": "stream",
     "text": [
      "Token indices sequence length is longer than the specified maximum sequence length for this model (9617 > 512). Running this sequence through the model will result in indexing errors\n"
     ]
    },
    {
     "name": "stdout",
     "output_type": "stream",
     "text": [
      "text has 7589 words and 335 sentences, on average 22.65373134328358 word/sentecesand 9617 tokens, token limit is 7500\n"
     ]
    }
   ],
   "source": [
    "spliited_sentences = overlapping_split(i1_case['facts'])"
   ]
  },
  {
   "cell_type": "code",
   "execution_count": 102,
   "metadata": {},
   "outputs": [
    {
     "data": {
      "text/plain": [
       "4"
      ]
     },
     "execution_count": 102,
     "metadata": {},
     "output_type": "execute_result"
    }
   ],
   "source": [
    "len(spliited_sentences)"
   ]
  },
  {
   "cell_type": "code",
   "execution_count": 103,
   "metadata": {},
   "outputs": [
    {
     "name": "stderr",
     "output_type": "stream",
     "text": [
      "Token indices sequence length is longer than the specified maximum sequence length for this model (2023 > 512). Running this sequence through the model will result in indexing errors\n"
     ]
    },
    {
     "name": "stdout",
     "output_type": "stream",
     "text": [
      "101 2023\n"
     ]
    },
    {
     "name": "stderr",
     "output_type": "stream",
     "text": [
      "Token indices sequence length is longer than the specified maximum sequence length for this model (2714 > 512). Running this sequence through the model will result in indexing errors\n"
     ]
    },
    {
     "name": "stdout",
     "output_type": "stream",
     "text": [
      "101 2714\n"
     ]
    },
    {
     "name": "stderr",
     "output_type": "stream",
     "text": [
      "Token indices sequence length is longer than the specified maximum sequence length for this model (3310 > 512). Running this sequence through the model will result in indexing errors\n"
     ]
    },
    {
     "name": "stdout",
     "output_type": "stream",
     "text": [
      "101 3310\n"
     ]
    },
    {
     "name": "stderr",
     "output_type": "stream",
     "text": [
      "Token indices sequence length is longer than the specified maximum sequence length for this model (1567 > 512). Running this sequence through the model will result in indexing errors\n"
     ]
    },
    {
     "name": "stdout",
     "output_type": "stream",
     "text": [
      "32 1567\n"
     ]
    }
   ],
   "source": [
    "for i in spliited_sentences:\n",
    "    sent = ' '.join(i)\n",
    "    num_tokens = count_tokens(sent)\n",
    "    print(len(i), num_tokens)"
   ]
  },
  {
   "cell_type": "code",
   "execution_count": 88,
   "metadata": {},
   "outputs": [],
   "source": [
    "from nltk import tokenize\n",
    "\n",
    "sentences = tokenize.sent_tokenize(i1_case['facts'])\n",
    "merged_sentences = []\n",
    "\n",
    "sentence = ''\n",
    "for idx, i in enumerate(sentences):\n",
    "    sentence += i\n",
    "    if len(i) < 10:\n",
    "        continue\n",
    "    else:\n",
    "        merged_sentences.append(sentence)\n",
    "        sentence = ''"
   ]
  },
  {
   "cell_type": "code",
   "execution_count": 89,
   "metadata": {},
   "outputs": [
    {
     "data": {
      "text/plain": [
       "335"
      ]
     },
     "execution_count": 89,
     "metadata": {},
     "output_type": "execute_result"
    }
   ],
   "source": [
    "len(merged_sentences)"
   ]
  },
  {
   "cell_type": "code",
   "execution_count": 90,
   "metadata": {},
   "outputs": [
    {
     "name": "stdout",
     "output_type": "stream",
     "text": [
      "34\n",
      "59\n",
      "120\n",
      "134\n",
      "56\n",
      "26\n",
      "155\n",
      "35\n",
      "78\n",
      "66\n",
      "48\n",
      "101\n",
      "98\n",
      "47\n",
      "63\n",
      "104\n",
      "142\n",
      "63\n",
      "67\n",
      "62\n",
      "29\n",
      "129\n",
      "39\n",
      "78\n",
      "185\n",
      "66\n",
      "69\n",
      "114\n",
      "120\n",
      "59\n",
      "79\n",
      "86\n",
      "82\n",
      "37\n",
      "17\n",
      "100\n",
      "183\n",
      "72\n",
      "98\n",
      "78\n",
      "220\n",
      "47\n",
      "110\n",
      "29\n",
      "115\n",
      "217\n",
      "117\n",
      "58\n",
      "239\n",
      "68\n",
      "64\n",
      "111\n",
      "43\n",
      "103\n",
      "56\n",
      "189\n",
      "97\n",
      "25\n",
      "45\n",
      "44\n",
      "150\n",
      "41\n",
      "82\n",
      "73\n",
      "40\n",
      "104\n",
      "15\n",
      "175\n",
      "91\n",
      "117\n",
      "45\n",
      "61\n",
      "42\n",
      "23\n",
      "151\n",
      "59\n",
      "36\n",
      "78\n",
      "118\n",
      "188\n",
      "37\n",
      "82\n",
      "100\n",
      "34\n",
      "105\n",
      "13\n",
      "158\n",
      "30\n",
      "14\n",
      "95\n",
      "26\n",
      "163\n",
      "23\n",
      "104\n",
      "18\n",
      "142\n",
      "217\n",
      "45\n",
      "129\n",
      "46\n",
      "64\n",
      "107\n",
      "168\n",
      "41\n",
      "111\n",
      "70\n",
      "129\n",
      "113\n",
      "94\n",
      "155\n",
      "104\n",
      "120\n",
      "92\n",
      "260\n",
      "56\n",
      "104\n",
      "284\n",
      "72\n",
      "209\n",
      "30\n",
      "78\n",
      "94\n",
      "71\n",
      "45\n",
      "56\n",
      "58\n",
      "92\n",
      "64\n",
      "48\n",
      "23\n",
      "30\n",
      "98\n",
      "68\n",
      "90\n",
      "26\n",
      "41\n",
      "87\n",
      "103\n",
      "142\n",
      "24\n",
      "75\n",
      "81\n",
      "185\n",
      "105\n",
      "85\n",
      "195\n",
      "197\n",
      "70\n",
      "50\n",
      "113\n",
      "34\n",
      "238\n",
      "89\n",
      "120\n",
      "144\n",
      "71\n",
      "148\n",
      "81\n",
      "93\n",
      "146\n",
      "345\n",
      "168\n",
      "175\n",
      "248\n",
      "118\n",
      "91\n",
      "257\n",
      "177\n",
      "140\n",
      "144\n",
      "94\n",
      "104\n",
      "111\n",
      "123\n",
      "80\n",
      "93\n",
      "215\n",
      "294\n",
      "335\n",
      "192\n",
      "92\n",
      "264\n",
      "158\n",
      "110\n",
      "150\n",
      "264\n",
      "74\n",
      "343\n",
      "23\n",
      "300\n",
      "260\n",
      "107\n",
      "52\n",
      "225\n",
      "271\n",
      "154\n",
      "209\n",
      "127\n",
      "109\n",
      "224\n",
      "75\n",
      "155\n",
      "41\n",
      "135\n",
      "45\n",
      "171\n",
      "142\n",
      "31\n",
      "25\n",
      "270\n",
      "183\n",
      "18\n",
      "167\n",
      "123\n",
      "30\n",
      "37\n",
      "27\n",
      "42\n",
      "196\n",
      "158\n",
      "242\n",
      "269\n",
      "29\n",
      "24\n",
      "88\n",
      "30\n",
      "25\n",
      "91\n",
      "270\n",
      "265\n",
      "185\n",
      "315\n",
      "18\n",
      "253\n",
      "29\n",
      "281\n",
      "57\n",
      "107\n",
      "76\n",
      "231\n",
      "42\n",
      "220\n",
      "128\n",
      "192\n",
      "135\n",
      "161\n",
      "186\n",
      "148\n",
      "35\n",
      "62\n",
      "69\n",
      "185\n",
      "87\n",
      "187\n",
      "62\n",
      "264\n",
      "179\n",
      "52\n",
      "288\n",
      "285\n",
      "354\n",
      "291\n",
      "293\n",
      "338\n",
      "179\n",
      "168\n",
      "154\n",
      "56\n",
      "207\n",
      "225\n",
      "318\n",
      "47\n",
      "153\n",
      "162\n",
      "27\n",
      "142\n",
      "25\n",
      "109\n",
      "39\n",
      "65\n",
      "106\n",
      "36\n",
      "13\n",
      "216\n",
      "26\n",
      "66\n",
      "68\n",
      "13\n",
      "176\n",
      "26\n",
      "109\n",
      "436\n",
      "56\n",
      "328\n",
      "377\n",
      "269\n",
      "263\n",
      "366\n",
      "131\n",
      "205\n",
      "344\n",
      "58\n",
      "42\n",
      "660\n",
      "229\n",
      "139\n",
      "225\n",
      "532\n",
      "519\n",
      "148\n",
      "162\n",
      "132\n",
      "135\n",
      "179\n",
      "289\n",
      "278\n",
      "141\n",
      "266\n",
      "334\n",
      "158\n",
      "222\n",
      "156\n",
      "132\n",
      "455\n",
      "184\n",
      "242\n",
      "108\n",
      "200\n",
      "421\n",
      "120\n",
      "112\n",
      "90\n",
      "102\n",
      "87\n",
      "486\n"
     ]
    }
   ],
   "source": [
    "for i in merged_sentences:\n",
    "    print(len(i))"
   ]
  },
  {
   "cell_type": "code",
   "execution_count": 41,
   "metadata": {},
   "outputs": [
    {
     "name": "stderr",
     "output_type": "stream",
     "text": [
      "Token indices sequence length is longer than the specified maximum sequence length for this model (9617 > 512). Running this sequence through the model will result in indexing errors\n"
     ]
    },
    {
     "name": "stdout",
     "output_type": "stream",
     "text": [
      "text has 44700 words and 9617 tokens, token limit is 7500\n"
     ]
    }
   ],
   "source": [
    "overlapping_split(i1_case['facts'])"
   ]
  },
  {
   "cell_type": "code",
   "execution_count": 42,
   "metadata": {},
   "outputs": [
    {
     "data": {
      "text/plain": [
       "670"
      ]
     },
     "execution_count": 42,
     "metadata": {},
     "output_type": "execute_result"
    }
   ],
   "source": [
    "sentences = i1_case['facts'].split('.')\n",
    "len(sentences)"
   ]
  },
  {
   "cell_type": "code",
   "execution_count": 56,
   "metadata": {},
   "outputs": [
    {
     "data": {
      "text/plain": [
       "'THE CIRCUMSTANCES OF THE CASE\\n9.'"
      ]
     },
     "execution_count": 56,
     "metadata": {},
     "output_type": "execute_result"
    }
   ],
   "source": [
    "sentences[1]"
   ]
  },
  {
   "cell_type": "code",
   "execution_count": 74,
   "metadata": {},
   "outputs": [
    {
     "data": {
      "text/plain": [
       "(450, 335)"
      ]
     },
     "execution_count": 74,
     "metadata": {},
     "output_type": "execute_result"
    }
   ],
   "source": [
    "len(sentences), len(merged_sentences)"
   ]
  },
  {
   "cell_type": "code",
   "execution_count": 77,
   "metadata": {},
   "outputs": [
    {
     "data": {
      "text/plain": [
       "'I.THE CIRCUMSTANCES OF THE CASE\\n9.'"
      ]
     },
     "execution_count": 77,
     "metadata": {},
     "output_type": "execute_result"
    }
   ],
   "source": [
    "merged_sentences[0]"
   ]
  },
  {
   "cell_type": "code",
   "execution_count": null,
   "metadata": {},
   "outputs": [],
   "source": []
  },
  {
   "cell_type": "code",
   "execution_count": 16,
   "metadata": {},
   "outputs": [],
   "source": [
    "with open('./i4_case.json', 'w') as f:\n",
    "    json.dump(summary_reposne, f, indent=4)\n"
   ]
  },
  {
   "cell_type": "code",
   "execution_count": null,
   "metadata": {},
   "outputs": [],
   "source": []
  }
 ],
 "metadata": {
  "kernelspec": {
   "display_name": "pytorch-env",
   "language": "python",
   "name": "pytorch-env"
  },
  "language_info": {
   "codemirror_mode": {
    "name": "ipython",
    "version": 3
   },
   "file_extension": ".py",
   "mimetype": "text/x-python",
   "name": "python",
   "nbconvert_exporter": "python",
   "pygments_lexer": "ipython3",
   "version": "3.11.3"
  },
  "orig_nbformat": 4
 },
 "nbformat": 4,
 "nbformat_minor": 2
}
