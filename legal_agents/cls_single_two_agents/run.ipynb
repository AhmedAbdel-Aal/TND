{
 "cells": [
  {
   "cell_type": "code",
   "execution_count": 1,
   "metadata": {},
   "outputs": [],
   "source": [
    "%load_ext autoreload\n",
    "%autoreload 2"
   ]
  },
  {
   "cell_type": "code",
   "execution_count": 2,
   "metadata": {},
   "outputs": [],
   "source": [
    "import os\n",
    "import time\n",
    "import ollama\n",
    "import json\n",
    "from utils import load_json, save_json"
   ]
  },
  {
   "cell_type": "code",
   "execution_count": 49,
   "metadata": {},
   "outputs": [],
   "source": [
    "cases = {'1':[], '2':[], '3':[], '4':[]}\n",
    "for root, dirs, files in os.walk('../pilot_study_sample/'):\n",
    "    for dir in dirs:\n",
    "        for root, dirs, files in os.walk('../pilot_study_sample/' + dir):\n",
    "            for file in files:\n",
    "                if file.endswith('.json'):\n",
    "                    cases[dir].append(os.path.join(root, file))"
   ]
  },
  {
   "cell_type": "code",
   "execution_count": 51,
   "metadata": {},
   "outputs": [
    {
     "name": "stderr",
     "output_type": "stream",
     "text": [
      "Token indices sequence length is longer than the specified maximum sequence length for this model (4120 > 512). Running this sequence through the model will result in indexing errors\n",
      "Token indices sequence length is longer than the specified maximum sequence length for this model (3928 > 512). Running this sequence through the model will result in indexing errors\n"
     ]
    }
   ],
   "source": [
    "from summary_agent import SummaryAgent\n",
    "\n",
    "summary_agent = SummaryAgent(backend=\"groq\")\n",
    "i4_case = load_json(cases['4'][0])\n",
    "summary_i4case = summary_agent.summarize_case(i4_case)"
   ]
  },
  {
   "cell_type": "code",
   "execution_count": 79,
   "metadata": {},
   "outputs": [],
   "source": [
    "importance_id_to_level = {'1':'High', '2':'High', '3':'Medium', '4':'Low'}"
   ]
  },
  {
   "cell_type": "code",
   "execution_count": 80,
   "metadata": {},
   "outputs": [],
   "source": [
    "summary_i4case['importance'] = importance_id_to_level[summary_i4case['importance']]"
   ]
  },
  {
   "cell_type": "code",
   "execution_count": 82,
   "metadata": {},
   "outputs": [],
   "source": [
    "import re\n",
    "\n",
    "def get_last_question(text):\n",
    "    # Regex pattern to match questions, considering multiline questions\n",
    "    pattern = r'Question:\\s*(.*?)(?=\\n[A-Z]|\\Z)'\n",
    "\n",
    "    # Find all matches with the multiline flag enabled\n",
    "    matches = re.findall(pattern, text, re.DOTALL)\n",
    "    \n",
    "    # Get the last match\n",
    "    last_question = matches[-1] if matches else None\n",
    "\n",
    "    return last_question\n",
    "\n",
    "\n",
    "def check_for_stop(text):\n",
    "    # Regex pattern to match questions, considering multiline questions\n",
    "    pattern = r'Stop:\\s*(.*?)(?=\\n[A-Z]|\\Z)'\n",
    "\n",
    "    # Find all matches with the multiline flag enabled\n",
    "    matches = re.findall(pattern, text, re.DOTALL)\n",
    "    \n",
    "    # Get the last match\n",
    "    stop = matches[-1] if matches else None\n",
    "\n",
    "    return stop\n"
   ]
  },
  {
   "cell_type": "code",
   "execution_count": 100,
   "metadata": {},
   "outputs": [],
   "source": [
    "from senior_agent import SeniorAgent\n",
    "from junior_agent import JuniorAgent"
   ]
  },
  {
   "cell_type": "code",
   "execution_count": 101,
   "metadata": {},
   "outputs": [],
   "source": [
    "s_agent = SeniorAgent()\n",
    "j_agent = JuniorAgent()"
   ]
  },
  {
   "cell_type": "code",
   "execution_count": 102,
   "metadata": {},
   "outputs": [
    {
     "name": "stdout",
     "output_type": "stream",
     "text": [
      "---------------------round1-------------------------\n",
      "Senior Agent: Can I have a brief summary of the facts of the case, including the key issues and complaints brought before the Court by the applicant(s)?\n",
      "Junior Agent: The applicant, Vyacheslav Aleksandrovich Gordiyenko, a Ukrainian national, alleged that he was subjected to ill-treatment by law enforcement officials on several occasions, including in 2007 and 2008. He claimed that the authorities failed to conduct an effective investigation into these incidents, despite his complaints and requests for protection. Specifically, the applicant alleged that he was attacked by T. at a trolleybus station in 2006 and by an unknown assailant in 2008, and was involved in an incident at the District Court in 2010, where he was allegedly ill-treated by court security guards and police officers. The applicant complained to the police about these incidents, but the investigations were repeatedly closed due to lack of evidence or lack of corpus delicti. The applicant instituted civil proceedings against T. and the court security guards and police officers involved in the 2010 incident, but the cases were ultimately dismissed.\n",
      "---------------------round2-------------------------\n",
      "Senior Agent: What are the specific provisions of the European Convention on Human Rights (ECHR) that the applicant alleges were violated by the Ukrainian authorities, and what are the main legal arguments presented by the applicant in support of their complaints?\n",
      "Junior Agent: Answer:\n",
      "\n",
      "The specific provisions of the European Convention on Human Rights (ECHR) that the applicant alleges were violated by the Ukrainian authorities are Article 3, which prohibits torture, inhuman or degrading treatment or punishment. The applicant claims that the Ukrainian authorities failed to conduct an effective investigation into the alleged ill-treatment, including his complaints of being subjected to ill-treatment by law enforcement officials on several occasions, and that this failure constitutes a violation of Article 3.\n",
      "\n",
      "The main legal arguments presented by the applicant in support of their complaints are:\n",
      "\n",
      "* That the Ukrainian authorities failed to conduct an effective investigation into the alleged ill-treatment, despite the applicant's complaints and requests for protection.\n",
      "* That the authorities' failure to investigate the incidents effectively was a breach of the applicant's right to protection from inhuman treatment under Article 3 of the Convention.\n",
      "* That the applicant's allegations of ill-treatment were credible and that the authorities had failed to provide adequate explanations or evidence to refute these allegations.\n",
      "\n",
      "The applicant also relied on the European Court of Human Rights' (ECtHR) case law, which has established that the failure to investigate allegations of ill-treatment can constitute a violation of Article 3, and that the authorities have a positive obligation to investigate such allegations effectively.\n",
      "---------------------round3-------------------------\n",
      "Senior Agent: What was the response of the Ukrainian government to the applicant's complaints, and did they present any legal arguments or evidence to refute the applicant's claims?\n",
      "Junior Agent: Answer:\n",
      "\n",
      "The Ukrainian government, represented by Mr. N. Kulchytskyy, argued that the applicant's allegations were unsubstantiated and that the authorities had taken reasonable steps to investigate the incidents. They claimed that the applicant's injuries were minor and that he had not provided sufficient evidence to support his claims of ill-treatment. They also argued that the court security guards and police officers involved in the 2010 incident had acted lawfully and that the applicant had breached public order. However, the Court found that the Government's arguments were not convincing and that the authorities had failed to conduct an effective investigation into the incidents.\n",
      "---------------------round4-------------------------\n",
      "Senior Agent: Did the Court find any violations of the European Convention on Human Rights, and if so, what were the key findings and conclusions of the Court in relation to the applicant's complaints?\n",
      "Junior Agent: Answer:\n",
      "\n",
      "Yes, the Court found violations of the European Convention on Human Rights. The key findings and conclusions of the Court in relation to the applicant's complaints are:\n",
      "\n",
      "* The Court found a procedural violation of Article 3 of the Convention due to the inadequate investigation into the incidents of ill-treatment.\n",
      "* The Court also found a substantive violation of Article 3 of the Convention, concluding that the applicant was subjected to inhuman and degrading treatment by the court security guards and police officers on 20 September 2010.\n",
      "* The Court awarded the applicant EUR 5,000 in respect of non-pecuniary damage.\n",
      "\n",
      "The Court's decision was based on the facts that the applicant's allegations of ill-treatment were credible and that the authorities had failed to conduct an effective investigation into the incidents. The Court emphasized that the Government's failure to investigate the allegations was a breach of the applicant's right to protection from inhuman treatment.\n",
      "---------------------round5-------------------------\n",
      "Senior Agent: What was the Court's reasoning behind finding a procedural violation of Article 3, and did the Court rely on any specific case law or principles in reaching its conclusion?\n",
      "Junior Agent: The Court's reasoning behind finding a procedural violation of Article 3 was that the authorities had failed to conduct an effective investigation into the alleged incidents of ill-treatment. The Court found that the investigations were inadequate, as they were prematurely closed, lacked thoroughness, and relied on hasty conclusions. The Court concluded that this failure to investigate was a breach of the applicant's right to protection from inhuman treatment under Article 3 of the Convention.\n",
      "\n",
      "In reaching its conclusion, the Court likely relied on established case law and principles, such as the importance of an effective investigation in ensuring accountability for human rights violations (e.g., Assenov and Others v. Bulgaria, 1998). The Court may have also drawn on principles of procedural obligations under Article 3, including the requirement for prompt, thorough, and impartial investigations (e.g., Kaya v. Turkey, 1998).\n",
      "\n",
      "By emphasizing the importance of an effective investigation, the Court reaffirmed the State's obligations to ensure that allegations of ill-treatment are properly examined and those responsible are held accountable. This approach is consistent with the Court's objective of ensuring that States uphold their obligations under the Convention to protect individuals from inhuman and degrading treatment.\n",
      "---------------------round6-------------------------\n",
      "Senior Agent: Did the Court's judgment break new ground in terms of the interpretation or application of Article 3 of the Convention, or did it primarily apply established case law and principles?\n",
      "Junior Agent: Answer: \n",
      "\n",
      "The Court's judgment in this case primarily applied established case law and principles regarding Article 3 of the Convention. The Court's findings of procedural and substantive violations of Article 3 were based on its previous judgments and established principles, such as the requirement of an effective investigation into allegations of ill-treatment and the prohibition of inhuman and degrading treatment. The Court's application of these principles to the facts of the case did not break new ground in terms of the interpretation or application of Article 3.\n",
      "---------------------round7-------------------------\n",
      "Senior Agent: Based on the Court's judgment, would you classify the importance score of this case as High, Medium, or Low, and what is the basis for your classification?\n",
      "Junior Agent: Answer:\n",
      "\n",
      "I would classify the importance score of this case as Low. The basis for my classification is that the case concerns allegations of ill-treatment by law enforcement officials and the failure to conduct an effective investigation into these incidents, which are serious violations of human rights. However, the Court's judgment found violations of Article 3 of the Convention, but the awards for non-pecuniary damage were relatively low (EUR 5,000), and the case does not involve any new or novel legal issues or developments in the interpretation of the Convention. Additionally, the case does not have any significant impact on the development of European human rights law or policy.\n",
      "---------------------round8-------------------------\n",
      "Stop: None\n"
     ]
    }
   ],
   "source": [
    "round = 20\n",
    "\n",
    "for i in range(round):\n",
    "    print(f\"---------------------round{i+1}-------------------------\")\n",
    "    response = s_agent.ask_question()\n",
    "    question = get_last_question(response)\n",
    "    stop = check_for_stop(response)\n",
    "    if (stop is not None) or (question is None):\n",
    "        print(f\"Stop: {stop}\")\n",
    "        print(response)\n",
    "        break\n",
    "\n",
    "    answer = j_agent.answer_question(summary_i4case, question)\n",
    "    s_agent.append_to_cache(answer)\n",
    "    \n",
    "    print(f\"Senior Agent: {question}\")\n",
    "    print(f\"Junior Agent: {answer}\")\n",
    "    time.sleep(20)"
   ]
  },
  {
   "cell_type": "code",
   "execution_count": 103,
   "metadata": {},
   "outputs": [
    {
     "name": "stdout",
     "output_type": "stream",
     "text": [
      "Final Answer:\n",
      "\n",
      "Based on the analysis of the case, I would conclude that the Court assigned a Low importance score to this case. The basis for my classification is that the case primarily applied established case law and principles regarding Article 3 of the Convention, without breaking new ground in terms of the interpretation or application of the Convention. The Court's judgment found violations of Article 3, but the awards for non-pecuniary damage were relatively low, and the case does not involve any novel or significant legal issues or developments in the interpretation of the Convention. Therefore, the case is classified as having little legal interest, as it simply applies existing case-law, and does not make a significant contribution to the development, clarification, or modification of the Court's case law.\n"
     ]
    }
   ],
   "source": [
    "print(response)"
   ]
  },
  {
   "cell_type": "markdown",
   "metadata": {},
   "source": []
  },
  {
   "cell_type": "code",
   "execution_count": 125,
   "metadata": {},
   "outputs": [
    {
     "data": {
      "text/plain": [
       "dict_keys(['1', '2', '3', '4'])"
      ]
     },
     "execution_count": 125,
     "metadata": {},
     "output_type": "execute_result"
    }
   ],
   "source": [
    "cases.keys()"
   ]
  },
  {
   "cell_type": "code",
   "execution_count": 122,
   "metadata": {},
   "outputs": [],
   "source": [
    "def run_conversation(case_summary):\n",
    "        s_agent = SeniorAgent()\n",
    "        j_agent = JuniorAgent()\n",
    "        round = 20\n",
    "        scratch_pad = \"\"\n",
    "        for i in range(round):\n",
    "            scratch_pad += f\"---------------------round{i+1}-------------------------\"+'\\n'\n",
    "            print(f\"---------------------round{i+1}-------------------------\")\n",
    "            response = s_agent.ask_question()\n",
    "            question = get_last_question(response)\n",
    "            stop = check_for_stop(response)\n",
    "            if (stop is not None) or (question is None):\n",
    "                print(f\"Stop: {stop}\")\n",
    "                scratch_pad += f\"Senior Agent: {response}\"+'\\n'\n",
    "                print(response)\n",
    "                break\n",
    "\n",
    "            answer = j_agent.answer_question(case_summary, question)\n",
    "            s_agent.append_to_cache(answer)\n",
    "            \n",
    "            print(f\"Senior Agent: {question}\")\n",
    "            print(f\"Junior Agent: {answer}\")\n",
    "\n",
    "            scratch_pad += f\"Senior Agent: {question}\"+'\\n'\n",
    "            scratch_pad += f\"Junior Agent: {answer}\"+'\\n'\n",
    "            time.sleep(20)\n",
    "        return scratch_pad"
   ]
  },
  {
   "cell_type": "code",
   "execution_count": 132,
   "metadata": {},
   "outputs": [],
   "source": [
    "not_yet_cases = [\n",
    "  #'../pilot_study_sample/2/001-57416.json',\n",
    "  '../pilot_study_sample/3/001-67200.json',\n",
    "  '../pilot_study_sample/3/001-205675.json',\n",
    "  '../pilot_study_sample/3/001-57899.json',\n",
    "  '../pilot_study_sample/3/001-57885.json',\n",
    "  '../pilot_study_sample/4/001-147041.json'\n",
    "]"
   ]
  },
  {
   "cell_type": "code",
   "execution_count": 133,
   "metadata": {},
   "outputs": [
    {
     "name": "stdout",
     "output_type": "stream",
     "text": [
      "case: ../pilot_study_sample/3/001-67200.json, 1/5 ...\n"
     ]
    },
    {
     "name": "stderr",
     "output_type": "stream",
     "text": [
      "Token indices sequence length is longer than the specified maximum sequence length for this model (1537 > 512). Running this sequence through the model will result in indexing errors\n",
      "Token indices sequence length is longer than the specified maximum sequence length for this model (2369 > 512). Running this sequence through the model will result in indexing errors\n"
     ]
    },
    {
     "name": "stdout",
     "output_type": "stream",
     "text": [
      "---------------------round1-------------------------\n",
      "Senior Agent: Can my assistant provide me with the case details, including the facts, procedure, and legal arguments presented by the parties involved? I'd like to understand the context of the case before diving deeper.\n",
      "Junior Agent: Answer:\n",
      "\n",
      "The case details, including the facts, procedure, and legal arguments presented by the parties involved, are as follows:\n",
      "\n",
      "**Facts:**\n",
      "\n",
      "The case concerns three British Army soldiers, Mr. Miller, Mr. Morrison, and Mr. Gillespie, who were charged with various crimes and convicted by court-martial. They appealed their convictions to the Court Martial Appeal Court (CMAC), arguing that they did not have a fair trial by an independent and impartial tribunal within the meaning of Article 6(1) of the European Convention on Human Rights (ECHR).\n",
      "\n",
      "**Procedure:**\n",
      "\n",
      "The applicants lodged three applications (nos. 45825/99, 45826/99, and 45827/99) with the European Court of Human Rights (ECHR) under Article 34 of the Convention, alleging violations of their rights under the Convention. The Government, represented by their Agents, argued that the applicants' detention was lawful and that their treatment during detention was not inhuman or degrading.\n",
      "\n",
      "**Legal Arguments:**\n",
      "\n",
      "The applicants argued that their detention was unlawful because it was not authorized by a warrant or a court order, and that they were not given the opportunity to challenge the lawfulness of their detention. They also claimed that their treatment during detention was inhuman and degrading, violating Article 3 of the Convention.\n",
      "\n",
      "The Government disagreed, arguing that the applicants' detention was lawful and that their treatment during detention was not inhuman or degrading. They claimed that the applicants' allegations were exaggerated and that the conditions in the detention centers were not as bad as claimed.\n",
      "\n",
      "The applicants also argued that they did not have a fair trial by an independent and impartial tribunal established by law, as required by Article 6(1) of the ECHR. They relied on the judgment in Findlay v. the United Kingdom, which held that the composition of the court-martial was crucial in determining whether it was independent and impartial.\n",
      "\n",
      "The Government rejected this argument, finding that there was no chain of command influence and no obvious reason why any observer would suspect a lack of independence or impartiality.\n",
      "---------------------round2-------------------------\n",
      "Senior Agent: Can my assistant provide more information about the specific arguments made by the applicants regarding the lack of independence and impartiality of the court-martial, and how they related these arguments to the judgment in Findlay v. the United Kingdom?\n",
      "Junior Agent: Answer:\n",
      "\n",
      "The applicants, Mr. Miller, Mr. Morrison, and Mr. Gillespie, argued that the court-martial that tried them lacked independence and impartiality, which is a key requirement for a fair trial under Article 6(1) of the European Convention on Human Rights. Specifically, they claimed that the convening officer, who was responsible for convening the court-martial, had a chain of command influence over the president and members of the court-martial, which compromised their independence and impartiality.\n",
      "\n",
      "The applicants relied on the judgment in Findlay v. the United Kingdom, which held that the composition of the court-martial was crucial in determining whether it was independent and impartial. They argued that, just like in Findlay, the court-martial that tried them was not independent and impartial because of the convening officer's role and influence.\n",
      "\n",
      "However, the Court Martial Appeal Court (CMAC) rejected the applicants' arguments, finding that there was no chain of command influence and no obvious reason why any observer would suspect a lack of independence or impartiality. The CMAC also noted that the composition and behavior of the court-martial had not been criticized, and that the applicants' reliance on the Findlay judgment was misconceived.\n",
      "---------------------round3-------------------------\n",
      "Senior Agent: Can my assistant provide more information about the Court's judgment in this case, specifically, did the Court find any violations of the Convention, and if so, which Articles were violated?\n",
      "Junior Agent: Answer:\n",
      "\n",
      "The Court found violations of the Convention in this case. Specifically, the Court held that there had been a violation of Article 6(1) of the Convention, which guarantees the right to a fair trial by an independent and impartial tribunal established by law, and Article 3 of the Convention, which prohibits torture and inhuman or degrading treatment. The Court also awarded the applicants EUR 4000 in respect of their costs and expenses, and ordered simple interest to be payable on the amount from the expiry of the three-month period until settlement.\n",
      "---------------------round4-------------------------\n",
      "Senior Agent: Can my assistant provide more information about the Court's reasoning behind the finding of a violation of Article 6(1) of the Convention, specifically, how did the Court assess the independence and impartiality of the court-martial, and what weight did it give to the applicants' arguments regarding the convening officer's influence?\n",
      "Junior Agent: Answer:\n",
      "\n",
      "The Court's reasoning behind the finding of a violation of Article 6(1) of the Convention is based on its assessment of the independence and impartiality of the court-martial. The Court considered that the applicants' misgivings about the independence and impartiality of their courts-martial were objectively justified, as the convening officer retained a key prosecuting role and could dissolve the court-martial or vary the sentence imposed. The Court noted that the fundamental nature of the changes introduced by the 1996 Act, which rendered the army and air-force court-martial system compatible with the requirements of Article 6(1) of the Convention, was not sufficient to distinguish the present case from the Findlay case.\n",
      "\n",
      "The Court gave significant weight to the applicants' arguments regarding the convening officer's influence, particularly the fact that the convening officer had a chain of command influence over the president and members of the court-martial, which compromised their independence and impartiality. The Court also considered the applicants' reliance on the Findlay judgment, which held that the composition of the court-martial was crucial in determining whether it was independent and impartial.\n",
      "\n",
      "In assessing the independence and impartiality of the court-martial, the Court applied the principles established in the Findlay case, which require that the tribunal be structurally independent and objectively impartial. The Court found that the court-martial in this case did not meet these requirements, given the convening officer's influence and the lack of objective impartiality.\n",
      "\n",
      "Overall, the Court's reasoning emphasizes the importance of ensuring the independence and impartiality of the tribunal in criminal proceedings, as required by Article 6(1) of the Convention. The Court's finding of a violation of Article 6(1) highlights the need for the UK to take measures to ensure that its court-martial system is compatible with the requirements of the Convention.\n",
      "---------------------round5-------------------------\n",
      "Senior Agent: How does this judgment relate to the development, clarification, or modification of the ECHR's case-law, and does it go beyond merely applying existing case-law? In other words, does it make a significant contribution to the case-law, and if so, how?\n",
      "Junior Agent: Answer:\n",
      "\n",
      "The judgment in the case of Miller v. the United Kingdom contributes to the development of the ECHR's case-law on the right to a fair trial under Article 6(1) of the Convention. The Court's finding of a violation of Article 6(1) due to the lack of independence and impartiality of the court-martial system goes beyond merely applying existing case-law.\n",
      "\n",
      "This judgment clarifies and modifies the case-law in several ways:\n",
      "\n",
      "1. **Structural independence**: The Court emphasizes the importance of structural independence of the tribunal, highlighting that the convening officer's role in the court-martial system compromised the independence and impartiality of the tribunal. This clarification reinforces the importance of ensuring that tribunals are free from any institutional or hierarchical influence.\n",
      "\n",
      "2. **Objective impartiality**: The Court stresses the need for objective impartiality, reiterating that the judges must not only be impartial in fact but also appear to be impartial to an objective observer. This reinforces the principle that the perception of impartiality is crucial in upholding the right to a fair trial.\n",
      "\n",
      "3. **Distinction from previous case-law**: The Court distinguishes this case from the Findlay judgment, highlighting the significance of the changes introduced by the 1996 Act. This distinction contributes to the development of the case-law by clarifying the scope of the Findlay judgment and the importance of considering the specific circumstances of each case.\n",
      "\n",
      "4. **Implications for military tribunals**: The judgment has significant implications for military tribunals, emphasizing the need for these tribunals to ensure independence, impartiality, and structural independence in order to comply with Article 6(1) of the Convention.\n",
      "\n",
      "In conclusion, this judgment makes a significant contribution to the case-law by clarifying and modifying the ECHR's jurisprudence on the right to a fair trial, particularly in the context of military tribunals.\n",
      "---------------------round6-------------------------\n",
      "Stop: None\n",
      "Based on the analysis, I would assign a High importance score to this case. The judgment contributes to the development, clarification, and modification of the ECHR's case-law on the right to a fair trial, particularly in the context of military tribunals. It emphasizes the importance of structural independence and objective impartiality of tribunals, and its implications have a broader significance for the design and operation of military justice systems. The Court's findings go beyond merely applying existing case-law, and the judgment has a significant impact on the understanding and application of Article 6(1) of the Convention.\n",
      "    output saved, I will sleep now for 1 minute.\n",
      "case: ../pilot_study_sample/3/001-205675.json, 2/5 ...\n"
     ]
    },
    {
     "name": "stderr",
     "output_type": "stream",
     "text": [
      "Token indices sequence length is longer than the specified maximum sequence length for this model (896 > 512). Running this sequence through the model will result in indexing errors\n",
      "Token indices sequence length is longer than the specified maximum sequence length for this model (8549 > 512). Running this sequence through the model will result in indexing errors\n",
      "Token indices sequence length is longer than the specified maximum sequence length for this model (8549 > 512). Running this sequence through the model will result in indexing errors\n"
     ]
    },
    {
     "name": "stdout",
     "output_type": "stream",
     "text": [
      "text has 6734 words and 236 sentences, on average 28.533898305084747 word/sentecesand 8549 tokens, token limit is 7500\n"
     ]
    },
    {
     "name": "stderr",
     "output_type": "stream",
     "text": [
      "Token indices sequence length is longer than the specified maximum sequence length for this model (1209 > 512). Running this sequence through the model will result in indexing errors\n"
     ]
    },
    {
     "name": "stdout",
     "output_type": "stream",
     "text": [
      "---------------------round1-------------------------\n"
     ]
    },
    {
     "ename": "RateLimitError",
     "evalue": "Error code: 429 - {'error': {'message': 'Rate limit reached for model `llama3-70b-8192` in organization `org_01hyzgaf4ten29dwzg398849s2` on tokens per minute (TPM): Limit 6000, Used 0, Requested 8029. Please try again in 20.29s. Visit https://console.groq.com/docs/rate-limits for more information.', 'type': 'tokens', 'code': 'rate_limit_exceeded'}}",
     "output_type": "error",
     "traceback": [
      "\u001b[0;31m---------------------------------------------------------------------------\u001b[0m",
      "\u001b[0;31mRateLimitError\u001b[0m                            Traceback (most recent call last)",
      "\u001b[1;32m/Users/ahmed/Desktop/msc-24/TND/legal_agents/cls_single_two_agents/run.ipynb Cell 16\u001b[0m line \u001b[0;36m8\n\u001b[1;32m      <a href='vscode-notebook-cell:/Users/ahmed/Desktop/msc-24/TND/legal_agents/cls_single_two_agents/run.ipynb#X52sZmlsZQ%3D%3D?line=5'>6</a>\u001b[0m case \u001b[39m=\u001b[39m load_json(case_path)\n\u001b[1;32m      <a href='vscode-notebook-cell:/Users/ahmed/Desktop/msc-24/TND/legal_agents/cls_single_two_agents/run.ipynb#X52sZmlsZQ%3D%3D?line=6'>7</a>\u001b[0m summary_case \u001b[39m=\u001b[39m summary_agent\u001b[39m.\u001b[39msummarize_case(case)\n\u001b[0;32m----> <a href='vscode-notebook-cell:/Users/ahmed/Desktop/msc-24/TND/legal_agents/cls_single_two_agents/run.ipynb#X52sZmlsZQ%3D%3D?line=7'>8</a>\u001b[0m scratch_pad \u001b[39m=\u001b[39m run_conversation(summary_case)\n\u001b[1;32m      <a href='vscode-notebook-cell:/Users/ahmed/Desktop/msc-24/TND/legal_agents/cls_single_two_agents/run.ipynb#X52sZmlsZQ%3D%3D?line=8'>9</a>\u001b[0m output_dict \u001b[39m=\u001b[39m {\u001b[39m'\u001b[39m\u001b[39mactual_importance\u001b[39m\u001b[39m'\u001b[39m:case[\u001b[39m'\u001b[39m\u001b[39mimportance\u001b[39m\u001b[39m'\u001b[39m], \u001b[39m'\u001b[39m\u001b[39mimportance_reasoning\u001b[39m\u001b[39m'\u001b[39m:scratch_pad}\n\u001b[1;32m     <a href='vscode-notebook-cell:/Users/ahmed/Desktop/msc-24/TND/legal_agents/cls_single_two_agents/run.ipynb#X52sZmlsZQ%3D%3D?line=9'>10</a>\u001b[0m save_json(\u001b[39m'\u001b[39m\u001b[39m./output/\u001b[39m\u001b[39m'\u001b[39m\u001b[39m+\u001b[39mcase_path\u001b[39m.\u001b[39msplit(\u001b[39m'\u001b[39m\u001b[39m/\u001b[39m\u001b[39m'\u001b[39m)[\u001b[39m-\u001b[39m\u001b[39m1\u001b[39m]\u001b[39m.\u001b[39mreplace(\u001b[39m'\u001b[39m\u001b[39m.json\u001b[39m\u001b[39m'\u001b[39m, \u001b[39m'\u001b[39m\u001b[39m_output.json\u001b[39m\u001b[39m'\u001b[39m), output_dict)\n",
      "\u001b[1;32m/Users/ahmed/Desktop/msc-24/TND/legal_agents/cls_single_two_agents/run.ipynb Cell 16\u001b[0m line \u001b[0;36m1\n\u001b[1;32m     <a href='vscode-notebook-cell:/Users/ahmed/Desktop/msc-24/TND/legal_agents/cls_single_two_agents/run.ipynb#X52sZmlsZQ%3D%3D?line=14'>15</a>\u001b[0m     \u001b[39mprint\u001b[39m(response)\n\u001b[1;32m     <a href='vscode-notebook-cell:/Users/ahmed/Desktop/msc-24/TND/legal_agents/cls_single_two_agents/run.ipynb#X52sZmlsZQ%3D%3D?line=15'>16</a>\u001b[0m     \u001b[39mbreak\u001b[39;00m\n\u001b[0;32m---> <a href='vscode-notebook-cell:/Users/ahmed/Desktop/msc-24/TND/legal_agents/cls_single_two_agents/run.ipynb#X52sZmlsZQ%3D%3D?line=17'>18</a>\u001b[0m answer \u001b[39m=\u001b[39m j_agent\u001b[39m.\u001b[39;49manswer_question(case_summary, question)\n\u001b[1;32m     <a href='vscode-notebook-cell:/Users/ahmed/Desktop/msc-24/TND/legal_agents/cls_single_two_agents/run.ipynb#X52sZmlsZQ%3D%3D?line=18'>19</a>\u001b[0m s_agent\u001b[39m.\u001b[39mappend_to_cache(answer)\n\u001b[1;32m     <a href='vscode-notebook-cell:/Users/ahmed/Desktop/msc-24/TND/legal_agents/cls_single_two_agents/run.ipynb#X52sZmlsZQ%3D%3D?line=20'>21</a>\u001b[0m \u001b[39mprint\u001b[39m(\u001b[39mf\u001b[39m\u001b[39m\"\u001b[39m\u001b[39mSenior Agent: \u001b[39m\u001b[39m{\u001b[39;00mquestion\u001b[39m}\u001b[39;00m\u001b[39m\"\u001b[39m)\n",
      "File \u001b[0;32m~/Desktop/msc-24/TND/legal_agents/cls_single_two_agents/junior_agent.py:80\u001b[0m, in \u001b[0;36mJuniorAgent.answer_question\u001b[0;34m(self, source_text, question)\u001b[0m\n\u001b[1;32m     78\u001b[0m \u001b[39mdef\u001b[39;00m \u001b[39manswer_question\u001b[39m(\u001b[39mself\u001b[39m, source_text, question):\n\u001b[0;32m---> 80\u001b[0m     imp_class \u001b[39m=\u001b[39m \u001b[39mself\u001b[39;49m\u001b[39m.\u001b[39;49minit_classify(source_text, question)\n\u001b[1;32m     82\u001b[0m     \u001b[39mreturn\u001b[39;00m imp_class\n",
      "File \u001b[0;32m~/Desktop/msc-24/TND/legal_agents/cls_single_two_agents/junior_agent.py:74\u001b[0m, in \u001b[0;36mJuniorAgent.init_classify\u001b[0;34m(self, source_text, question, system_message)\u001b[0m\n\u001b[1;32m     53\u001b[0m system_message \u001b[39m=\u001b[39m (\n\u001b[1;32m     54\u001b[0m     \u001b[39m\"\u001b[39m\u001b[39mYou are expert legal lawyer with European Court of Human Rights (ECHR).\u001b[39m\u001b[39m\"\u001b[39m\n\u001b[1;32m     55\u001b[0m )\n\u001b[1;32m     57\u001b[0m user_prompt \u001b[39m=\u001b[39m \u001b[39mf\u001b[39m\u001b[39m\"\"\"\u001b[39m\n\u001b[1;32m     58\u001b[0m \u001b[39m    Answer the following question about summaized legal case            \u001b[39m\n\u001b[1;32m     59\u001b[0m \u001b[39m    write the asnwer in the following format:\u001b[39m\n\u001b[0;32m   (...)\u001b[0m\n\u001b[1;32m     72\u001b[0m \u001b[39m    Answer:       \u001b[39m\n\u001b[1;32m     73\u001b[0m \u001b[39m \u001b[39m\u001b[39m\"\"\"\u001b[39m\n\u001b[0;32m---> 74\u001b[0m response \u001b[39m=\u001b[39m \u001b[39mself\u001b[39;49m\u001b[39m.\u001b[39;49mget_completion(user_prompt, system_message)\n\u001b[1;32m     75\u001b[0m \u001b[39mself\u001b[39m\u001b[39m.\u001b[39mcache[\u001b[39m\"\u001b[39m\u001b[39msummary\u001b[39m\u001b[39m\"\u001b[39m] \u001b[39m=\u001b[39m response\n\u001b[1;32m     76\u001b[0m \u001b[39mreturn\u001b[39;00m response\n",
      "File \u001b[0;32m~/Desktop/msc-24/TND/legal_agents/cls_single_two_agents/junior_agent.py:37\u001b[0m, in \u001b[0;36mJuniorAgent.get_completion\u001b[0;34m(self, prompt, system_message)\u001b[0m\n\u001b[1;32m     35\u001b[0m     \u001b[39mreturn\u001b[39;00m response[\u001b[39m\"\u001b[39m\u001b[39mmessage\u001b[39m\u001b[39m\"\u001b[39m][\u001b[39m\"\u001b[39m\u001b[39mcontent\u001b[39m\u001b[39m\"\u001b[39m]\n\u001b[1;32m     36\u001b[0m \u001b[39melif\u001b[39;00m \u001b[39mself\u001b[39m\u001b[39m.\u001b[39mbackend \u001b[39m==\u001b[39m \u001b[39m\"\u001b[39m\u001b[39mgroq\u001b[39m\u001b[39m\"\u001b[39m:\n\u001b[0;32m---> 37\u001b[0m     chat_completion \u001b[39m=\u001b[39m \u001b[39mself\u001b[39;49m\u001b[39m.\u001b[39;49mgroq_client\u001b[39m.\u001b[39;49mchat\u001b[39m.\u001b[39;49mcompletions\u001b[39m.\u001b[39;49mcreate(\n\u001b[1;32m     38\u001b[0m         model\u001b[39m=\u001b[39;49m\u001b[39m\"\u001b[39;49m\u001b[39mllama3-70b-8192\u001b[39;49m\u001b[39m\"\u001b[39;49m,\n\u001b[1;32m     39\u001b[0m         messages\u001b[39m=\u001b[39;49m[\n\u001b[1;32m     40\u001b[0m             {\u001b[39m\"\u001b[39;49m\u001b[39mrole\u001b[39;49m\u001b[39m\"\u001b[39;49m: \u001b[39m\"\u001b[39;49m\u001b[39msystem\u001b[39;49m\u001b[39m\"\u001b[39;49m, \u001b[39m\"\u001b[39;49m\u001b[39mcontent\u001b[39;49m\u001b[39m\"\u001b[39;49m: system_message},\n\u001b[1;32m     41\u001b[0m             {\u001b[39m\"\u001b[39;49m\u001b[39mrole\u001b[39;49m\u001b[39m\"\u001b[39;49m: \u001b[39m\"\u001b[39;49m\u001b[39muser\u001b[39;49m\u001b[39m\"\u001b[39;49m, \u001b[39m\"\u001b[39;49m\u001b[39mcontent\u001b[39;49m\u001b[39m\"\u001b[39;49m: prompt},\n\u001b[1;32m     42\u001b[0m         ],\n\u001b[1;32m     43\u001b[0m     )\n\u001b[1;32m     44\u001b[0m     \u001b[39mreturn\u001b[39;00m chat_completion\u001b[39m.\u001b[39mchoices[\u001b[39m0\u001b[39m]\u001b[39m.\u001b[39mmessage\u001b[39m.\u001b[39mcontent\n\u001b[1;32m     45\u001b[0m \u001b[39melse\u001b[39;00m:\n",
      "File \u001b[0;32m~/.pyenv/versions/3.11.3/lib/python3.11/site-packages/groq/resources/chat/completions.py:283\u001b[0m, in \u001b[0;36mCompletions.create\u001b[0;34m(self, messages, model, frequency_penalty, function_call, functions, logit_bias, logprobs, max_tokens, n, presence_penalty, response_format, seed, stop, stream, temperature, tool_choice, tools, top_logprobs, top_p, user, extra_headers, extra_query, extra_body, timeout)\u001b[0m\n\u001b[1;32m    145\u001b[0m \u001b[39mdef\u001b[39;00m \u001b[39mcreate\u001b[39m(\n\u001b[1;32m    146\u001b[0m     \u001b[39mself\u001b[39m,\n\u001b[1;32m    147\u001b[0m     \u001b[39m*\u001b[39m,\n\u001b[0;32m   (...)\u001b[0m\n\u001b[1;32m    173\u001b[0m     timeout: \u001b[39mfloat\u001b[39m \u001b[39m|\u001b[39m httpx\u001b[39m.\u001b[39mTimeout \u001b[39m|\u001b[39m \u001b[39mNone\u001b[39;00m \u001b[39m|\u001b[39m NotGiven \u001b[39m=\u001b[39m NOT_GIVEN,\n\u001b[1;32m    174\u001b[0m ) \u001b[39m-\u001b[39m\u001b[39m>\u001b[39m ChatCompletion \u001b[39m|\u001b[39m Stream[ChatCompletionChunk]:\n\u001b[1;32m    175\u001b[0m \u001b[39m    \u001b[39m\u001b[39m\"\"\"\u001b[39;00m\n\u001b[1;32m    176\u001b[0m \u001b[39m    Creates a model response for the given chat conversation.\u001b[39;00m\n\u001b[1;32m    177\u001b[0m \n\u001b[0;32m   (...)\u001b[0m\n\u001b[1;32m    281\u001b[0m \u001b[39m      timeout: Override the client-level default timeout for this request, in seconds\u001b[39;00m\n\u001b[1;32m    282\u001b[0m \u001b[39m    \"\"\"\u001b[39;00m\n\u001b[0;32m--> 283\u001b[0m     \u001b[39mreturn\u001b[39;00m \u001b[39mself\u001b[39;49m\u001b[39m.\u001b[39;49m_post(\n\u001b[1;32m    284\u001b[0m         \u001b[39m\"\u001b[39;49m\u001b[39m/openai/v1/chat/completions\u001b[39;49m\u001b[39m\"\u001b[39;49m,\n\u001b[1;32m    285\u001b[0m         body\u001b[39m=\u001b[39;49mmaybe_transform(\n\u001b[1;32m    286\u001b[0m             {\n\u001b[1;32m    287\u001b[0m                 \u001b[39m\"\u001b[39;49m\u001b[39mmessages\u001b[39;49m\u001b[39m\"\u001b[39;49m: messages,\n\u001b[1;32m    288\u001b[0m                 \u001b[39m\"\u001b[39;49m\u001b[39mmodel\u001b[39;49m\u001b[39m\"\u001b[39;49m: model,\n\u001b[1;32m    289\u001b[0m                 \u001b[39m\"\u001b[39;49m\u001b[39mfrequency_penalty\u001b[39;49m\u001b[39m\"\u001b[39;49m: frequency_penalty,\n\u001b[1;32m    290\u001b[0m                 \u001b[39m\"\u001b[39;49m\u001b[39mfunction_call\u001b[39;49m\u001b[39m\"\u001b[39;49m: function_call,\n\u001b[1;32m    291\u001b[0m                 \u001b[39m\"\u001b[39;49m\u001b[39mfunctions\u001b[39;49m\u001b[39m\"\u001b[39;49m: functions,\n\u001b[1;32m    292\u001b[0m                 \u001b[39m\"\u001b[39;49m\u001b[39mlogit_bias\u001b[39;49m\u001b[39m\"\u001b[39;49m: logit_bias,\n\u001b[1;32m    293\u001b[0m                 \u001b[39m\"\u001b[39;49m\u001b[39mlogprobs\u001b[39;49m\u001b[39m\"\u001b[39;49m: logprobs,\n\u001b[1;32m    294\u001b[0m                 \u001b[39m\"\u001b[39;49m\u001b[39mmax_tokens\u001b[39;49m\u001b[39m\"\u001b[39;49m: max_tokens,\n\u001b[1;32m    295\u001b[0m                 \u001b[39m\"\u001b[39;49m\u001b[39mn\u001b[39;49m\u001b[39m\"\u001b[39;49m: n,\n\u001b[1;32m    296\u001b[0m                 \u001b[39m\"\u001b[39;49m\u001b[39mpresence_penalty\u001b[39;49m\u001b[39m\"\u001b[39;49m: presence_penalty,\n\u001b[1;32m    297\u001b[0m                 \u001b[39m\"\u001b[39;49m\u001b[39mresponse_format\u001b[39;49m\u001b[39m\"\u001b[39;49m: response_format,\n\u001b[1;32m    298\u001b[0m                 \u001b[39m\"\u001b[39;49m\u001b[39mseed\u001b[39;49m\u001b[39m\"\u001b[39;49m: seed,\n\u001b[1;32m    299\u001b[0m                 \u001b[39m\"\u001b[39;49m\u001b[39mstop\u001b[39;49m\u001b[39m\"\u001b[39;49m: stop,\n\u001b[1;32m    300\u001b[0m                 \u001b[39m\"\u001b[39;49m\u001b[39mstream\u001b[39;49m\u001b[39m\"\u001b[39;49m: stream,\n\u001b[1;32m    301\u001b[0m                 \u001b[39m\"\u001b[39;49m\u001b[39mtemperature\u001b[39;49m\u001b[39m\"\u001b[39;49m: temperature,\n\u001b[1;32m    302\u001b[0m                 \u001b[39m\"\u001b[39;49m\u001b[39mtool_choice\u001b[39;49m\u001b[39m\"\u001b[39;49m: tool_choice,\n\u001b[1;32m    303\u001b[0m                 \u001b[39m\"\u001b[39;49m\u001b[39mtools\u001b[39;49m\u001b[39m\"\u001b[39;49m: tools,\n\u001b[1;32m    304\u001b[0m                 \u001b[39m\"\u001b[39;49m\u001b[39mtop_logprobs\u001b[39;49m\u001b[39m\"\u001b[39;49m: top_logprobs,\n\u001b[1;32m    305\u001b[0m                 \u001b[39m\"\u001b[39;49m\u001b[39mtop_p\u001b[39;49m\u001b[39m\"\u001b[39;49m: top_p,\n\u001b[1;32m    306\u001b[0m                 \u001b[39m\"\u001b[39;49m\u001b[39muser\u001b[39;49m\u001b[39m\"\u001b[39;49m: user,\n\u001b[1;32m    307\u001b[0m             },\n\u001b[1;32m    308\u001b[0m             completion_create_params\u001b[39m.\u001b[39;49mCompletionCreateParams,\n\u001b[1;32m    309\u001b[0m         ),\n\u001b[1;32m    310\u001b[0m         options\u001b[39m=\u001b[39;49mmake_request_options(\n\u001b[1;32m    311\u001b[0m             extra_headers\u001b[39m=\u001b[39;49mextra_headers, extra_query\u001b[39m=\u001b[39;49mextra_query, extra_body\u001b[39m=\u001b[39;49mextra_body, timeout\u001b[39m=\u001b[39;49mtimeout\n\u001b[1;32m    312\u001b[0m         ),\n\u001b[1;32m    313\u001b[0m         cast_to\u001b[39m=\u001b[39;49mChatCompletion,\n\u001b[1;32m    314\u001b[0m         stream\u001b[39m=\u001b[39;49mstream \u001b[39mor\u001b[39;49;00m \u001b[39mFalse\u001b[39;49;00m,\n\u001b[1;32m    315\u001b[0m         stream_cls\u001b[39m=\u001b[39;49mStream[ChatCompletionChunk],\n\u001b[1;32m    316\u001b[0m     )\n",
      "File \u001b[0;32m~/.pyenv/versions/3.11.3/lib/python3.11/site-packages/groq/_base_client.py:1225\u001b[0m, in \u001b[0;36mSyncAPIClient.post\u001b[0;34m(self, path, cast_to, body, options, files, stream, stream_cls)\u001b[0m\n\u001b[1;32m   1211\u001b[0m \u001b[39mdef\u001b[39;00m \u001b[39mpost\u001b[39m(\n\u001b[1;32m   1212\u001b[0m     \u001b[39mself\u001b[39m,\n\u001b[1;32m   1213\u001b[0m     path: \u001b[39mstr\u001b[39m,\n\u001b[0;32m   (...)\u001b[0m\n\u001b[1;32m   1220\u001b[0m     stream_cls: \u001b[39mtype\u001b[39m[_StreamT] \u001b[39m|\u001b[39m \u001b[39mNone\u001b[39;00m \u001b[39m=\u001b[39m \u001b[39mNone\u001b[39;00m,\n\u001b[1;32m   1221\u001b[0m ) \u001b[39m-\u001b[39m\u001b[39m>\u001b[39m ResponseT \u001b[39m|\u001b[39m _StreamT:\n\u001b[1;32m   1222\u001b[0m     opts \u001b[39m=\u001b[39m FinalRequestOptions\u001b[39m.\u001b[39mconstruct(\n\u001b[1;32m   1223\u001b[0m         method\u001b[39m=\u001b[39m\u001b[39m\"\u001b[39m\u001b[39mpost\u001b[39m\u001b[39m\"\u001b[39m, url\u001b[39m=\u001b[39mpath, json_data\u001b[39m=\u001b[39mbody, files\u001b[39m=\u001b[39mto_httpx_files(files), \u001b[39m*\u001b[39m\u001b[39m*\u001b[39moptions\n\u001b[1;32m   1224\u001b[0m     )\n\u001b[0;32m-> 1225\u001b[0m     \u001b[39mreturn\u001b[39;00m cast(ResponseT, \u001b[39mself\u001b[39;49m\u001b[39m.\u001b[39;49mrequest(cast_to, opts, stream\u001b[39m=\u001b[39;49mstream, stream_cls\u001b[39m=\u001b[39;49mstream_cls))\n",
      "File \u001b[0;32m~/.pyenv/versions/3.11.3/lib/python3.11/site-packages/groq/_base_client.py:920\u001b[0m, in \u001b[0;36mSyncAPIClient.request\u001b[0;34m(self, cast_to, options, remaining_retries, stream, stream_cls)\u001b[0m\n\u001b[1;32m    911\u001b[0m \u001b[39mdef\u001b[39;00m \u001b[39mrequest\u001b[39m(\n\u001b[1;32m    912\u001b[0m     \u001b[39mself\u001b[39m,\n\u001b[1;32m    913\u001b[0m     cast_to: Type[ResponseT],\n\u001b[0;32m   (...)\u001b[0m\n\u001b[1;32m    918\u001b[0m     stream_cls: \u001b[39mtype\u001b[39m[_StreamT] \u001b[39m|\u001b[39m \u001b[39mNone\u001b[39;00m \u001b[39m=\u001b[39m \u001b[39mNone\u001b[39;00m,\n\u001b[1;32m    919\u001b[0m ) \u001b[39m-\u001b[39m\u001b[39m>\u001b[39m ResponseT \u001b[39m|\u001b[39m _StreamT:\n\u001b[0;32m--> 920\u001b[0m     \u001b[39mreturn\u001b[39;00m \u001b[39mself\u001b[39;49m\u001b[39m.\u001b[39;49m_request(\n\u001b[1;32m    921\u001b[0m         cast_to\u001b[39m=\u001b[39;49mcast_to,\n\u001b[1;32m    922\u001b[0m         options\u001b[39m=\u001b[39;49moptions,\n\u001b[1;32m    923\u001b[0m         stream\u001b[39m=\u001b[39;49mstream,\n\u001b[1;32m    924\u001b[0m         stream_cls\u001b[39m=\u001b[39;49mstream_cls,\n\u001b[1;32m    925\u001b[0m         remaining_retries\u001b[39m=\u001b[39;49mremaining_retries,\n\u001b[1;32m    926\u001b[0m     )\n",
      "File \u001b[0;32m~/.pyenv/versions/3.11.3/lib/python3.11/site-packages/groq/_base_client.py:1003\u001b[0m, in \u001b[0;36mSyncAPIClient._request\u001b[0;34m(self, cast_to, options, remaining_retries, stream, stream_cls)\u001b[0m\n\u001b[1;32m   1001\u001b[0m \u001b[39mif\u001b[39;00m retries \u001b[39m>\u001b[39m \u001b[39m0\u001b[39m \u001b[39mand\u001b[39;00m \u001b[39mself\u001b[39m\u001b[39m.\u001b[39m_should_retry(err\u001b[39m.\u001b[39mresponse):\n\u001b[1;32m   1002\u001b[0m     err\u001b[39m.\u001b[39mresponse\u001b[39m.\u001b[39mclose()\n\u001b[0;32m-> 1003\u001b[0m     \u001b[39mreturn\u001b[39;00m \u001b[39mself\u001b[39;49m\u001b[39m.\u001b[39;49m_retry_request(\n\u001b[1;32m   1004\u001b[0m         options,\n\u001b[1;32m   1005\u001b[0m         cast_to,\n\u001b[1;32m   1006\u001b[0m         retries,\n\u001b[1;32m   1007\u001b[0m         err\u001b[39m.\u001b[39;49mresponse\u001b[39m.\u001b[39;49mheaders,\n\u001b[1;32m   1008\u001b[0m         stream\u001b[39m=\u001b[39;49mstream,\n\u001b[1;32m   1009\u001b[0m         stream_cls\u001b[39m=\u001b[39;49mstream_cls,\n\u001b[1;32m   1010\u001b[0m     )\n\u001b[1;32m   1012\u001b[0m \u001b[39m# If the response is streamed then we need to explicitly read the response\u001b[39;00m\n\u001b[1;32m   1013\u001b[0m \u001b[39m# to completion before attempting to access the response text.\u001b[39;00m\n\u001b[1;32m   1014\u001b[0m \u001b[39mif\u001b[39;00m \u001b[39mnot\u001b[39;00m err\u001b[39m.\u001b[39mresponse\u001b[39m.\u001b[39mis_closed:\n",
      "File \u001b[0;32m~/.pyenv/versions/3.11.3/lib/python3.11/site-packages/groq/_base_client.py:1051\u001b[0m, in \u001b[0;36mSyncAPIClient._retry_request\u001b[0;34m(self, options, cast_to, remaining_retries, response_headers, stream, stream_cls)\u001b[0m\n\u001b[1;32m   1047\u001b[0m \u001b[39m# In a synchronous context we are blocking the entire thread. Up to the library user to run the client in a\u001b[39;00m\n\u001b[1;32m   1048\u001b[0m \u001b[39m# different thread if necessary.\u001b[39;00m\n\u001b[1;32m   1049\u001b[0m time\u001b[39m.\u001b[39msleep(timeout)\n\u001b[0;32m-> 1051\u001b[0m \u001b[39mreturn\u001b[39;00m \u001b[39mself\u001b[39;49m\u001b[39m.\u001b[39;49m_request(\n\u001b[1;32m   1052\u001b[0m     options\u001b[39m=\u001b[39;49moptions,\n\u001b[1;32m   1053\u001b[0m     cast_to\u001b[39m=\u001b[39;49mcast_to,\n\u001b[1;32m   1054\u001b[0m     remaining_retries\u001b[39m=\u001b[39;49mremaining,\n\u001b[1;32m   1055\u001b[0m     stream\u001b[39m=\u001b[39;49mstream,\n\u001b[1;32m   1056\u001b[0m     stream_cls\u001b[39m=\u001b[39;49mstream_cls,\n\u001b[1;32m   1057\u001b[0m )\n",
      "File \u001b[0;32m~/.pyenv/versions/3.11.3/lib/python3.11/site-packages/groq/_base_client.py:1003\u001b[0m, in \u001b[0;36mSyncAPIClient._request\u001b[0;34m(self, cast_to, options, remaining_retries, stream, stream_cls)\u001b[0m\n\u001b[1;32m   1001\u001b[0m \u001b[39mif\u001b[39;00m retries \u001b[39m>\u001b[39m \u001b[39m0\u001b[39m \u001b[39mand\u001b[39;00m \u001b[39mself\u001b[39m\u001b[39m.\u001b[39m_should_retry(err\u001b[39m.\u001b[39mresponse):\n\u001b[1;32m   1002\u001b[0m     err\u001b[39m.\u001b[39mresponse\u001b[39m.\u001b[39mclose()\n\u001b[0;32m-> 1003\u001b[0m     \u001b[39mreturn\u001b[39;00m \u001b[39mself\u001b[39;49m\u001b[39m.\u001b[39;49m_retry_request(\n\u001b[1;32m   1004\u001b[0m         options,\n\u001b[1;32m   1005\u001b[0m         cast_to,\n\u001b[1;32m   1006\u001b[0m         retries,\n\u001b[1;32m   1007\u001b[0m         err\u001b[39m.\u001b[39;49mresponse\u001b[39m.\u001b[39;49mheaders,\n\u001b[1;32m   1008\u001b[0m         stream\u001b[39m=\u001b[39;49mstream,\n\u001b[1;32m   1009\u001b[0m         stream_cls\u001b[39m=\u001b[39;49mstream_cls,\n\u001b[1;32m   1010\u001b[0m     )\n\u001b[1;32m   1012\u001b[0m \u001b[39m# If the response is streamed then we need to explicitly read the response\u001b[39;00m\n\u001b[1;32m   1013\u001b[0m \u001b[39m# to completion before attempting to access the response text.\u001b[39;00m\n\u001b[1;32m   1014\u001b[0m \u001b[39mif\u001b[39;00m \u001b[39mnot\u001b[39;00m err\u001b[39m.\u001b[39mresponse\u001b[39m.\u001b[39mis_closed:\n",
      "File \u001b[0;32m~/.pyenv/versions/3.11.3/lib/python3.11/site-packages/groq/_base_client.py:1051\u001b[0m, in \u001b[0;36mSyncAPIClient._retry_request\u001b[0;34m(self, options, cast_to, remaining_retries, response_headers, stream, stream_cls)\u001b[0m\n\u001b[1;32m   1047\u001b[0m \u001b[39m# In a synchronous context we are blocking the entire thread. Up to the library user to run the client in a\u001b[39;00m\n\u001b[1;32m   1048\u001b[0m \u001b[39m# different thread if necessary.\u001b[39;00m\n\u001b[1;32m   1049\u001b[0m time\u001b[39m.\u001b[39msleep(timeout)\n\u001b[0;32m-> 1051\u001b[0m \u001b[39mreturn\u001b[39;00m \u001b[39mself\u001b[39;49m\u001b[39m.\u001b[39;49m_request(\n\u001b[1;32m   1052\u001b[0m     options\u001b[39m=\u001b[39;49moptions,\n\u001b[1;32m   1053\u001b[0m     cast_to\u001b[39m=\u001b[39;49mcast_to,\n\u001b[1;32m   1054\u001b[0m     remaining_retries\u001b[39m=\u001b[39;49mremaining,\n\u001b[1;32m   1055\u001b[0m     stream\u001b[39m=\u001b[39;49mstream,\n\u001b[1;32m   1056\u001b[0m     stream_cls\u001b[39m=\u001b[39;49mstream_cls,\n\u001b[1;32m   1057\u001b[0m )\n",
      "File \u001b[0;32m~/.pyenv/versions/3.11.3/lib/python3.11/site-packages/groq/_base_client.py:1018\u001b[0m, in \u001b[0;36mSyncAPIClient._request\u001b[0;34m(self, cast_to, options, remaining_retries, stream, stream_cls)\u001b[0m\n\u001b[1;32m   1015\u001b[0m         err\u001b[39m.\u001b[39mresponse\u001b[39m.\u001b[39mread()\n\u001b[1;32m   1017\u001b[0m     log\u001b[39m.\u001b[39mdebug(\u001b[39m\"\u001b[39m\u001b[39mRe-raising status error\u001b[39m\u001b[39m\"\u001b[39m)\n\u001b[0;32m-> 1018\u001b[0m     \u001b[39mraise\u001b[39;00m \u001b[39mself\u001b[39m\u001b[39m.\u001b[39m_make_status_error_from_response(err\u001b[39m.\u001b[39mresponse) \u001b[39mfrom\u001b[39;00m \u001b[39mNone\u001b[39;00m\n\u001b[1;32m   1020\u001b[0m \u001b[39mreturn\u001b[39;00m \u001b[39mself\u001b[39m\u001b[39m.\u001b[39m_process_response(\n\u001b[1;32m   1021\u001b[0m     cast_to\u001b[39m=\u001b[39mcast_to,\n\u001b[1;32m   1022\u001b[0m     options\u001b[39m=\u001b[39moptions,\n\u001b[0;32m   (...)\u001b[0m\n\u001b[1;32m   1025\u001b[0m     stream_cls\u001b[39m=\u001b[39mstream_cls,\n\u001b[1;32m   1026\u001b[0m )\n",
      "\u001b[0;31mRateLimitError\u001b[0m: Error code: 429 - {'error': {'message': 'Rate limit reached for model `llama3-70b-8192` in organization `org_01hyzgaf4ten29dwzg398849s2` on tokens per minute (TPM): Limit 6000, Used 0, Requested 8029. Please try again in 20.29s. Visit https://console.groq.com/docs/rate-limits for more information.', 'type': 'tokens', 'code': 'rate_limit_exceeded'}}"
     ]
    }
   ],
   "source": [
    "for key  in cases.keys():\n",
    "    for idx, case_path in enumerate(cases[key]):\n",
    "        if case_path not in not_yet_cases:\n",
    "            continue\n",
    "        print(f\"case: {case_path}, {idx+1}/5 ...\")\n",
    "        case = load_json(case_path)\n",
    "        summary_case = summary_agent.summarize_case(case)\n",
    "        scratch_pad = run_conversation(summary_case)\n",
    "        output_dict = {'actual_importance':case['importance'], 'importance_reasoning':scratch_pad}\n",
    "        save_json('./output/'+case_path.split('/')[-1].replace('.json', '_output.json'), output_dict)\n",
    "        print(f\"    output saved, I will sleep now for 1 minute.\")\n",
    "        # sleep for 1 second to avoid rate limit\n",
    "        time.sleep(60)\n"
   ]
  },
  {
   "cell_type": "markdown",
   "metadata": {},
   "source": []
  }
 ],
 "metadata": {
  "kernelspec": {
   "display_name": "thesis",
   "language": "python",
   "name": "your_env_name"
  },
  "language_info": {
   "codemirror_mode": {
    "name": "ipython",
    "version": 3
   },
   "file_extension": ".py",
   "mimetype": "text/x-python",
   "name": "python",
   "nbconvert_exporter": "python",
   "pygments_lexer": "ipython3",
   "version": "3.11.3"
  },
  "orig_nbformat": 4
 },
 "nbformat": 4,
 "nbformat_minor": 2
}
