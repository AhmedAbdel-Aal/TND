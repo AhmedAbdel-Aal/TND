{
 "cells": [
  {
   "cell_type": "code",
   "execution_count": 3,
   "metadata": {},
   "outputs": [],
   "source": [
    "%load_ext autoreload\n",
    "%autoreload 2"
   ]
  },
  {
   "cell_type": "code",
   "execution_count": 12,
   "metadata": {},
   "outputs": [],
   "source": [
    "import os\n",
    "import time\n",
    "import ollama\n",
    "import json\n",
    "from summary_agent import SummaryAgent\n",
    "from q_agent import QAgent\n",
    "from utils import load_json, save_json"
   ]
  },
  {
   "cell_type": "code",
   "execution_count": 5,
   "metadata": {},
   "outputs": [],
   "source": [
    "cases = {'1':[], '2':[], '3':[], '4':[]}\n",
    "for root, dirs, files in os.walk('../pilot_study_sample/'):\n",
    "    for dir in dirs:\n",
    "        for root, dirs, files in os.walk('../pilot_study_sample/' + dir):\n",
    "            for file in files:\n",
    "                if file.endswith('.json'):\n",
    "                    cases[dir].append(os.path.join(root, file))"
   ]
  },
  {
   "cell_type": "code",
   "execution_count": 6,
   "metadata": {},
   "outputs": [
    {
     "data": {
      "text/plain": [
       "{'1': ['../pilot_study_sample/1/001-58304.json',\n",
       "  '../pilot_study_sample/1/001-58305.json',\n",
       "  '../pilot_study_sample/1/001-58978.json',\n",
       "  '../pilot_study_sample/1/001-58306.json',\n",
       "  '../pilot_study_sample/1/001-58983.json'],\n",
       " '2': ['../pilot_study_sample/2/001-57418.json',\n",
       "  '../pilot_study_sample/2/001-57417.json',\n",
       "  '../pilot_study_sample/2/001-57421.json',\n",
       "  '../pilot_study_sample/2/001-57420.json',\n",
       "  '../pilot_study_sample/2/001-57416.json'],\n",
       " '3': ['../pilot_study_sample/3/001-67200.json',\n",
       "  '../pilot_study_sample/3/001-205675.json',\n",
       "  '../pilot_study_sample/3/001-57899.json',\n",
       "  '../pilot_study_sample/3/001-67204.json',\n",
       "  '../pilot_study_sample/3/001-57885.json'],\n",
       " '4': ['../pilot_study_sample/4/001-147039.json',\n",
       "  '../pilot_study_sample/4/001-147038.json',\n",
       "  '../pilot_study_sample/4/001-225326.json',\n",
       "  '../pilot_study_sample/4/001-147040.json',\n",
       "  '../pilot_study_sample/4/001-147041.json']}"
      ]
     },
     "execution_count": 6,
     "metadata": {},
     "output_type": "execute_result"
    }
   ],
   "source": [
    "cases"
   ]
  },
  {
   "cell_type": "code",
   "execution_count": 7,
   "metadata": {},
   "outputs": [],
   "source": [
    "summary_agent = SummaryAgent(backend=\"groq\")\n"
   ]
  },
  {
   "cell_type": "code",
   "execution_count": 29,
   "metadata": {},
   "outputs": [],
   "source": [
    "i4_case = load_json(cases['4'][0])"
   ]
  },
  {
   "cell_type": "code",
   "execution_count": 30,
   "metadata": {},
   "outputs": [
    {
     "name": "stderr",
     "output_type": "stream",
     "text": [
      "Token indices sequence length is longer than the specified maximum sequence length for this model (4120 > 512). Running this sequence through the model will result in indexing errors\n",
      "Token indices sequence length is longer than the specified maximum sequence length for this model (3928 > 512). Running this sequence through the model will result in indexing errors\n"
     ]
    }
   ],
   "source": [
    "summary_i4case = summary_agent.summarize_case(i4_case)"
   ]
  },
  {
   "cell_type": "code",
   "execution_count": 37,
   "metadata": {},
   "outputs": [],
   "source": [
    "q_agent = QAgent(backend=\"groq\")"
   ]
  },
  {
   "cell_type": "code",
   "execution_count": 51,
   "metadata": {},
   "outputs": [],
   "source": [
    "answer = q_agent.classify(summary_i4case)"
   ]
  },
  {
   "cell_type": "code",
   "execution_count": 52,
   "metadata": {},
   "outputs": [
    {
     "name": "stdout",
     "output_type": "stream",
     "text": [
      "Based on the summary provided, here are my answers to the questions:\n",
      "\n",
      "1. Analyze the legal issue:\n",
      "\n",
      "* Primary legal question or issue: Whether the Ukrainian authorities failed to properly investigate the applicant's complaints of ill-treatment and violation of Article 3 of the European Convention on Human Rights.\n",
      "* Novel issue or previously addressed by the court: This issue is not novel, as the court has previously addressed similar cases involving allegations of ill-treatment and lack of effective investigation.\n",
      "\n",
      "2. Examine the facts:\n",
      "\n",
      "* Unique or unusual circumstances: The applicant has a history of health problems, including epilepsy, which may have made him more vulnerable to harm.\n",
      "* Vulnerable group or individual: The applicant is a Ukrainian national with a medical condition, which may have made him more susceptible to ill-treatment.\n",
      "* Public interest element: The case involves allegations of police brutality and mistreatment, which is a matter of public interest.\n",
      "\n",
      "3. Consider the law applied:\n",
      "\n",
      "* Interpretation of a fundamental right or freedom: Article 3 of the Convention, which prohibits torture, inhuman or degrading treatment or punishment.\n",
      "* Conflict between different rights or principles: The case involves a conflict between the right to life and the right to dignity, as the applicant alleged that he was subjected to inhuman and degrading treatment.\n",
      "\n",
      "4. Evaluate the procedure:\n",
      "\n",
      "* Level of the court system: The case was decided by the European Court of Human Rights.\n",
      "* Grand Chamber decision: No, this was a Chamber judgment, indicating that it was a lower-level decision.\n",
      "* Interventions by third parties or other states: None mentioned in the summary.\n",
      "\n",
      "5. Assess the conclusion:\n",
      "\n",
      "* Establishment of new legal principle or modification of existing law: The case does not establish a new legal principle, but rather reiterates the importance of effective investigation and protection of human rights in cases of alleged ill-treatment.\n",
      "* Wide-ranging implications beyond the specific case: Yes, the case may have implications for the protection of human rights in Ukraine and other countries.\n",
      "* Resolution of a conflict in jurisprudence: No, this case does not resolve a conflict in jurisprudence between different member states.\n",
      "\n",
      "6. Consider the date:\n",
      "\n",
      "* Recent case addressing contemporary issues: The case is not particularly recent, as it was decided on October 16, 2014.\n",
      "* Revisit or update older principles: No, the case does not revisit or update older principles, but rather reiterates the importance of protecting human rights in cases of alleged ill-treatment.\n",
      "\n",
      "7. Reflect on potential impact:\n",
      "\n",
      "* Likely to affect a large number of people or states: The case may have implications for the protection of human rights in Ukraine and other countries.\n",
      "* Addressing a systemic issue within a member state or across multiple states: The case addresses a systemic issue in Ukraine, involving allegations of police brutality and mistreatment.\n",
      "* Lead to changes in domestic legislation or practices: The case may lead to changes in domestic legislation or practices in Ukraine and other countries to ensure more effective investigation and protection of human rights in cases of alleged ill-treatment.\n"
     ]
    }
   ],
   "source": [
    "print(answer)"
   ]
  },
  {
   "cell_type": "code",
   "execution_count": 53,
   "metadata": {},
   "outputs": [],
   "source": [
    "from imp_agent import ImpAgent\n",
    "importance_agent = ImpAgent(backend='groq')"
   ]
  },
  {
   "cell_type": "code",
   "execution_count": 54,
   "metadata": {},
   "outputs": [],
   "source": [
    "importance_4 = importance_agent.classify(answer)"
   ]
  },
  {
   "cell_type": "code",
   "execution_count": 55,
   "metadata": {},
   "outputs": [
    {
     "name": "stdout",
     "output_type": "stream",
     "text": [
      "Based on the provided questions and answers, I would classify the case as \"Medium\" importance. Here's why:\n",
      "\n",
      "* The case doesn't make a significant contribution to the development, clarification, or modification of existing case law, unlike High-importance cases (E.g., a novel interpretation of a fundamental right or freedom, or the establishment of a new legal principle).\n",
      "* However, the case goes beyond merely applying existing case law, as it addresses a systemic issue in Ukraine involving allegations of police brutality and mistreatment, and has implications for the protection of human rights in the country and potentially other countries. This shows an engagement with the Court's existing case law and an attempt to address a concrete problem.\n",
      "* The case doesn't fit into the Low-importance category, as it addresses a specific issue that is relevant to the protection of human rights, rather than simply applying existing case law. Additionally, the case may lead to changes in domestic legislation or practices in Ukraine and other countries, which indicates a potential for a broader impact.\n",
      "\n",
      "Therefore, I would categorize this case as \"Medium\" importance, as it has some significance in terms of its engagement with existing case law and its potential impact on the protection of human rights, but doesn't bring a major innovation to the Court's case law.\n"
     ]
    }
   ],
   "source": [
    "print(importance_4)"
   ]
  },
  {
   "cell_type": "code",
   "execution_count": 56,
   "metadata": {},
   "outputs": [],
   "source": [
    "i2_case = load_json(cases['2'][0])"
   ]
  },
  {
   "cell_type": "code",
   "execution_count": 57,
   "metadata": {},
   "outputs": [
    {
     "name": "stderr",
     "output_type": "stream",
     "text": [
      "Token indices sequence length is longer than the specified maximum sequence length for this model (823 > 512). Running this sequence through the model will result in indexing errors\n",
      "Token indices sequence length is longer than the specified maximum sequence length for this model (4789 > 512). Running this sequence through the model will result in indexing errors\n",
      "Token indices sequence length is longer than the specified maximum sequence length for this model (3788 > 512). Running this sequence through the model will result in indexing errors\n",
      "Token indices sequence length is longer than the specified maximum sequence length for this model (3417 > 512). Running this sequence through the model will result in indexing errors\n"
     ]
    }
   ],
   "source": [
    "summary_i2case = summary_agent.summarize_case(i2_case)"
   ]
  },
  {
   "cell_type": "code",
   "execution_count": 58,
   "metadata": {},
   "outputs": [],
   "source": [
    "answer = q_agent.classify(summary_i2case)"
   ]
  },
  {
   "cell_type": "code",
   "execution_count": 59,
   "metadata": {},
   "outputs": [
    {
     "name": "stdout",
     "output_type": "stream",
     "text": [
      "Based on the summary, I will answer the questions step by step:\n",
      "\n",
      "**1. Analyze the legal issue:**\n",
      "\n",
      "* What is the primary legal question or issue addressed in this case?\n",
      "  The primary legal question or issue addressed in this case is whether the confiscation of gold coins by the British customs authorities and the subsequent refusal to restore them constitute a violation of Article 1 of Protocol No. 1 (P1-1) of the European Convention on Human Rights.\n",
      "\n",
      "* Is this a novel issue or one that has been previously addressed by the court?\n",
      "  This issue has been previously addressed by the court. The case involves the interpretation of Article 1 of Protocol No. 1, which has been addressed in previous cases such as Sporrong and Lönnroth v. Sweden (1982).\n",
      "\n",
      "**2. Examine the facts:**\n",
      "\n",
      "* Are there any unique or unusual circumstances in this case?\n",
      "  Yes, the case involves the confiscation of gold coins, which may be an unusual circumstance.\n",
      "\n",
      "* Does the case involve a particularly vulnerable group or individual?\n",
      "  No, the case does not involve a particularly vulnerable group or individual, but rather a company, AGOSI, that claims the return of the gold coins.\n",
      "\n",
      "* Is there a significant public interest element?\n",
      "  Yes, the case involves the application of Article 1 of Protocol No. 1, which guarantees the protection of property, and therefore has a significant public interest element.\n",
      "\n",
      "**3. Consider the law applied:**\n",
      "\n",
      "* Does the case involve the interpretation of a fundamental right or freedom?\n",
      "  Yes, the case involves the interpretation of Article 1 of Protocol No. 1, which guarantees the protection of property, a fundamental right.\n",
      "\n",
      "* Is there a conflict between different rights or principles?\n",
      "  No, there is no conflict between different rights or principles in this case.\n",
      "\n",
      "* Does the case clarify or expand on existing legal principles?\n",
      "  The case clarifies the interpretation of Article 1 of Protocol No. 1 and the application of the concept of judicial review to administrative actions.\n",
      "\n",
      "**4. Evaluate the procedure:**\n",
      "\n",
      "* At what level of the court system was the case decided?\n",
      "  The case was decided by the European Court of Human Rights (ECHR).\n",
      "\n",
      "* Was it a Grand Chamber decision, indicating high importance?\n",
      "  No, it was not a Grand Chamber decision.\n",
      "\n",
      "* Were there any interventions by third parties or other states?\n",
      "  There is no mention of interventions by third parties or other states in the summary.\n",
      "\n",
      "**5. Assess the conclusion:**\n",
      "\n",
      "* Does the judgment establish a new legal principle or significantly modify existing case law?\n",
      "  The judgment does not establish a new legal principle, but rather clarifies the interpretation of Article 1 of Protocol No. 1 and the application of the concept of judicial review to administrative actions.\n",
      "\n",
      "* Is the decision likely to have wide-ranging implications beyond this specific case?\n",
      "  Yes, the decision may have implications for other cases involving the confiscation of property and the application of Article 1 of Protocol No. 1.\n",
      "\n",
      "* Does it resolve a conflict in jurisprudence between different member states?\n",
      "  No, it does not resolve a conflict in jurisprudence between different member states.\n",
      "\n",
      "**6. Consider the date:**\n",
      "\n",
      "* Is this a recent case that addresses contemporary issues?\n",
      "  No, the case was decided in 1986, which is not recent.\n",
      "\n",
      "* Does it revisit or update older principles in light of societal changes?\n",
      "  No, it does not revisit or update older principles in light of societal changes.\n",
      "\n",
      "**7. Reflect on potential impact:**\n",
      "\n",
      "* Will this decision likely affect a large number of people or states?\n",
      "  Yes, the decision may affect a large number of people or states that are involved in cases involving the confiscation of property and the application of Article 1 of Protocol No. 1.\n",
      "\n",
      "* Does it address a systemic issue within a member state or across multiple states?\n",
      "  No, it does not address a systemic issue within a member state or across multiple states.\n",
      "\n",
      "* Could it lead to changes in domestic legislation or practices?\n",
      "  Yes, the decision may lead to changes in domestic legislation or practices in member states that relate to the confiscation of property and the application of Article 1 of Protocol No. 1.\n"
     ]
    }
   ],
   "source": [
    "print(answer)"
   ]
  },
  {
   "cell_type": "code",
   "execution_count": 60,
   "metadata": {},
   "outputs": [],
   "source": [
    "importance_2 = importance_agent.classify(answer)"
   ]
  },
  {
   "cell_type": "code",
   "execution_count": 61,
   "metadata": {},
   "outputs": [
    {
     "name": "stdout",
     "output_type": "stream",
     "text": [
      "Based on the analysis, I would classify this case as \"High\".\n",
      "\n",
      "The primary legal question or issue addressed in this case is the interpretation of Article 1 of Protocol No. 1, which has been previously addressed by the court in Sporrong and Lönnroth v. Sweden (1982). However, this case clarifies the interpretation of Article 1 of Protocol No. 1 and the application of the concept of judicial review to administrative actions, which makes a significant contribution to the development of the court's case law.\n",
      "\n",
      "The case involves a novel procedural aspect in the context of administrative review, which is not fully explored in previous cases. The Court's ruling on the confiscation of gold coins and the refusal to restore them may have implications for other cases involving the confiscation of property and the application of Article 1 of Protocol No. 1.\n",
      "\n",
      "The case clarifies the interpretation of a fundamental right (Article 1 of Protocol No. 1) and has significant public interest due to its application to the confiscation of property. Although it is not a Grand Chamber decision, the judgment's implications may be far-reaching, potentially affecting a large number of people or states.\n",
      "\n",
      "The Court's ruling may lead to changes in domestic legislation or practices in member states that relate to the confiscation of property and the application of Article 1 of Protocol No. 1.\n",
      "\n",
      "In conclusion, this case is classified as \"High\" because it makes a significant contribution to the development of the court's case law, clarifies the interpretation of a fundamental right, and has implications for other cases involving the confiscation of property and the application of Article 1 of Protocol No. 1.\n"
     ]
    }
   ],
   "source": [
    "print(importance_2)"
   ]
  },
  {
   "cell_type": "code",
   "execution_count": null,
   "metadata": {},
   "outputs": [],
   "source": []
  },
  {
   "cell_type": "code",
   "execution_count": null,
   "metadata": {},
   "outputs": [],
   "source": []
  },
  {
   "cell_type": "code",
   "execution_count": null,
   "metadata": {},
   "outputs": [],
   "source": []
  }
 ],
 "metadata": {
  "kernelspec": {
   "display_name": "thesis",
   "language": "python",
   "name": "your_env_name"
  },
  "language_info": {
   "codemirror_mode": {
    "name": "ipython",
    "version": 3
   },
   "file_extension": ".py",
   "mimetype": "text/x-python",
   "name": "python",
   "nbconvert_exporter": "python",
   "pygments_lexer": "ipython3",
   "version": "3.11.3"
  }
 },
 "nbformat": 4,
 "nbformat_minor": 2
}
