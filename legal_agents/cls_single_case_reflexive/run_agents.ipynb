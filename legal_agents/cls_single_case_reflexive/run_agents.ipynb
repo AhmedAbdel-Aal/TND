{
 "cells": [
  {
   "cell_type": "code",
   "execution_count": 1,
   "metadata": {},
   "outputs": [],
   "source": [
    "%load_ext autoreload\n",
    "%autoreload 2"
   ]
  },
  {
   "cell_type": "code",
   "execution_count": 2,
   "metadata": {},
   "outputs": [],
   "source": [
    "import os\n",
    "import ollama\n",
    "import json\n",
    "from summary_agent import SummaryAgent\n",
    "from Principles_agent import LPAgent"
   ]
  },
  {
   "cell_type": "code",
   "execution_count": 3,
   "metadata": {},
   "outputs": [],
   "source": [
    "def load_json(path):\n",
    "    with open(path, 'r') as f:\n",
    "        data = json.load(f)\n",
    "    return data\n",
    "\n",
    "\n",
    "i1_case =  load_json('../../../ECHR/echr-processed/001-61521.json')\n",
    "i2_case = load_json('../../../ECHR/echr-processed/001-57416.json')\n",
    "i3_case = load_json('../../../ECHR/echr-processed/001-205675.json')\n",
    "i4_case = load_json('../../../ECHR/echr-processed/001-225326.json')"
   ]
  },
  {
   "cell_type": "code",
   "execution_count": 4,
   "metadata": {},
   "outputs": [],
   "source": [
    "summary_agent = SummaryAgent(backend=\"groq\")"
   ]
  },
  {
   "cell_type": "code",
   "execution_count": 5,
   "metadata": {},
   "outputs": [
    {
     "name": "stdout",
     "output_type": "stream",
     "text": [
      "Summarizing procedure\n",
      "   init_summary ....\n"
     ]
    },
    {
     "name": "stderr",
     "output_type": "stream",
     "text": [
      "huggingface/tokenizers: The current process just got forked, after parallelism has already been used. Disabling parallelism to avoid deadlocks...\n",
      "To disable this warning, you can either:\n",
      "\t- Avoid using `tokenizers` before the fork if possible\n",
      "\t- Explicitly set the environment variable TOKENIZERS_PARALLELISM=(true | false)\n"
     ]
    },
    {
     "name": "stdout",
     "output_type": "stream",
     "text": [
      "   reflect ....\n",
      "   improve ....\n",
      "Summarizing facts\n",
      "   init_summary ....\n",
      "   reflect ....\n",
      "   improve ....\n"
     ]
    },
    {
     "name": "stderr",
     "output_type": "stream",
     "text": [
      "Token indices sequence length is longer than the specified maximum sequence length for this model (684 > 512). Running this sequence through the model will result in indexing errors\n"
     ]
    },
    {
     "name": "stdout",
     "output_type": "stream",
     "text": [
      "Summarizing law\n",
      "   init_summary ....\n",
      "   reflect ....\n",
      "   improve ....\n",
      "Summarizing conclusion\n",
      "   init_summary ....\n",
      "   reflect ....\n",
      "   improve ....\n"
     ]
    }
   ],
   "source": [
    "summary_i4case = summary_agent.summarize_case(i4_case)"
   ]
  },
  {
   "cell_type": "code",
   "execution_count": 6,
   "metadata": {},
   "outputs": [
    {
     "name": "stdout",
     "output_type": "stream",
     "text": [
      "to_be_combined:  dict_keys(['procedure', 'facts', 'law', 'conclusion'])\n",
      "result keys:  dict_keys(['itemid', 'importance', 'judgementdate', '__articles', '__conclusion', 'appno', 'article', 'extractedappno', 'docname', 'parties', 'rank', 'cite'])\n",
      "   across_summary ....\n"
     ]
    }
   ],
   "source": [
    "summary_i4case_across = summary_agent.summarize_across_parts(summary_i4case)"
   ]
  },
  {
   "cell_type": "code",
   "execution_count": 7,
   "metadata": {},
   "outputs": [
    {
     "data": {
      "text/plain": [
       "{'summary': \"The European Court of Human Rights (ECHR) examined two applications alleging violations of the European Convention for the Protection of Human Rights and Fundamental Freedoms by Ukraine. The applicants, experiencing grave violations of their human rights, including arbitrary detention, torture, and ill-treatment, claimed that the authorities failed to investigate their allegations and provide adequate compensation. The Court has jurisdiction to hear the cases, assessing the truthfulness of the applicants' claims, taking into account the Government's arguments and available evidence. The Court will apply Convention norms and standards to determine whether the applicants' allegations establish a breach of their Convention rights, guided by the specific circumstances of the case.\",\n",
       " 'reflection': 'Here is the list of suggestions:\\n\\n1. Consider rephrasing the first sentence to explicitly state the Court\\'s decision to join the applications and the applicant\\'s wife\\'s standing to continue the proceedings. This would strengthen the summary\\'s consistency and clarity.\\n\\n2. The phrase \"approximately 12 years\" could be omitted, as the exact length of the criminal proceedings is not crucial to understanding the breach of Article 6 and Article 13.\\n\\n3. The sentence \"The Court held that the excessive length of the proceedings and the absence of an effective remedy constituted a breach of the Convention\" is redundant and could be omitted, as the Court\\'s findings are already explained in the previous sentences.\\n\\n4. Instead of stating that the Court ordered the respondent State to pay the applicants \"a certain amount\", consider specifying the amount explicitly to increase conciseness and clarity.\\n\\n5. The sentence \"The Court\\'s decision highlights the importance of ensuring a fair and expeditious trial, as well as the provision of an effective remedy in cases where there are long delays in the criminal proceedings\" could be omitted or rephrased to focus more on the legal consequences of the breach rather than the broader implications of the decision.\\n\\n6. Consider using precise language to describe the interest payments, such as \"simple interest at a rate of [X]% above the marginal lending rate of the European Central Bank\".\\n\\n7. Finally, the summary could benefit from a clearer structure, potentially dividing it into sections or subheadings to distinguish between the preliminary procedural issues, the merits of the case, and the remedy ordered by the Court.',\n",
       " 'improvment': 'Here is the revised summary:\\n\\nThe European Court of Human Rights (ECHR) decided to join two applications brought by an applicant and his wife, Olena Oleksandrivna Kruhlova, who has standing to continue the proceedings in his stead. The Court declared the applications admissible, finding a breach of Article 6§1 (right to a fair trial) and Article 13 (right to an effective remedy) of the Convention.\\n\\nThe applicants complained about the excessive length of criminal proceedings against them and the lack of any effective remedy in domestic law to challenge the delay. The Court held that the excessive length of the proceedings constituted a breach of the Convention.\\n\\nAs a remedy, the Court ordered the respondent State to pay the applicants € [amount indicated in the appended table], to be converted into the currency of the State at the rate applicable on the date of settlement, within three months. After the expiry of this period, simple interest will be payable on the amounts at a rate equal to the marginal lending rate of the European Central Bank during the default period plus three percentage points.\\n\\nI have revised the summary to incorporate the expert suggestions:\\n\\n* Rephrased the first sentence to explicitly state the Court\\'s decision to join the applications and the applicant\\'s wife\\'s standing to continue the proceedings.\\n* Omitted the phrase \"approximately 12 years\" to focus on the essential points of the case.\\n* Removed the redundant sentence describing the Court\\'s findings.\\n* Specified the amount to be paid by the respondent State.\\n* Omitted the sentence highlighting the broader implications of the decision, focusing instead on the legal consequences of the breach.\\n* Used precise language to describe the interest payments.\\n* Structured the summary into clear sections, highlighting the preliminary procedural issues, the merits of the case, and the remedy ordered by the Court.\\n\\nPlease let me know if you need any further assistance!'}"
      ]
     },
     "execution_count": 7,
     "metadata": {},
     "output_type": "execute_result"
    }
   ],
   "source": [
    "summary_agent.cache"
   ]
  },
  {
   "cell_type": "code",
   "execution_count": 15,
   "metadata": {},
   "outputs": [
    {
     "name": "stdout",
     "output_type": "stream",
     "text": [
      "The European Court of Human Rights (ECHR) examined two applications alleging violations of the European Convention for the Protection of Human Rights and Fundamental Freedoms by Ukraine. The applicants, experiencing grave violations of their human rights, including arbitrary detention, torture, and ill-treatment, claimed that the authorities failed to investigate their allegations and provide adequate compensation. The Court has jurisdiction to hear the cases, assessing the truthfulness of the applicants' claims, taking into account the Government's arguments and available evidence. The Court will apply Convention norms and standards to determine whether the applicants' allegations establish a breach of their Convention rights, guided by the specific circumstances of the case.\n"
     ]
    }
   ],
   "source": [
    "print(summary_i4case_across['summarized_case'])"
   ]
  },
  {
   "cell_type": "code",
   "execution_count": 7,
   "metadata": {},
   "outputs": [
    {
     "name": "stderr",
     "output_type": "stream",
     "text": [
      "Token indices sequence length is longer than the specified maximum sequence length for this model (896 > 512). Running this sequence through the model will result in indexing errors\n"
     ]
    },
    {
     "name": "stdout",
     "output_type": "stream",
     "text": [
      "Summarizing facts\n",
      "   init_summary ....\n",
      "   reflect ....\n",
      "   improve ....\n"
     ]
    },
    {
     "name": "stderr",
     "output_type": "stream",
     "text": [
      "Token indices sequence length is longer than the specified maximum sequence length for this model (8549 > 512). Running this sequence through the model will result in indexing errors\n"
     ]
    },
    {
     "name": "stdout",
     "output_type": "stream",
     "text": [
      "Summarizing law\n"
     ]
    },
    {
     "name": "stderr",
     "output_type": "stream",
     "text": [
      "Token indices sequence length is longer than the specified maximum sequence length for this model (8549 > 512). Running this sequence through the model will result in indexing errors\n"
     ]
    },
    {
     "name": "stdout",
     "output_type": "stream",
     "text": [
      "text has 6734 words and 236 sentences, on average 28.533898305084747 word/sentecesand 8549 tokens, token limit is 7500\n",
      "   init_summary ....\n",
      "   reflect ....\n",
      "   improve ....\n",
      "   init_summary ....\n",
      "   reflect ....\n",
      "   improve ....\n",
      "   init_summary ....\n",
      "   reflect ....\n",
      "   improve ....\n",
      "   init_summary ....\n",
      "   reflect ....\n",
      "   improve ....\n"
     ]
    },
    {
     "name": "stderr",
     "output_type": "stream",
     "text": [
      "Token indices sequence length is longer than the specified maximum sequence length for this model (1209 > 512). Running this sequence through the model will result in indexing errors\n"
     ]
    },
    {
     "name": "stdout",
     "output_type": "stream",
     "text": [
      "Summarizing conclusion\n",
      "   init_summary ....\n",
      "   reflect ....\n",
      "   improve ....\n",
      "to_be_combined:  dict_keys(['facts', 'law', 'conclusion'])\n",
      "result keys:  dict_keys(['itemid', 'importance', 'judgementdate', '__articles', '__conclusion', 'appno', 'article', 'extractedappno', 'docname', 'parties', 'rank', 'cite', 'introduction', 'relevant_law'])\n",
      "   across_summary ....\n"
     ]
    }
   ],
   "source": [
    "summary_i3case = summary_agent.summarize_case(i3_case)\n",
    "summary_i3case_across = summary_agent.summarize_across_parts(summary_i3case)"
   ]
  },
  {
   "cell_type": "code",
   "execution_count": 16,
   "metadata": {},
   "outputs": [
    {
     "name": "stdout",
     "output_type": "stream",
     "text": [
      "The applicant, a 57-year-old Swiss national, was denied his widower's pension after his youngest child turned 18, solely due to his gender. He claimed that the provision violated the principle of gender equality enshrined in Article 8 of the Swiss Constitution and Article 14 read in conjunction with Article 8 of the Convention. The Federal Court dismissed his appeal, ruling that the provision was not unconstitutional, and the application was inadmissible. The European Court of Human Rights (ECHR) later declared the application admissible, finding a violation of Article 14 read in conjunction with Article 8 of the Convention, as the applicant suffered discriminatory treatment compared to widows. The ECHR awarded the applicant 5,000 euros in respect of non-pecuniary damage sustained and 6,380 euros for costs and expenses.\n"
     ]
    }
   ],
   "source": [
    "print(summary_i3case_across['summarized_case'])"
   ]
  },
  {
   "cell_type": "code",
   "execution_count": 11,
   "metadata": {},
   "outputs": [],
   "source": [
    "with open('./001-225326_summary.json', 'w') as f:\n",
    "    json.dump(summary_i4case_across, f, indent=4)\n",
    "\n",
    "with open('./001-205675_summary.json', 'w') as f:\n",
    "    json.dump(summary_i3case_across, f, indent=4)\n"
   ]
  },
  {
   "cell_type": "code",
   "execution_count": 12,
   "metadata": {},
   "outputs": [],
   "source": [
    "lp_agent = LPAgent(backend='groq')"
   ]
  },
  {
   "cell_type": "code",
   "execution_count": 13,
   "metadata": {},
   "outputs": [
    {
     "name": "stdout",
     "output_type": "stream",
     "text": [
      "   init_extract ....\n",
      "   reflect ....\n",
      "   improve ....\n",
      "   init_extract ....\n",
      "   reflect ....\n",
      "   improve ....\n"
     ]
    }
   ],
   "source": [
    "lps_4 = lp_agent.extract_lps(summary_i4case_across['summarized_case'])\n",
    "lps_3 = lp_agent.extract_lps(summary_i3case_across['summarized_case'])"
   ]
  },
  {
   "cell_type": "code",
   "execution_count": 14,
   "metadata": {},
   "outputs": [],
   "source": [
    "from imp_agent import ImpAgent\n",
    "importance_agent = ImpAgent(backend='groq')"
   ]
  },
  {
   "cell_type": "code",
   "execution_count": 15,
   "metadata": {},
   "outputs": [
    {
     "name": "stdout",
     "output_type": "stream",
     "text": [
      "   init_classify ....\n",
      "   reflect ....\n",
      "   improve ....\n"
     ]
    }
   ],
   "source": [
    "importance_4 = importance_agent.classify(summary_i4case_across['summarized_case'], lps_4)"
   ]
  },
  {
   "cell_type": "code",
   "execution_count": 16,
   "metadata": {},
   "outputs": [
    {
     "name": "stdout",
     "output_type": "stream",
     "text": [
      "   init_classify ....\n",
      "   reflect ....\n",
      "   improve ....\n"
     ]
    }
   ],
   "source": [
    "importance_3 = importance_agent.classify(summary_i3case_across, lps_3)"
   ]
  },
  {
   "cell_type": "code",
   "execution_count": 17,
   "metadata": {},
   "outputs": [],
   "source": [
    "with open('./001-225326_output.json', 'w') as f:\n",
    "    json.dump({'output':importance_4}, f, indent=4)\n",
    "\n",
    "with open('./001-205675_output.json', 'w') as f:\n",
    "    json.dump({'output':importance_3}, f, indent=4)\n"
   ]
  },
  {
   "cell_type": "code",
   "execution_count": 18,
   "metadata": {},
   "outputs": [
    {
     "data": {
      "text/plain": [
       "'I have reclassified the importance class of the legal case, \"CASE OF B. v. SWITZERLAND\" (itemid: \"001-205675\"), based on a careful review of the source text, legal principles, and expert suggestions. Here is the new importance class:\\n\\n**High**\\n\\nI classify this case as **High** in importance due to its significant legal impact and contribution to the development of case law.\\n\\nThis classification is based on the following factors:\\n\\n1. **Development of case law**: The case makes a significant contribution to the development of case law on Article 14 (prohibition of discrimination) and Article 8 (right to respect for private and family life) of the European Convention on Human Rights (ECHR).\\n2. **Application of legal principles**: The case applies the legal principles of Article 14 and Article 8 in a nuanced and contextual manner, exploring the intersection of gender and family law.\\n3. **Contrast with existing case law**: The case diverges from existing case law by finding a violation of Article 14 and Article 8 in the context of a widower\\'s pension, which challenges the dominant narrative of discrimination against women.\\n4. **Impact on national legislation**: The case has the potential to influence national legislation and policy in Switzerland and other countries, promoting greater gender equality and equal treatment of women and men.\\n5. **Significance for future cases**: The case sets a precedent for future cases involving gender-based discrimination and the right to maintenance and financial security under the ECHR.\\n\\nThe new importance class reflects the legal impact and contribution of the case to the development of case law, ensuring that the classification is:\\n\\n(i) **Impact**: taking into account the legal impact of the case on the law, including its potential influence on national legislation and policy.\\n\\n(ii) **Application**: recognizing that the case applies existing laws and principles in a new and nuanced manner, going beyond merely applying existing case law.\\n\\n(iii) **Contribution**: acknowledging that the case makes a significant contribution to the development of case law, exploring novel issues and legal principles.\\n\\nOverall, the new importance class reflects the significant legal impact and contribution of this case, making it a vital and landmark decision in the field of human rights law.'"
      ]
     },
     "execution_count": 18,
     "metadata": {},
     "output_type": "execute_result"
    }
   ],
   "source": [
    "importance_3"
   ]
  },
  {
   "cell_type": "code",
   "execution_count": 19,
   "metadata": {},
   "outputs": [
    {
     "data": {
      "text/plain": [
       "\"Based on the expert suggestions and considerations, I revise the importance class of the case of Medvedyev and others v. Ukraine from High to High.\\n\\nHere's the revised reasoning:\\n\\n* Impact: The case has a significant legal impact by clarifying the obligations of States to respect and protect the right to liberty and security, as well as the prohibition of inhuman and degrading treatment. The legal principles established in the case set a new standard for the investigation and prosecution of human rights violations, which has a ripple effect on the development of human rights law and policies in Ukraine and beyond.\\n* Application: The case applies existing principles of human rights law, but also introduces new interpretations and clarifications, particularly in regards to the necessity of statutory warrants or authorizations for detentions and the importance of effective investigations and accountability.\\n* Contribution: The case makes a significant contribution to the development of the ECHR's case-law, particularly in the areas of the right to liberty and security, the prohibition of inhuman and degrading treatment, and compensation for damages. It sets a new standard for the investigation and prosecution of human rights violations and reinforces the importance of effective investigations, accountability, and compensation.\\n\\nTaking into account the expert suggestions, I provide more specific examples of the case's contribution to the development of human rights law, such as:\\n\\n* The case clarifies the obligations of States to respect and protect the right to liberty and security, particularly in regards to the necessity of statutory warrants or authorizations for detentions.\\n* The case establishes new legal principles regarding the importance of effective investigations and accountability in cases of human rights violations.\\n* The case provides a new standard for the investigation and prosecution of human rights violations, which has a significant impact on the development of human rights law and policies in Ukraine and beyond.\\n\\nMoreover, I break down the importance of the case into more specific categories, such as:\\n\\n* Importance for the right to liberty and security: High (Clarification of the obligations of States to respect and protect this right)\\n* Importance for the prohibition of inhuman and degrading treatment: High (Establishment of new legal principles regarding the importance of effective investigations and accountability in cases of human rights violations)\\n* Importance for compensation for damages: Medium (Clarification of the obligation to provide adequate, effective, and prompt compensation for harm caused by human rights violations)\\n\\nIn conclusion, while the case may not introduce entirely new legal principles, its significance lies in clarifying and reinforcing existing principles, as well as providing a new standard for the investigation and prosecution of human rights violations. Therefore, I reclassify the importance class of the case of Medvedyev and others v. Ukraine as High.\""
      ]
     },
     "execution_count": 19,
     "metadata": {},
     "output_type": "execute_result"
    }
   ],
   "source": [
    "importance_4"
   ]
  },
  {
   "cell_type": "code",
   "execution_count": null,
   "metadata": {},
   "outputs": [],
   "source": [
    "with open('./001-225326.json', 'w') as f:\n",
    "    json.dump(i4_case, f, indent=4)\n",
    "\n",
    "with open('./001-205675.json', 'w') as f:\n",
    "    json.dump(i3_case, f, indent=4)\n"
   ]
  },
  {
   "cell_type": "code",
   "execution_count": null,
   "metadata": {},
   "outputs": [],
   "source": []
  },
  {
   "cell_type": "code",
   "execution_count": null,
   "metadata": {},
   "outputs": [],
   "source": []
  },
  {
   "cell_type": "code",
   "execution_count": null,
   "metadata": {},
   "outputs": [],
   "source": []
  },
  {
   "cell_type": "code",
   "execution_count": null,
   "metadata": {},
   "outputs": [],
   "source": []
  },
  {
   "cell_type": "code",
   "execution_count": null,
   "metadata": {},
   "outputs": [],
   "source": []
  },
  {
   "cell_type": "code",
   "execution_count": null,
   "metadata": {},
   "outputs": [],
   "source": []
  },
  {
   "cell_type": "code",
   "execution_count": null,
   "metadata": {},
   "outputs": [],
   "source": []
  },
  {
   "cell_type": "code",
   "execution_count": null,
   "metadata": {},
   "outputs": [],
   "source": []
  },
  {
   "cell_type": "code",
   "execution_count": null,
   "metadata": {},
   "outputs": [],
   "source": []
  },
  {
   "cell_type": "code",
   "execution_count": null,
   "metadata": {},
   "outputs": [],
   "source": []
  },
  {
   "cell_type": "code",
   "execution_count": null,
   "metadata": {},
   "outputs": [],
   "source": []
  },
  {
   "cell_type": "code",
   "execution_count": null,
   "metadata": {},
   "outputs": [],
   "source": []
  },
  {
   "cell_type": "code",
   "execution_count": null,
   "metadata": {},
   "outputs": [],
   "source": []
  },
  {
   "cell_type": "code",
   "execution_count": 11,
   "metadata": {},
   "outputs": [
    {
     "name": "stderr",
     "output_type": "stream",
     "text": [
      "Token indices sequence length is longer than the specified maximum sequence length for this model (1029 > 512). Running this sequence through the model will result in indexing errors\n"
     ]
    },
    {
     "name": "stdout",
     "output_type": "stream",
     "text": [
      "Summarizing procedure\n",
      "   init_summary ....\n",
      "   reflect ....\n",
      "   improve ....\n"
     ]
    },
    {
     "name": "stderr",
     "output_type": "stream",
     "text": [
      "Token indices sequence length is longer than the specified maximum sequence length for this model (11115 > 512). Running this sequence through the model will result in indexing errors\n"
     ]
    },
    {
     "name": "stdout",
     "output_type": "stream",
     "text": [
      "Summarizing facts\n"
     ]
    },
    {
     "name": "stderr",
     "output_type": "stream",
     "text": [
      "Token indices sequence length is longer than the specified maximum sequence length for this model (11115 > 512). Running this sequence through the model will result in indexing errors\n"
     ]
    },
    {
     "name": "stdout",
     "output_type": "stream",
     "text": [
      "text has 8801 words and 277 sentences, on average 31.772563176895307 word/sentecesand 11115 tokens, token limit is 7500\n",
      "   init_summary ....\n",
      "   reflect ....\n",
      "   improve ....\n"
     ]
    },
    {
     "ename": "BadRequestError",
     "evalue": "Error code: 400 - {'error': {'message': 'Please reduce the length of the messages or completion.', 'type': 'invalid_request_error', 'param': 'messages', 'code': 'context_length_exceeded'}}",
     "output_type": "error",
     "traceback": [
      "\u001b[0;31m---------------------------------------------------------------------------\u001b[0m",
      "\u001b[0;31mBadRequestError\u001b[0m                           Traceback (most recent call last)",
      "\u001b[1;32m/Users/ahmed/Desktop/msc-24/TND/legal_agents/single_case_reflexive/run_agents.ipynb Cell 11\u001b[0m line \u001b[0;36m1\n\u001b[0;32m----> <a href='vscode-notebook-cell:/Users/ahmed/Desktop/msc-24/TND/legal_agents/single_case_reflexive/run_agents.ipynb#X13sZmlsZQ%3D%3D?line=0'>1</a>\u001b[0m summary_i2case \u001b[39m=\u001b[39m summary_agent\u001b[39m.\u001b[39;49msummarize_case(i2_case)\n\u001b[1;32m      <a href='vscode-notebook-cell:/Users/ahmed/Desktop/msc-24/TND/legal_agents/single_case_reflexive/run_agents.ipynb#X13sZmlsZQ%3D%3D?line=1'>2</a>\u001b[0m summary_i2case_across \u001b[39m=\u001b[39m summary_agent\u001b[39m.\u001b[39msummarize_across_parts(summary_i2case)\n",
      "File \u001b[0;32m~/Desktop/msc-24/TND/legal_agents/single_case_reflexive/summary_agent.py:196\u001b[0m, in \u001b[0;36mSummaryAgent.summarize_case\u001b[0;34m(self, legal_case_dict)\u001b[0m\n\u001b[1;32m    194\u001b[0m \u001b[39mif\u001b[39;00m num_tokens \u001b[39m>\u001b[39m \u001b[39mself\u001b[39m\u001b[39m.\u001b[39mtoken_limit:\n\u001b[1;32m    195\u001b[0m     overlapping_splits \u001b[39m=\u001b[39m overlapping_split(legal_case_dict[key])\n\u001b[0;32m--> 196\u001b[0m     summarized_legal_case[key] \u001b[39m=\u001b[39m \u001b[39mself\u001b[39;49m\u001b[39m.\u001b[39;49msummarize_list(overlapping_splits)\n\u001b[1;32m    197\u001b[0m \u001b[39melse\u001b[39;00m:\n\u001b[1;32m    198\u001b[0m     summarized_legal_case[key] \u001b[39m=\u001b[39m \u001b[39mself\u001b[39m\u001b[39m.\u001b[39msummarize(legal_case_dict[key])\n",
      "File \u001b[0;32m~/Desktop/msc-24/TND/legal_agents/single_case_reflexive/summary_agent.py:182\u001b[0m, in \u001b[0;36mSummaryAgent.summarize_list\u001b[0;34m(self, text_list)\u001b[0m\n\u001b[1;32m    180\u001b[0m complete_summary \u001b[39m=\u001b[39m \u001b[39m\"\u001b[39m\u001b[39m\"\u001b[39m\n\u001b[1;32m    181\u001b[0m \u001b[39mfor\u001b[39;00m text \u001b[39min\u001b[39;00m text_list:\n\u001b[0;32m--> 182\u001b[0m     complete_summary \u001b[39m+\u001b[39m\u001b[39m=\u001b[39m \u001b[39mself\u001b[39;49m\u001b[39m.\u001b[39;49msummarize(text)\n\u001b[1;32m    183\u001b[0m \u001b[39mreturn\u001b[39;00m complete_summary\n",
      "File \u001b[0;32m~/Desktop/msc-24/TND/legal_agents/single_case_reflexive/summary_agent.py:175\u001b[0m, in \u001b[0;36mSummaryAgent.summarize\u001b[0;34m(self, source_text)\u001b[0m\n\u001b[1;32m    173\u001b[0m init_summary \u001b[39m=\u001b[39m \u001b[39mself\u001b[39m\u001b[39m.\u001b[39minit_summary(source_text)\n\u001b[1;32m    174\u001b[0m reflection \u001b[39m=\u001b[39m \u001b[39mself\u001b[39m\u001b[39m.\u001b[39mreflect(source_text, init_summary)\n\u001b[0;32m--> 175\u001b[0m improved_summary \u001b[39m=\u001b[39m \u001b[39mself\u001b[39;49m\u001b[39m.\u001b[39;49mimprove(source_text, init_summary, reflection)\n\u001b[1;32m    177\u001b[0m \u001b[39mreturn\u001b[39;00m improved_summary\n",
      "File \u001b[0;32m~/Desktop/msc-24/TND/legal_agents/single_case_reflexive/summary_agent.py:146\u001b[0m, in \u001b[0;36mSummaryAgent.improve\u001b[0;34m(self, source_text, summary, reflection)\u001b[0m\n\u001b[1;32m    113\u001b[0m system_message \u001b[39m=\u001b[39m (\n\u001b[1;32m    114\u001b[0m     \u001b[39m\"\u001b[39m\u001b[39mYou are expert legal lawyer with European Court of Human Rights (ECHR).\u001b[39m\u001b[39m\"\u001b[39m\n\u001b[1;32m    115\u001b[0m )\n\u001b[1;32m    116\u001b[0m reflection_print \u001b[39m=\u001b[39m \u001b[39mf\u001b[39m\u001b[39m\"\"\"\u001b[39m\n\u001b[1;32m    117\u001b[0m \u001b[39m        Your task is to carefully read, then edit, a legal summary from \u001b[39m\u001b[39m{\u001b[39;00msource_text\u001b[39m}\u001b[39;00m\u001b[39m to \u001b[39m\u001b[39m{\u001b[39;00msummary\u001b[39m}\u001b[39;00m\u001b[39m, taking into\u001b[39m\n\u001b[1;32m    118\u001b[0m \u001b[39m        account a list of expert suggestions and constructive criticisms.\u001b[39m\n\u001b[0;32m   (...)\u001b[0m\n\u001b[1;32m    144\u001b[0m \u001b[39m        Here is the revised summary:\u001b[39m\n\u001b[1;32m    145\u001b[0m \u001b[39m    \u001b[39m\u001b[39m\"\"\"\u001b[39m\n\u001b[0;32m--> 146\u001b[0m response \u001b[39m=\u001b[39m \u001b[39mself\u001b[39;49m\u001b[39m.\u001b[39;49mget_completion(reflection_print, system_message)\n\u001b[1;32m    147\u001b[0m \u001b[39mself\u001b[39m\u001b[39m.\u001b[39mcache[\u001b[39m\"\u001b[39m\u001b[39mimprovment\u001b[39m\u001b[39m\"\u001b[39m] \u001b[39m=\u001b[39m response\n\u001b[1;32m    148\u001b[0m \u001b[39mreturn\u001b[39;00m response\n",
      "File \u001b[0;32m~/Desktop/msc-24/TND/legal_agents/single_case_reflexive/summary_agent.py:42\u001b[0m, in \u001b[0;36mSummaryAgent.get_completion\u001b[0;34m(self, prompt, system_message)\u001b[0m\n\u001b[1;32m     40\u001b[0m     \u001b[39mreturn\u001b[39;00m response[\u001b[39m\"\u001b[39m\u001b[39mmessage\u001b[39m\u001b[39m\"\u001b[39m][\u001b[39m\"\u001b[39m\u001b[39mcontent\u001b[39m\u001b[39m\"\u001b[39m]\n\u001b[1;32m     41\u001b[0m \u001b[39melif\u001b[39;00m \u001b[39mself\u001b[39m\u001b[39m.\u001b[39mbackend \u001b[39m==\u001b[39m \u001b[39m\"\u001b[39m\u001b[39mgroq\u001b[39m\u001b[39m\"\u001b[39m:\n\u001b[0;32m---> 42\u001b[0m     chat_completion \u001b[39m=\u001b[39m \u001b[39mself\u001b[39;49m\u001b[39m.\u001b[39;49mgroq_client\u001b[39m.\u001b[39;49mchat\u001b[39m.\u001b[39;49mcompletions\u001b[39m.\u001b[39;49mcreate(\n\u001b[1;32m     43\u001b[0m         model\u001b[39m=\u001b[39;49m\u001b[39m\"\u001b[39;49m\u001b[39mllama3-8b-8192\u001b[39;49m\u001b[39m\"\u001b[39;49m,\n\u001b[1;32m     44\u001b[0m         messages\u001b[39m=\u001b[39;49m[\n\u001b[1;32m     45\u001b[0m             {\u001b[39m\"\u001b[39;49m\u001b[39mrole\u001b[39;49m\u001b[39m\"\u001b[39;49m: \u001b[39m\"\u001b[39;49m\u001b[39msystem\u001b[39;49m\u001b[39m\"\u001b[39;49m, \u001b[39m\"\u001b[39;49m\u001b[39mcontent\u001b[39;49m\u001b[39m\"\u001b[39;49m: system_message},\n\u001b[1;32m     46\u001b[0m             {\u001b[39m\"\u001b[39;49m\u001b[39mrole\u001b[39;49m\u001b[39m\"\u001b[39;49m: \u001b[39m\"\u001b[39;49m\u001b[39muser\u001b[39;49m\u001b[39m\"\u001b[39;49m, \u001b[39m\"\u001b[39;49m\u001b[39mcontent\u001b[39;49m\u001b[39m\"\u001b[39;49m: prompt},\n\u001b[1;32m     47\u001b[0m         ],\n\u001b[1;32m     48\u001b[0m     )\n\u001b[1;32m     49\u001b[0m     \u001b[39mreturn\u001b[39;00m chat_completion\u001b[39m.\u001b[39mchoices[\u001b[39m0\u001b[39m]\u001b[39m.\u001b[39mmessage\u001b[39m.\u001b[39mcontent\n\u001b[1;32m     50\u001b[0m \u001b[39melse\u001b[39;00m:\n",
      "File \u001b[0;32m~/.pyenv/versions/3.11.3/lib/python3.11/site-packages/groq/resources/chat/completions.py:283\u001b[0m, in \u001b[0;36mCompletions.create\u001b[0;34m(self, messages, model, frequency_penalty, function_call, functions, logit_bias, logprobs, max_tokens, n, presence_penalty, response_format, seed, stop, stream, temperature, tool_choice, tools, top_logprobs, top_p, user, extra_headers, extra_query, extra_body, timeout)\u001b[0m\n\u001b[1;32m    145\u001b[0m \u001b[39mdef\u001b[39;00m \u001b[39mcreate\u001b[39m(\n\u001b[1;32m    146\u001b[0m     \u001b[39mself\u001b[39m,\n\u001b[1;32m    147\u001b[0m     \u001b[39m*\u001b[39m,\n\u001b[0;32m   (...)\u001b[0m\n\u001b[1;32m    173\u001b[0m     timeout: \u001b[39mfloat\u001b[39m \u001b[39m|\u001b[39m httpx\u001b[39m.\u001b[39mTimeout \u001b[39m|\u001b[39m \u001b[39mNone\u001b[39;00m \u001b[39m|\u001b[39m NotGiven \u001b[39m=\u001b[39m NOT_GIVEN,\n\u001b[1;32m    174\u001b[0m ) \u001b[39m-\u001b[39m\u001b[39m>\u001b[39m ChatCompletion \u001b[39m|\u001b[39m Stream[ChatCompletionChunk]:\n\u001b[1;32m    175\u001b[0m \u001b[39m    \u001b[39m\u001b[39m\"\"\"\u001b[39;00m\n\u001b[1;32m    176\u001b[0m \u001b[39m    Creates a model response for the given chat conversation.\u001b[39;00m\n\u001b[1;32m    177\u001b[0m \n\u001b[0;32m   (...)\u001b[0m\n\u001b[1;32m    281\u001b[0m \u001b[39m      timeout: Override the client-level default timeout for this request, in seconds\u001b[39;00m\n\u001b[1;32m    282\u001b[0m \u001b[39m    \"\"\"\u001b[39;00m\n\u001b[0;32m--> 283\u001b[0m     \u001b[39mreturn\u001b[39;00m \u001b[39mself\u001b[39;49m\u001b[39m.\u001b[39;49m_post(\n\u001b[1;32m    284\u001b[0m         \u001b[39m\"\u001b[39;49m\u001b[39m/openai/v1/chat/completions\u001b[39;49m\u001b[39m\"\u001b[39;49m,\n\u001b[1;32m    285\u001b[0m         body\u001b[39m=\u001b[39;49mmaybe_transform(\n\u001b[1;32m    286\u001b[0m             {\n\u001b[1;32m    287\u001b[0m                 \u001b[39m\"\u001b[39;49m\u001b[39mmessages\u001b[39;49m\u001b[39m\"\u001b[39;49m: messages,\n\u001b[1;32m    288\u001b[0m                 \u001b[39m\"\u001b[39;49m\u001b[39mmodel\u001b[39;49m\u001b[39m\"\u001b[39;49m: model,\n\u001b[1;32m    289\u001b[0m                 \u001b[39m\"\u001b[39;49m\u001b[39mfrequency_penalty\u001b[39;49m\u001b[39m\"\u001b[39;49m: frequency_penalty,\n\u001b[1;32m    290\u001b[0m                 \u001b[39m\"\u001b[39;49m\u001b[39mfunction_call\u001b[39;49m\u001b[39m\"\u001b[39;49m: function_call,\n\u001b[1;32m    291\u001b[0m                 \u001b[39m\"\u001b[39;49m\u001b[39mfunctions\u001b[39;49m\u001b[39m\"\u001b[39;49m: functions,\n\u001b[1;32m    292\u001b[0m                 \u001b[39m\"\u001b[39;49m\u001b[39mlogit_bias\u001b[39;49m\u001b[39m\"\u001b[39;49m: logit_bias,\n\u001b[1;32m    293\u001b[0m                 \u001b[39m\"\u001b[39;49m\u001b[39mlogprobs\u001b[39;49m\u001b[39m\"\u001b[39;49m: logprobs,\n\u001b[1;32m    294\u001b[0m                 \u001b[39m\"\u001b[39;49m\u001b[39mmax_tokens\u001b[39;49m\u001b[39m\"\u001b[39;49m: max_tokens,\n\u001b[1;32m    295\u001b[0m                 \u001b[39m\"\u001b[39;49m\u001b[39mn\u001b[39;49m\u001b[39m\"\u001b[39;49m: n,\n\u001b[1;32m    296\u001b[0m                 \u001b[39m\"\u001b[39;49m\u001b[39mpresence_penalty\u001b[39;49m\u001b[39m\"\u001b[39;49m: presence_penalty,\n\u001b[1;32m    297\u001b[0m                 \u001b[39m\"\u001b[39;49m\u001b[39mresponse_format\u001b[39;49m\u001b[39m\"\u001b[39;49m: response_format,\n\u001b[1;32m    298\u001b[0m                 \u001b[39m\"\u001b[39;49m\u001b[39mseed\u001b[39;49m\u001b[39m\"\u001b[39;49m: seed,\n\u001b[1;32m    299\u001b[0m                 \u001b[39m\"\u001b[39;49m\u001b[39mstop\u001b[39;49m\u001b[39m\"\u001b[39;49m: stop,\n\u001b[1;32m    300\u001b[0m                 \u001b[39m\"\u001b[39;49m\u001b[39mstream\u001b[39;49m\u001b[39m\"\u001b[39;49m: stream,\n\u001b[1;32m    301\u001b[0m                 \u001b[39m\"\u001b[39;49m\u001b[39mtemperature\u001b[39;49m\u001b[39m\"\u001b[39;49m: temperature,\n\u001b[1;32m    302\u001b[0m                 \u001b[39m\"\u001b[39;49m\u001b[39mtool_choice\u001b[39;49m\u001b[39m\"\u001b[39;49m: tool_choice,\n\u001b[1;32m    303\u001b[0m                 \u001b[39m\"\u001b[39;49m\u001b[39mtools\u001b[39;49m\u001b[39m\"\u001b[39;49m: tools,\n\u001b[1;32m    304\u001b[0m                 \u001b[39m\"\u001b[39;49m\u001b[39mtop_logprobs\u001b[39;49m\u001b[39m\"\u001b[39;49m: top_logprobs,\n\u001b[1;32m    305\u001b[0m                 \u001b[39m\"\u001b[39;49m\u001b[39mtop_p\u001b[39;49m\u001b[39m\"\u001b[39;49m: top_p,\n\u001b[1;32m    306\u001b[0m                 \u001b[39m\"\u001b[39;49m\u001b[39muser\u001b[39;49m\u001b[39m\"\u001b[39;49m: user,\n\u001b[1;32m    307\u001b[0m             },\n\u001b[1;32m    308\u001b[0m             completion_create_params\u001b[39m.\u001b[39;49mCompletionCreateParams,\n\u001b[1;32m    309\u001b[0m         ),\n\u001b[1;32m    310\u001b[0m         options\u001b[39m=\u001b[39;49mmake_request_options(\n\u001b[1;32m    311\u001b[0m             extra_headers\u001b[39m=\u001b[39;49mextra_headers, extra_query\u001b[39m=\u001b[39;49mextra_query, extra_body\u001b[39m=\u001b[39;49mextra_body, timeout\u001b[39m=\u001b[39;49mtimeout\n\u001b[1;32m    312\u001b[0m         ),\n\u001b[1;32m    313\u001b[0m         cast_to\u001b[39m=\u001b[39;49mChatCompletion,\n\u001b[1;32m    314\u001b[0m         stream\u001b[39m=\u001b[39;49mstream \u001b[39mor\u001b[39;49;00m \u001b[39mFalse\u001b[39;49;00m,\n\u001b[1;32m    315\u001b[0m         stream_cls\u001b[39m=\u001b[39;49mStream[ChatCompletionChunk],\n\u001b[1;32m    316\u001b[0m     )\n",
      "File \u001b[0;32m~/.pyenv/versions/3.11.3/lib/python3.11/site-packages/groq/_base_client.py:1225\u001b[0m, in \u001b[0;36mSyncAPIClient.post\u001b[0;34m(self, path, cast_to, body, options, files, stream, stream_cls)\u001b[0m\n\u001b[1;32m   1211\u001b[0m \u001b[39mdef\u001b[39;00m \u001b[39mpost\u001b[39m(\n\u001b[1;32m   1212\u001b[0m     \u001b[39mself\u001b[39m,\n\u001b[1;32m   1213\u001b[0m     path: \u001b[39mstr\u001b[39m,\n\u001b[0;32m   (...)\u001b[0m\n\u001b[1;32m   1220\u001b[0m     stream_cls: \u001b[39mtype\u001b[39m[_StreamT] \u001b[39m|\u001b[39m \u001b[39mNone\u001b[39;00m \u001b[39m=\u001b[39m \u001b[39mNone\u001b[39;00m,\n\u001b[1;32m   1221\u001b[0m ) \u001b[39m-\u001b[39m\u001b[39m>\u001b[39m ResponseT \u001b[39m|\u001b[39m _StreamT:\n\u001b[1;32m   1222\u001b[0m     opts \u001b[39m=\u001b[39m FinalRequestOptions\u001b[39m.\u001b[39mconstruct(\n\u001b[1;32m   1223\u001b[0m         method\u001b[39m=\u001b[39m\u001b[39m\"\u001b[39m\u001b[39mpost\u001b[39m\u001b[39m\"\u001b[39m, url\u001b[39m=\u001b[39mpath, json_data\u001b[39m=\u001b[39mbody, files\u001b[39m=\u001b[39mto_httpx_files(files), \u001b[39m*\u001b[39m\u001b[39m*\u001b[39moptions\n\u001b[1;32m   1224\u001b[0m     )\n\u001b[0;32m-> 1225\u001b[0m     \u001b[39mreturn\u001b[39;00m cast(ResponseT, \u001b[39mself\u001b[39;49m\u001b[39m.\u001b[39;49mrequest(cast_to, opts, stream\u001b[39m=\u001b[39;49mstream, stream_cls\u001b[39m=\u001b[39;49mstream_cls))\n",
      "File \u001b[0;32m~/.pyenv/versions/3.11.3/lib/python3.11/site-packages/groq/_base_client.py:920\u001b[0m, in \u001b[0;36mSyncAPIClient.request\u001b[0;34m(self, cast_to, options, remaining_retries, stream, stream_cls)\u001b[0m\n\u001b[1;32m    911\u001b[0m \u001b[39mdef\u001b[39;00m \u001b[39mrequest\u001b[39m(\n\u001b[1;32m    912\u001b[0m     \u001b[39mself\u001b[39m,\n\u001b[1;32m    913\u001b[0m     cast_to: Type[ResponseT],\n\u001b[0;32m   (...)\u001b[0m\n\u001b[1;32m    918\u001b[0m     stream_cls: \u001b[39mtype\u001b[39m[_StreamT] \u001b[39m|\u001b[39m \u001b[39mNone\u001b[39;00m \u001b[39m=\u001b[39m \u001b[39mNone\u001b[39;00m,\n\u001b[1;32m    919\u001b[0m ) \u001b[39m-\u001b[39m\u001b[39m>\u001b[39m ResponseT \u001b[39m|\u001b[39m _StreamT:\n\u001b[0;32m--> 920\u001b[0m     \u001b[39mreturn\u001b[39;00m \u001b[39mself\u001b[39;49m\u001b[39m.\u001b[39;49m_request(\n\u001b[1;32m    921\u001b[0m         cast_to\u001b[39m=\u001b[39;49mcast_to,\n\u001b[1;32m    922\u001b[0m         options\u001b[39m=\u001b[39;49moptions,\n\u001b[1;32m    923\u001b[0m         stream\u001b[39m=\u001b[39;49mstream,\n\u001b[1;32m    924\u001b[0m         stream_cls\u001b[39m=\u001b[39;49mstream_cls,\n\u001b[1;32m    925\u001b[0m         remaining_retries\u001b[39m=\u001b[39;49mremaining_retries,\n\u001b[1;32m    926\u001b[0m     )\n",
      "File \u001b[0;32m~/.pyenv/versions/3.11.3/lib/python3.11/site-packages/groq/_base_client.py:1018\u001b[0m, in \u001b[0;36mSyncAPIClient._request\u001b[0;34m(self, cast_to, options, remaining_retries, stream, stream_cls)\u001b[0m\n\u001b[1;32m   1015\u001b[0m         err\u001b[39m.\u001b[39mresponse\u001b[39m.\u001b[39mread()\n\u001b[1;32m   1017\u001b[0m     log\u001b[39m.\u001b[39mdebug(\u001b[39m\"\u001b[39m\u001b[39mRe-raising status error\u001b[39m\u001b[39m\"\u001b[39m)\n\u001b[0;32m-> 1018\u001b[0m     \u001b[39mraise\u001b[39;00m \u001b[39mself\u001b[39m\u001b[39m.\u001b[39m_make_status_error_from_response(err\u001b[39m.\u001b[39mresponse) \u001b[39mfrom\u001b[39;00m \u001b[39mNone\u001b[39;00m\n\u001b[1;32m   1020\u001b[0m \u001b[39mreturn\u001b[39;00m \u001b[39mself\u001b[39m\u001b[39m.\u001b[39m_process_response(\n\u001b[1;32m   1021\u001b[0m     cast_to\u001b[39m=\u001b[39mcast_to,\n\u001b[1;32m   1022\u001b[0m     options\u001b[39m=\u001b[39moptions,\n\u001b[0;32m   (...)\u001b[0m\n\u001b[1;32m   1025\u001b[0m     stream_cls\u001b[39m=\u001b[39mstream_cls,\n\u001b[1;32m   1026\u001b[0m )\n",
      "\u001b[0;31mBadRequestError\u001b[0m: Error code: 400 - {'error': {'message': 'Please reduce the length of the messages or completion.', 'type': 'invalid_request_error', 'param': 'messages', 'code': 'context_length_exceeded'}}"
     ]
    }
   ],
   "source": [
    "summary_i2case = summary_agent.summarize_case(i2_case)\n",
    "summary_i2case_across = summary_agent.summarize_across_parts(summary_i2case)"
   ]
  },
  {
   "cell_type": "code",
   "execution_count": null,
   "metadata": {},
   "outputs": [],
   "source": [
    "print(summary_i2case_across['summarized_case'])"
   ]
  },
  {
   "cell_type": "code",
   "execution_count": 12,
   "metadata": {},
   "outputs": [
    {
     "name": "stdout",
     "output_type": "stream",
     "text": [
      "Summarizing procedure\n",
      "   init_summary ....\n",
      "   reflect ....\n",
      "   improve ....\n"
     ]
    },
    {
     "name": "stderr",
     "output_type": "stream",
     "text": [
      "Token indices sequence length is longer than the specified maximum sequence length for this model (9617 > 512). Running this sequence through the model will result in indexing errors\n"
     ]
    },
    {
     "name": "stdout",
     "output_type": "stream",
     "text": [
      "Summarizing facts\n"
     ]
    },
    {
     "name": "stderr",
     "output_type": "stream",
     "text": [
      "Token indices sequence length is longer than the specified maximum sequence length for this model (9617 > 512). Running this sequence through the model will result in indexing errors\n"
     ]
    },
    {
     "name": "stdout",
     "output_type": "stream",
     "text": [
      "text has 7589 words and 335 sentences, on average 22.65373134328358 word/sentecesand 9617 tokens, token limit is 7500\n",
      "   init_summary ....\n",
      "   reflect ....\n",
      "   improve ....\n",
      "   init_summary ....\n",
      "   reflect ....\n",
      "   improve ....\n",
      "   init_summary ....\n",
      "   reflect ....\n",
      "   improve ....\n"
     ]
    },
    {
     "ename": "BadRequestError",
     "evalue": "Error code: 400 - {'error': {'message': 'Please reduce the length of the messages or completion.', 'type': 'invalid_request_error', 'param': 'messages', 'code': 'context_length_exceeded'}}",
     "output_type": "error",
     "traceback": [
      "\u001b[0;31m---------------------------------------------------------------------------\u001b[0m",
      "\u001b[0;31mBadRequestError\u001b[0m                           Traceback (most recent call last)",
      "\u001b[1;32m/Users/ahmed/Desktop/msc-24/TND/legal_agents/single_case_reflexive/run_agents.ipynb Cell 13\u001b[0m line \u001b[0;36m1\n\u001b[0;32m----> <a href='vscode-notebook-cell:/Users/ahmed/Desktop/msc-24/TND/legal_agents/single_case_reflexive/run_agents.ipynb#X61sZmlsZQ%3D%3D?line=0'>1</a>\u001b[0m summary_i1case \u001b[39m=\u001b[39m summary_agent\u001b[39m.\u001b[39;49msummarize_case(i1_case)\n\u001b[1;32m      <a href='vscode-notebook-cell:/Users/ahmed/Desktop/msc-24/TND/legal_agents/single_case_reflexive/run_agents.ipynb#X61sZmlsZQ%3D%3D?line=1'>2</a>\u001b[0m summary_i1case_across \u001b[39m=\u001b[39m summary_agent\u001b[39m.\u001b[39msummarize_across_parts(summary_i1case)\n",
      "File \u001b[0;32m~/Desktop/msc-24/TND/legal_agents/single_case_reflexive/summary_agent.py:196\u001b[0m, in \u001b[0;36mSummaryAgent.summarize_case\u001b[0;34m(self, legal_case_dict)\u001b[0m\n\u001b[1;32m    194\u001b[0m \u001b[39mif\u001b[39;00m num_tokens \u001b[39m>\u001b[39m \u001b[39mself\u001b[39m\u001b[39m.\u001b[39mtoken_limit:\n\u001b[1;32m    195\u001b[0m     overlapping_splits \u001b[39m=\u001b[39m overlapping_split(legal_case_dict[key])\n\u001b[0;32m--> 196\u001b[0m     summarized_legal_case[key] \u001b[39m=\u001b[39m \u001b[39mself\u001b[39;49m\u001b[39m.\u001b[39;49msummarize_list(overlapping_splits)\n\u001b[1;32m    197\u001b[0m \u001b[39melse\u001b[39;00m:\n\u001b[1;32m    198\u001b[0m     summarized_legal_case[key] \u001b[39m=\u001b[39m \u001b[39mself\u001b[39m\u001b[39m.\u001b[39msummarize(legal_case_dict[key])\n",
      "File \u001b[0;32m~/Desktop/msc-24/TND/legal_agents/single_case_reflexive/summary_agent.py:182\u001b[0m, in \u001b[0;36mSummaryAgent.summarize_list\u001b[0;34m(self, text_list)\u001b[0m\n\u001b[1;32m    180\u001b[0m complete_summary \u001b[39m=\u001b[39m \u001b[39m\"\u001b[39m\u001b[39m\"\u001b[39m\n\u001b[1;32m    181\u001b[0m \u001b[39mfor\u001b[39;00m text \u001b[39min\u001b[39;00m text_list:\n\u001b[0;32m--> 182\u001b[0m     complete_summary \u001b[39m+\u001b[39m\u001b[39m=\u001b[39m \u001b[39mself\u001b[39;49m\u001b[39m.\u001b[39;49msummarize(text)\n\u001b[1;32m    183\u001b[0m \u001b[39mreturn\u001b[39;00m complete_summary\n",
      "File \u001b[0;32m~/Desktop/msc-24/TND/legal_agents/single_case_reflexive/summary_agent.py:175\u001b[0m, in \u001b[0;36mSummaryAgent.summarize\u001b[0;34m(self, source_text)\u001b[0m\n\u001b[1;32m    173\u001b[0m init_summary \u001b[39m=\u001b[39m \u001b[39mself\u001b[39m\u001b[39m.\u001b[39minit_summary(source_text)\n\u001b[1;32m    174\u001b[0m reflection \u001b[39m=\u001b[39m \u001b[39mself\u001b[39m\u001b[39m.\u001b[39mreflect(source_text, init_summary)\n\u001b[0;32m--> 175\u001b[0m improved_summary \u001b[39m=\u001b[39m \u001b[39mself\u001b[39;49m\u001b[39m.\u001b[39;49mimprove(source_text, init_summary, reflection)\n\u001b[1;32m    177\u001b[0m \u001b[39mreturn\u001b[39;00m improved_summary\n",
      "File \u001b[0;32m~/Desktop/msc-24/TND/legal_agents/single_case_reflexive/summary_agent.py:146\u001b[0m, in \u001b[0;36mSummaryAgent.improve\u001b[0;34m(self, source_text, summary, reflection)\u001b[0m\n\u001b[1;32m    113\u001b[0m system_message \u001b[39m=\u001b[39m (\n\u001b[1;32m    114\u001b[0m     \u001b[39m\"\u001b[39m\u001b[39mYou are expert legal lawyer with European Court of Human Rights (ECHR).\u001b[39m\u001b[39m\"\u001b[39m\n\u001b[1;32m    115\u001b[0m )\n\u001b[1;32m    116\u001b[0m reflection_print \u001b[39m=\u001b[39m \u001b[39mf\u001b[39m\u001b[39m\"\"\"\u001b[39m\n\u001b[1;32m    117\u001b[0m \u001b[39m        Your task is to carefully read, then edit, a legal summary from \u001b[39m\u001b[39m{\u001b[39;00msource_text\u001b[39m}\u001b[39;00m\u001b[39m to \u001b[39m\u001b[39m{\u001b[39;00msummary\u001b[39m}\u001b[39;00m\u001b[39m, taking into\u001b[39m\n\u001b[1;32m    118\u001b[0m \u001b[39m        account a list of expert suggestions and constructive criticisms.\u001b[39m\n\u001b[0;32m   (...)\u001b[0m\n\u001b[1;32m    144\u001b[0m \u001b[39m        Here is the revised summary:\u001b[39m\n\u001b[1;32m    145\u001b[0m \u001b[39m    \u001b[39m\u001b[39m\"\"\"\u001b[39m\n\u001b[0;32m--> 146\u001b[0m response \u001b[39m=\u001b[39m \u001b[39mself\u001b[39;49m\u001b[39m.\u001b[39;49mget_completion(reflection_print, system_message)\n\u001b[1;32m    147\u001b[0m \u001b[39mself\u001b[39m\u001b[39m.\u001b[39mcache[\u001b[39m\"\u001b[39m\u001b[39mimprovment\u001b[39m\u001b[39m\"\u001b[39m] \u001b[39m=\u001b[39m response\n\u001b[1;32m    148\u001b[0m \u001b[39mreturn\u001b[39;00m response\n",
      "File \u001b[0;32m~/Desktop/msc-24/TND/legal_agents/single_case_reflexive/summary_agent.py:42\u001b[0m, in \u001b[0;36mSummaryAgent.get_completion\u001b[0;34m(self, prompt, system_message)\u001b[0m\n\u001b[1;32m     40\u001b[0m     \u001b[39mreturn\u001b[39;00m response[\u001b[39m\"\u001b[39m\u001b[39mmessage\u001b[39m\u001b[39m\"\u001b[39m][\u001b[39m\"\u001b[39m\u001b[39mcontent\u001b[39m\u001b[39m\"\u001b[39m]\n\u001b[1;32m     41\u001b[0m \u001b[39melif\u001b[39;00m \u001b[39mself\u001b[39m\u001b[39m.\u001b[39mbackend \u001b[39m==\u001b[39m \u001b[39m\"\u001b[39m\u001b[39mgroq\u001b[39m\u001b[39m\"\u001b[39m:\n\u001b[0;32m---> 42\u001b[0m     chat_completion \u001b[39m=\u001b[39m \u001b[39mself\u001b[39;49m\u001b[39m.\u001b[39;49mgroq_client\u001b[39m.\u001b[39;49mchat\u001b[39m.\u001b[39;49mcompletions\u001b[39m.\u001b[39;49mcreate(\n\u001b[1;32m     43\u001b[0m         model\u001b[39m=\u001b[39;49m\u001b[39m\"\u001b[39;49m\u001b[39mllama3-8b-8192\u001b[39;49m\u001b[39m\"\u001b[39;49m,\n\u001b[1;32m     44\u001b[0m         messages\u001b[39m=\u001b[39;49m[\n\u001b[1;32m     45\u001b[0m             {\u001b[39m\"\u001b[39;49m\u001b[39mrole\u001b[39;49m\u001b[39m\"\u001b[39;49m: \u001b[39m\"\u001b[39;49m\u001b[39msystem\u001b[39;49m\u001b[39m\"\u001b[39;49m, \u001b[39m\"\u001b[39;49m\u001b[39mcontent\u001b[39;49m\u001b[39m\"\u001b[39;49m: system_message},\n\u001b[1;32m     46\u001b[0m             {\u001b[39m\"\u001b[39;49m\u001b[39mrole\u001b[39;49m\u001b[39m\"\u001b[39;49m: \u001b[39m\"\u001b[39;49m\u001b[39muser\u001b[39;49m\u001b[39m\"\u001b[39;49m, \u001b[39m\"\u001b[39;49m\u001b[39mcontent\u001b[39;49m\u001b[39m\"\u001b[39;49m: prompt},\n\u001b[1;32m     47\u001b[0m         ],\n\u001b[1;32m     48\u001b[0m     )\n\u001b[1;32m     49\u001b[0m     \u001b[39mreturn\u001b[39;00m chat_completion\u001b[39m.\u001b[39mchoices[\u001b[39m0\u001b[39m]\u001b[39m.\u001b[39mmessage\u001b[39m.\u001b[39mcontent\n\u001b[1;32m     50\u001b[0m \u001b[39melse\u001b[39;00m:\n",
      "File \u001b[0;32m~/.pyenv/versions/3.11.3/lib/python3.11/site-packages/groq/resources/chat/completions.py:283\u001b[0m, in \u001b[0;36mCompletions.create\u001b[0;34m(self, messages, model, frequency_penalty, function_call, functions, logit_bias, logprobs, max_tokens, n, presence_penalty, response_format, seed, stop, stream, temperature, tool_choice, tools, top_logprobs, top_p, user, extra_headers, extra_query, extra_body, timeout)\u001b[0m\n\u001b[1;32m    145\u001b[0m \u001b[39mdef\u001b[39;00m \u001b[39mcreate\u001b[39m(\n\u001b[1;32m    146\u001b[0m     \u001b[39mself\u001b[39m,\n\u001b[1;32m    147\u001b[0m     \u001b[39m*\u001b[39m,\n\u001b[0;32m   (...)\u001b[0m\n\u001b[1;32m    173\u001b[0m     timeout: \u001b[39mfloat\u001b[39m \u001b[39m|\u001b[39m httpx\u001b[39m.\u001b[39mTimeout \u001b[39m|\u001b[39m \u001b[39mNone\u001b[39;00m \u001b[39m|\u001b[39m NotGiven \u001b[39m=\u001b[39m NOT_GIVEN,\n\u001b[1;32m    174\u001b[0m ) \u001b[39m-\u001b[39m\u001b[39m>\u001b[39m ChatCompletion \u001b[39m|\u001b[39m Stream[ChatCompletionChunk]:\n\u001b[1;32m    175\u001b[0m \u001b[39m    \u001b[39m\u001b[39m\"\"\"\u001b[39;00m\n\u001b[1;32m    176\u001b[0m \u001b[39m    Creates a model response for the given chat conversation.\u001b[39;00m\n\u001b[1;32m    177\u001b[0m \n\u001b[0;32m   (...)\u001b[0m\n\u001b[1;32m    281\u001b[0m \u001b[39m      timeout: Override the client-level default timeout for this request, in seconds\u001b[39;00m\n\u001b[1;32m    282\u001b[0m \u001b[39m    \"\"\"\u001b[39;00m\n\u001b[0;32m--> 283\u001b[0m     \u001b[39mreturn\u001b[39;00m \u001b[39mself\u001b[39;49m\u001b[39m.\u001b[39;49m_post(\n\u001b[1;32m    284\u001b[0m         \u001b[39m\"\u001b[39;49m\u001b[39m/openai/v1/chat/completions\u001b[39;49m\u001b[39m\"\u001b[39;49m,\n\u001b[1;32m    285\u001b[0m         body\u001b[39m=\u001b[39;49mmaybe_transform(\n\u001b[1;32m    286\u001b[0m             {\n\u001b[1;32m    287\u001b[0m                 \u001b[39m\"\u001b[39;49m\u001b[39mmessages\u001b[39;49m\u001b[39m\"\u001b[39;49m: messages,\n\u001b[1;32m    288\u001b[0m                 \u001b[39m\"\u001b[39;49m\u001b[39mmodel\u001b[39;49m\u001b[39m\"\u001b[39;49m: model,\n\u001b[1;32m    289\u001b[0m                 \u001b[39m\"\u001b[39;49m\u001b[39mfrequency_penalty\u001b[39;49m\u001b[39m\"\u001b[39;49m: frequency_penalty,\n\u001b[1;32m    290\u001b[0m                 \u001b[39m\"\u001b[39;49m\u001b[39mfunction_call\u001b[39;49m\u001b[39m\"\u001b[39;49m: function_call,\n\u001b[1;32m    291\u001b[0m                 \u001b[39m\"\u001b[39;49m\u001b[39mfunctions\u001b[39;49m\u001b[39m\"\u001b[39;49m: functions,\n\u001b[1;32m    292\u001b[0m                 \u001b[39m\"\u001b[39;49m\u001b[39mlogit_bias\u001b[39;49m\u001b[39m\"\u001b[39;49m: logit_bias,\n\u001b[1;32m    293\u001b[0m                 \u001b[39m\"\u001b[39;49m\u001b[39mlogprobs\u001b[39;49m\u001b[39m\"\u001b[39;49m: logprobs,\n\u001b[1;32m    294\u001b[0m                 \u001b[39m\"\u001b[39;49m\u001b[39mmax_tokens\u001b[39;49m\u001b[39m\"\u001b[39;49m: max_tokens,\n\u001b[1;32m    295\u001b[0m                 \u001b[39m\"\u001b[39;49m\u001b[39mn\u001b[39;49m\u001b[39m\"\u001b[39;49m: n,\n\u001b[1;32m    296\u001b[0m                 \u001b[39m\"\u001b[39;49m\u001b[39mpresence_penalty\u001b[39;49m\u001b[39m\"\u001b[39;49m: presence_penalty,\n\u001b[1;32m    297\u001b[0m                 \u001b[39m\"\u001b[39;49m\u001b[39mresponse_format\u001b[39;49m\u001b[39m\"\u001b[39;49m: response_format,\n\u001b[1;32m    298\u001b[0m                 \u001b[39m\"\u001b[39;49m\u001b[39mseed\u001b[39;49m\u001b[39m\"\u001b[39;49m: seed,\n\u001b[1;32m    299\u001b[0m                 \u001b[39m\"\u001b[39;49m\u001b[39mstop\u001b[39;49m\u001b[39m\"\u001b[39;49m: stop,\n\u001b[1;32m    300\u001b[0m                 \u001b[39m\"\u001b[39;49m\u001b[39mstream\u001b[39;49m\u001b[39m\"\u001b[39;49m: stream,\n\u001b[1;32m    301\u001b[0m                 \u001b[39m\"\u001b[39;49m\u001b[39mtemperature\u001b[39;49m\u001b[39m\"\u001b[39;49m: temperature,\n\u001b[1;32m    302\u001b[0m                 \u001b[39m\"\u001b[39;49m\u001b[39mtool_choice\u001b[39;49m\u001b[39m\"\u001b[39;49m: tool_choice,\n\u001b[1;32m    303\u001b[0m                 \u001b[39m\"\u001b[39;49m\u001b[39mtools\u001b[39;49m\u001b[39m\"\u001b[39;49m: tools,\n\u001b[1;32m    304\u001b[0m                 \u001b[39m\"\u001b[39;49m\u001b[39mtop_logprobs\u001b[39;49m\u001b[39m\"\u001b[39;49m: top_logprobs,\n\u001b[1;32m    305\u001b[0m                 \u001b[39m\"\u001b[39;49m\u001b[39mtop_p\u001b[39;49m\u001b[39m\"\u001b[39;49m: top_p,\n\u001b[1;32m    306\u001b[0m                 \u001b[39m\"\u001b[39;49m\u001b[39muser\u001b[39;49m\u001b[39m\"\u001b[39;49m: user,\n\u001b[1;32m    307\u001b[0m             },\n\u001b[1;32m    308\u001b[0m             completion_create_params\u001b[39m.\u001b[39;49mCompletionCreateParams,\n\u001b[1;32m    309\u001b[0m         ),\n\u001b[1;32m    310\u001b[0m         options\u001b[39m=\u001b[39;49mmake_request_options(\n\u001b[1;32m    311\u001b[0m             extra_headers\u001b[39m=\u001b[39;49mextra_headers, extra_query\u001b[39m=\u001b[39;49mextra_query, extra_body\u001b[39m=\u001b[39;49mextra_body, timeout\u001b[39m=\u001b[39;49mtimeout\n\u001b[1;32m    312\u001b[0m         ),\n\u001b[1;32m    313\u001b[0m         cast_to\u001b[39m=\u001b[39;49mChatCompletion,\n\u001b[1;32m    314\u001b[0m         stream\u001b[39m=\u001b[39;49mstream \u001b[39mor\u001b[39;49;00m \u001b[39mFalse\u001b[39;49;00m,\n\u001b[1;32m    315\u001b[0m         stream_cls\u001b[39m=\u001b[39;49mStream[ChatCompletionChunk],\n\u001b[1;32m    316\u001b[0m     )\n",
      "File \u001b[0;32m~/.pyenv/versions/3.11.3/lib/python3.11/site-packages/groq/_base_client.py:1225\u001b[0m, in \u001b[0;36mSyncAPIClient.post\u001b[0;34m(self, path, cast_to, body, options, files, stream, stream_cls)\u001b[0m\n\u001b[1;32m   1211\u001b[0m \u001b[39mdef\u001b[39;00m \u001b[39mpost\u001b[39m(\n\u001b[1;32m   1212\u001b[0m     \u001b[39mself\u001b[39m,\n\u001b[1;32m   1213\u001b[0m     path: \u001b[39mstr\u001b[39m,\n\u001b[0;32m   (...)\u001b[0m\n\u001b[1;32m   1220\u001b[0m     stream_cls: \u001b[39mtype\u001b[39m[_StreamT] \u001b[39m|\u001b[39m \u001b[39mNone\u001b[39;00m \u001b[39m=\u001b[39m \u001b[39mNone\u001b[39;00m,\n\u001b[1;32m   1221\u001b[0m ) \u001b[39m-\u001b[39m\u001b[39m>\u001b[39m ResponseT \u001b[39m|\u001b[39m _StreamT:\n\u001b[1;32m   1222\u001b[0m     opts \u001b[39m=\u001b[39m FinalRequestOptions\u001b[39m.\u001b[39mconstruct(\n\u001b[1;32m   1223\u001b[0m         method\u001b[39m=\u001b[39m\u001b[39m\"\u001b[39m\u001b[39mpost\u001b[39m\u001b[39m\"\u001b[39m, url\u001b[39m=\u001b[39mpath, json_data\u001b[39m=\u001b[39mbody, files\u001b[39m=\u001b[39mto_httpx_files(files), \u001b[39m*\u001b[39m\u001b[39m*\u001b[39moptions\n\u001b[1;32m   1224\u001b[0m     )\n\u001b[0;32m-> 1225\u001b[0m     \u001b[39mreturn\u001b[39;00m cast(ResponseT, \u001b[39mself\u001b[39;49m\u001b[39m.\u001b[39;49mrequest(cast_to, opts, stream\u001b[39m=\u001b[39;49mstream, stream_cls\u001b[39m=\u001b[39;49mstream_cls))\n",
      "File \u001b[0;32m~/.pyenv/versions/3.11.3/lib/python3.11/site-packages/groq/_base_client.py:920\u001b[0m, in \u001b[0;36mSyncAPIClient.request\u001b[0;34m(self, cast_to, options, remaining_retries, stream, stream_cls)\u001b[0m\n\u001b[1;32m    911\u001b[0m \u001b[39mdef\u001b[39;00m \u001b[39mrequest\u001b[39m(\n\u001b[1;32m    912\u001b[0m     \u001b[39mself\u001b[39m,\n\u001b[1;32m    913\u001b[0m     cast_to: Type[ResponseT],\n\u001b[0;32m   (...)\u001b[0m\n\u001b[1;32m    918\u001b[0m     stream_cls: \u001b[39mtype\u001b[39m[_StreamT] \u001b[39m|\u001b[39m \u001b[39mNone\u001b[39;00m \u001b[39m=\u001b[39m \u001b[39mNone\u001b[39;00m,\n\u001b[1;32m    919\u001b[0m ) \u001b[39m-\u001b[39m\u001b[39m>\u001b[39m ResponseT \u001b[39m|\u001b[39m _StreamT:\n\u001b[0;32m--> 920\u001b[0m     \u001b[39mreturn\u001b[39;00m \u001b[39mself\u001b[39;49m\u001b[39m.\u001b[39;49m_request(\n\u001b[1;32m    921\u001b[0m         cast_to\u001b[39m=\u001b[39;49mcast_to,\n\u001b[1;32m    922\u001b[0m         options\u001b[39m=\u001b[39;49moptions,\n\u001b[1;32m    923\u001b[0m         stream\u001b[39m=\u001b[39;49mstream,\n\u001b[1;32m    924\u001b[0m         stream_cls\u001b[39m=\u001b[39;49mstream_cls,\n\u001b[1;32m    925\u001b[0m         remaining_retries\u001b[39m=\u001b[39;49mremaining_retries,\n\u001b[1;32m    926\u001b[0m     )\n",
      "File \u001b[0;32m~/.pyenv/versions/3.11.3/lib/python3.11/site-packages/groq/_base_client.py:1003\u001b[0m, in \u001b[0;36mSyncAPIClient._request\u001b[0;34m(self, cast_to, options, remaining_retries, stream, stream_cls)\u001b[0m\n\u001b[1;32m   1001\u001b[0m \u001b[39mif\u001b[39;00m retries \u001b[39m>\u001b[39m \u001b[39m0\u001b[39m \u001b[39mand\u001b[39;00m \u001b[39mself\u001b[39m\u001b[39m.\u001b[39m_should_retry(err\u001b[39m.\u001b[39mresponse):\n\u001b[1;32m   1002\u001b[0m     err\u001b[39m.\u001b[39mresponse\u001b[39m.\u001b[39mclose()\n\u001b[0;32m-> 1003\u001b[0m     \u001b[39mreturn\u001b[39;00m \u001b[39mself\u001b[39;49m\u001b[39m.\u001b[39;49m_retry_request(\n\u001b[1;32m   1004\u001b[0m         options,\n\u001b[1;32m   1005\u001b[0m         cast_to,\n\u001b[1;32m   1006\u001b[0m         retries,\n\u001b[1;32m   1007\u001b[0m         err\u001b[39m.\u001b[39;49mresponse\u001b[39m.\u001b[39;49mheaders,\n\u001b[1;32m   1008\u001b[0m         stream\u001b[39m=\u001b[39;49mstream,\n\u001b[1;32m   1009\u001b[0m         stream_cls\u001b[39m=\u001b[39;49mstream_cls,\n\u001b[1;32m   1010\u001b[0m     )\n\u001b[1;32m   1012\u001b[0m \u001b[39m# If the response is streamed then we need to explicitly read the response\u001b[39;00m\n\u001b[1;32m   1013\u001b[0m \u001b[39m# to completion before attempting to access the response text.\u001b[39;00m\n\u001b[1;32m   1014\u001b[0m \u001b[39mif\u001b[39;00m \u001b[39mnot\u001b[39;00m err\u001b[39m.\u001b[39mresponse\u001b[39m.\u001b[39mis_closed:\n",
      "File \u001b[0;32m~/.pyenv/versions/3.11.3/lib/python3.11/site-packages/groq/_base_client.py:1051\u001b[0m, in \u001b[0;36mSyncAPIClient._retry_request\u001b[0;34m(self, options, cast_to, remaining_retries, response_headers, stream, stream_cls)\u001b[0m\n\u001b[1;32m   1047\u001b[0m \u001b[39m# In a synchronous context we are blocking the entire thread. Up to the library user to run the client in a\u001b[39;00m\n\u001b[1;32m   1048\u001b[0m \u001b[39m# different thread if necessary.\u001b[39;00m\n\u001b[1;32m   1049\u001b[0m time\u001b[39m.\u001b[39msleep(timeout)\n\u001b[0;32m-> 1051\u001b[0m \u001b[39mreturn\u001b[39;00m \u001b[39mself\u001b[39;49m\u001b[39m.\u001b[39;49m_request(\n\u001b[1;32m   1052\u001b[0m     options\u001b[39m=\u001b[39;49moptions,\n\u001b[1;32m   1053\u001b[0m     cast_to\u001b[39m=\u001b[39;49mcast_to,\n\u001b[1;32m   1054\u001b[0m     remaining_retries\u001b[39m=\u001b[39;49mremaining,\n\u001b[1;32m   1055\u001b[0m     stream\u001b[39m=\u001b[39;49mstream,\n\u001b[1;32m   1056\u001b[0m     stream_cls\u001b[39m=\u001b[39;49mstream_cls,\n\u001b[1;32m   1057\u001b[0m )\n",
      "File \u001b[0;32m~/.pyenv/versions/3.11.3/lib/python3.11/site-packages/groq/_base_client.py:1018\u001b[0m, in \u001b[0;36mSyncAPIClient._request\u001b[0;34m(self, cast_to, options, remaining_retries, stream, stream_cls)\u001b[0m\n\u001b[1;32m   1015\u001b[0m         err\u001b[39m.\u001b[39mresponse\u001b[39m.\u001b[39mread()\n\u001b[1;32m   1017\u001b[0m     log\u001b[39m.\u001b[39mdebug(\u001b[39m\"\u001b[39m\u001b[39mRe-raising status error\u001b[39m\u001b[39m\"\u001b[39m)\n\u001b[0;32m-> 1018\u001b[0m     \u001b[39mraise\u001b[39;00m \u001b[39mself\u001b[39m\u001b[39m.\u001b[39m_make_status_error_from_response(err\u001b[39m.\u001b[39mresponse) \u001b[39mfrom\u001b[39;00m \u001b[39mNone\u001b[39;00m\n\u001b[1;32m   1020\u001b[0m \u001b[39mreturn\u001b[39;00m \u001b[39mself\u001b[39m\u001b[39m.\u001b[39m_process_response(\n\u001b[1;32m   1021\u001b[0m     cast_to\u001b[39m=\u001b[39mcast_to,\n\u001b[1;32m   1022\u001b[0m     options\u001b[39m=\u001b[39moptions,\n\u001b[0;32m   (...)\u001b[0m\n\u001b[1;32m   1025\u001b[0m     stream_cls\u001b[39m=\u001b[39mstream_cls,\n\u001b[1;32m   1026\u001b[0m )\n",
      "\u001b[0;31mBadRequestError\u001b[0m: Error code: 400 - {'error': {'message': 'Please reduce the length of the messages or completion.', 'type': 'invalid_request_error', 'param': 'messages', 'code': 'context_length_exceeded'}}"
     ]
    }
   ],
   "source": [
    "summary_i1case = summary_agent.summarize_case(i1_case)\n",
    "summary_i1case_across = summary_agent.summarize_across_parts(summary_i1case)"
   ]
  },
  {
   "cell_type": "code",
   "execution_count": null,
   "metadata": {},
   "outputs": [],
   "source": [
    "print(summary_i1case_across['summarized_case'])"
   ]
  },
  {
   "cell_type": "code",
   "execution_count": null,
   "metadata": {},
   "outputs": [],
   "source": [
    "with open('./001-57416_summary.json', 'w') as f:\n",
    "    json.dump(summary_i4case, f, indent=4)\n",
    "\n",
    "with open('./001-61521_summary.json', 'w') as f:\n",
    "    json.dump(summary_i3case, f, indent=4)\n",
    "\n",
    "#with open('./001-61521_summary.json', 'w') as f:\n",
    "#    json.dump(summary_21case, f, indent=4)\n",
    "\n",
    "with open('./001-61521_summary.json', 'w') as f:\n",
    "    json.dump(summary_i1case, f, indent=4)\n",
    "    "
   ]
  },
  {
   "cell_type": "code",
   "execution_count": null,
   "metadata": {},
   "outputs": [],
   "source": []
  },
  {
   "cell_type": "code",
   "execution_count": null,
   "metadata": {},
   "outputs": [],
   "source": []
  },
  {
   "cell_type": "code",
   "execution_count": null,
   "metadata": {},
   "outputs": [],
   "source": [
    "summary_i1case = summary_agent.summarize_case(i1_case)"
   ]
  },
  {
   "cell_type": "code",
   "execution_count": 31,
   "metadata": {},
   "outputs": [],
   "source": [
    "with open('./001-57416.json', 'w') as f:\n",
    "    json.dump(i4_case, f, indent=4)\n",
    "with open('./001-57416_summary.json', 'w') as f:\n",
    "    json.dump(summary_i4case, f, indent=4)\n",
    "\n",
    "    \n",
    "with open('./001-61521.json', 'w') as f:\n",
    "    json.dump(i1_case, f, indent=4)\n",
    "with open('./001-61521_summary.json', 'w') as f:\n",
    "    json.dump(summary_i1case, f, indent=4)\n",
    "    "
   ]
  },
  {
   "cell_type": "code",
   "execution_count": 8,
   "metadata": {},
   "outputs": [
    {
     "name": "stdout",
     "output_type": "stream",
     "text": [
      "Decides to join the applications;\n",
      "Decides that Ms Olena Oleksandrivna Kruhlova, the wife of the applicant in application no. 25946/19, has standing to continue the present proceedings in his stead;\n",
      "Declares the applications admissible;\n",
      "Holds that these applications disclose a breach of Article 6 1 and Article 13 of the Convention concerning the excessive length of criminal proceedings and the lack of any effective remedy in domestic law;\n",
      "Holds\n",
      "that the respondent State is to pay the applicants, within three months, the amounts indicated in the appended table, to be converted into the currency of the respondent State at the rate applicable at the date of settlement;\n",
      "that from the expiry of the above-mentioned three months until settlement simple interest shall be payable on the above amounts at a rate equal to the marginal lending rate of the European Central Bank during the default period plus three percentage points.\n",
      "Done in English, and notified in writing on 22 June 2023, pursuant to Rule 77 2 and 3 of the Rules of Court.\n",
      "\n"
     ]
    }
   ],
   "source": [
    "print(i4_case['conclusion'])"
   ]
  },
  {
   "cell_type": "code",
   "execution_count": 9,
   "metadata": {},
   "outputs": [
    {
     "name": "stdout",
     "output_type": "stream",
     "text": [
      "Here is a revised version of the legal case summary:\n",
      "\n",
      "This judgment joins the applicants' cases, allowing Ms. Olena Oleksandrivna Kruhlova to continue proceedings on behalf of her husband in one of the cases. The European Court of Human Rights (ECHR) finds that both applications disclose a breach of Article 6(1) and Article 13 of the Convention due to excessive length of criminal proceedings and lack of effective domestic remedies. Specifically, the prolonged duration of criminal proceedings and the absence of adequate mechanisms to address these issues in domestic law resulted in a violation of the applicants' rights. The respondent State is ordered to pay the applicants within three months the amounts specified in the appended table, converted into the currency of the respondent State at the applicable rate. Simple interest will accrue at a rate equal to the marginal lending rate of the European Central Bank during the default period plus three percentage points from the expiry date until settlement.\n"
     ]
    }
   ],
   "source": [
    "print(summary_i4case['conclusion'])"
   ]
  },
  {
   "cell_type": "code",
   "execution_count": 37,
   "metadata": {},
   "outputs": [
    {
     "name": "stdout",
     "output_type": "stream",
     "text": [
      "1. Holds that there has been a violation of the respondent State's positive obligations under both Articles 3 and 8 of the Convention;\n",
      "2. Holds that no separate issue arises under Article 13 of the Convention;\n",
      "3. Holds that it is not necessary to examine the applicant's complaints under Article 14 of the Convention;\n",
      "4. Holds\n",
      "(a) that the respondent State is to pay the applicant, within three months from the date on which the judgment becomes final according to Article 44 2 of the Convention, the following amounts, to be converted into the national currency of the respondent State at the rate applicable at the date of settlement:\n",
      "(b) that from the expiry of the above-mentioned three months until settlement simple interest shall be payable on the above amounts at a rate equal to the marginal lending rate of the European Central Bank during the default period plus three percentage points;\n",
      "5. Dismisses the remainder of the applicant's claim for just satisfaction.\n",
      "Done in English, and notified in writing on 4 December 2003, pursuant to Rule 77 2 and 3 of the Rules of Court.\n",
      "In accordance with Article 45 2 of the Convention and Rule 74 2 of the Rules of Court, the concurring opinion of Mrs Tulkens is annexed to this judgment.\n",
      "In this particularly sensitive and delicate case, I should simply like to make a few additional observations.\n",
      "1. I consider that it was important and significant that the Court should examine the case under both Article 3 and Article 8 of the Convention. Rape infringes not only the right to personal integrity (both physical and psychological) as guaranteed by Article 3, but also the right to autonomy as a component of the right to respect for private life as guaranteed by Article 8.\n",
      "2. I agree entirely with the Court's general approach (see paragraphs 148 et seq. of the judgment) and the manner in which it was applied in the present case (see paragraphs 169 et seq.). The only point I wish to clarify concerns the use of criminal remedies. Relying, in particular, on X and Y v. the Netherlands (judgment of 26 March 1985, Series A no. 91), the Court considers that States have a positive obligation inherent in Articles 3 and 8 of the Convention to enact criminal-law provisions effectively punishing rape (see paragraph 153). Admittedly, recourse to the criminal law may be understandable where offences of this kind are concerned. However, it is also important to emphasise on a more general level, as, indeed, the Court did in X and Y v. the Netherlands itself, that [r]ecourse to the criminal law is not necessarily the only answer (p. 12, 24 in fine). I consider that criminal proceedings should remain, both in theory and in practice, a last resort or subsidiary remedy and that their use, even in the context of positive obligations, calls for a certain degree of restraint . As to the assumption that criminal remedies are, in any event, the most effective in terms of deterrence, the observations set out in the Report on Decriminalisation by the European Committee on Crime Problems clearly show that the effectiveness of general deterrence based on the criminal law depends on various factors and that such an approach is not the only way of preventing undesirable behaviour .\n",
      "3. That said, in the present case, as in X and Y v. the Netherlands (p. 13, 27), once the State has opted for a system of protection based on the criminal law, it is of course essential that the relevant criminal-law provisions are fully and rigorously applied in order to provide the applicant with practical and effective protection. In that connection, the Court's observation that [t]he investigation and its conclusion must be centred on the issue of non-consent (see paragraph 181 of the present judgment) is, in my opinion, of fundamental importance.\n",
      "3. That said, in the present case, as in X and Y v. the Netherlands (p. 13, 27), once the State has opted for a system of protection based on the criminal law, it is of course essential that the relevant criminal-law provisions are fully and rigorously applied in order to provide the applicant with practical and effective protection. In that connection, the Court's observation that [t]he investigation and its conclusion must be centred on the issue of non-consent (see paragraph 181 of the present judgment) is, in my opinion, of fundamental importance.\n"
     ]
    }
   ],
   "source": [
    "print(i1_case['conclusion'])"
   ]
  },
  {
   "cell_type": "code",
   "execution_count": 38,
   "metadata": {},
   "outputs": [
    {
     "name": "stdout",
     "output_type": "stream",
     "text": [
      "The European Court of Human Rights holds that there has been a violation of both Articles 3 and 8 of the Convention, resulting from the respondent State's positive obligations. The Court finds no separate issue arises under Article 13. The Court does not examine the applicant's complaints under Article 14. As a remedy, the respondent State is required to pay the applicant a certain amount within three months from the date on which the judgment becomes final. Simple interest will be payable at a rate equal to the marginal lending rate of the European Central Bank during the default period plus three percentage points. The remainder of the applicant's claim is dismissed.\n"
     ]
    }
   ],
   "source": [
    "print(summary_i1case['conclusion'])"
   ]
  },
  {
   "cell_type": "code",
   "execution_count": 6,
   "metadata": {},
   "outputs": [],
   "source": [
    "i4_string = json.dumps(i4_case)\n",
    "i4s_string = json.dumps(summary_i4case)"
   ]
  },
  {
   "cell_type": "code",
   "execution_count": 7,
   "metadata": {},
   "outputs": [
    {
     "data": {
      "text/plain": [
       "(5534, 3207)"
      ]
     },
     "execution_count": 7,
     "metadata": {},
     "output_type": "execute_result"
    }
   ],
   "source": [
    "len(i4_string), len(i4s_string)"
   ]
  },
  {
   "cell_type": "code",
   "execution_count": 8,
   "metadata": {},
   "outputs": [],
   "source": [
    "from utils import count_tokens"
   ]
  },
  {
   "cell_type": "code",
   "execution_count": 9,
   "metadata": {},
   "outputs": [
    {
     "name": "stderr",
     "output_type": "stream",
     "text": [
      "Token indices sequence length is longer than the specified maximum sequence length for this model (1421 > 512). Running this sequence through the model will result in indexing errors\n",
      "Token indices sequence length is longer than the specified maximum sequence length for this model (849 > 512). Running this sequence through the model will result in indexing errors\n"
     ]
    },
    {
     "data": {
      "text/plain": [
       "(1421, 849)"
      ]
     },
     "execution_count": 9,
     "metadata": {},
     "output_type": "execute_result"
    }
   ],
   "source": [
    "count_tokens(i4_string), count_tokens(i4s_string)"
   ]
  },
  {
   "cell_type": "code",
   "execution_count": 16,
   "metadata": {},
   "outputs": [
    {
     "name": "stderr",
     "output_type": "stream",
     "text": [
      "Token indices sequence length is longer than the specified maximum sequence length for this model (21107 > 512). Running this sequence through the model will result in indexing errors\n",
      "Token indices sequence length is longer than the specified maximum sequence length for this model (2633 > 512). Running this sequence through the model will result in indexing errors\n"
     ]
    },
    {
     "data": {
      "text/plain": [
       "(97376, 12250, 21107, 2633)"
      ]
     },
     "execution_count": 16,
     "metadata": {},
     "output_type": "execute_result"
    }
   ],
   "source": [
    "i1_string = json.dumps(i1_case)\n",
    "i1s_string = json.dumps(summary_i1case)\n",
    "\n",
    "len(i1_string), len(i1s_string), count_tokens(i1_string), count_tokens(i1s_string)"
   ]
  },
  {
   "cell_type": "code",
   "execution_count": 10,
   "metadata": {},
   "outputs": [],
   "source": [
    "lp_agent = LPAgent(backend='ollama')"
   ]
  },
  {
   "cell_type": "code",
   "execution_count": 11,
   "metadata": {},
   "outputs": [
    {
     "name": "stdout",
     "output_type": "stream",
     "text": [
      "   init_extract ....\n",
      "   reflect ....\n",
      "   improve ....\n"
     ]
    }
   ],
   "source": [
    "lps = lp_agent.extract_lps(i4_case)"
   ]
  },
  {
   "cell_type": "code",
   "execution_count": 12,
   "metadata": {},
   "outputs": [
    {
     "name": "stdout",
     "output_type": "stream",
     "text": [
      "As an expert legal lawyer with the European Court of Human Rights (ECHR), I have identified the following legal principles from the case:\n",
      "\n",
      "1. **Reasonable time requirement**: The length of criminal proceedings must be assessed in the light of the circumstances of the case, considering factors such as complexity, conduct of applicants and authorities, and what was at stake for the applicants.\n",
      "2. **Article 6-1 of the Convention**: The right to a fair trial includes the reasonable time requirement for criminal proceedings.\n",
      "3. **Article 13 of the Convention**: The right to an effective remedy in domestic law is applicable in cases where there is a breach of Article 6-1 (reasonable time requirement).\n",
      "4. **The concept of \"excessive length\"**: In assessing the reasonableness of the length of proceedings, the Court considers whether the overall length of the proceedings was excessive and failed to meet the reasonable time requirement.\n",
      "5. **Just satisfaction under Article 41 of the Convention**: When a violation is found, the Court may award just satisfaction to the injured party, taking into account the internal law of the High Contracting Party concerned.\n",
      "\n",
      "These legal principles are relevant to the case of Kruglov and Others v. Ukraine, which concerns excessive length of criminal proceedings and the lack of an effective remedy in domestic law.\n"
     ]
    }
   ],
   "source": [
    "print(lps)"
   ]
  },
  {
   "cell_type": "code",
   "execution_count": 25,
   "metadata": {},
   "outputs": [
    {
     "name": "stdout",
     "output_type": "stream",
     "text": [
      "   init_summary ....\n",
      "   reflect ....\n",
      "   improve ....\n",
      "Based on the expert suggestions, I have carefully reviewed and edited the list of legal principles to ensure accuracy, conciseness, clarity, and coverage. Here is the revised list:\n",
      "\n",
      "1. **Article 6 - Right to a Fair Trial**: The ECHR found a violation of Article 6(1) of the European Convention on Human Rights, which guarantees the right to a fair trial conducted within a reasonable time frame.\n",
      "2. **Reasonable Time for Criminal Proceedings**: The Court emphasized the importance of ensuring criminal proceedings are conducted within a reasonable time frame under Article 6-1.\n",
      "3. **Article 13 - Right to an Effective Remedy**: The ECHR found a violation of Article 13, which ensures the right to an effective remedy for violations of human rights.\n",
      "4. **No Exceptional Circumstances or Complexities Justifying Delayed Proceedings**: The Court noted that there were no exceptional circumstances or complexities in the case that could justify the lengthy proceedings.\n",
      "5. **Just Satisfaction (Article 41)**: The Court awarded compensation to the applicant under Article 41 of the Convention, as part of its just satisfaction.\n",
      "\n",
      "I have implemented the expert suggestions by:\n",
      "\n",
      "* Rephrasing principle 2 for accuracy and providing more context\n",
      "* Removing principle 5 to avoid repetition and improve conciseness\n",
      "* Refining principle 6 for clarity and ensuring it accurately reflects the Court's decision\n",
      "* Adding a principle that specifically mentions Article 6-1's requirement for a fair trial, as suggested by expert (iv)\n",
      "* Ensuring accuracy by double-checking all legal principles mentioned in the source text\n",
      "\n",
      "The revised list of legal principles provides an accurate, concise, and clear overview of the key legal principles involved in this case.\n"
     ]
    }
   ],
   "source": [
    "summary_i4case = summary_agent.summarize_case(i4_case)\n",
    "lps = lp_agent.extract_lps(summary_i4case)\n",
    "print(lps)"
   ]
  },
  {
   "cell_type": "code",
   "execution_count": 18,
   "metadata": {},
   "outputs": [
    {
     "name": "stdout",
     "output_type": "stream",
     "text": [
      "   init_summary ....\n",
      "   reflect ....\n",
      "   improve ....\n"
     ]
    }
   ],
   "source": [
    "lps = lp_agent.extract_lps(i1_case)"
   ]
  },
  {
   "cell_type": "code",
   "execution_count": 19,
   "metadata": {},
   "outputs": [
    {
     "name": "stdout",
     "output_type": "stream",
     "text": [
      "Here is the revised list of legal principles:\n",
      "\n",
      "1. **Article 41**: The ECHR awards costs to the applicant only if it is established that they were actually and necessarily incurred, are reasonable as to quantum, and relate to the violation found.\n",
      "2. **Beyeler v. Italy (just satisfaction) [GC], no. 33202/96**: Legal costs are recoverable in so far as they relate to the violation found.\n",
      "3. **Article 45.2 of the Convention and Rule 74.2 of the Rules of Court**: The concurring opinion of Mrs. Tulkens is annexed to this judgment.\n",
      "4. **Last resort or subsidiary remedy**: Criminal proceedings should remain a last resort or subsidiary remedy, even in the context of positive obligations, and their use calls for a certain degree of restraint.\n",
      "5. **Effective protection**: Once the State has opted for a system of protection based on the criminal law, it is essential that the relevant criminal-law provisions are fully and rigorously applied to provide the applicant with practical and effective protection.\n",
      "\n",
      "Note: I removed some repetitive information and reorganized the list into concise legal principles.\n"
     ]
    }
   ],
   "source": [
    "print(lps)"
   ]
  },
  {
   "cell_type": "code",
   "execution_count": null,
   "metadata": {},
   "outputs": [],
   "source": [
    "summary_i1case = summary_agent.summarize_case(i1_case)"
   ]
  },
  {
   "cell_type": "code",
   "execution_count": 21,
   "metadata": {},
   "outputs": [
    {
     "name": "stdout",
     "output_type": "stream",
     "text": [
      "   init_summary ....\n",
      "   reflect ....\n",
      "   improve ....\n"
     ]
    }
   ],
   "source": [
    "lps = lp_agent.extract_lps(summary_i1case)"
   ]
  },
  {
   "cell_type": "code",
   "execution_count": 22,
   "metadata": {},
   "outputs": [
    {
     "name": "stdout",
     "output_type": "stream",
     "text": [
      "Here are the revised legal principles:\n",
      "\n",
      "* The European Court of Human Rights emphasizes that sexual assault victims may react in unpredictable ways under conditions of psychological and physical abuse.\n",
      "* States have a positive obligation to ensure that individuals within their jurisdiction are not subjected to ill-treatment, including ill-treatment administered by private individuals.\n",
      "* Effective protection and deterrence against grave acts like rape are essential, particularly for vulnerable groups like children.\n",
      "* The State's margin of appreciation when it comes to choosing means to secure compliance with Article 8 is limited in this context, given the gravity of the act and the need for efficient criminal-law provisions.\n"
     ]
    }
   ],
   "source": [
    "print(lps)"
   ]
  },
  {
   "cell_type": "code",
   "execution_count": 15,
   "metadata": {},
   "outputs": [],
   "source": [
    "from imp_agent import ImpAgent"
   ]
  },
  {
   "cell_type": "code",
   "execution_count": 16,
   "metadata": {},
   "outputs": [],
   "source": [
    "importance_agent = ImpAgent(backend='ollama')"
   ]
  },
  {
   "cell_type": "code",
   "execution_count": 14,
   "metadata": {},
   "outputs": [
    {
     "name": "stdout",
     "output_type": "stream",
     "text": [
      "Summarizing procedure\n",
      "   init_summary ....\n",
      "   reflect ....\n",
      "   improve ....\n",
      "Summarizing facts\n",
      "   init_summary ....\n",
      "   reflect ....\n",
      "   improve ....\n",
      "Summarizing law\n"
     ]
    },
    {
     "name": "stderr",
     "output_type": "stream",
     "text": [
      "Token indices sequence length is longer than the specified maximum sequence length for this model (684 > 512). Running this sequence through the model will result in indexing errors\n"
     ]
    },
    {
     "name": "stdout",
     "output_type": "stream",
     "text": [
      "   init_summary ....\n",
      "   reflect ....\n",
      "   improve ....\n",
      "Summarizing conclusion\n",
      "   init_summary ....\n",
      "   reflect ....\n",
      "   improve ....\n",
      "   init_extract ....\n",
      "   reflect ....\n",
      "   improve ....\n"
     ]
    }
   ],
   "source": [
    "summary_i4case = summary_agent.summarize_case(i4_case)\n",
    "lps = lp_agent.extract_lps(summary_i4case)"
   ]
  },
  {
   "cell_type": "code",
   "execution_count": 30,
   "metadata": {},
   "outputs": [
    {
     "name": "stdout",
     "output_type": "stream",
     "text": [
      "   init_classify ....\n",
      "   reflect ....\n",
      "   improve ....\n"
     ]
    }
   ],
   "source": [
    "importance_class = importance_agent.classify(summary_i4case, lps)"
   ]
  },
  {
   "cell_type": "code",
   "execution_count": 31,
   "metadata": {},
   "outputs": [
    {
     "data": {
      "text/plain": [
       "'**Medium**\\n\\nNote: After considering the expert suggestions, I have reclassified the importance score from \"High\" to \"Medium\". While the judgment still makes a significant contribution to ECHR case law, it does not have the same far-reaching implications or precedent-setting potential as initially suggested. The decision mainly clarifies existing case law and highlights the lack of effective remedies in domestic law, rather than introducing new principles or interpretations.'"
      ]
     },
     "execution_count": 31,
     "metadata": {},
     "output_type": "execute_result"
    }
   ],
   "source": [
    "importance_class"
   ]
  },
  {
   "cell_type": "code",
   "execution_count": 32,
   "metadata": {},
   "outputs": [
    {
     "data": {
      "text/plain": [
       "{'summary': 'Based on the criteria provided, I would classify this case as:\\n\\n**High**\\n\\nThe judgment makes a significant contribution to the development of ECHR case law by clarifying the reasonable time requirement for criminal proceedings under Article 6(1) and highlighting the lack of effective remedies in domestic law. The decision also sets a precedent for similar cases and may lead to changes in national laws and procedures aimed at ensuring a reasonable time frame for criminal proceedings.',\n",
       " 'reflection': 'Here are some suggestions for improving the given importance class:\\n\\n1. **Enhance impact**: While the current importance class highlights the significant contribution to ECHR case law, consider adding specific examples or statistics on how this judgment will affect future cases and national laws.\\n\\n2. **Clarify application**: To further emphasize the significance of this judgment, provide concrete illustrations or scenarios where this ruling would be particularly relevant or influential in real-world situations.\\n\\n3. **Strengthen contribution**: Consider highlighting innovative aspects of the decision or novel applications of existing law that make it a groundbreaking case in the development of ECHR jurisprudence.\\n\\n4. **Prioritize relevance**: Given the importance class is categorized as \"High\", prioritize making sure it accurately reflects the legal impact and implications of this judgment on current case law, rather than merely stating its significance.\\n\\n5. **Add context**: Provide more context about the relevant precedents, statutes, or regulations that are being interpreted or applied in this judgment to further emphasize its significance and relevance.\\n\\n6. **Emphasize precedent-setting potential**: Highlight how this judgment sets a new precedent for similar cases in the future, potentially leading to changes in national laws or procedures.\\n\\n7. **Enhance concision**: Consider condensing the importance class into a single sentence that effectively captures the essence of the judgment\\'s significance and relevance.\\n\\n8. **Use precise terminology**: Utilize exacting legal terminology to accurately describe the judgment\\'s implications on current case law, rather than relying on vague or general descriptions.',\n",
       " 'improvment': '**Medium**\\n\\nNote: After considering the expert suggestions, I have reclassified the importance score from \"High\" to \"Medium\". While the judgment still makes a significant contribution to ECHR case law, it does not have the same far-reaching implications or precedent-setting potential as initially suggested. The decision mainly clarifies existing case law and highlights the lack of effective remedies in domestic law, rather than introducing new principles or interpretations.'}"
      ]
     },
     "execution_count": 32,
     "metadata": {},
     "output_type": "execute_result"
    }
   ],
   "source": [
    "importance_agent.cache"
   ]
  },
  {
   "cell_type": "code",
   "execution_count": null,
   "metadata": {},
   "outputs": [],
   "source": [
    "summary_i1case = summary_agent.summarize_case(i1_case)\n",
    "lps = lp_agent.extract_lps(summary_i1case)"
   ]
  },
  {
   "cell_type": "code",
   "execution_count": 25,
   "metadata": {},
   "outputs": [
    {
     "name": "stdout",
     "output_type": "stream",
     "text": [
      "   init_classify ....\n",
      "   reflect ....\n",
      "   improve ....\n"
     ]
    }
   ],
   "source": [
    "importance_class = importance_agent.classify(summary_i1case, lps)"
   ]
  },
  {
   "cell_type": "code",
   "execution_count": 26,
   "metadata": {},
   "outputs": [
    {
     "data": {
      "text/plain": [
       "'**Importance Class:** High'"
      ]
     },
     "execution_count": 26,
     "metadata": {},
     "output_type": "execute_result"
    }
   ],
   "source": [
    "importance_class"
   ]
  },
  {
   "cell_type": "code",
   "execution_count": null,
   "metadata": {},
   "outputs": [],
   "source": []
  }
 ],
 "metadata": {
  "kernelspec": {
   "display_name": "thesis",
   "language": "python",
   "name": "your_env_name"
  },
  "language_info": {
   "codemirror_mode": {
    "name": "ipython",
    "version": 3
   },
   "file_extension": ".py",
   "mimetype": "text/x-python",
   "name": "python",
   "nbconvert_exporter": "python",
   "pygments_lexer": "ipython3",
   "version": "3.11.3"
  }
 },
 "nbformat": 4,
 "nbformat_minor": 2
}
