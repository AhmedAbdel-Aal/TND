{
 "cells": [
  {
   "cell_type": "code",
   "execution_count": 1,
   "metadata": {},
   "outputs": [],
   "source": [
    "%load_ext autoreload\n",
    "%autoreload 2"
   ]
  },
  {
   "cell_type": "code",
   "execution_count": 12,
   "metadata": {},
   "outputs": [],
   "source": [
    "import os\n",
    "import ollama\n",
    "import json\n",
    "from summary_agent import SummaryAgent\n",
    "from imp_agent import ImpAgent\n",
    "from Principles_agent import LPAgent"
   ]
  },
  {
   "cell_type": "code",
   "execution_count": 5,
   "metadata": {},
   "outputs": [],
   "source": [
    "def load_json(path):\n",
    "    with open(path, 'r') as f:\n",
    "        data = json.load(f)\n",
    "    return data\n",
    "\n",
    "\n",
    "i1_case =  load_json('../../../ECHR/echr-processed/001-61521.json')\n",
    "i2_case = load_json('../../../ECHR/echr-processed/001-57416.json')\n",
    "i3_case = load_json('../../../ECHR/echr-processed/001-205675.json')\n",
    "i4_case = load_json('../../../ECHR/echr-processed/001-225326.json')"
   ]
  },
  {
   "cell_type": "code",
   "execution_count": 13,
   "metadata": {},
   "outputs": [],
   "source": [
    "summary_agent = SummaryAgent(backend=\"groq\")\n",
    "lp_agent = LPAgent(backend='groq')\n",
    "importance_agent = ImpAgent(backend='groq')"
   ]
  },
  {
   "cell_type": "code",
   "execution_count": 7,
   "metadata": {},
   "outputs": [
    {
     "name": "stdout",
     "output_type": "stream",
     "text": [
      "Summarizing procedure\n",
      "   init_summary ....\n"
     ]
    },
    {
     "name": "stderr",
     "output_type": "stream",
     "text": [
      "huggingface/tokenizers: The current process just got forked, after parallelism has already been used. Disabling parallelism to avoid deadlocks...\n",
      "To disable this warning, you can either:\n",
      "\t- Avoid using `tokenizers` before the fork if possible\n",
      "\t- Explicitly set the environment variable TOKENIZERS_PARALLELISM=(true | false)\n"
     ]
    },
    {
     "name": "stdout",
     "output_type": "stream",
     "text": [
      "   reflect ....\n",
      "   improve ....\n",
      "Summarizing facts\n",
      "   init_summary ....\n",
      "   reflect ....\n",
      "   improve ....\n"
     ]
    },
    {
     "name": "stderr",
     "output_type": "stream",
     "text": [
      "Token indices sequence length is longer than the specified maximum sequence length for this model (684 > 512). Running this sequence through the model will result in indexing errors\n"
     ]
    },
    {
     "name": "stdout",
     "output_type": "stream",
     "text": [
      "Summarizing law\n",
      "   init_summary ....\n",
      "   reflect ....\n",
      "   improve ....\n",
      "Summarizing conclusion\n",
      "   init_summary ....\n",
      "   reflect ....\n",
      "   improve ....\n"
     ]
    }
   ],
   "source": [
    "summary_i4case = summary_agent.summarize_case(i4_case)\n",
    "summary_i4case_across = summary_agent.summarize_across_parts(summary_i4case)"
   ]
  },
  {
   "cell_type": "code",
   "execution_count": 14,
   "metadata": {},
   "outputs": [
    {
     "name": "stderr",
     "output_type": "stream",
     "text": [
      "Token indices sequence length is longer than the specified maximum sequence length for this model (896 > 512). Running this sequence through the model will result in indexing errors\n"
     ]
    },
    {
     "name": "stdout",
     "output_type": "stream",
     "text": [
      "Summarizing facts\n",
      "   init_summary ....\n",
      "   reflect ....\n",
      "   improve ....\n"
     ]
    },
    {
     "name": "stderr",
     "output_type": "stream",
     "text": [
      "Token indices sequence length is longer than the specified maximum sequence length for this model (8549 > 512). Running this sequence through the model will result in indexing errors\n"
     ]
    },
    {
     "name": "stdout",
     "output_type": "stream",
     "text": [
      "Summarizing law\n"
     ]
    },
    {
     "name": "stderr",
     "output_type": "stream",
     "text": [
      "Token indices sequence length is longer than the specified maximum sequence length for this model (8549 > 512). Running this sequence through the model will result in indexing errors\n"
     ]
    },
    {
     "name": "stdout",
     "output_type": "stream",
     "text": [
      "text has 6734 words and 236 sentences, on average 28.533898305084747 word/sentecesand 8549 tokens, token limit is 7500\n",
      "   init_summary ....\n",
      "   reflect ....\n",
      "   improve ....\n",
      "   init_summary ....\n",
      "   reflect ....\n",
      "   improve ....\n",
      "   init_summary ....\n",
      "   reflect ....\n",
      "   improve ....\n",
      "   init_summary ....\n",
      "   reflect ....\n",
      "   improve ....\n"
     ]
    },
    {
     "name": "stderr",
     "output_type": "stream",
     "text": [
      "Token indices sequence length is longer than the specified maximum sequence length for this model (1209 > 512). Running this sequence through the model will result in indexing errors\n"
     ]
    },
    {
     "name": "stdout",
     "output_type": "stream",
     "text": [
      "Summarizing conclusion\n",
      "   init_summary ....\n",
      "   reflect ....\n",
      "   improve ....\n",
      "to_be_combined:  dict_keys(['facts', 'law', 'conclusion'])\n",
      "result keys:  dict_keys(['itemid', 'importance', 'judgementdate', '__articles', '__conclusion', 'appno', 'article', 'extractedappno', 'docname', 'parties', 'rank', 'cite', 'introduction', 'relevant_law'])\n",
      "   across_summary ....\n"
     ]
    }
   ],
   "source": [
    "summary_i3case = summary_agent.summarize_case(i3_case)\n",
    "summary_i3case_across = summary_agent.summarize_across_parts(summary_i3case)"
   ]
  },
  {
   "cell_type": "code",
   "execution_count": 15,
   "metadata": {},
   "outputs": [
    {
     "name": "stdout",
     "output_type": "stream",
     "text": [
      "   init_extract ....\n",
      "   reflect ....\n",
      "   improve ....\n",
      "   init_extract ....\n",
      "   reflect ....\n",
      "   improve ....\n"
     ]
    }
   ],
   "source": [
    "lps_4 = lp_agent.extract_lps(summary_i4case_across['summarized_case'])\n",
    "lps_3 = lp_agent.extract_lps(summary_i3case_across['summarized_case'])"
   ]
  },
  {
   "cell_type": "code",
   "execution_count": 20,
   "metadata": {},
   "outputs": [
    {
     "name": "stdout",
     "output_type": "stream",
     "text": [
      "   init_classify ....\n",
      "   reflect ....\n",
      "   improve ....\n",
      "   init_classify ....\n",
      "   reflect ....\n",
      "   improve ....\n"
     ]
    }
   ],
   "source": [
    "importance_4 = importance_agent.classify(summary_i4case_across['summarized_case'], lps_4)\n",
    "importance_3 = importance_agent.classify(summary_i3case_across, lps_3)"
   ]
  },
  {
   "cell_type": "code",
   "execution_count": 21,
   "metadata": {},
   "outputs": [
    {
     "data": {
      "text/plain": [
       "\"Based on the provided information and expert suggestions, let's reclassify the importance of the case in a step-by-step manner.\\n\\nStep 1: Impact - The case deals with allegations of human rights violations under Articles 3, 5, 1, and 2 of the Convention, which are fundamental rights protected by the ECHR. This has a significant impact on the individuals involved and may lead to changes in the treatment and detention conditions for inmates in the Kharkiv Pre-Trial Detention Centre.\\n\\nStep 2: Application - The case appears to be a straightforward application of established ECHR case law and principles, rather than introducing new legal principles.\\n\\nStep 3: Contribution - The case does not seem to make a significant contribution to the development of ECHR case law in general, nor does it raise novel or innovative legal principles. Instead, it applies existing ECHR case law and principles to a specific set of facts.\\n\\nHowever, considering the expert suggestions, I would argue that the case has a significant potential impact on the development of ECHR case law in specific areas, such as the prohibition of inhuman and degrading treatment, the right to liberty and security, and the positive obligations of the State. The case also raises important questions about the effectiveness of the investigation into complaints against prison officials.\\n\\nIn light of these factors, I would reclassify the importance of the case as High. Despite not introducing new legal principles, the case has a significant impact on the individuals involved and has the potential to contribute to the development of ECHR case law in specific areas. Additionally, the case may lead to changes in national or EU legislation, policies, or practices, and may clarify or update existing ECHR case law in a specific area.\\n\\nTherefore, I would recommend classifying the importance of the case as High, as it has a significant impact, applies existing law, and has the potential to contribute to the development of ECHR case law in specific areas.\""
      ]
     },
     "execution_count": 21,
     "metadata": {},
     "output_type": "execute_result"
    }
   ],
   "source": [
    "importance_4"
   ]
  },
  {
   "cell_type": "code",
   "execution_count": 22,
   "metadata": {},
   "outputs": [
    {
     "data": {
      "text/plain": [
       "'After carefully reviewing the case and taking into account the expert suggestions, I would reclassify the importance of the case from \"High\" to **\"Medium\"**. Here\\'s why:\\n\\n1. The case\\'s finding of a violation of Article 14 and the recognition of the importance of ensuring fairness and protection for all individuals, regardless of sex, advances the understanding of the Convention\\'s guarantees. However, this contribution is primarily in the development of case law, rather than significantly shaping the legal landscape.\\n\\n2. The case clarifies the principle of equality, emphasizing that differences in treatment must be objectively justified. While this clarification is important, it is not groundbreaking or particularly novel.\\n\\n3. The case\\'s impact on national law and policy in Switzerland may be significant, but it is limited to a specific context and may not have broader implications for other countries or international human rights law.\\n\\n4. The case raises important questions about the intersection between family, private life, and employment, but these questions are not uniquely compelling or far-reaching.\\n\\nOverall, while the case is significant and contributes to the development of case law, its impact and significance are somewhat limited. Therefore, I would reclassify the importance of the case as **\"Medium\"**.\\n\\nPlease note that I have considered the above points and taken into account the expert suggestions to ensure that the classification is accurate and comprehensive.'"
      ]
     },
     "execution_count": 22,
     "metadata": {},
     "output_type": "execute_result"
    }
   ],
   "source": [
    "importance_3"
   ]
  },
  {
   "cell_type": "code",
   "execution_count": 24,
   "metadata": {},
   "outputs": [],
   "source": [
    "with open('./001-225326_output.json', 'w') as f:\n",
    "    json.dump({'output':importance_4}, f, indent=4)\n",
    "\n",
    "with open('./001-205675_output.json', 'w') as f:\n",
    "    json.dump({'output':importance_3}, f, indent=4)\n"
   ]
  },
  {
   "cell_type": "code",
   "execution_count": null,
   "metadata": {},
   "outputs": [],
   "source": []
  }
 ],
 "metadata": {
  "kernelspec": {
   "display_name": "thesis",
   "language": "python",
   "name": "your_env_name"
  },
  "language_info": {
   "codemirror_mode": {
    "name": "ipython",
    "version": 3
   },
   "file_extension": ".py",
   "mimetype": "text/x-python",
   "name": "python",
   "nbconvert_exporter": "python",
   "pygments_lexer": "ipython3",
   "version": "3.11.3"
  },
  "orig_nbformat": 4
 },
 "nbformat": 4,
 "nbformat_minor": 2
}
